{
  "nbformat": 4,
  "nbformat_minor": 0,
  "metadata": {
    "anaconda-cloud": {},
    "colab": {
      "name": "Shabarinath_Chandran_Week_4_Lab_Neural_Networks_in_Practice.ipynb",
      "provenance": [],
      "collapsed_sections": [],
      "include_colab_link": true
    },
    "kernelspec": {
      "display_name": "Python 3",
      "language": "python",
      "name": "python3"
    },
    "language_info": {
      "codemirror_mode": {
        "name": "ipython",
        "version": 3
      },
      "file_extension": ".py",
      "mimetype": "text/x-python",
      "name": "python",
      "nbconvert_exporter": "python",
      "pygments_lexer": "ipython3",
      "version": "3.7.4"
    }
  },
  "cells": [
    {
      "cell_type": "markdown",
      "metadata": {
        "id": "view-in-github",
        "colab_type": "text"
      },
      "source": [
        "<a href=\"https://colab.research.google.com/github/Shabarinath8899/Shabarinath_Repository/blob/master/Shabarinath_Chandran_Week_4_Lab_Neural_Networks_in_Practice.ipynb\" target=\"_parent\"><img src=\"https://colab.research.google.com/assets/colab-badge.svg\" alt=\"Open In Colab\"/></a>"
      ]
    },
    {
      "cell_type": "markdown",
      "metadata": {
        "colab_type": "text",
        "id": "jE7Q3E9i9Evd"
      },
      "source": [
        "# Shabarinath_Chandran_Week 4 Lab: Neural Networks in practice"
      ]
    },
    {
      "cell_type": "code",
      "metadata": {
        "colab_type": "code",
        "hide_input": false,
        "id": "gWDjQyV59Evg",
        "colab": {
          "base_uri": "https://localhost:8080/",
          "height": 34
        },
        "outputId": "97492762-04c1-4800-96ab-e7636ac246dc"
      },
      "source": [
        "from IPython.display import set_matplotlib_formats, display\n",
        "import pandas as pd\n",
        "import numpy as np\n",
        "import matplotlib.pyplot as plt\n",
        "from cycler import cycler\n",
        "import keras\n",
        "print(\"Using Keras\",keras.__version__)\n",
        "%matplotlib inline\n",
        "plt.rcParams['figure.dpi'] = 125\n"
      ],
      "execution_count": 21,
      "outputs": [
        {
          "output_type": "stream",
          "text": [
            "Using Keras 2.2.5\n"
          ],
          "name": "stdout"
        }
      ]
    },
    {
      "cell_type": "markdown",
      "metadata": {
        "cell_style": "center",
        "colab_type": "text",
        "id": "QJdIHypq9Evk"
      },
      "source": [
        "### Overview\n",
        "* Solving basic classification and regression problems\n",
        "* Handling textual data\n",
        "* Model selection (and overfitting)"
      ]
    },
    {
      "cell_type": "markdown",
      "metadata": {
        "colab_type": "text",
        "id": "njT6MasM9Evl"
      },
      "source": [
        "## Solving basic problems\n",
        "* Binary classification (of movie reviews)\n",
        "* Multiclass classification (of news topics)\n",
        "* Regression (of house prices)\n",
        "\n",
        "Examples from _Deep Learning with Python_, by _François Chollet_"
      ]
    },
    {
      "cell_type": "markdown",
      "metadata": {
        "colab_type": "text",
        "id": "xsUfzIi59Evn"
      },
      "source": [
        "### Binary classification\n",
        "* Dataset: 50,000 IMDB reviews, labeled positive (1) or negative (0)\n",
        "    - Included in Keras, with a 50/50 train-test split\n",
        "* Each row is one review, with only the 10,000 most frequent words retained\n",
        "* Each word is replaced by a _word index_ (word ID)"
      ]
    },
    {
      "cell_type": "code",
      "metadata": {
        "colab_type": "code",
        "hide_input": true,
        "id": "Mk42XDWZ9Evn",
        "colab": {
          "base_uri": "https://localhost:8080/",
          "height": 51
        },
        "outputId": "34a46f89-cdce-4f41-cbac-3cd60bd2a258"
      },
      "source": [
        "from keras.datasets import imdb\n",
        "# Download IMDB data with 10000 most frequent words\n",
        "(train_data, train_labels), (test_data, test_labels) = imdb.load_data(num_words=10000)\n",
        "print(\"Encoded review: \", train_data[0][0:10])\n",
        "\n",
        "word_index = imdb.get_word_index()\n",
        "reverse_word_index = dict([(value, key) for (key, value) in word_index.items()])\n",
        "print(\"Original review: \", ' '.join([reverse_word_index.get(i - 3, '?') for i in train_data[0]][0:10]))"
      ],
      "execution_count": 23,
      "outputs": [
        {
          "output_type": "stream",
          "text": [
            "Encoded review:  [1, 14, 22, 16, 43, 530, 973, 1622, 1385, 65]\n",
            "Original review:  ? this film was just brilliant casting location scenery story\n"
          ],
          "name": "stdout"
        }
      ]
    },
    {
      "cell_type": "markdown",
      "metadata": {
        "colab_type": "text",
        "id": "gbHSVzma9Evq"
      },
      "source": [
        "#### Preprocessing\n",
        "* We can't input lists of categorical value to a neural net, we need to create tensors\n",
        "* One-hot-encoding:\n",
        "    -  10000 features, '1.0' if the word occurs\n",
        "* Word embeddings (word2vec):\n",
        "    - Map each word to a dense vector that represents it (it's _embedding_)\n",
        "    - _Embedding_ layer: pre-trained layer that looks up the embedding in a dictionary \n",
        "    - Converts 2D tensor of word indices (zero-padded) to 3D tensor of embeddings\n",
        "* Let's do One-Hot-Encoding for now. We'll come back to _Embedding_ layers.\n",
        "* Also vectorize the labels: from 0/1 to float\n",
        "    - Binary classification works with one output node"
      ]
    },
    {
      "cell_type": "code",
      "metadata": {
        "colab_type": "code",
        "hide_input": true,
        "id": "nSzfO-XG9Evs",
        "colab": {}
      },
      "source": [
        "# Custom implementation of one-hot-encoding\n",
        "def vectorize_sequences(sequences, dimension=10000):\n",
        "    results = np.zeros((len(sequences), dimension))\n",
        "    for i, sequence in enumerate(sequences):\n",
        "        results[i, sequence] = 1.  # set specific indices of results[i] to 1s\n",
        "    return results\n",
        "x_train = vectorize_sequences(train_data)\n",
        "x_test = vectorize_sequences(test_data)\n",
        "y_train = np.asarray(train_labels).astype('float32')\n",
        "y_test = np.asarray(test_labels).astype('float32')"
      ],
      "execution_count": 0,
      "outputs": []
    },
    {
      "cell_type": "markdown",
      "metadata": {
        "colab_type": "text",
        "id": "4_JHofjQRme1"
      },
      "source": [
        "#### Understanding the format of IMDB dataset\n",
        "1. Train_data and test_data are an array of lists. What does the length of this array correspond to? What does the length of each list correspond to?\n",
        "2. What are the sizes of the vectorized x_train and x_test? What do the dimensions correspond to?\n",
        "3. What is the most common word in the first review in the training data? Hint: use the word index (see above)? \n",
        "4. Print the first review to verify. "
      ]
    },
    {
      "cell_type": "markdown",
      "metadata": {
        "id": "27Esx6Wm54KW",
        "colab_type": "text"
      },
      "source": [
        "# 1st Ans"
      ]
    },
    {
      "cell_type": "code",
      "metadata": {
        "id": "6T6Vxua6V8Xh",
        "colab_type": "code",
        "colab": {
          "base_uri": "https://localhost:8080/",
          "height": 34
        },
        "outputId": "500565d5-9fe9-411e-f2e6-2e0a7f9f9202"
      },
      "source": [
        "len(train_data)\n"
      ],
      "execution_count": 64,
      "outputs": [
        {
          "output_type": "execute_result",
          "data": {
            "text/plain": [
              "25000"
            ]
          },
          "metadata": {
            "tags": []
          },
          "execution_count": 64
        }
      ]
    },
    {
      "cell_type": "code",
      "metadata": {
        "id": "Fh9vM4GRnNGz",
        "colab_type": "code",
        "colab": {
          "base_uri": "https://localhost:8080/",
          "height": 34
        },
        "outputId": "055786c0-0efa-4d62-cfaf-92880f8dce2b"
      },
      "source": [
        "len(test_data)"
      ],
      "execution_count": 65,
      "outputs": [
        {
          "output_type": "execute_result",
          "data": {
            "text/plain": [
              "25000"
            ]
          },
          "metadata": {
            "tags": []
          },
          "execution_count": 65
        }
      ]
    },
    {
      "cell_type": "markdown",
      "metadata": {
        "id": "mkMd1bzx5zNR",
        "colab_type": "text"
      },
      "source": [
        "\n",
        "The length of this array corresponds to 25000 reviews in each of the train and test dataset.\n",
        "\n",
        "The length of each list corresponds to number of words present in every review."
      ]
    },
    {
      "cell_type": "markdown",
      "metadata": {
        "id": "IVEk1sXJWvca",
        "colab_type": "text"
      },
      "source": [
        "#2nd Ans"
      ]
    },
    {
      "cell_type": "code",
      "metadata": {
        "id": "NigwHvvvWu2L",
        "colab_type": "code",
        "colab": {
          "base_uri": "https://localhost:8080/",
          "height": 85
        },
        "outputId": "7c7173ad-fdac-437c-95d2-9dea3cd7df9a"
      },
      "source": [
        "print(x_train.size)\n",
        "print(x_train.shape)\n",
        "print(x_test.size)\n",
        "print(x_test.shape)"
      ],
      "execution_count": 28,
      "outputs": [
        {
          "output_type": "stream",
          "text": [
            "250000000\n",
            "(25000, 10000)\n",
            "250000000\n",
            "(25000, 10000)\n"
          ],
          "name": "stdout"
        }
      ]
    },
    {
      "cell_type": "markdown",
      "metadata": {
        "id": "s0c-RqMUW56I",
        "colab_type": "text"
      },
      "source": [
        "The size of vectorized X_train and X_test is 250000000. \n",
        "The dimensions correspond to shape (25000, 10000), ie 25000 reviews and 10000 most frequently retained words for each review."
      ]
    },
    {
      "cell_type": "markdown",
      "metadata": {
        "id": "yC1-SjpLY7k4",
        "colab_type": "text"
      },
      "source": [
        "#3rd Ans"
      ]
    },
    {
      "cell_type": "code",
      "metadata": {
        "id": "dY6KSSvOY_va",
        "colab_type": "code",
        "colab": {
          "base_uri": "https://localhost:8080/",
          "height": 34
        },
        "outputId": "72d136c8-23f1-48c1-dc81-0d242a130077"
      },
      "source": [
        "counts = {}\n",
        "for i in train_data[0]:\n",
        "  if(i in counts):\n",
        "    counts[i]+=1\n",
        "  else:\n",
        "    counts[i] = 1\n",
        "    import operator\n",
        "max(counts.items(), key=operator.itemgetter(1))\n"
      ],
      "execution_count": 67,
      "outputs": [
        {
          "output_type": "execute_result",
          "data": {
            "text/plain": [
              "(4, 15)"
            ]
          },
          "metadata": {
            "tags": []
          },
          "execution_count": 67
        }
      ]
    },
    {
      "cell_type": "code",
      "metadata": {
        "id": "koYMBxwWZaEg",
        "colab_type": "code",
        "colab": {
          "base_uri": "https://localhost:8080/",
          "height": 34
        },
        "outputId": "21ffda13-9e64-4305-e199-1f4c4e14254d"
      },
      "source": [
        "reverse_word_index[4 - 3]"
      ],
      "execution_count": 68,
      "outputs": [
        {
          "output_type": "execute_result",
          "data": {
            "text/plain": [
              "'the'"
            ]
          },
          "metadata": {
            "tags": []
          },
          "execution_count": 68
        }
      ]
    },
    {
      "cell_type": "markdown",
      "metadata": {
        "id": "InuHp0kxZcGs",
        "colab_type": "text"
      },
      "source": [
        "The most common word in the first review in the training data is \"of\"."
      ]
    },
    {
      "cell_type": "markdown",
      "metadata": {
        "id": "J3nDpYMSZp6m",
        "colab_type": "text"
      },
      "source": [
        "#4th Ans"
      ]
    },
    {
      "cell_type": "code",
      "metadata": {
        "id": "Nf_d9b97Zxkr",
        "colab_type": "code",
        "colab": {
          "base_uri": "https://localhost:8080/",
          "height": 71
        },
        "outputId": "4ee1e628-0934-4086-b2b3-8cc8a5c8b63f"
      },
      "source": [
        "print(\"First review is: \\n\", ' '.join([reverse_word_index.get(i - 3, '?') for i in train_data[0]][0:100]))"
      ],
      "execution_count": 32,
      "outputs": [
        {
          "output_type": "stream",
          "text": [
            "First review is: \n",
            " ? this film was just brilliant casting location scenery story direction everyone's really suited the part they played and you could just imagine being there robert ? is an amazing actor and now the same being director ? father came from the same scottish island as myself so i loved the fact there was a real connection with this film the witty remarks throughout the film were great it was just brilliant so much that i bought the film as soon as it was released for ? and would recommend it to everyone to watch and the fly fishing was amazing really cried at the end it was so sad and you know what they say if you cry at a film it must have been good and this definitely was also ? to the two little boy's that played the ? of norman and paul they were just brilliant children are often left out of the ? list i think because the stars that play them all grown up are such a big profile for the whole film but these children are amazing and should be praised for what they have done don't you think the whole story was so lovely because it was true and was someone's life after all that was shared with us all\n"
          ],
          "name": "stdout"
        }
      ]
    },
    {
      "cell_type": "markdown",
      "metadata": {
        "colab_type": "text",
        "id": "GVar7SNn9Evu"
      },
      "source": [
        "#### Building the network\n",
        "* We can solve this problem using a network of _Dense_ layers and the _ReLU_ activation function.\n",
        "* How many layers? How many hidden units for layer?\n",
        "    - Start with 2 layers of 16 hidden units each\n",
        "    - We'll optimize this soon\n",
        "* Output layer: single unit with _sigmoid_ activation function\n",
        "    - Close to 1: positive review, close to 0: negative review\n",
        "* Use binary_crossentropy loss"
      ]
    },
    {
      "cell_type": "code",
      "metadata": {
        "colab_type": "code",
        "id": "wglvzu9E9Evx",
        "colab": {}
      },
      "source": [
        "from keras import models\n",
        "from keras import layers \n",
        "\n",
        "model = models.Sequential()\n",
        "model.add(layers.Dense(16, activation='relu', input_shape=(10000,)))\n",
        "model.add(layers.Dense(16, activation='relu'))\n",
        "model.add(layers.Dense(1, activation='sigmoid'))\n",
        "\n",
        "model.compile(optimizer='rmsprop',\n",
        "              loss='binary_crossentropy',\n",
        "              metrics=['accuracy'])"
      ],
      "execution_count": 0,
      "outputs": []
    },
    {
      "cell_type": "markdown",
      "metadata": {
        "colab_type": "text",
        "id": "0S_Fnh169Ev0"
      },
      "source": [
        "#### Model selection\n",
        "* How many epochs do we need for training?\n",
        "* Take a validation set of 10,000 samples from the training set\n",
        "* Train the neural net and track the loss after every iteration on the validation set\n",
        "    - This is returned as a `History` object by the `fit()` function \n",
        "* We start with 20 epochs in minibatches of 512 samples\n"
      ]
    },
    {
      "cell_type": "code",
      "metadata": {
        "colab_type": "code",
        "id": "b3aTf8rL9Ev0",
        "colab": {
          "base_uri": "https://localhost:8080/",
          "height": 714
        },
        "outputId": "962b9399-7a51-4b14-ab90-c1c5c64d171b"
      },
      "source": [
        "x_val, partial_x_train = x_train[:10000], x_train[10000:]\n",
        "y_val, partial_y_train = y_train[:10000], y_train[10000:] \n",
        "history = model.fit(partial_x_train, partial_y_train,\n",
        "                    epochs=20, batch_size=512, verbose=2,\n",
        "                    validation_data=(x_val, y_val))"
      ],
      "execution_count": 36,
      "outputs": [
        {
          "output_type": "stream",
          "text": [
            "Train on 15000 samples, validate on 10000 samples\n",
            "Epoch 1/20\n",
            " - 2s - loss: 0.4934 - acc: 0.7912 - val_loss: 0.3669 - val_acc: 0.8683\n",
            "Epoch 2/20\n",
            " - 1s - loss: 0.2875 - acc: 0.9061 - val_loss: 0.2953 - val_acc: 0.8871\n",
            "Epoch 3/20\n",
            " - 1s - loss: 0.2138 - acc: 0.9305 - val_loss: 0.2767 - val_acc: 0.8903\n",
            "Epoch 4/20\n",
            " - 1s - loss: 0.1680 - acc: 0.9441 - val_loss: 0.3041 - val_acc: 0.8779\n",
            "Epoch 5/20\n",
            " - 1s - loss: 0.1401 - acc: 0.9549 - val_loss: 0.3362 - val_acc: 0.8677\n",
            "Epoch 6/20\n",
            " - 1s - loss: 0.1157 - acc: 0.9647 - val_loss: 0.2970 - val_acc: 0.8843\n",
            "Epoch 7/20\n",
            " - 1s - loss: 0.0975 - acc: 0.9701 - val_loss: 0.3278 - val_acc: 0.8790\n",
            "Epoch 8/20\n",
            " - 1s - loss: 0.0835 - acc: 0.9747 - val_loss: 0.3344 - val_acc: 0.8808\n",
            "Epoch 9/20\n",
            " - 1s - loss: 0.0673 - acc: 0.9812 - val_loss: 0.3995 - val_acc: 0.8710\n",
            "Epoch 10/20\n",
            " - 1s - loss: 0.0569 - acc: 0.9853 - val_loss: 0.3777 - val_acc: 0.8766\n",
            "Epoch 11/20\n",
            " - 1s - loss: 0.0483 - acc: 0.9881 - val_loss: 0.4068 - val_acc: 0.8762\n",
            "Epoch 12/20\n",
            " - 1s - loss: 0.0414 - acc: 0.9893 - val_loss: 0.4320 - val_acc: 0.8740\n",
            "Epoch 13/20\n",
            " - 1s - loss: 0.0321 - acc: 0.9933 - val_loss: 0.4676 - val_acc: 0.8722\n",
            "Epoch 14/20\n",
            " - 1s - loss: 0.0282 - acc: 0.9943 - val_loss: 0.4857 - val_acc: 0.8702\n",
            "Epoch 15/20\n",
            " - 1s - loss: 0.0226 - acc: 0.9955 - val_loss: 0.5201 - val_acc: 0.8697\n",
            "Epoch 16/20\n",
            " - 1s - loss: 0.0186 - acc: 0.9970 - val_loss: 0.5444 - val_acc: 0.8700\n",
            "Epoch 17/20\n",
            " - 1s - loss: 0.0164 - acc: 0.9972 - val_loss: 0.5741 - val_acc: 0.8655\n",
            "Epoch 18/20\n",
            " - 1s - loss: 0.0105 - acc: 0.9989 - val_loss: 0.6595 - val_acc: 0.8545\n",
            "Epoch 19/20\n",
            " - 1s - loss: 0.0113 - acc: 0.9983 - val_loss: 0.6409 - val_acc: 0.8668\n",
            "Epoch 20/20\n",
            " - 1s - loss: 0.0061 - acc: 0.9997 - val_loss: 0.6686 - val_acc: 0.8625\n"
          ],
          "name": "stdout"
        }
      ]
    },
    {
      "cell_type": "markdown",
      "metadata": {
        "colab_type": "text",
        "id": "PrxYLkMX9Ev3"
      },
      "source": [
        "#### Evaluate model performance during training\n",
        "1. Plot the training and validation loss as a function of training epoch. Describe what happens during the training in terms of under or overfitting.\n",
        "2. Plot the training and validation accuracy as a function of the training epoch.\n",
        "\n",
        "Hint: these quantities are contained in the dict history.history."
      ]
    },
    {
      "cell_type": "markdown",
      "metadata": {
        "id": "SodX9cEiabgn",
        "colab_type": "text"
      },
      "source": [
        "#Ans1"
      ]
    },
    {
      "cell_type": "code",
      "metadata": {
        "colab_type": "code",
        "hide_input": true,
        "id": "4YH3yVZy9Ev4",
        "colab": {
          "base_uri": "https://localhost:8080/",
          "height": 501
        },
        "outputId": "7e213ff7-1a4a-4992-d3e5-e62cad2ae8a7"
      },
      "source": [
        "plt.plot(history.history['loss'])\n",
        "plt.plot(history.history['val_loss'])\n",
        "plt.title('Training and validation loss')\n",
        "plt.ylabel('Loss')\n",
        "plt.xlabel('Epoch')\n",
        "plt.legend(['train', 'test'], loc='best')\n",
        "plt.show()"
      ],
      "execution_count": 86,
      "outputs": [
        {
          "output_type": "display_data",
          "data": {
            "image/png": "[encoded data removed]",
            "text/plain": [
              "<Figure size 750x500 with 1 Axes>"
            ]
          },
          "metadata": {
            "tags": []
          }
        }
      ]
    },
    {
      "cell_type": "markdown",
      "metadata": {
        "id": "4uPQXIGIcC40",
        "colab_type": "text"
      },
      "source": [
        "We can see that the model is overfitting. \n",
        "\n",
        "The training model is underfit initially, but as the number of epochs increase the model reaches a good fit but as again as the epochs increase higher the model starts to overfitting."
      ]
    },
    {
      "cell_type": "markdown",
      "metadata": {
        "id": "qJKcgCSac4oR",
        "colab_type": "text"
      },
      "source": [
        "#Ans2"
      ]
    },
    {
      "cell_type": "code",
      "metadata": {
        "colab_type": "code",
        "hide_input": true,
        "id": "wrJhYEe09Ev-",
        "colab": {
          "base_uri": "https://localhost:8080/",
          "height": 501
        },
        "outputId": "09968085-e03e-4d57-865f-55d9a07b821d"
      },
      "source": [
        "plt.plot(history.history['val_acc'])\n",
        "plt.plot(history.history['acc'])\n",
        "plt.title('Training and validation accuracy')\n",
        "plt.ylabel('Accuracy')\n",
        "plt.xlabel('Epoch')\n",
        "plt.legend(['train', 'test'], loc='best')\n",
        "plt.show()"
      ],
      "execution_count": 71,
      "outputs": [
        {
          "output_type": "display_data",
          "data": {
            "image/png": "[encoded data removed]",
            "text/plain": [
              "<Figure size 750x500 with 1 Axes>"
            ]
          },
          "metadata": {
            "tags": []
          }
        }
      ]
    },
    {
      "cell_type": "markdown",
      "metadata": {
        "colab_type": "text",
        "id": "FWDq34yW9EwA"
      },
      "source": [
        "#### Early stopping\n",
        "One simple technique to avoid overfitting is to use the validation set to 'tune' the optimal number of epochs\n",
        "* In this case, we could stop after 4 epochs\n"
      ]
    },
    {
      "cell_type": "code",
      "metadata": {
        "cellView": "both",
        "colab_type": "code",
        "id": "Csk3_Yn09EwB",
        "colab": {
          "base_uri": "https://localhost:8080/",
          "height": 187
        },
        "outputId": "7f8cf002-b3e9-4531-91b4-28d3a6639c29"
      },
      "source": [
        "#@title\n",
        "model.fit(x_train, y_train, epochs=4, batch_size=512, verbose=2)\n",
        "result = model.evaluate(x_test, y_test)\n",
        "print(\"Loss: {:.4f}, Accuracy:  {:.4f}\".format(*result))"
      ],
      "execution_count": 6,
      "outputs": [
        {
          "output_type": "stream",
          "text": [
            "Epoch 1/4\n",
            " - 2s - loss: 0.2432 - acc: 0.9470\n",
            "Epoch 2/4\n",
            " - 2s - loss: 0.1471 - acc: 0.9592\n",
            "Epoch 3/4\n",
            " - 2s - loss: 0.1115 - acc: 0.9680\n",
            "Epoch 4/4\n",
            " - 2s - loss: 0.0904 - acc: 0.9748\n",
            "25000/25000 [==============================] - 2s 65us/step\n",
            "Loss: 0.5244, Accuracy:  0.8486\n"
          ],
          "name": "stdout"
        }
      ]
    },
    {
      "cell_type": "markdown",
      "metadata": {
        "colab_type": "text",
        "id": "5Mo4BX1N9EwD"
      },
      "source": [
        "#### Predictions\n",
        "1. Print the first review that were correctly classified along with the predicted value.\n",
        "2. Print the first review that were misclassified along with the predicted value. Can you explain why the model likely failed? How confident was the model?"
      ]
    },
    {
      "cell_type": "code",
      "metadata": {
        "colab_type": "code",
        "id": "fZB5xKAh9EwE",
        "colab": {}
      },
      "source": [
        "predicted_classes = model.predict_classes(x_test).reshape(25000)\n",
        "prediction_probabilities = model.predict(x_test)"
      ],
      "execution_count": 0,
      "outputs": []
    },
    {
      "cell_type": "code",
      "metadata": {
        "id": "03bI98sEf_iR",
        "colab_type": "code",
        "colab": {
          "base_uri": "https://localhost:8080/",
          "height": 122
        },
        "outputId": "c62ec154-972e-4d45-e050-f9a1fe9e5b28"
      },
      "source": [
        "correctly_classified = test_labels == predicted_classes\n",
        "mis_classified = test_labels != predicted_classes\n",
        "\n",
        "correctly_classified_predictions = test_data[correctly_classified]\n",
        "misclassified_predictions = test_data[mis_classified]\n",
        "print(misclassified_predictions[0][0])\n",
        "\n",
        "print(\" \".join([reverse_word_index.get(i - 3, \"?\") for i in correctly_classified_predictions[0]]))\n",
        "print('\\n')\n",
        "print(\" \".join([reverse_word_index.get(i - 3, \"?\") for i in misclassified_predictions[0]]))"
      ],
      "execution_count": 74,
      "outputs": [
        {
          "output_type": "stream",
          "text": [
            "1\n",
            "? please give this one a miss br br ? ? and the rest of the cast rendered terrible performances the show is flat flat flat br br i don't know how michael madison could have allowed this one on his plate he almost seemed to know this wasn't going to work out and his performance was quite ? so all you madison fans give this a miss\n",
            "\n",
            "\n",
            "? i generally love this type of movie however this time i found myself wanting to kick the screen since i can't do that i will just complain about it this was absolutely idiotic the things that happen with the dead kids are very cool but the alive people are absolute idiots i am a grown man pretty big and i can defend myself well however i would not do half the stuff the little girl does in this movie also the mother in this movie is reckless with her children to the point of neglect i wish i wasn't so angry about her and her actions because i would have otherwise enjoyed the flick what a number she was take my advise and fast forward through everything you see her do until the end also is anyone else getting sick of watching movies that are filmed so dark anymore one can hardly see what is being filmed as an audience we are ? involved with the actions on the screen so then why the hell can't we have night vision\n"
          ],
          "name": "stdout"
        }
      ]
    },
    {
      "cell_type": "markdown",
      "metadata": {
        "id": "h0AUCnX_iR_Z",
        "colab_type": "text"
      },
      "source": [
        "The Model fails as the review is too harsh or offensive. It is not a formal opinion. Though the core observations are correct and could be helpful but the way it is presented is not right."
      ]
    },
    {
      "cell_type": "markdown",
      "metadata": {
        "colab_type": "text",
        "id": "W9_hvA-lanwt"
      },
      "source": [
        "#### Takeaways\n",
        "* Neural nets require a lot of preprocessing to create tensors\n",
        "* Dense layers with ReLU activation can solve a wide range of problems\n",
        "* Binary classification can be done with a Dense layer with a single unit, sigmoid activation, and binary cross-entropy loss\n",
        "* Neural nets overfit easily\n",
        "* Many design choices have an effect on accuracy and overfitting. One can try:\n",
        "    - 1 or 3 hidden layers\n",
        "    - more or fewer hidden units (e.g. 64)\n",
        "    - MSE loss instead of binary cross-entropy\n",
        "    - `tanh` activation instead of `ReLU`"
      ]
    },
    {
      "cell_type": "markdown",
      "metadata": {
        "colab_type": "text",
        "id": "WchP4Tgu9ExF"
      },
      "source": [
        "### Regularization: build smaller networks\n",
        "* The easiest way to avoid overfitting is to use a simpler model\n",
        "* The number of learnable parameters is called the model _capacity_\n",
        "* A model with more parameters has a higher _memorization capacity_\n",
        "    - The entire training set can be `stored` in the weights\n",
        "    - Learns the mapping from training examples to outputs\n",
        "* Forcing the model to be small forces it to learn a compressed representation that generalizes better\n",
        "    - Always a trade-off between too much and too little capacity\n",
        "* Start with few layers and parameters, incease until you see diminisching returns"
      ]
    },
    {
      "cell_type": "markdown",
      "metadata": {
        "colab_type": "text",
        "id": "wo8UGPGQ9ExG"
      },
      "source": [
        "Let's try this on our movie review data, with 4 units per layer\n"
      ]
    },
    {
      "cell_type": "code",
      "metadata": {
        "colab_type": "code",
        "id": "rFjmZtyl9ExG",
        "colab": {}
      },
      "source": [
        "from keras.datasets import imdb\n",
        "import numpy as np\n",
        "\n",
        "(train_data, train_labels), (test_data, test_labels) = imdb.load_data(num_words=10000)\n",
        "\n",
        "def vectorize_sequences(sequences, dimension=10000):\n",
        "    # Create an all-zero matrix of shape (len(sequences), dimension)\n",
        "    results = np.zeros((len(sequences), dimension))\n",
        "    for i, sequence in enumerate(sequences):\n",
        "        results[i, sequence] = 1.  # set specific indices of results[i] to 1s\n",
        "    return results\n",
        "\n",
        "# Our vectorized training data\n",
        "x_train = vectorize_sequences(train_data)\n",
        "# Our vectorized test data\n",
        "x_test = vectorize_sequences(test_data)\n",
        "# Our vectorized labels\n",
        "y_train = np.asarray(train_labels).astype('float32')\n",
        "y_test = np.asarray(test_labels).astype('float32')"
      ],
      "execution_count": 0,
      "outputs": []
    },
    {
      "cell_type": "code",
      "metadata": {
        "colab_type": "code",
        "id": "0RYsX-RF9ExJ",
        "colab": {
          "base_uri": "https://localhost:8080/",
          "height": 1000
        },
        "outputId": "6a1b69f5-d140-4259-e1e7-9c3fdd4777b5"
      },
      "source": [
        "from keras import models\n",
        "from keras import layers \n",
        "import matplotlib.pyplot as plt\n",
        "\n",
        "original_model = models.Sequential()\n",
        "original_model.add(layers.Dense(16, activation='relu', input_shape=(10000,)))\n",
        "original_model.add(layers.Dense(16, activation='relu'))\n",
        "original_model.add(layers.Dense(1, activation='sigmoid'))\n",
        "\n",
        "original_model.compile(optimizer='rmsprop',\n",
        "                       loss='binary_crossentropy',\n",
        "                       metrics=['acc'])\n",
        "\n",
        "smaller_model = models.Sequential()\n",
        "smaller_model.add(layers.Dense(4, activation='relu', input_shape=(10000,)))\n",
        "smaller_model.add(layers.Dense(4, activation='relu'))\n",
        "smaller_model.add(layers.Dense(1, activation='sigmoid'))\n",
        "\n",
        "smaller_model.compile(optimizer='rmsprop',\n",
        "                      loss='binary_crossentropy',\n",
        "                      metrics=['acc'])\n",
        "original_hist = original_model.fit(x_train, y_train,\n",
        "                                   epochs=20,\n",
        "                                   batch_size=512, verbose=2,\n",
        "                                   validation_data=(x_test, y_test))\n",
        "smaller_model_hist = smaller_model.fit(x_train, y_train,\n",
        "                                       epochs=20,\n",
        "                                       batch_size=512, verbose=2,\n",
        "                                       validation_data=(x_test, y_test))"
      ],
      "execution_count": 9,
      "outputs": [
        {
          "output_type": "stream",
          "text": [
            "Train on 25000 samples, validate on 25000 samples\n",
            "Epoch 1/20\n",
            " - 4s - loss: 0.4491 - acc: 0.8152 - val_loss: 0.3308 - val_acc: 0.8840\n",
            "Epoch 2/20\n",
            " - 4s - loss: 0.2568 - acc: 0.9090 - val_loss: 0.3063 - val_acc: 0.8771\n",
            "Epoch 3/20\n",
            " - 4s - loss: 0.1996 - acc: 0.9289 - val_loss: 0.2912 - val_acc: 0.8834\n",
            "Epoch 4/20\n",
            " - 4s - loss: 0.1669 - acc: 0.9412 - val_loss: 0.3026 - val_acc: 0.8799\n",
            "Epoch 5/20\n",
            " - 4s - loss: 0.1451 - acc: 0.9485 - val_loss: 0.3181 - val_acc: 0.8780\n",
            "Epoch 6/20\n",
            " - 4s - loss: 0.1267 - acc: 0.9558 - val_loss: 0.3350 - val_acc: 0.8750\n",
            "Epoch 7/20\n",
            " - 4s - loss: 0.1126 - acc: 0.9622 - val_loss: 0.4542 - val_acc: 0.8500\n",
            "Epoch 8/20\n",
            " - 4s - loss: 0.1004 - acc: 0.9665 - val_loss: 0.3873 - val_acc: 0.8688\n",
            "Epoch 9/20\n",
            " - 4s - loss: 0.0936 - acc: 0.9674 - val_loss: 0.4232 - val_acc: 0.8641\n",
            "Epoch 10/20\n",
            " - 4s - loss: 0.0820 - acc: 0.9724 - val_loss: 0.4679 - val_acc: 0.8572\n",
            "Epoch 11/20\n",
            " - 4s - loss: 0.0745 - acc: 0.9757 - val_loss: 0.4719 - val_acc: 0.8619\n",
            "Epoch 12/20\n",
            " - 4s - loss: 0.0674 - acc: 0.9772 - val_loss: 0.5217 - val_acc: 0.8548\n",
            "Epoch 13/20\n",
            " - 4s - loss: 0.0616 - acc: 0.9805 - val_loss: 0.5629 - val_acc: 0.8516\n",
            "Epoch 14/20\n",
            " - 4s - loss: 0.0561 - acc: 0.9826 - val_loss: 0.5705 - val_acc: 0.8559\n",
            "Epoch 15/20\n",
            " - 4s - loss: 0.0475 - acc: 0.9856 - val_loss: 0.6136 - val_acc: 0.8508\n",
            "Epoch 16/20\n",
            " - 4s - loss: 0.0448 - acc: 0.9863 - val_loss: 0.6316 - val_acc: 0.8514\n",
            "Epoch 17/20\n",
            " - 4s - loss: 0.0371 - acc: 0.9896 - val_loss: 0.6831 - val_acc: 0.8480\n",
            "Epoch 18/20\n",
            " - 4s - loss: 0.0354 - acc: 0.9890 - val_loss: 0.7082 - val_acc: 0.8496\n",
            "Epoch 19/20\n",
            " - 4s - loss: 0.0299 - acc: 0.9910 - val_loss: 0.7889 - val_acc: 0.8419\n",
            "Epoch 20/20\n",
            " - 4s - loss: 0.0273 - acc: 0.9920 - val_loss: 0.7716 - val_acc: 0.8473\n",
            "Train on 25000 samples, validate on 25000 samples\n",
            "Epoch 1/20\n",
            " - 4s - loss: 0.5557 - acc: 0.7893 - val_loss: 0.4658 - val_acc: 0.8561\n",
            "Epoch 2/20\n",
            " - 3s - loss: 0.3812 - acc: 0.8901 - val_loss: 0.3622 - val_acc: 0.8806\n",
            "Epoch 3/20\n",
            " - 3s - loss: 0.2905 - acc: 0.9079 - val_loss: 0.3132 - val_acc: 0.8854\n",
            "Epoch 4/20\n",
            " - 3s - loss: 0.2390 - acc: 0.9215 - val_loss: 0.2896 - val_acc: 0.8888\n",
            "Epoch 5/20\n",
            " - 3s - loss: 0.2058 - acc: 0.9298 - val_loss: 0.2791 - val_acc: 0.8894\n",
            "Epoch 6/20\n",
            " - 3s - loss: 0.1824 - acc: 0.9377 - val_loss: 0.2844 - val_acc: 0.8857\n",
            "Epoch 7/20\n",
            " - 3s - loss: 0.1653 - acc: 0.9440 - val_loss: 0.2825 - val_acc: 0.8871\n",
            "Epoch 8/20\n",
            " - 3s - loss: 0.1516 - acc: 0.9492 - val_loss: 0.2902 - val_acc: 0.8855\n",
            "Epoch 9/20\n",
            " - 3s - loss: 0.1394 - acc: 0.9542 - val_loss: 0.2972 - val_acc: 0.8832\n",
            "Epoch 10/20\n",
            " - 3s - loss: 0.1287 - acc: 0.9573 - val_loss: 0.3112 - val_acc: 0.8820\n",
            "Epoch 11/20\n",
            " - 3s - loss: 0.1200 - acc: 0.9608 - val_loss: 0.3195 - val_acc: 0.8803\n",
            "Epoch 12/20\n",
            " - 3s - loss: 0.1118 - acc: 0.9633 - val_loss: 0.3359 - val_acc: 0.8766\n",
            "Epoch 13/20\n",
            " - 3s - loss: 0.1048 - acc: 0.9668 - val_loss: 0.3456 - val_acc: 0.8766\n",
            "Epoch 14/20\n",
            " - 3s - loss: 0.0975 - acc: 0.9694 - val_loss: 0.3618 - val_acc: 0.8739\n",
            "Epoch 15/20\n",
            " - 3s - loss: 0.0915 - acc: 0.9718 - val_loss: 0.3784 - val_acc: 0.8710\n",
            "Epoch 16/20\n",
            " - 3s - loss: 0.0857 - acc: 0.9732 - val_loss: 0.3925 - val_acc: 0.8700\n",
            "Epoch 17/20\n",
            " - 3s - loss: 0.0811 - acc: 0.9759 - val_loss: 0.4086 - val_acc: 0.8677\n",
            "Epoch 18/20\n",
            " - 3s - loss: 0.0759 - acc: 0.9784 - val_loss: 0.4243 - val_acc: 0.8671\n",
            "Epoch 19/20\n",
            " - 3s - loss: 0.0717 - acc: 0.9796 - val_loss: 0.4438 - val_acc: 0.8656\n",
            "Epoch 20/20\n",
            " - 3s - loss: 0.0666 - acc: 0.9820 - val_loss: 0.4606 - val_acc: 0.8643\n"
          ],
          "name": "stdout"
        }
      ]
    },
    {
      "cell_type": "markdown",
      "metadata": {
        "colab_type": "text",
        "id": "rCV6TJ899ExL"
      },
      "source": [
        "1. Plot the validation loss for the original and smaller models. How does the smaller model behave compared to the original?"
      ]
    },
    {
      "cell_type": "code",
      "metadata": {
        "colab_type": "code",
        "id": "m7kNvhh-9ExN",
        "colab": {
          "base_uri": "https://localhost:8080/",
          "height": 501
        },
        "outputId": "46f204b0-2827-48a2-8fed-ce099bb7cfce"
      },
      "source": [
        "plt.plot(original_hist.history['val_loss'])\n",
        "plt.plot(smaller_model_hist.history['val_loss'])\n",
        "plt.title('Validation Loss')\n",
        "plt.ylabel('Loss')\n",
        "plt.xlabel('Epoch')\n",
        "plt.legend(['Orignal Model', 'smaller Model'], loc='best')\n",
        "plt.show()"
      ],
      "execution_count": 77,
      "outputs": [
        {
          "output_type": "display_data",
          "data": {
            "image/png": "[encoded data removed]",
            "text/plain": [
              "<Figure size 750x500 with 1 Axes>"
            ]
          },
          "metadata": {
            "tags": []
          }
        }
      ]
    },
    {
      "cell_type": "markdown",
      "metadata": {
        "id": "76E8Tv8LjXf3",
        "colab_type": "text"
      },
      "source": [
        "The smaller model is comparitively less overfitting than the original model as the loss in the smaller model was higher than the original model initially. But with the increase in epoch, the loss in the smaller model was less comparitively. "
      ]
    },
    {
      "cell_type": "markdown",
      "metadata": {
        "colab_type": "text",
        "id": "_u-YXpCZ9ExP"
      },
      "source": [
        "### Regularization: Weight regularization\n",
        "* As we did many times before, we can also add weight regularization to our loss function\n",
        "- L1 regularization: leads to _sparse networks_ with many weights that are 0\n",
        "- L2 regularization: leads to many very small weights\n",
        "    - Also called _weight decay_ in neural net literature\n",
        "* In Keras, add `kernel_regularizer` to every layer"
      ]
    },
    {
      "cell_type": "code",
      "metadata": {
        "colab_type": "code",
        "id": "kXOqh2uU9ExR",
        "colab": {}
      },
      "source": [
        "from keras import regularizers\n",
        "from keras import models\n",
        "from keras import layers \n",
        "import matplotlib.pyplot as plt\n",
        "\n",
        "l2_model = models.Sequential()\n",
        "l2_model.add(layers.Dense(16, kernel_regularizer=regularizers.l2(0.001),\n",
        "                          activation='relu', input_shape=(10000,)))\n",
        "l2_model.add(layers.Dense(16, kernel_regularizer=regularizers.l2(0.001),\n",
        "                          activation='relu'))\n",
        "l2_model.add(layers.Dense(1, activation='sigmoid'))"
      ],
      "execution_count": 0,
      "outputs": []
    },
    {
      "cell_type": "code",
      "metadata": {
        "colab_type": "code",
        "id": "mzNX3bHo9ExT",
        "colab": {}
      },
      "source": [
        "l2_model.compile(optimizer='rmsprop',\n",
        "                 loss='binary_crossentropy',\n",
        "                 metrics=['acc'])"
      ],
      "execution_count": 0,
      "outputs": []
    },
    {
      "cell_type": "code",
      "metadata": {
        "colab_type": "code",
        "id": "2Gg8hLY69ExU",
        "colab": {
          "base_uri": "https://localhost:8080/",
          "height": 714
        },
        "outputId": "c3fe790e-e537-4fd8-9260-fd19b7bf2a86"
      },
      "source": [
        "l2_model_hist = l2_model.fit(x_train, y_train,\n",
        "                             epochs=20,\n",
        "                             batch_size=512, verbose=2,\n",
        "                             validation_data=(x_test, y_test))"
      ],
      "execution_count": 12,
      "outputs": [
        {
          "output_type": "stream",
          "text": [
            "Train on 25000 samples, validate on 25000 samples\n",
            "Epoch 1/20\n",
            " - 4s - loss: 0.4968 - acc: 0.8220 - val_loss: 0.3932 - val_acc: 0.8711\n",
            "Epoch 2/20\n",
            " - 4s - loss: 0.3177 - acc: 0.9046 - val_loss: 0.3402 - val_acc: 0.8844\n",
            "Epoch 3/20\n",
            " - 4s - loss: 0.2689 - acc: 0.9204 - val_loss: 0.3297 - val_acc: 0.8852\n",
            "Epoch 4/20\n",
            " - 4s - loss: 0.2446 - acc: 0.9308 - val_loss: 0.3263 - val_acc: 0.8882\n",
            "Epoch 5/20\n",
            " - 4s - loss: 0.2318 - acc: 0.9345 - val_loss: 0.3332 - val_acc: 0.8850\n",
            "Epoch 6/20\n",
            " - 4s - loss: 0.2231 - acc: 0.9384 - val_loss: 0.3420 - val_acc: 0.8808\n",
            "Epoch 7/20\n",
            " - 4s - loss: 0.2154 - acc: 0.9399 - val_loss: 0.3575 - val_acc: 0.8775\n",
            "Epoch 8/20\n",
            " - 4s - loss: 0.2095 - acc: 0.9442 - val_loss: 0.3613 - val_acc: 0.8758\n",
            "Epoch 9/20\n",
            " - 4s - loss: 0.2052 - acc: 0.9462 - val_loss: 0.3600 - val_acc: 0.8792\n",
            "Epoch 10/20\n",
            " - 4s - loss: 0.2000 - acc: 0.9472 - val_loss: 0.3764 - val_acc: 0.8734\n",
            "Epoch 11/20\n",
            " - 4s - loss: 0.2028 - acc: 0.9460 - val_loss: 0.3850 - val_acc: 0.8729\n",
            "Epoch 12/20\n",
            " - 4s - loss: 0.1943 - acc: 0.9492 - val_loss: 0.3817 - val_acc: 0.8731\n",
            "Epoch 13/20\n",
            " - 4s - loss: 0.1947 - acc: 0.9477 - val_loss: 0.3905 - val_acc: 0.8722\n",
            "Epoch 14/20\n",
            " - 4s - loss: 0.1893 - acc: 0.9522 - val_loss: 0.4021 - val_acc: 0.8693\n",
            "Epoch 15/20\n",
            " - 4s - loss: 0.1864 - acc: 0.9524 - val_loss: 0.4059 - val_acc: 0.8696\n",
            "Epoch 16/20\n",
            " - 4s - loss: 0.1884 - acc: 0.9510 - val_loss: 0.4279 - val_acc: 0.8640\n",
            "Epoch 17/20\n",
            " - 4s - loss: 0.1866 - acc: 0.9516 - val_loss: 0.4121 - val_acc: 0.8685\n",
            "Epoch 18/20\n",
            " - 4s - loss: 0.1821 - acc: 0.9536 - val_loss: 0.4159 - val_acc: 0.8682\n",
            "Epoch 19/20\n",
            " - 4s - loss: 0.1837 - acc: 0.9516 - val_loss: 0.4248 - val_acc: 0.8670\n",
            "Epoch 20/20\n",
            " - 4s - loss: 0.1788 - acc: 0.9549 - val_loss: 0.4549 - val_acc: 0.8579\n"
          ],
          "name": "stdout"
        }
      ]
    },
    {
      "cell_type": "markdown",
      "metadata": {
        "colab_type": "text",
        "id": "vKOw1jNlibXK"
      },
      "source": [
        "1. Plot the validation loss for the original and l2 regularized models. How does the regularized model behave compared to the original?"
      ]
    },
    {
      "cell_type": "code",
      "metadata": {
        "colab_type": "code",
        "id": "9qYQvkIe9ExW",
        "colab": {
          "base_uri": "https://localhost:8080/",
          "height": 501
        },
        "outputId": "3282d30f-0231-4111-be3b-806d6061c2a8"
      },
      "source": [
        "plt.plot(original_hist.history['val_loss'])\n",
        "plt.plot(l2_model_hist.history['val_loss'])\n",
        "plt.title('Validation Loss')\n",
        "plt.ylabel('Loss')\n",
        "plt.xlabel('Epoch')\n",
        "plt.legend(['Original Model', 'L2 regularization Model'], loc='best')\n",
        "plt.show()"
      ],
      "execution_count": 76,
      "outputs": [
        {
          "output_type": "display_data",
          "data": {
            "image/png": "[encoded data removed]",
            "text/plain": [
              "<Figure size 750x500 with 1 Axes>"
            ]
          },
          "metadata": {
            "tags": []
          }
        }
      ]
    },
    {
      "cell_type": "markdown",
      "metadata": {
        "id": "gdFdu55ZkjCV",
        "colab_type": "text"
      },
      "source": [
        "The loss of the original model is increasing with increase in epcohs. But the loss in the regularization model does not vary too much. It is stable. The l2 model is performing better than the original model."
      ]
    },
    {
      "cell_type": "markdown",
      "metadata": {
        "colab_type": "text",
        "id": "OFbL6yJF9ExZ"
      },
      "source": [
        "### Regularization: dropout\n",
        "* One of the most effective and commonly used regularization techniques\n",
        "* Randomly set a number of outputs of the layer to 0\n",
        "* Idea: break up accidental non-significant learned patterns \n",
        "* _Dropout rate_: fraction of the outputs that are zeroed-out\n",
        "    - Usually between 0.2 and 0.5\n",
        "* At test time, nothing is dropped out, but the output values are scaled down by the dropout rate\n",
        "    - Balances out that more units are active than during training\n",
        "* In Keras: add `Dropout` layers between the normal layers"
      ]
    },
    {
      "cell_type": "code",
      "metadata": {
        "colab_type": "code",
        "id": "SUHgbTz49Exa",
        "colab": {
          "base_uri": "https://localhost:8080/",
          "height": 122
        },
        "outputId": "a50c4063-a237-4ea7-f8e1-23838c20cea7"
      },
      "source": [
        "from keras import models\n",
        "from keras import layers \n",
        "import matplotlib.pyplot as plt\n",
        "\n",
        "dpt_model = models.Sequential()\n",
        "dpt_model.add(layers.Dense(16, activation='relu', input_shape=(10000,)))\n",
        "dpt_model.add(layers.Dropout(0.5))\n",
        "dpt_model.add(layers.Dense(16, activation='relu'))\n",
        "dpt_model.add(layers.Dropout(0.5))\n",
        "dpt_model.add(layers.Dense(1, activation='sigmoid'))\n",
        "\n",
        "dpt_model.compile(optimizer='rmsprop',\n",
        "                  loss='binary_crossentropy',\n",
        "                  metrics=['acc'])"
      ],
      "execution_count": 13,
      "outputs": [
        {
          "output_type": "stream",
          "text": [
            "WARNING:tensorflow:From /usr/local/lib/python3.6/dist-packages/keras/backend/tensorflow_backend.py:148: The name tf.placeholder_with_default is deprecated. Please use tf.compat.v1.placeholder_with_default instead.\n",
            "\n",
            "WARNING:tensorflow:From /usr/local/lib/python3.6/dist-packages/keras/backend/tensorflow_backend.py:3733: calling dropout (from tensorflow.python.ops.nn_ops) with keep_prob is deprecated and will be removed in a future version.\n",
            "Instructions for updating:\n",
            "Please use `rate` instead of `keep_prob`. Rate should be set to `rate = 1 - keep_prob`.\n"
          ],
          "name": "stdout"
        }
      ]
    },
    {
      "cell_type": "code",
      "metadata": {
        "colab_type": "code",
        "id": "2QSG_vWa9Exb",
        "colab": {
          "base_uri": "https://localhost:8080/",
          "height": 714
        },
        "outputId": "478a766b-b5f2-4933-ba31-4f911b3a07d2"
      },
      "source": [
        "dpt_model_hist = dpt_model.fit(x_train, y_train,\n",
        "                               epochs=20,\n",
        "                               \n",
        "                               batch_size=512, verbose=2,\n",
        "                               validation_data=(x_test, y_test))"
      ],
      "execution_count": 14,
      "outputs": [
        {
          "output_type": "stream",
          "text": [
            "Train on 25000 samples, validate on 25000 samples\n",
            "Epoch 1/20\n",
            " - 4s - loss: 0.6184 - acc: 0.6472 - val_loss: 0.5062 - val_acc: 0.8601\n",
            "Epoch 2/20\n",
            " - 4s - loss: 0.4924 - acc: 0.7939 - val_loss: 0.3962 - val_acc: 0.8780\n",
            "Epoch 3/20\n",
            " - 4s - loss: 0.4096 - acc: 0.8569 - val_loss: 0.3366 - val_acc: 0.8850\n",
            "Epoch 4/20\n",
            " - 4s - loss: 0.3493 - acc: 0.8875 - val_loss: 0.3055 - val_acc: 0.8872\n",
            "Epoch 5/20\n",
            " - 4s - loss: 0.3061 - acc: 0.9070 - val_loss: 0.3008 - val_acc: 0.8787\n",
            "Epoch 6/20\n",
            " - 4s - loss: 0.2729 - acc: 0.9177 - val_loss: 0.2961 - val_acc: 0.8869\n",
            "Epoch 7/20\n",
            " - 4s - loss: 0.2455 - acc: 0.9240 - val_loss: 0.3024 - val_acc: 0.8830\n",
            "Epoch 8/20\n",
            " - 4s - loss: 0.2228 - acc: 0.9326 - val_loss: 0.3141 - val_acc: 0.8833\n",
            "Epoch 9/20\n",
            " - 4s - loss: 0.2061 - acc: 0.9384 - val_loss: 0.3426 - val_acc: 0.8836\n",
            "Epoch 10/20\n",
            " - 4s - loss: 0.1912 - acc: 0.9414 - val_loss: 0.3472 - val_acc: 0.8802\n",
            "Epoch 11/20\n",
            " - 4s - loss: 0.1740 - acc: 0.9457 - val_loss: 0.3884 - val_acc: 0.8797\n",
            "Epoch 12/20\n",
            " - 4s - loss: 0.1622 - acc: 0.9526 - val_loss: 0.4011 - val_acc: 0.8780\n",
            "Epoch 13/20\n",
            " - 4s - loss: 0.1534 - acc: 0.9534 - val_loss: 0.4099 - val_acc: 0.8768\n",
            "Epoch 14/20\n",
            " - 4s - loss: 0.1425 - acc: 0.9570 - val_loss: 0.4346 - val_acc: 0.8750\n",
            "Epoch 15/20\n",
            " - 4s - loss: 0.1334 - acc: 0.9595 - val_loss: 0.4524 - val_acc: 0.8741\n",
            "Epoch 16/20\n",
            " - 4s - loss: 0.1267 - acc: 0.9606 - val_loss: 0.4880 - val_acc: 0.8740\n",
            "Epoch 17/20\n",
            " - 4s - loss: 0.1276 - acc: 0.9620 - val_loss: 0.4892 - val_acc: 0.8737\n",
            "Epoch 18/20\n",
            " - 4s - loss: 0.1231 - acc: 0.9638 - val_loss: 0.5145 - val_acc: 0.8713\n",
            "Epoch 19/20\n",
            " - 4s - loss: 0.1165 - acc: 0.9665 - val_loss: 0.5243 - val_acc: 0.8709\n",
            "Epoch 20/20\n",
            " - 4s - loss: 0.1093 - acc: 0.9662 - val_loss: 0.5579 - val_acc: 0.8713\n"
          ],
          "name": "stdout"
        }
      ]
    },
    {
      "cell_type": "markdown",
      "metadata": {
        "colab_type": "text",
        "id": "VZx6VNXn9Exd"
      },
      "source": [
        "1. Plot the validation loss for the original and dropout models. How does the dropout model behave compared to the original?"
      ]
    },
    {
      "cell_type": "code",
      "metadata": {
        "colab_type": "code",
        "id": "-ZS_z7xM9Exe",
        "colab": {
          "base_uri": "https://localhost:8080/",
          "height": 501
        },
        "outputId": "8475acb9-b9d3-4db9-9b16-ca0de1d249e6"
      },
      "source": [
        "plt.plot(original_hist.history['val_loss'])\n",
        "plt.plot(dpt_model_hist.history['val_loss'])\n",
        "plt.title('Validation Loss')\n",
        "plt.ylabel('Loss')\n",
        "plt.xlabel('Epoch')\n",
        "plt.legend(['Orignal Model', 'dropout Model'], loc='best')\n",
        "plt.show()"
      ],
      "execution_count": 78,
      "outputs": [
        {
          "output_type": "display_data",
          "data": {
            "image/png": "[encoded data removed]",
            "text/plain": [
              "<Figure size 750x500 with 1 Axes>"
            ]
          },
          "metadata": {
            "tags": []
          }
        }
      ]
    },
    {
      "cell_type": "markdown",
      "metadata": {
        "id": "_BQ3pBgwlWjh",
        "colab_type": "text"
      },
      "source": [
        "The dropout model is not overfitting and also the validation loss is less compared to original model. The loss of both the original and dropout models increased with increase in epochs. "
      ]
    },
    {
      "cell_type": "markdown",
      "metadata": {
        "colab_type": "text",
        "id": "ORAwOqdV9Exf"
      },
      "source": [
        "### Regularization recap\n",
        "* Get more training data\n",
        "* Reduce the capacity of the network\n",
        "* Add weight regularization\n",
        "* Add dropout\n",
        "* Either start with a simple model and add capacity\n",
        "* Or, start with a complex model and then regularize by adding weight regularization and dropout"
      ]
    },
    {
      "cell_type": "markdown",
      "metadata": {
        "colab_type": "text",
        "id": "1xwfZv_E9Ewq"
      },
      "source": [
        "### Regression\n",
        "* Dataset: 506 examples of houses and sale prices (Boston)\n",
        "    - Included in Keras, with a 1/5 train-test split\n",
        "* Each row is one house price, described by numeric properties of the house and neighborhood\n",
        "* Small dataset, non-normalized features"
      ]
    },
    {
      "cell_type": "code",
      "metadata": {
        "colab_type": "code",
        "id": "ZlUGyLJS9Ewr",
        "colab": {
          "base_uri": "https://localhost:8080/",
          "height": 51
        },
        "outputId": "f626b263-040b-4483-c391-79db23d6883b"
      },
      "source": [
        "from keras.datasets import boston_housing\n",
        "\n",
        "(train_data, train_targets), (test_data, test_targets) =  boston_housing.load_data()"
      ],
      "execution_count": 15,
      "outputs": [
        {
          "output_type": "stream",
          "text": [
            "Downloading data from https://s3.amazonaws.com/keras-datasets/boston_housing.npz\n",
            "57344/57026 [==============================] - 0s 0us/step\n"
          ],
          "name": "stdout"
        }
      ]
    },
    {
      "cell_type": "markdown",
      "metadata": {
        "colab_type": "text",
        "id": "gX4hkxBb9Ewt"
      },
      "source": [
        "#### Preprocessing\n",
        "* Neural nets work a lot better if we normalize the features first. \n",
        "* Keras has no built-in support so we have to do this manually (or with scikit-learn)\n",
        "    - Again, be careful not to look at the test data during normalization\n",
        "    \n"
      ]
    },
    {
      "cell_type": "code",
      "metadata": {
        "colab_type": "code",
        "id": "d-W92M6I9Ewt",
        "colab": {}
      },
      "source": [
        "mean, std = train_data.mean(axis=0), train_data.std(axis=0)\n",
        "train_data -= mean\n",
        "train_data /= std\n",
        "\n",
        "test_data -= mean\n",
        "test_data /= std"
      ],
      "execution_count": 0,
      "outputs": []
    },
    {
      "cell_type": "markdown",
      "metadata": {
        "colab_type": "text",
        "id": "OwM0wfKE9Ewx"
      },
      "source": [
        "\n",
        "\n",
        "#### Building the network\n",
        "* This is a small dataset, so easy to overfit\n",
        "    * We use 2 hidden layers of 64 units each\n",
        "* Use smaller batches, more epochs\n",
        "* Since we want scalar output, the output layer is one unit without activation\n",
        "* Loss function is Mean Squared Error (bigger penalty)\n",
        "* Evaluation metric is Mean Absolute Error (more interpretable)\n",
        "* We will also use cross-validation, so we wrap the model building in a function, so that we can call it multiple times\n",
        "\n",
        "1. Create a function build_model that returns the neural network model described above"
      ]
    },
    {
      "cell_type": "code",
      "metadata": {
        "colab_type": "code",
        "id": "vL_p-NcX9Ewz",
        "colab": {}
      },
      "source": [
        "def build_model():\n",
        "    model = models.Sequential()\n",
        "    model.add(layers.Dense(64, activation='relu',\n",
        "                           input_shape=(train_data.shape[1],)))\n",
        "    model.add(layers.Dense(64, activation='relu'))\n",
        "    model.add(layers.Dense(1))\n",
        "    model.compile(optimizer='rmsprop', loss='mse', metrics=['mae'])\n",
        "    return model"
      ],
      "execution_count": 0,
      "outputs": []
    },
    {
      "cell_type": "markdown",
      "metadata": {
        "colab_type": "text",
        "id": "t2seh8XW9Ew1"
      },
      "source": [
        "#### Cross-validation\n",
        "* Keras does not have support for cross-validation\n",
        "* We can implement cross-validation ourselves (seeprovided code below)\n",
        "* Alternatively, we can wrap a Keras model as a scikit-learn estimator\n",
        "* Generally speaking, cross-validation is tricky with neural nets\n",
        "    * Some fold may not converge, or fluctuate on random initialization\n",
        "    "
      ]
    },
    {
      "cell_type": "code",
      "metadata": {
        "colab_type": "code",
        "id": "VupbDC1U9Ew3",
        "colab": {
          "base_uri": "https://localhost:8080/",
          "height": 85
        },
        "outputId": "ab681be7-b902-4498-a700-f0ef4c8d8425"
      },
      "source": [
        "# implementation of cross-validation\n",
        "import numpy as np\n",
        "\n",
        "k = 4\n",
        "num_val_samples = len(train_data) // k\n",
        "num_epochs = 20\n",
        "all_scores = []\n",
        "for i in range(k):\n",
        "    print('processing fold #', i)\n",
        "    # Prepare the validation data: data from partition # k\n",
        "    val_data = train_data[i * num_val_samples: (i + 1) * num_val_samples]\n",
        "    val_targets = train_targets[i * num_val_samples: (i + 1) * num_val_samples]\n",
        "\n",
        "    # Prepare the training data: data from all other partitions\n",
        "    partial_train_data = np.concatenate(\n",
        "        [train_data[:i * num_val_samples],\n",
        "         train_data[(i + 1) * num_val_samples:]],\n",
        "        axis=0)\n",
        "    partial_train_targets = np.concatenate(\n",
        "        [train_targets[:i * num_val_samples],\n",
        "         train_targets[(i + 1) * num_val_samples:]],\n",
        "        axis=0)\n",
        "\n",
        "    # Build the Keras model (already compiled)\n",
        "    model = build_model()\n",
        "    # Train the model (in silent mode, verbose=0)\n",
        "    model.fit(partial_train_data, partial_train_targets,\n",
        "              epochs=num_epochs, batch_size=1, verbose=0)\n",
        "    # Evaluate the model on the validation data\n",
        "    val_mse, val_mae = model.evaluate(val_data, val_targets, verbose=2)\n",
        "    all_scores.append(val_mae)"
      ],
      "execution_count": 18,
      "outputs": [
        {
          "output_type": "stream",
          "text": [
            "processing fold # 0\n",
            "processing fold # 1\n",
            "processing fold # 2\n",
            "processing fold # 3\n"
          ],
          "name": "stdout"
        }
      ]
    },
    {
      "cell_type": "markdown",
      "metadata": {
        "colab_type": "text",
        "id": "OcEyK-E59Ew8"
      },
      "source": [
        "1. Train for longer (200 epochs) and keep track of loss after every epoch. Plot and describe the loss as a function of epoch number."
      ]
    },
    {
      "cell_type": "code",
      "metadata": {
        "colab_type": "code",
        "id": "tXsVlXqw9Ew8",
        "colab": {
          "base_uri": "https://localhost:8080/",
          "height": 1000
        },
        "outputId": "10a9c3d7-f7c1-4dbd-9c1c-096cd8a307fb"
      },
      "source": [
        "from keras import backend as K\n",
        "K.clear_session() # Memory clean-up\n",
        "\n",
        "num_epochs = 200\n",
        "all_mae_histories = []\n",
        "for i in range(k):\n",
        "    print('processing fold #', i)\n",
        "    # Prepare the validation data: data from partition # k\n",
        "    val_data = train_data[i * num_val_samples: (i + 1) * num_val_samples]\n",
        "    val_targets = train_targets[i * num_val_samples: (i + 1) * num_val_samples]\n",
        "\n",
        "    # Prepare the training data: data from all other partitions\n",
        "    partial_train_data = np.concatenate(\n",
        "        [train_data[:i * num_val_samples],\n",
        "         train_data[(i + 1) * num_val_samples:]],\n",
        "        axis=0)\n",
        "    partial_train_targets = np.concatenate(\n",
        "        [train_targets[:i * num_val_samples],\n",
        "         train_targets[(i + 1) * num_val_samples:]],\n",
        "        axis=0)\n",
        "\n",
        "    # Build the Keras model (already compiled)\n",
        "    model = build_model()\n",
        "    # Train the model (in silent mode, verbose=0)\n",
        "    history = model.fit(partial_train_data, partial_train_targets,\n",
        "                        validation_data=(val_data, val_targets),\n",
        "                        epochs=num_epochs, batch_size=1, verbose=2)\n",
        "    mae_history = history.history['val_loss']\n",
        "    all_mae_histories.append(mae_history)"
      ],
      "execution_count": 19,
      "outputs": [
        {
          "output_type": "stream",
          "text": [
            "WARNING:tensorflow:From /usr/local/lib/python3.6/dist-packages/keras/backend/tensorflow_backend.py:107: The name tf.reset_default_graph is deprecated. Please use tf.compat.v1.reset_default_graph instead.\n",
            "\n",
            "processing fold # 0\n",
            "Train on 303 samples, validate on 101 samples\n",
            "Epoch 1/200\n",
            " - 0s - loss: 206.1343 - mean_absolute_error: 10.8791 - val_loss: 44.9284 - val_mean_absolute_error: 4.4241\n",
            "Epoch 2/200\n",
            " - 0s - loss: 36.2009 - mean_absolute_error: 4.0616 - val_loss: 26.9146 - val_mean_absolute_error: 3.4402\n",
            "Epoch 3/200\n",
            " - 0s - loss: 25.0783 - mean_absolute_error: 3.3539 - val_loss: 20.0635 - val_mean_absolute_error: 2.9428\n",
            "Epoch 4/200\n",
            " - 0s - loss: 19.9606 - mean_absolute_error: 3.0272 - val_loss: 17.0740 - val_mean_absolute_error: 2.5573\n",
            "Epoch 5/200\n",
            " - 0s - loss: 17.9745 - mean_absolute_error: 2.8013 - val_loss: 14.1859 - val_mean_absolute_error: 2.3545\n",
            "Epoch 6/200\n",
            " - 0s - loss: 15.9091 - mean_absolute_error: 2.6140 - val_loss: 12.4165 - val_mean_absolute_error: 2.2689\n",
            "Epoch 7/200\n",
            " - 0s - loss: 14.4073 - mean_absolute_error: 2.5076 - val_loss: 12.6644 - val_mean_absolute_error: 2.3351\n",
            "Epoch 8/200\n",
            " - 0s - loss: 13.8552 - mean_absolute_error: 2.4466 - val_loss: 11.9471 - val_mean_absolute_error: 2.3722\n",
            "Epoch 9/200\n",
            " - 0s - loss: 13.3715 - mean_absolute_error: 2.3530 - val_loss: 10.8977 - val_mean_absolute_error: 2.1213\n",
            "Epoch 10/200\n",
            " - 0s - loss: 13.5136 - mean_absolute_error: 2.3782 - val_loss: 11.0275 - val_mean_absolute_error: 2.3222\n",
            "Epoch 11/200\n",
            " - 0s - loss: 12.2375 - mean_absolute_error: 2.2996 - val_loss: 12.2158 - val_mean_absolute_error: 2.4056\n",
            "Epoch 12/200\n",
            " - 0s - loss: 12.9945 - mean_absolute_error: 2.2584 - val_loss: 10.8491 - val_mean_absolute_error: 2.1562\n",
            "Epoch 13/200\n",
            " - 0s - loss: 11.4626 - mean_absolute_error: 2.2332 - val_loss: 10.8959 - val_mean_absolute_error: 1.9219\n",
            "Epoch 14/200\n",
            " - 0s - loss: 11.8459 - mean_absolute_error: 2.1966 - val_loss: 11.3071 - val_mean_absolute_error: 2.2201\n",
            "Epoch 15/200\n",
            " - 0s - loss: 11.9624 - mean_absolute_error: 2.1981 - val_loss: 9.4126 - val_mean_absolute_error: 1.9484\n",
            "Epoch 16/200\n",
            " - 0s - loss: 11.2169 - mean_absolute_error: 2.1464 - val_loss: 10.6203 - val_mean_absolute_error: 1.9909\n",
            "Epoch 17/200\n",
            " - 0s - loss: 11.1538 - mean_absolute_error: 2.1206 - val_loss: 9.5782 - val_mean_absolute_error: 1.9941\n",
            "Epoch 18/200\n",
            " - 0s - loss: 10.3924 - mean_absolute_error: 2.0244 - val_loss: 10.1979 - val_mean_absolute_error: 1.9227\n",
            "Epoch 19/200\n",
            " - 0s - loss: 10.7167 - mean_absolute_error: 2.1129 - val_loss: 9.4478 - val_mean_absolute_error: 1.8836\n",
            "Epoch 20/200\n",
            " - 0s - loss: 10.4280 - mean_absolute_error: 2.0869 - val_loss: 10.3277 - val_mean_absolute_error: 2.2498\n",
            "Epoch 21/200\n",
            " - 0s - loss: 9.9127 - mean_absolute_error: 2.0408 - val_loss: 8.6653 - val_mean_absolute_error: 1.9213\n",
            "Epoch 22/200\n",
            " - 0s - loss: 10.1161 - mean_absolute_error: 2.0417 - val_loss: 9.8299 - val_mean_absolute_error: 2.2079\n",
            "Epoch 23/200\n",
            " - 0s - loss: 10.0610 - mean_absolute_error: 2.0556 - val_loss: 8.2219 - val_mean_absolute_error: 1.7901\n",
            "Epoch 24/200\n",
            " - 0s - loss: 9.5032 - mean_absolute_error: 1.9378 - val_loss: 9.6526 - val_mean_absolute_error: 2.2480\n",
            "Epoch 25/200\n",
            " - 0s - loss: 9.8046 - mean_absolute_error: 1.9995 - val_loss: 9.9186 - val_mean_absolute_error: 2.3979\n",
            "Epoch 26/200\n",
            " - 0s - loss: 9.9397 - mean_absolute_error: 2.0106 - val_loss: 8.0485 - val_mean_absolute_error: 2.0169\n",
            "Epoch 27/200\n",
            " - 0s - loss: 9.6203 - mean_absolute_error: 1.9521 - val_loss: 7.5979 - val_mean_absolute_error: 1.8163\n",
            "Epoch 28/200\n",
            " - 0s - loss: 8.6040 - mean_absolute_error: 1.9040 - val_loss: 9.1601 - val_mean_absolute_error: 2.2327\n",
            "Epoch 29/200\n",
            " - 0s - loss: 9.0443 - mean_absolute_error: 1.9312 - val_loss: 7.7151 - val_mean_absolute_error: 1.7303\n",
            "Epoch 30/200\n",
            " - 0s - loss: 8.8459 - mean_absolute_error: 1.8751 - val_loss: 9.4950 - val_mean_absolute_error: 2.2506\n",
            "Epoch 31/200\n",
            " - 0s - loss: 8.0358 - mean_absolute_error: 1.8818 - val_loss: 7.4494 - val_mean_absolute_error: 1.8112\n",
            "Epoch 32/200\n",
            " - 0s - loss: 8.2257 - mean_absolute_error: 1.9109 - val_loss: 9.6546 - val_mean_absolute_error: 2.1289\n",
            "Epoch 33/200\n",
            " - 0s - loss: 8.6393 - mean_absolute_error: 1.8975 - val_loss: 8.4953 - val_mean_absolute_error: 2.0610\n",
            "Epoch 34/200\n",
            " - 0s - loss: 8.9434 - mean_absolute_error: 1.9426 - val_loss: 7.4503 - val_mean_absolute_error: 1.9117\n",
            "Epoch 35/200\n",
            " - 0s - loss: 8.4458 - mean_absolute_error: 1.8563 - val_loss: 7.9398 - val_mean_absolute_error: 2.0739\n",
            "Epoch 36/200\n",
            " - 0s - loss: 8.7366 - mean_absolute_error: 1.8467 - val_loss: 7.1585 - val_mean_absolute_error: 1.8553\n",
            "Epoch 37/200\n",
            " - 0s - loss: 8.0827 - mean_absolute_error: 1.7968 - val_loss: 7.3454 - val_mean_absolute_error: 1.8058\n",
            "Epoch 38/200\n",
            " - 0s - loss: 8.0402 - mean_absolute_error: 1.8070 - val_loss: 11.0657 - val_mean_absolute_error: 2.6218\n",
            "Epoch 39/200\n",
            " - 0s - loss: 8.3747 - mean_absolute_error: 1.8131 - val_loss: 8.4405 - val_mean_absolute_error: 2.3364\n",
            "Epoch 40/200\n",
            " - 0s - loss: 8.2703 - mean_absolute_error: 1.7885 - val_loss: 7.9703 - val_mean_absolute_error: 1.9005\n",
            "Epoch 41/200\n",
            " - 0s - loss: 7.6931 - mean_absolute_error: 1.7346 - val_loss: 7.4645 - val_mean_absolute_error: 1.9228\n",
            "Epoch 42/200\n",
            " - 0s - loss: 7.6502 - mean_absolute_error: 1.7593 - val_loss: 8.0570 - val_mean_absolute_error: 1.9536\n",
            "Epoch 43/200\n",
            " - 0s - loss: 7.6585 - mean_absolute_error: 1.7284 - val_loss: 7.8507 - val_mean_absolute_error: 2.0127\n",
            "Epoch 44/200\n",
            " - 0s - loss: 7.7191 - mean_absolute_error: 1.7874 - val_loss: 7.3494 - val_mean_absolute_error: 1.9171\n",
            "Epoch 45/200\n",
            " - 0s - loss: 7.8627 - mean_absolute_error: 1.8044 - val_loss: 7.0803 - val_mean_absolute_error: 1.9003\n",
            "Epoch 46/200\n",
            " - 0s - loss: 7.5576 - mean_absolute_error: 1.7434 - val_loss: 7.3442 - val_mean_absolute_error: 1.8211\n",
            "Epoch 47/200\n",
            " - 0s - loss: 7.5141 - mean_absolute_error: 1.7550 - val_loss: 7.0207 - val_mean_absolute_error: 1.7863\n",
            "Epoch 48/200\n",
            " - 0s - loss: 7.6954 - mean_absolute_error: 1.7678 - val_loss: 7.2345 - val_mean_absolute_error: 1.8763\n",
            "Epoch 49/200\n",
            " - 0s - loss: 7.3557 - mean_absolute_error: 1.7272 - val_loss: 7.1403 - val_mean_absolute_error: 1.8513\n",
            "Epoch 50/200\n",
            " - 0s - loss: 7.0309 - mean_absolute_error: 1.7148 - val_loss: 6.7995 - val_mean_absolute_error: 1.8467\n",
            "Epoch 51/200\n",
            " - 0s - loss: 7.2602 - mean_absolute_error: 1.7357 - val_loss: 9.7119 - val_mean_absolute_error: 2.3057\n",
            "Epoch 52/200\n",
            " - 0s - loss: 6.7680 - mean_absolute_error: 1.6822 - val_loss: 7.9263 - val_mean_absolute_error: 1.9741\n",
            "Epoch 53/200\n",
            " - 0s - loss: 7.0284 - mean_absolute_error: 1.7033 - val_loss: 8.3713 - val_mean_absolute_error: 2.2270\n",
            "Epoch 54/200\n",
            " - 0s - loss: 6.7955 - mean_absolute_error: 1.6734 - val_loss: 10.3744 - val_mean_absolute_error: 2.5859\n",
            "Epoch 55/200\n",
            " - 0s - loss: 7.0949 - mean_absolute_error: 1.6662 - val_loss: 7.8988 - val_mean_absolute_error: 2.0252\n",
            "Epoch 56/200\n",
            " - 0s - loss: 7.1129 - mean_absolute_error: 1.6646 - val_loss: 6.7787 - val_mean_absolute_error: 1.8184\n",
            "Epoch 57/200\n",
            " - 0s - loss: 6.1688 - mean_absolute_error: 1.6674 - val_loss: 8.3496 - val_mean_absolute_error: 2.1181\n",
            "Epoch 58/200\n",
            " - 0s - loss: 6.5690 - mean_absolute_error: 1.6173 - val_loss: 7.3069 - val_mean_absolute_error: 1.8935\n",
            "Epoch 59/200\n",
            " - 0s - loss: 6.2950 - mean_absolute_error: 1.6366 - val_loss: 9.1753 - val_mean_absolute_error: 2.0559\n",
            "Epoch 60/200\n",
            " - 0s - loss: 6.7545 - mean_absolute_error: 1.6192 - val_loss: 7.7673 - val_mean_absolute_error: 1.8775\n",
            "Epoch 61/200\n",
            " - 0s - loss: 6.9593 - mean_absolute_error: 1.6581 - val_loss: 7.4394 - val_mean_absolute_error: 1.8600\n",
            "Epoch 62/200\n",
            " - 0s - loss: 6.4975 - mean_absolute_error: 1.5946 - val_loss: 8.4095 - val_mean_absolute_error: 2.1336\n",
            "Epoch 63/200\n",
            " - 0s - loss: 6.3373 - mean_absolute_error: 1.6592 - val_loss: 9.0026 - val_mean_absolute_error: 2.2125\n",
            "Epoch 64/200\n",
            " - 0s - loss: 6.4101 - mean_absolute_error: 1.6799 - val_loss: 8.5212 - val_mean_absolute_error: 1.9994\n",
            "Epoch 65/200\n",
            " - 0s - loss: 5.8771 - mean_absolute_error: 1.6047 - val_loss: 8.5538 - val_mean_absolute_error: 1.9952\n",
            "Epoch 66/200\n",
            " - 0s - loss: 6.1878 - mean_absolute_error: 1.5827 - val_loss: 7.7622 - val_mean_absolute_error: 1.9588\n",
            "Epoch 67/200\n",
            " - 0s - loss: 6.0025 - mean_absolute_error: 1.5862 - val_loss: 8.0804 - val_mean_absolute_error: 2.0481\n",
            "Epoch 68/200\n",
            " - 0s - loss: 5.9553 - mean_absolute_error: 1.5737 - val_loss: 7.7430 - val_mean_absolute_error: 2.0232\n",
            "Epoch 69/200\n",
            " - 0s - loss: 6.1352 - mean_absolute_error: 1.5612 - val_loss: 8.9317 - val_mean_absolute_error: 2.2741\n",
            "Epoch 70/200\n",
            " - 0s - loss: 5.6634 - mean_absolute_error: 1.5778 - val_loss: 9.2605 - val_mean_absolute_error: 2.2984\n",
            "Epoch 71/200\n",
            " - 0s - loss: 5.9490 - mean_absolute_error: 1.5290 - val_loss: 7.7598 - val_mean_absolute_error: 1.8779\n",
            "Epoch 72/200\n",
            " - 0s - loss: 5.9018 - mean_absolute_error: 1.5162 - val_loss: 7.5265 - val_mean_absolute_error: 1.9275\n",
            "Epoch 73/200\n",
            " - 0s - loss: 5.4912 - mean_absolute_error: 1.5300 - val_loss: 12.4708 - val_mean_absolute_error: 2.7044\n",
            "Epoch 74/200\n",
            " - 0s - loss: 5.8300 - mean_absolute_error: 1.5744 - val_loss: 10.2968 - val_mean_absolute_error: 2.4528\n",
            "Epoch 75/200\n",
            " - 0s - loss: 5.9516 - mean_absolute_error: 1.6039 - val_loss: 8.0884 - val_mean_absolute_error: 1.9297\n",
            "Epoch 76/200\n",
            " - 0s - loss: 5.7393 - mean_absolute_error: 1.5607 - val_loss: 8.3617 - val_mean_absolute_error: 2.1295\n",
            "Epoch 77/200\n",
            " - 0s - loss: 5.5944 - mean_absolute_error: 1.5160 - val_loss: 9.4902 - val_mean_absolute_error: 2.2178\n",
            "Epoch 78/200\n",
            " - 0s - loss: 5.6928 - mean_absolute_error: 1.5692 - val_loss: 7.6315 - val_mean_absolute_error: 1.9061\n",
            "Epoch 79/200\n",
            " - 0s - loss: 5.2960 - mean_absolute_error: 1.4687 - val_loss: 8.6478 - val_mean_absolute_error: 2.0022\n",
            "Epoch 80/200\n",
            " - 0s - loss: 5.3622 - mean_absolute_error: 1.4550 - val_loss: 8.1926 - val_mean_absolute_error: 2.0397\n",
            "Epoch 81/200\n",
            " - 0s - loss: 5.6528 - mean_absolute_error: 1.5387 - val_loss: 8.1817 - val_mean_absolute_error: 1.9083\n",
            "Epoch 82/200\n",
            " - 0s - loss: 5.5424 - mean_absolute_error: 1.5325 - val_loss: 8.0510 - val_mean_absolute_error: 1.9998\n",
            "Epoch 83/200\n",
            " - 0s - loss: 5.4925 - mean_absolute_error: 1.5058 - val_loss: 9.9822 - val_mean_absolute_error: 2.0502\n",
            "Epoch 84/200\n",
            " - 0s - loss: 5.5278 - mean_absolute_error: 1.5514 - val_loss: 8.6893 - val_mean_absolute_error: 2.1110\n",
            "Epoch 85/200\n",
            " - 0s - loss: 5.2742 - mean_absolute_error: 1.4639 - val_loss: 9.2222 - val_mean_absolute_error: 2.2583\n",
            "Epoch 86/200\n",
            " - 0s - loss: 5.5524 - mean_absolute_error: 1.5499 - val_loss: 8.9375 - val_mean_absolute_error: 2.0823\n",
            "Epoch 87/200\n",
            " - 0s - loss: 5.2770 - mean_absolute_error: 1.4730 - val_loss: 9.2403 - val_mean_absolute_error: 2.2945\n",
            "Epoch 88/200\n",
            " - 0s - loss: 5.5002 - mean_absolute_error: 1.5184 - val_loss: 7.9249 - val_mean_absolute_error: 1.9281\n",
            "Epoch 89/200\n",
            " - 0s - loss: 5.1749 - mean_absolute_error: 1.4917 - val_loss: 8.6917 - val_mean_absolute_error: 2.1591\n",
            "Epoch 90/200\n",
            " - 0s - loss: 5.1381 - mean_absolute_error: 1.4361 - val_loss: 7.8680 - val_mean_absolute_error: 1.9099\n",
            "Epoch 91/200\n",
            " - 0s - loss: 4.9378 - mean_absolute_error: 1.4506 - val_loss: 8.4321 - val_mean_absolute_error: 1.9471\n",
            "Epoch 92/200\n",
            " - 0s - loss: 5.3195 - mean_absolute_error: 1.4547 - val_loss: 10.1831 - val_mean_absolute_error: 2.3692\n",
            "Epoch 93/200\n",
            " - 0s - loss: 5.2895 - mean_absolute_error: 1.4762 - val_loss: 9.7668 - val_mean_absolute_error: 2.3711\n",
            "Epoch 94/200\n",
            " - 0s - loss: 5.2693 - mean_absolute_error: 1.4835 - val_loss: 8.1688 - val_mean_absolute_error: 1.9986\n",
            "Epoch 95/200\n",
            " - 0s - loss: 4.6138 - mean_absolute_error: 1.4919 - val_loss: 9.0578 - val_mean_absolute_error: 1.9896\n",
            "Epoch 96/200\n",
            " - 0s - loss: 5.1336 - mean_absolute_error: 1.4831 - val_loss: 7.9024 - val_mean_absolute_error: 2.0286\n",
            "Epoch 97/200\n",
            " - 0s - loss: 4.9516 - mean_absolute_error: 1.4218 - val_loss: 7.4452 - val_mean_absolute_error: 1.9281\n",
            "Epoch 98/200\n",
            " - 0s - loss: 4.8180 - mean_absolute_error: 1.3992 - val_loss: 8.1611 - val_mean_absolute_error: 1.9252\n",
            "Epoch 99/200\n",
            " - 0s - loss: 5.0755 - mean_absolute_error: 1.4893 - val_loss: 8.5338 - val_mean_absolute_error: 2.2707\n",
            "Epoch 100/200\n",
            " - 0s - loss: 4.6603 - mean_absolute_error: 1.4127 - val_loss: 7.5687 - val_mean_absolute_error: 1.9965\n",
            "Epoch 101/200\n",
            " - 0s - loss: 4.8290 - mean_absolute_error: 1.3924 - val_loss: 9.5292 - val_mean_absolute_error: 2.1739\n",
            "Epoch 102/200\n",
            " - 0s - loss: 4.8347 - mean_absolute_error: 1.3949 - val_loss: 8.0965 - val_mean_absolute_error: 2.1672\n",
            "Epoch 103/200\n",
            " - 0s - loss: 4.6907 - mean_absolute_error: 1.3430 - val_loss: 8.0017 - val_mean_absolute_error: 2.0266\n",
            "Epoch 104/200\n",
            " - 0s - loss: 5.1430 - mean_absolute_error: 1.4300 - val_loss: 8.7659 - val_mean_absolute_error: 2.2323\n",
            "Epoch 105/200\n",
            " - 0s - loss: 5.0918 - mean_absolute_error: 1.4424 - val_loss: 9.6042 - val_mean_absolute_error: 2.1861\n",
            "Epoch 106/200\n",
            " - 0s - loss: 4.7984 - mean_absolute_error: 1.3756 - val_loss: 8.9852 - val_mean_absolute_error: 2.1281\n",
            "Epoch 107/200\n",
            " - 0s - loss: 4.5969 - mean_absolute_error: 1.4238 - val_loss: 9.8700 - val_mean_absolute_error: 2.2132\n",
            "Epoch 108/200\n",
            " - 0s - loss: 4.3742 - mean_absolute_error: 1.4488 - val_loss: 8.3331 - val_mean_absolute_error: 1.9423\n",
            "Epoch 109/200\n",
            " - 0s - loss: 4.8081 - mean_absolute_error: 1.4200 - val_loss: 7.8273 - val_mean_absolute_error: 1.9006\n",
            "Epoch 110/200\n",
            " - 0s - loss: 4.2258 - mean_absolute_error: 1.3492 - val_loss: 7.7164 - val_mean_absolute_error: 2.0676\n",
            "Epoch 111/200\n",
            " - 0s - loss: 4.5666 - mean_absolute_error: 1.3936 - val_loss: 8.4129 - val_mean_absolute_error: 1.9737\n",
            "Epoch 112/200\n",
            " - 0s - loss: 4.3131 - mean_absolute_error: 1.3354 - val_loss: 7.6441 - val_mean_absolute_error: 1.9396\n",
            "Epoch 113/200\n",
            " - 0s - loss: 4.5534 - mean_absolute_error: 1.3905 - val_loss: 9.9149 - val_mean_absolute_error: 2.2403\n",
            "Epoch 114/200\n",
            " - 0s - loss: 4.5756 - mean_absolute_error: 1.4854 - val_loss: 8.2382 - val_mean_absolute_error: 1.9631\n",
            "Epoch 115/200\n",
            " - 0s - loss: 4.6606 - mean_absolute_error: 1.4050 - val_loss: 8.7585 - val_mean_absolute_error: 2.1848\n",
            "Epoch 116/200\n",
            " - 0s - loss: 4.6189 - mean_absolute_error: 1.4369 - val_loss: 8.5522 - val_mean_absolute_error: 2.0789\n",
            "Epoch 117/200\n",
            " - 0s - loss: 4.2604 - mean_absolute_error: 1.3708 - val_loss: 10.1399 - val_mean_absolute_error: 2.2403\n",
            "Epoch 118/200\n",
            " - 0s - loss: 4.3687 - mean_absolute_error: 1.3608 - val_loss: 8.6545 - val_mean_absolute_error: 2.2017\n",
            "Epoch 119/200\n",
            " - 0s - loss: 4.3103 - mean_absolute_error: 1.3808 - val_loss: 8.5793 - val_mean_absolute_error: 2.1189\n",
            "Epoch 120/200\n",
            " - 0s - loss: 4.3167 - mean_absolute_error: 1.3665 - val_loss: 8.1550 - val_mean_absolute_error: 2.0517\n",
            "Epoch 121/200\n",
            " - 0s - loss: 4.1380 - mean_absolute_error: 1.3384 - val_loss: 9.1703 - val_mean_absolute_error: 2.1490\n",
            "Epoch 122/200\n",
            " - 0s - loss: 3.9820 - mean_absolute_error: 1.3268 - val_loss: 7.9562 - val_mean_absolute_error: 1.9773\n",
            "Epoch 123/200\n",
            " - 0s - loss: 4.5498 - mean_absolute_error: 1.3954 - val_loss: 7.8773 - val_mean_absolute_error: 2.0491\n",
            "Epoch 124/200\n",
            " - 0s - loss: 3.8983 - mean_absolute_error: 1.3460 - val_loss: 7.1248 - val_mean_absolute_error: 1.8154\n",
            "Epoch 125/200\n",
            " - 0s - loss: 3.9653 - mean_absolute_error: 1.3491 - val_loss: 8.3332 - val_mean_absolute_error: 1.9542\n",
            "Epoch 126/200\n",
            " - 0s - loss: 3.8705 - mean_absolute_error: 1.2778 - val_loss: 8.6873 - val_mean_absolute_error: 2.0547\n",
            "Epoch 127/200\n",
            " - 0s - loss: 4.2351 - mean_absolute_error: 1.3539 - val_loss: 9.2708 - val_mean_absolute_error: 2.1589\n",
            "Epoch 128/200\n",
            " - 0s - loss: 3.8744 - mean_absolute_error: 1.3140 - val_loss: 8.1532 - val_mean_absolute_error: 2.0412\n",
            "Epoch 129/200\n",
            " - 0s - loss: 4.1798 - mean_absolute_error: 1.3413 - val_loss: 8.8583 - val_mean_absolute_error: 2.0710\n",
            "Epoch 130/200\n",
            " - 0s - loss: 3.6635 - mean_absolute_error: 1.3102 - val_loss: 7.5132 - val_mean_absolute_error: 2.0038\n",
            "Epoch 131/200\n",
            " - 0s - loss: 4.1665 - mean_absolute_error: 1.3071 - val_loss: 7.5713 - val_mean_absolute_error: 1.9127\n",
            "Epoch 132/200\n",
            " - 0s - loss: 3.9607 - mean_absolute_error: 1.2628 - val_loss: 7.4442 - val_mean_absolute_error: 1.9762\n",
            "Epoch 133/200\n",
            " - 0s - loss: 3.9123 - mean_absolute_error: 1.2660 - val_loss: 8.2108 - val_mean_absolute_error: 2.0668\n",
            "Epoch 134/200\n",
            " - 0s - loss: 4.0599 - mean_absolute_error: 1.3122 - val_loss: 8.5531 - val_mean_absolute_error: 2.1632\n",
            "Epoch 135/200\n",
            " - 0s - loss: 3.8838 - mean_absolute_error: 1.2931 - val_loss: 7.6943 - val_mean_absolute_error: 1.9174\n",
            "Epoch 136/200\n",
            " - 0s - loss: 3.8238 - mean_absolute_error: 1.3005 - val_loss: 8.5277 - val_mean_absolute_error: 1.9789\n",
            "Epoch 137/200\n",
            " - 0s - loss: 3.6573 - mean_absolute_error: 1.3296 - val_loss: 8.5651 - val_mean_absolute_error: 2.1435\n",
            "Epoch 138/200\n",
            " - 0s - loss: 3.8102 - mean_absolute_error: 1.2934 - val_loss: 8.8178 - val_mean_absolute_error: 2.1423\n",
            "Epoch 139/200\n",
            " - 0s - loss: 3.9851 - mean_absolute_error: 1.2872 - val_loss: 10.5564 - val_mean_absolute_error: 2.2897\n",
            "Epoch 140/200\n",
            " - 0s - loss: 3.8266 - mean_absolute_error: 1.3041 - val_loss: 8.8529 - val_mean_absolute_error: 2.0697\n",
            "Epoch 141/200\n",
            " - 0s - loss: 3.7880 - mean_absolute_error: 1.2611 - val_loss: 7.9673 - val_mean_absolute_error: 2.1914\n",
            "Epoch 142/200\n",
            " - 0s - loss: 3.3083 - mean_absolute_error: 1.2142 - val_loss: 9.1046 - val_mean_absolute_error: 2.1841\n",
            "Epoch 143/200\n",
            " - 0s - loss: 3.6516 - mean_absolute_error: 1.2774 - val_loss: 7.2266 - val_mean_absolute_error: 1.9984\n",
            "Epoch 144/200\n",
            " - 0s - loss: 3.7347 - mean_absolute_error: 1.2892 - val_loss: 9.1864 - val_mean_absolute_error: 2.2022\n",
            "Epoch 145/200\n",
            " - 0s - loss: 3.5271 - mean_absolute_error: 1.2372 - val_loss: 7.9235 - val_mean_absolute_error: 2.0431\n",
            "Epoch 146/200\n",
            " - 0s - loss: 3.6206 - mean_absolute_error: 1.2442 - val_loss: 11.0700 - val_mean_absolute_error: 2.2921\n",
            "Epoch 147/200\n",
            " - 0s - loss: 3.1069 - mean_absolute_error: 1.2230 - val_loss: 9.3899 - val_mean_absolute_error: 2.2283\n",
            "Epoch 148/200\n",
            " - 0s - loss: 3.3680 - mean_absolute_error: 1.2857 - val_loss: 8.4579 - val_mean_absolute_error: 2.0136\n",
            "Epoch 149/200\n",
            " - 0s - loss: 3.7818 - mean_absolute_error: 1.2835 - val_loss: 8.1899 - val_mean_absolute_error: 2.0934\n",
            "Epoch 150/200\n",
            " - 0s - loss: 3.6807 - mean_absolute_error: 1.2654 - val_loss: 8.5988 - val_mean_absolute_error: 2.1136\n",
            "Epoch 151/200\n",
            " - 0s - loss: 3.4888 - mean_absolute_error: 1.2100 - val_loss: 9.2396 - val_mean_absolute_error: 2.2332\n",
            "Epoch 152/200\n",
            " - 0s - loss: 3.3395 - mean_absolute_error: 1.2680 - val_loss: 7.3751 - val_mean_absolute_error: 1.8994\n",
            "Epoch 153/200\n",
            " - 0s - loss: 3.3532 - mean_absolute_error: 1.2469 - val_loss: 9.2553 - val_mean_absolute_error: 2.1147\n",
            "Epoch 154/200\n",
            " - 0s - loss: 3.4695 - mean_absolute_error: 1.2668 - val_loss: 8.8805 - val_mean_absolute_error: 2.0677\n",
            "Epoch 155/200\n",
            " - 0s - loss: 3.3557 - mean_absolute_error: 1.2729 - val_loss: 7.6816 - val_mean_absolute_error: 2.0483\n",
            "Epoch 156/200\n",
            " - 0s - loss: 3.0553 - mean_absolute_error: 1.2220 - val_loss: 8.3954 - val_mean_absolute_error: 2.1329\n",
            "Epoch 157/200\n",
            " - 0s - loss: 3.3546 - mean_absolute_error: 1.2013 - val_loss: 7.7275 - val_mean_absolute_error: 1.9484\n",
            "Epoch 158/200\n",
            " - 0s - loss: 3.2331 - mean_absolute_error: 1.1874 - val_loss: 8.0327 - val_mean_absolute_error: 2.0192\n",
            "Epoch 159/200\n",
            " - 0s - loss: 3.3006 - mean_absolute_error: 1.2741 - val_loss: 8.0398 - val_mean_absolute_error: 2.0551\n",
            "Epoch 160/200\n",
            " - 0s - loss: 3.2367 - mean_absolute_error: 1.2098 - val_loss: 7.4938 - val_mean_absolute_error: 1.9736\n",
            "Epoch 161/200\n",
            " - 0s - loss: 3.4593 - mean_absolute_error: 1.2181 - val_loss: 8.4576 - val_mean_absolute_error: 2.2160\n",
            "Epoch 162/200\n",
            " - 0s - loss: 3.1491 - mean_absolute_error: 1.1434 - val_loss: 9.1412 - val_mean_absolute_error: 2.2054\n",
            "Epoch 163/200\n",
            " - 0s - loss: 3.0041 - mean_absolute_error: 1.1392 - val_loss: 7.5313 - val_mean_absolute_error: 1.9496\n",
            "Epoch 164/200\n",
            " - 0s - loss: 3.0523 - mean_absolute_error: 1.2104 - val_loss: 9.7824 - val_mean_absolute_error: 2.2585\n",
            "Epoch 165/200\n",
            " - 0s - loss: 3.0721 - mean_absolute_error: 1.2334 - val_loss: 8.7877 - val_mean_absolute_error: 2.1477\n",
            "Epoch 166/200\n",
            " - 0s - loss: 3.0861 - mean_absolute_error: 1.1761 - val_loss: 8.5585 - val_mean_absolute_error: 1.9746\n",
            "Epoch 167/200\n",
            " - 0s - loss: 3.0175 - mean_absolute_error: 1.1911 - val_loss: 9.1135 - val_mean_absolute_error: 2.1435\n",
            "Epoch 168/200\n",
            " - 0s - loss: 3.2368 - mean_absolute_error: 1.2033 - val_loss: 8.0210 - val_mean_absolute_error: 2.0987\n",
            "Epoch 169/200\n",
            " - 0s - loss: 2.8949 - mean_absolute_error: 1.1382 - val_loss: 7.6764 - val_mean_absolute_error: 1.8890\n",
            "Epoch 170/200\n",
            " - 0s - loss: 2.9446 - mean_absolute_error: 1.1682 - val_loss: 9.1275 - val_mean_absolute_error: 2.2620\n",
            "Epoch 171/200\n",
            " - 0s - loss: 2.8744 - mean_absolute_error: 1.1146 - val_loss: 8.5272 - val_mean_absolute_error: 2.1494\n",
            "Epoch 172/200\n",
            " - 0s - loss: 2.9197 - mean_absolute_error: 1.1436 - val_loss: 9.8966 - val_mean_absolute_error: 2.0742\n",
            "Epoch 173/200\n",
            " - 0s - loss: 2.9265 - mean_absolute_error: 1.1849 - val_loss: 7.9522 - val_mean_absolute_error: 1.8880\n",
            "Epoch 174/200\n",
            " - 0s - loss: 2.9037 - mean_absolute_error: 1.1537 - val_loss: 8.2747 - val_mean_absolute_error: 2.0313\n",
            "Epoch 175/200\n",
            " - 0s - loss: 3.0818 - mean_absolute_error: 1.1679 - val_loss: 8.6403 - val_mean_absolute_error: 2.0685\n",
            "Epoch 176/200\n",
            " - 0s - loss: 2.5838 - mean_absolute_error: 1.0830 - val_loss: 9.6036 - val_mean_absolute_error: 2.1584\n",
            "Epoch 177/200\n",
            " - 0s - loss: 2.8375 - mean_absolute_error: 1.1574 - val_loss: 7.8425 - val_mean_absolute_error: 1.9452\n",
            "Epoch 178/200\n",
            " - 0s - loss: 2.7871 - mean_absolute_error: 1.1395 - val_loss: 9.4745 - val_mean_absolute_error: 2.1369\n",
            "Epoch 179/200\n",
            " - 0s - loss: 2.9863 - mean_absolute_error: 1.2159 - val_loss: 7.8315 - val_mean_absolute_error: 1.9134\n",
            "Epoch 180/200\n",
            " - 0s - loss: 2.7916 - mean_absolute_error: 1.1362 - val_loss: 9.1816 - val_mean_absolute_error: 2.1938\n",
            "Epoch 181/200\n",
            " - 0s - loss: 2.7814 - mean_absolute_error: 1.1292 - val_loss: 8.1222 - val_mean_absolute_error: 2.0552\n",
            "Epoch 182/200\n",
            " - 0s - loss: 3.0556 - mean_absolute_error: 1.1534 - val_loss: 9.7553 - val_mean_absolute_error: 2.2122\n",
            "Epoch 183/200\n",
            " - 0s - loss: 2.5595 - mean_absolute_error: 1.1274 - val_loss: 9.4102 - val_mean_absolute_error: 2.2447\n",
            "Epoch 184/200\n",
            " - 0s - loss: 2.8661 - mean_absolute_error: 1.1381 - val_loss: 9.3130 - val_mean_absolute_error: 2.1152\n",
            "Epoch 185/200\n",
            " - 0s - loss: 2.6094 - mean_absolute_error: 1.1082 - val_loss: 9.9632 - val_mean_absolute_error: 2.3141\n",
            "Epoch 186/200\n",
            " - 0s - loss: 2.4870 - mean_absolute_error: 1.0891 - val_loss: 9.1126 - val_mean_absolute_error: 2.2325\n",
            "Epoch 187/200\n",
            " - 0s - loss: 2.4461 - mean_absolute_error: 1.1038 - val_loss: 9.5679 - val_mean_absolute_error: 2.1693\n",
            "Epoch 188/200\n",
            " - 0s - loss: 2.7401 - mean_absolute_error: 1.0943 - val_loss: 9.0674 - val_mean_absolute_error: 2.1704\n",
            "Epoch 189/200\n",
            " - 0s - loss: 2.5718 - mean_absolute_error: 1.1169 - val_loss: 7.8537 - val_mean_absolute_error: 2.0363\n",
            "Epoch 190/200\n",
            " - 0s - loss: 2.7620 - mean_absolute_error: 1.1216 - val_loss: 7.2636 - val_mean_absolute_error: 1.8837\n",
            "Epoch 191/200\n",
            " - 0s - loss: 2.5190 - mean_absolute_error: 1.1523 - val_loss: 9.0844 - val_mean_absolute_error: 2.0408\n",
            "Epoch 192/200\n",
            " - 0s - loss: 2.7978 - mean_absolute_error: 1.1072 - val_loss: 9.0294 - val_mean_absolute_error: 2.1219\n",
            "Epoch 193/200\n",
            " - 0s - loss: 2.4420 - mean_absolute_error: 1.0836 - val_loss: 9.0446 - val_mean_absolute_error: 2.1205\n",
            "Epoch 194/200\n",
            " - 0s - loss: 2.7518 - mean_absolute_error: 1.1421 - val_loss: 10.8190 - val_mean_absolute_error: 2.4281\n",
            "Epoch 195/200\n",
            " - 0s - loss: 2.3387 - mean_absolute_error: 1.1019 - val_loss: 8.4241 - val_mean_absolute_error: 2.1551\n",
            "Epoch 196/200\n",
            " - 0s - loss: 2.3961 - mean_absolute_error: 1.1018 - val_loss: 10.5009 - val_mean_absolute_error: 2.3453\n",
            "Epoch 197/200\n",
            " - 0s - loss: 2.5817 - mean_absolute_error: 1.1157 - val_loss: 8.0978 - val_mean_absolute_error: 2.0551\n",
            "Epoch 198/200\n",
            " - 0s - loss: 2.4917 - mean_absolute_error: 1.0715 - val_loss: 11.0588 - val_mean_absolute_error: 2.2473\n",
            "Epoch 199/200\n",
            " - 0s - loss: 2.5436 - mean_absolute_error: 1.1170 - val_loss: 9.4103 - val_mean_absolute_error: 2.1005\n",
            "Epoch 200/200\n",
            " - 0s - loss: 2.3916 - mean_absolute_error: 1.1094 - val_loss: 9.1048 - val_mean_absolute_error: 2.1978\n",
            "processing fold # 1\n",
            "Train on 303 samples, validate on 101 samples\n",
            "Epoch 1/200\n",
            " - 1s - loss: 208.8805 - mean_absolute_error: 10.8084 - val_loss: 29.6305 - val_mean_absolute_error: 4.1230\n",
            "Epoch 2/200\n",
            " - 0s - loss: 28.9470 - mean_absolute_error: 3.5450 - val_loss: 20.8289 - val_mean_absolute_error: 3.4933\n",
            "Epoch 3/200\n",
            " - 0s - loss: 20.7066 - mean_absolute_error: 2.9752 - val_loss: 16.0071 - val_mean_absolute_error: 2.9663\n",
            "Epoch 4/200\n",
            " - 0s - loss: 15.7033 - mean_absolute_error: 2.7059 - val_loss: 15.6689 - val_mean_absolute_error: 2.9170\n",
            "Epoch 5/200\n",
            " - 0s - loss: 14.7735 - mean_absolute_error: 2.5357 - val_loss: 14.4523 - val_mean_absolute_error: 2.8434\n",
            "Epoch 6/200\n",
            " - 0s - loss: 13.3745 - mean_absolute_error: 2.4617 - val_loss: 15.4341 - val_mean_absolute_error: 3.0304\n",
            "Epoch 7/200\n",
            " - 0s - loss: 12.4085 - mean_absolute_error: 2.3615 - val_loss: 13.3731 - val_mean_absolute_error: 2.7730\n",
            "Epoch 8/200\n",
            " - 0s - loss: 11.5949 - mean_absolute_error: 2.3179 - val_loss: 14.3651 - val_mean_absolute_error: 2.9059\n",
            "Epoch 9/200\n",
            " - 0s - loss: 10.8619 - mean_absolute_error: 2.2895 - val_loss: 15.3012 - val_mean_absolute_error: 2.9904\n",
            "Epoch 10/200\n",
            " - 0s - loss: 10.6195 - mean_absolute_error: 2.2626 - val_loss: 13.3883 - val_mean_absolute_error: 2.7825\n",
            "Epoch 11/200\n",
            " - 0s - loss: 10.1362 - mean_absolute_error: 2.1709 - val_loss: 12.7550 - val_mean_absolute_error: 2.7393\n",
            "Epoch 12/200\n",
            " - 0s - loss: 10.3415 - mean_absolute_error: 2.1887 - val_loss: 13.6884 - val_mean_absolute_error: 2.8151\n",
            "Epoch 13/200\n",
            " - 0s - loss: 9.8291 - mean_absolute_error: 2.1271 - val_loss: 13.4517 - val_mean_absolute_error: 2.7961\n",
            "Epoch 14/200\n",
            " - 0s - loss: 10.0894 - mean_absolute_error: 2.1292 - val_loss: 12.3223 - val_mean_absolute_error: 2.6862\n",
            "Epoch 15/200\n",
            " - 0s - loss: 9.5004 - mean_absolute_error: 2.0892 - val_loss: 13.0530 - val_mean_absolute_error: 2.7628\n",
            "Epoch 16/200\n",
            " - 0s - loss: 9.0343 - mean_absolute_error: 2.0881 - val_loss: 13.0457 - val_mean_absolute_error: 2.7644\n",
            "Epoch 17/200\n",
            " - 0s - loss: 9.3296 - mean_absolute_error: 2.0807 - val_loss: 10.9387 - val_mean_absolute_error: 2.5133\n",
            "Epoch 18/200\n",
            " - 0s - loss: 8.8860 - mean_absolute_error: 2.0230 - val_loss: 11.3511 - val_mean_absolute_error: 2.5864\n",
            "Epoch 19/200\n",
            " - 0s - loss: 9.4955 - mean_absolute_error: 2.0226 - val_loss: 12.9221 - val_mean_absolute_error: 2.7469\n",
            "Epoch 20/200\n",
            " - 0s - loss: 8.5295 - mean_absolute_error: 2.0234 - val_loss: 13.1375 - val_mean_absolute_error: 2.7881\n",
            "Epoch 21/200\n",
            " - 0s - loss: 8.4382 - mean_absolute_error: 2.0091 - val_loss: 12.1910 - val_mean_absolute_error: 2.6912\n",
            "Epoch 22/200\n",
            " - 0s - loss: 8.3629 - mean_absolute_error: 1.9354 - val_loss: 10.7740 - val_mean_absolute_error: 2.5224\n",
            "Epoch 23/200\n",
            " - 0s - loss: 8.5760 - mean_absolute_error: 1.9663 - val_loss: 13.7450 - val_mean_absolute_error: 2.8070\n",
            "Epoch 24/200\n",
            " - 0s - loss: 7.7822 - mean_absolute_error: 1.9103 - val_loss: 11.3871 - val_mean_absolute_error: 2.6167\n",
            "Epoch 25/200\n",
            " - 0s - loss: 8.2564 - mean_absolute_error: 1.8961 - val_loss: 11.1251 - val_mean_absolute_error: 2.5853\n",
            "Epoch 26/200\n",
            " - 0s - loss: 8.1456 - mean_absolute_error: 1.9435 - val_loss: 10.4549 - val_mean_absolute_error: 2.4839\n",
            "Epoch 27/200\n",
            " - 0s - loss: 7.8106 - mean_absolute_error: 1.8742 - val_loss: 16.1936 - val_mean_absolute_error: 3.1023\n",
            "Epoch 28/200\n",
            " - 0s - loss: 7.7596 - mean_absolute_error: 1.9373 - val_loss: 10.4567 - val_mean_absolute_error: 2.5131\n",
            "Epoch 29/200\n",
            " - 0s - loss: 7.4688 - mean_absolute_error: 1.8724 - val_loss: 10.0725 - val_mean_absolute_error: 2.4497\n",
            "Epoch 30/200\n",
            " - 0s - loss: 7.6329 - mean_absolute_error: 1.8636 - val_loss: 12.3080 - val_mean_absolute_error: 2.7154\n",
            "Epoch 31/200\n",
            " - 0s - loss: 7.1027 - mean_absolute_error: 1.8336 - val_loss: 10.7805 - val_mean_absolute_error: 2.5214\n",
            "Epoch 32/200\n",
            " - 0s - loss: 7.3669 - mean_absolute_error: 1.8022 - val_loss: 10.9192 - val_mean_absolute_error: 2.5594\n",
            "Epoch 33/200\n",
            " - 0s - loss: 6.9325 - mean_absolute_error: 1.8247 - val_loss: 9.8240 - val_mean_absolute_error: 2.3992\n",
            "Epoch 34/200\n",
            " - 0s - loss: 7.0729 - mean_absolute_error: 1.7662 - val_loss: 9.6703 - val_mean_absolute_error: 2.4024\n",
            "Epoch 35/200\n",
            " - 0s - loss: 7.0528 - mean_absolute_error: 1.7550 - val_loss: 12.3464 - val_mean_absolute_error: 2.7560\n",
            "Epoch 36/200\n",
            " - 0s - loss: 7.0143 - mean_absolute_error: 1.7562 - val_loss: 9.6516 - val_mean_absolute_error: 2.3992\n",
            "Epoch 37/200\n",
            " - 0s - loss: 6.5441 - mean_absolute_error: 1.7759 - val_loss: 10.6317 - val_mean_absolute_error: 2.5217\n",
            "Epoch 38/200\n",
            " - 0s - loss: 6.1501 - mean_absolute_error: 1.7089 - val_loss: 10.4592 - val_mean_absolute_error: 2.4916\n",
            "Epoch 39/200\n",
            " - 0s - loss: 6.7146 - mean_absolute_error: 1.6506 - val_loss: 10.1743 - val_mean_absolute_error: 2.4520\n",
            "Epoch 40/200\n",
            " - 0s - loss: 6.2560 - mean_absolute_error: 1.6820 - val_loss: 9.1892 - val_mean_absolute_error: 2.2951\n",
            "Epoch 41/200\n",
            " - 0s - loss: 7.0237 - mean_absolute_error: 1.7390 - val_loss: 8.9124 - val_mean_absolute_error: 2.3169\n",
            "Epoch 42/200\n",
            " - 0s - loss: 6.3189 - mean_absolute_error: 1.7039 - val_loss: 8.4490 - val_mean_absolute_error: 2.2388\n",
            "Epoch 43/200\n",
            " - 0s - loss: 6.5649 - mean_absolute_error: 1.7041 - val_loss: 9.6870 - val_mean_absolute_error: 2.4205\n",
            "Epoch 44/200\n",
            " - 0s - loss: 6.3572 - mean_absolute_error: 1.6239 - val_loss: 8.8423 - val_mean_absolute_error: 2.3052\n",
            "Epoch 45/200\n",
            " - 0s - loss: 5.7935 - mean_absolute_error: 1.6176 - val_loss: 9.4573 - val_mean_absolute_error: 2.4090\n",
            "Epoch 46/200\n",
            " - 0s - loss: 6.2581 - mean_absolute_error: 1.6781 - val_loss: 10.0631 - val_mean_absolute_error: 2.4777\n",
            "Epoch 47/200\n",
            " - 0s - loss: 6.0886 - mean_absolute_error: 1.6032 - val_loss: 11.0529 - val_mean_absolute_error: 2.6084\n",
            "Epoch 48/200\n",
            " - 0s - loss: 5.6531 - mean_absolute_error: 1.6406 - val_loss: 10.2838 - val_mean_absolute_error: 2.4981\n",
            "Epoch 49/200\n",
            " - 0s - loss: 5.4042 - mean_absolute_error: 1.6307 - val_loss: 9.3045 - val_mean_absolute_error: 2.2959\n",
            "Epoch 50/200\n",
            " - 0s - loss: 5.6824 - mean_absolute_error: 1.6562 - val_loss: 9.7843 - val_mean_absolute_error: 2.4297\n",
            "Epoch 51/200\n",
            " - 0s - loss: 5.7080 - mean_absolute_error: 1.5458 - val_loss: 9.7731 - val_mean_absolute_error: 2.4486\n",
            "Epoch 52/200\n",
            " - 0s - loss: 5.5472 - mean_absolute_error: 1.5764 - val_loss: 9.6051 - val_mean_absolute_error: 2.3994\n",
            "Epoch 53/200\n",
            " - 0s - loss: 5.0633 - mean_absolute_error: 1.5173 - val_loss: 10.0076 - val_mean_absolute_error: 2.5066\n",
            "Epoch 54/200\n",
            " - 0s - loss: 5.4558 - mean_absolute_error: 1.6136 - val_loss: 9.3284 - val_mean_absolute_error: 2.3352\n",
            "Epoch 55/200\n",
            " - 0s - loss: 5.0415 - mean_absolute_error: 1.5535 - val_loss: 11.3587 - val_mean_absolute_error: 2.5912\n",
            "Epoch 56/200\n",
            " - 0s - loss: 5.1520 - mean_absolute_error: 1.5122 - val_loss: 11.6443 - val_mean_absolute_error: 2.6033\n",
            "Epoch 57/200\n",
            " - 0s - loss: 4.8925 - mean_absolute_error: 1.5464 - val_loss: 9.5941 - val_mean_absolute_error: 2.3053\n",
            "Epoch 58/200\n",
            " - 0s - loss: 5.1142 - mean_absolute_error: 1.5271 - val_loss: 8.6782 - val_mean_absolute_error: 2.2977\n",
            "Epoch 59/200\n",
            " - 0s - loss: 4.9255 - mean_absolute_error: 1.5223 - val_loss: 9.2908 - val_mean_absolute_error: 2.2763\n",
            "Epoch 60/200\n",
            " - 0s - loss: 5.0237 - mean_absolute_error: 1.4758 - val_loss: 9.7978 - val_mean_absolute_error: 2.3776\n",
            "Epoch 61/200\n",
            " - 0s - loss: 4.8908 - mean_absolute_error: 1.4845 - val_loss: 11.6512 - val_mean_absolute_error: 2.6521\n",
            "Epoch 62/200\n",
            " - 0s - loss: 4.9392 - mean_absolute_error: 1.4627 - val_loss: 13.0216 - val_mean_absolute_error: 2.8862\n",
            "Epoch 63/200\n",
            " - 0s - loss: 4.8117 - mean_absolute_error: 1.5134 - val_loss: 9.2530 - val_mean_absolute_error: 2.3473\n",
            "Epoch 64/200\n",
            " - 0s - loss: 4.4061 - mean_absolute_error: 1.3990 - val_loss: 7.5134 - val_mean_absolute_error: 2.1067\n",
            "Epoch 65/200\n",
            " - 0s - loss: 4.2780 - mean_absolute_error: 1.4742 - val_loss: 8.5088 - val_mean_absolute_error: 2.2104\n",
            "Epoch 66/200\n",
            " - 0s - loss: 4.5728 - mean_absolute_error: 1.4182 - val_loss: 8.4879 - val_mean_absolute_error: 2.2257\n",
            "Epoch 67/200\n",
            " - 0s - loss: 4.2954 - mean_absolute_error: 1.3576 - val_loss: 8.7807 - val_mean_absolute_error: 2.2795\n",
            "Epoch 68/200\n",
            " - 0s - loss: 4.3158 - mean_absolute_error: 1.4020 - val_loss: 8.4762 - val_mean_absolute_error: 2.2816\n",
            "Epoch 69/200\n",
            " - 0s - loss: 4.2431 - mean_absolute_error: 1.3560 - val_loss: 12.3199 - val_mean_absolute_error: 2.8014\n",
            "Epoch 70/200\n",
            " - 0s - loss: 4.2940 - mean_absolute_error: 1.4174 - val_loss: 7.7846 - val_mean_absolute_error: 2.1409\n",
            "Epoch 71/200\n",
            " - 0s - loss: 4.5132 - mean_absolute_error: 1.4563 - val_loss: 8.3386 - val_mean_absolute_error: 2.2069\n",
            "Epoch 72/200\n",
            " - 0s - loss: 4.2034 - mean_absolute_error: 1.3631 - val_loss: 11.4417 - val_mean_absolute_error: 2.6748\n",
            "Epoch 73/200\n",
            " - 0s - loss: 4.2817 - mean_absolute_error: 1.4380 - val_loss: 8.7407 - val_mean_absolute_error: 2.2845\n",
            "Epoch 74/200\n",
            " - 0s - loss: 4.1090 - mean_absolute_error: 1.3682 - val_loss: 9.2017 - val_mean_absolute_error: 2.2494\n",
            "Epoch 75/200\n",
            " - 0s - loss: 4.0834 - mean_absolute_error: 1.3899 - val_loss: 9.6707 - val_mean_absolute_error: 2.4338\n",
            "Epoch 76/200\n",
            " - 0s - loss: 3.8325 - mean_absolute_error: 1.3477 - val_loss: 10.5093 - val_mean_absolute_error: 2.5008\n",
            "Epoch 77/200\n",
            " - 0s - loss: 3.9572 - mean_absolute_error: 1.3663 - val_loss: 9.4536 - val_mean_absolute_error: 2.4141\n",
            "Epoch 78/200\n",
            " - 0s - loss: 4.0965 - mean_absolute_error: 1.3449 - val_loss: 9.8425 - val_mean_absolute_error: 2.3846\n",
            "Epoch 79/200\n",
            " - 0s - loss: 4.0631 - mean_absolute_error: 1.3400 - val_loss: 8.7958 - val_mean_absolute_error: 2.2768\n",
            "Epoch 80/200\n",
            " - 0s - loss: 3.7702 - mean_absolute_error: 1.2830 - val_loss: 12.7842 - val_mean_absolute_error: 2.6844\n",
            "Epoch 81/200\n",
            " - 0s - loss: 3.8065 - mean_absolute_error: 1.3039 - val_loss: 8.9852 - val_mean_absolute_error: 2.2954\n",
            "Epoch 82/200\n",
            " - 0s - loss: 3.5556 - mean_absolute_error: 1.3074 - val_loss: 10.2008 - val_mean_absolute_error: 2.4197\n",
            "Epoch 83/200\n",
            " - 0s - loss: 3.8432 - mean_absolute_error: 1.3256 - val_loss: 9.0877 - val_mean_absolute_error: 2.3150\n",
            "Epoch 84/200\n",
            " - 0s - loss: 3.5966 - mean_absolute_error: 1.2804 - val_loss: 9.8106 - val_mean_absolute_error: 2.3664\n",
            "Epoch 85/200\n",
            " - 0s - loss: 3.5552 - mean_absolute_error: 1.2905 - val_loss: 8.9316 - val_mean_absolute_error: 2.2738\n",
            "Epoch 86/200\n",
            " - 0s - loss: 3.6524 - mean_absolute_error: 1.3007 - val_loss: 10.7613 - val_mean_absolute_error: 2.5460\n",
            "Epoch 87/200\n",
            " - 0s - loss: 3.6950 - mean_absolute_error: 1.3503 - val_loss: 9.8459 - val_mean_absolute_error: 2.4161\n",
            "Epoch 88/200\n",
            " - 0s - loss: 3.6588 - mean_absolute_error: 1.3003 - val_loss: 9.4639 - val_mean_absolute_error: 2.3110\n",
            "Epoch 89/200\n",
            " - 0s - loss: 3.3739 - mean_absolute_error: 1.2458 - val_loss: 10.7652 - val_mean_absolute_error: 2.4659\n",
            "Epoch 90/200\n",
            " - 0s - loss: 3.4099 - mean_absolute_error: 1.2782 - val_loss: 12.8487 - val_mean_absolute_error: 2.6293\n",
            "Epoch 91/200\n",
            " - 0s - loss: 3.6177 - mean_absolute_error: 1.3252 - val_loss: 8.4122 - val_mean_absolute_error: 2.1845\n",
            "Epoch 92/200\n",
            " - 0s - loss: 3.3536 - mean_absolute_error: 1.2284 - val_loss: 10.7210 - val_mean_absolute_error: 2.4250\n",
            "Epoch 93/200\n",
            " - 0s - loss: 3.3245 - mean_absolute_error: 1.2400 - val_loss: 8.9976 - val_mean_absolute_error: 2.2623\n",
            "Epoch 94/200\n",
            " - 0s - loss: 3.4039 - mean_absolute_error: 1.2659 - val_loss: 8.6565 - val_mean_absolute_error: 2.2154\n",
            "Epoch 95/200\n",
            " - 0s - loss: 3.6421 - mean_absolute_error: 1.2572 - val_loss: 10.7549 - val_mean_absolute_error: 2.6109\n",
            "Epoch 96/200\n",
            " - 0s - loss: 3.2983 - mean_absolute_error: 1.2435 - val_loss: 12.5332 - val_mean_absolute_error: 2.7447\n",
            "Epoch 97/200\n",
            " - 0s - loss: 3.4135 - mean_absolute_error: 1.2600 - val_loss: 10.9258 - val_mean_absolute_error: 2.4998\n",
            "Epoch 98/200\n",
            " - 0s - loss: 3.2034 - mean_absolute_error: 1.2468 - val_loss: 8.6464 - val_mean_absolute_error: 2.2327\n",
            "Epoch 99/200\n",
            " - 0s - loss: 3.2164 - mean_absolute_error: 1.2059 - val_loss: 9.2848 - val_mean_absolute_error: 2.2918\n",
            "Epoch 100/200\n",
            " - 0s - loss: 3.0642 - mean_absolute_error: 1.1855 - val_loss: 11.1619 - val_mean_absolute_error: 2.5350\n",
            "Epoch 101/200\n",
            " - 0s - loss: 3.1291 - mean_absolute_error: 1.2013 - val_loss: 10.9559 - val_mean_absolute_error: 2.4539\n",
            "Epoch 102/200\n",
            " - 0s - loss: 3.2385 - mean_absolute_error: 1.2375 - val_loss: 9.5967 - val_mean_absolute_error: 2.3593\n",
            "Epoch 103/200\n",
            " - 0s - loss: 3.0697 - mean_absolute_error: 1.2183 - val_loss: 10.5710 - val_mean_absolute_error: 2.4814\n",
            "Epoch 104/200\n",
            " - 0s - loss: 3.4088 - mean_absolute_error: 1.2186 - val_loss: 8.5864 - val_mean_absolute_error: 2.2277\n",
            "Epoch 105/200\n",
            " - 0s - loss: 2.9290 - mean_absolute_error: 1.1642 - val_loss: 7.8114 - val_mean_absolute_error: 2.1402\n",
            "Epoch 106/200\n",
            " - 0s - loss: 3.1137 - mean_absolute_error: 1.1975 - val_loss: 10.6587 - val_mean_absolute_error: 2.5314\n",
            "Epoch 107/200\n",
            " - 0s - loss: 2.9310 - mean_absolute_error: 1.2149 - val_loss: 11.1637 - val_mean_absolute_error: 2.6053\n",
            "Epoch 108/200\n",
            " - 0s - loss: 2.7740 - mean_absolute_error: 1.1906 - val_loss: 9.4045 - val_mean_absolute_error: 2.2825\n",
            "Epoch 109/200\n",
            " - 0s - loss: 3.0079 - mean_absolute_error: 1.1809 - val_loss: 9.6589 - val_mean_absolute_error: 2.4100\n",
            "Epoch 110/200\n",
            " - 0s - loss: 2.8802 - mean_absolute_error: 1.1706 - val_loss: 9.6992 - val_mean_absolute_error: 2.3671\n",
            "Epoch 111/200\n",
            " - 0s - loss: 2.9690 - mean_absolute_error: 1.1693 - val_loss: 13.4910 - val_mean_absolute_error: 2.8769\n",
            "Epoch 112/200\n",
            " - 0s - loss: 2.8172 - mean_absolute_error: 1.1352 - val_loss: 8.7419 - val_mean_absolute_error: 2.2499\n",
            "Epoch 113/200\n",
            " - 0s - loss: 2.9249 - mean_absolute_error: 1.1914 - val_loss: 8.5652 - val_mean_absolute_error: 2.3008\n",
            "Epoch 114/200\n",
            " - 0s - loss: 2.7872 - mean_absolute_error: 1.1513 - val_loss: 11.3557 - val_mean_absolute_error: 2.4986\n",
            "Epoch 115/200\n",
            " - 0s - loss: 2.7124 - mean_absolute_error: 1.1108 - val_loss: 10.9200 - val_mean_absolute_error: 2.5579\n",
            "Epoch 116/200\n",
            " - 0s - loss: 2.5777 - mean_absolute_error: 1.1386 - val_loss: 13.2134 - val_mean_absolute_error: 2.6786\n",
            "Epoch 117/200\n",
            " - 0s - loss: 2.7352 - mean_absolute_error: 1.1293 - val_loss: 11.0315 - val_mean_absolute_error: 2.5683\n",
            "Epoch 118/200\n",
            " - 0s - loss: 2.7370 - mean_absolute_error: 1.1502 - val_loss: 11.0152 - val_mean_absolute_error: 2.5107\n",
            "Epoch 119/200\n",
            " - 0s - loss: 2.5713 - mean_absolute_error: 1.1378 - val_loss: 11.8124 - val_mean_absolute_error: 2.6277\n",
            "Epoch 120/200\n",
            " - 0s - loss: 2.7524 - mean_absolute_error: 1.1464 - val_loss: 11.4008 - val_mean_absolute_error: 2.5487\n",
            "Epoch 121/200\n",
            " - 0s - loss: 2.7478 - mean_absolute_error: 1.0913 - val_loss: 9.0231 - val_mean_absolute_error: 2.3018\n",
            "Epoch 122/200\n",
            " - 0s - loss: 2.4665 - mean_absolute_error: 1.1145 - val_loss: 11.9507 - val_mean_absolute_error: 2.6193\n",
            "Epoch 123/200\n",
            " - 0s - loss: 2.6699 - mean_absolute_error: 1.1345 - val_loss: 14.2405 - val_mean_absolute_error: 2.7782\n",
            "Epoch 124/200\n",
            " - 0s - loss: 2.5789 - mean_absolute_error: 1.0835 - val_loss: 12.2763 - val_mean_absolute_error: 2.6017\n",
            "Epoch 125/200\n",
            " - 0s - loss: 2.5036 - mean_absolute_error: 1.1594 - val_loss: 10.7496 - val_mean_absolute_error: 2.4980\n",
            "Epoch 126/200\n",
            " - 0s - loss: 2.5621 - mean_absolute_error: 1.0978 - val_loss: 12.0586 - val_mean_absolute_error: 2.6828\n",
            "Epoch 127/200\n",
            " - 0s - loss: 2.3404 - mean_absolute_error: 1.0805 - val_loss: 10.0429 - val_mean_absolute_error: 2.3861\n",
            "Epoch 128/200\n",
            " - 0s - loss: 2.5909 - mean_absolute_error: 1.1650 - val_loss: 12.4660 - val_mean_absolute_error: 2.7106\n",
            "Epoch 129/200\n",
            " - 0s - loss: 2.5057 - mean_absolute_error: 1.1108 - val_loss: 9.8537 - val_mean_absolute_error: 2.4544\n",
            "Epoch 130/200\n",
            " - 0s - loss: 2.5452 - mean_absolute_error: 1.1008 - val_loss: 11.4184 - val_mean_absolute_error: 2.5570\n",
            "Epoch 131/200\n",
            " - 0s - loss: 2.6004 - mean_absolute_error: 1.0815 - val_loss: 11.2112 - val_mean_absolute_error: 2.5166\n",
            "Epoch 132/200\n",
            " - 0s - loss: 2.1088 - mean_absolute_error: 1.0526 - val_loss: 10.8940 - val_mean_absolute_error: 2.4614\n",
            "Epoch 133/200\n",
            " - 0s - loss: 2.3768 - mean_absolute_error: 1.0551 - val_loss: 11.2771 - val_mean_absolute_error: 2.4887\n",
            "Epoch 134/200\n",
            " - 0s - loss: 2.4547 - mean_absolute_error: 1.1174 - val_loss: 14.3389 - val_mean_absolute_error: 2.7444\n",
            "Epoch 135/200\n",
            " - 0s - loss: 2.3487 - mean_absolute_error: 1.0927 - val_loss: 13.0553 - val_mean_absolute_error: 2.6705\n",
            "Epoch 136/200\n",
            " - 0s - loss: 2.3737 - mean_absolute_error: 1.1077 - val_loss: 11.0927 - val_mean_absolute_error: 2.4921\n",
            "Epoch 137/200\n",
            " - 0s - loss: 2.2421 - mean_absolute_error: 1.0829 - val_loss: 10.9889 - val_mean_absolute_error: 2.4842\n",
            "Epoch 138/200\n",
            " - 0s - loss: 2.2743 - mean_absolute_error: 1.0981 - val_loss: 10.7315 - val_mean_absolute_error: 2.4817\n",
            "Epoch 139/200\n",
            " - 0s - loss: 2.1508 - mean_absolute_error: 1.0055 - val_loss: 11.7053 - val_mean_absolute_error: 2.5872\n",
            "Epoch 140/200\n",
            " - 0s - loss: 2.2926 - mean_absolute_error: 1.0815 - val_loss: 11.7221 - val_mean_absolute_error: 2.5593\n",
            "Epoch 141/200\n",
            " - 0s - loss: 2.1103 - mean_absolute_error: 1.0586 - val_loss: 10.1207 - val_mean_absolute_error: 2.4279\n",
            "Epoch 142/200\n",
            " - 0s - loss: 2.2124 - mean_absolute_error: 1.0560 - val_loss: 12.2202 - val_mean_absolute_error: 2.6579\n",
            "Epoch 143/200\n",
            " - 0s - loss: 2.2369 - mean_absolute_error: 1.0697 - val_loss: 12.9901 - val_mean_absolute_error: 2.6619\n",
            "Epoch 144/200\n",
            " - 0s - loss: 2.2585 - mean_absolute_error: 1.0956 - val_loss: 11.2088 - val_mean_absolute_error: 2.5123\n",
            "Epoch 145/200\n",
            " - 0s - loss: 2.0114 - mean_absolute_error: 1.0205 - val_loss: 13.4688 - val_mean_absolute_error: 2.7523\n",
            "Epoch 146/200\n",
            " - 0s - loss: 2.0967 - mean_absolute_error: 1.0301 - val_loss: 11.2529 - val_mean_absolute_error: 2.5086\n",
            "Epoch 147/200\n",
            " - 0s - loss: 2.0335 - mean_absolute_error: 0.9865 - val_loss: 11.1813 - val_mean_absolute_error: 2.5405\n",
            "Epoch 148/200\n",
            " - 0s - loss: 1.9472 - mean_absolute_error: 1.0093 - val_loss: 12.4726 - val_mean_absolute_error: 2.6305\n",
            "Epoch 149/200\n",
            " - 0s - loss: 2.0189 - mean_absolute_error: 0.9973 - val_loss: 11.1599 - val_mean_absolute_error: 2.5393\n",
            "Epoch 150/200\n",
            " - 0s - loss: 2.0849 - mean_absolute_error: 1.0471 - val_loss: 11.2698 - val_mean_absolute_error: 2.4839\n",
            "Epoch 151/200\n",
            " - 0s - loss: 1.8624 - mean_absolute_error: 0.9674 - val_loss: 12.9685 - val_mean_absolute_error: 2.7562\n",
            "Epoch 152/200\n",
            " - 0s - loss: 1.8348 - mean_absolute_error: 1.0084 - val_loss: 12.7785 - val_mean_absolute_error: 2.7749\n",
            "Epoch 153/200\n",
            " - 0s - loss: 2.0803 - mean_absolute_error: 1.0509 - val_loss: 13.7071 - val_mean_absolute_error: 2.8398\n",
            "Epoch 154/200\n",
            " - 0s - loss: 1.9958 - mean_absolute_error: 1.0257 - val_loss: 13.5448 - val_mean_absolute_error: 2.7559\n",
            "Epoch 155/200\n",
            " - 0s - loss: 1.9160 - mean_absolute_error: 1.0439 - val_loss: 12.2863 - val_mean_absolute_error: 2.7272\n",
            "Epoch 156/200\n",
            " - 0s - loss: 1.8713 - mean_absolute_error: 1.0170 - val_loss: 10.9316 - val_mean_absolute_error: 2.5101\n",
            "Epoch 157/200\n",
            " - 0s - loss: 1.7785 - mean_absolute_error: 0.9695 - val_loss: 13.2279 - val_mean_absolute_error: 2.7389\n",
            "Epoch 158/200\n",
            " - 0s - loss: 1.8499 - mean_absolute_error: 0.9921 - val_loss: 15.3218 - val_mean_absolute_error: 2.9971\n",
            "Epoch 159/200\n",
            " - 0s - loss: 2.0664 - mean_absolute_error: 1.0171 - val_loss: 12.0718 - val_mean_absolute_error: 2.6354\n",
            "Epoch 160/200\n",
            " - 0s - loss: 1.8038 - mean_absolute_error: 0.9642 - val_loss: 15.7254 - val_mean_absolute_error: 3.1858\n",
            "Epoch 161/200\n",
            " - 0s - loss: 1.9860 - mean_absolute_error: 0.9618 - val_loss: 13.4223 - val_mean_absolute_error: 2.7626\n",
            "Epoch 162/200\n",
            " - 0s - loss: 1.9605 - mean_absolute_error: 1.0099 - val_loss: 14.1562 - val_mean_absolute_error: 2.8210\n",
            "Epoch 163/200\n",
            " - 0s - loss: 1.8838 - mean_absolute_error: 1.0301 - val_loss: 13.7975 - val_mean_absolute_error: 2.8082\n",
            "Epoch 164/200\n",
            " - 0s - loss: 1.7109 - mean_absolute_error: 0.9674 - val_loss: 10.6894 - val_mean_absolute_error: 2.4903\n",
            "Epoch 165/200\n",
            " - 0s - loss: 1.6395 - mean_absolute_error: 0.9439 - val_loss: 13.2514 - val_mean_absolute_error: 2.7047\n",
            "Epoch 166/200\n",
            " - 0s - loss: 1.6742 - mean_absolute_error: 0.9730 - val_loss: 13.4637 - val_mean_absolute_error: 2.7752\n",
            "Epoch 167/200\n",
            " - 0s - loss: 1.9058 - mean_absolute_error: 0.9702 - val_loss: 10.8986 - val_mean_absolute_error: 2.4744\n",
            "Epoch 168/200\n",
            " - 0s - loss: 1.8860 - mean_absolute_error: 1.0256 - val_loss: 12.3833 - val_mean_absolute_error: 2.6658\n",
            "Epoch 169/200\n",
            " - 0s - loss: 1.7180 - mean_absolute_error: 0.9650 - val_loss: 16.7809 - val_mean_absolute_error: 3.0273\n",
            "Epoch 170/200\n",
            " - 0s - loss: 1.8035 - mean_absolute_error: 0.9492 - val_loss: 13.9632 - val_mean_absolute_error: 2.8238\n",
            "Epoch 171/200\n",
            " - 0s - loss: 1.4580 - mean_absolute_error: 0.8776 - val_loss: 18.5900 - val_mean_absolute_error: 3.1294\n",
            "Epoch 172/200\n",
            " - 0s - loss: 1.8331 - mean_absolute_error: 1.0108 - val_loss: 13.2005 - val_mean_absolute_error: 2.6419\n",
            "Epoch 173/200\n",
            " - 0s - loss: 1.6976 - mean_absolute_error: 0.9454 - val_loss: 14.6241 - val_mean_absolute_error: 2.7907\n",
            "Epoch 174/200\n",
            " - 0s - loss: 1.8331 - mean_absolute_error: 0.9847 - val_loss: 15.0886 - val_mean_absolute_error: 2.8249\n",
            "Epoch 175/200\n",
            " - 0s - loss: 1.6807 - mean_absolute_error: 0.9446 - val_loss: 14.1499 - val_mean_absolute_error: 2.7869\n",
            "Epoch 176/200\n",
            " - 0s - loss: 1.7310 - mean_absolute_error: 0.9398 - val_loss: 16.6306 - val_mean_absolute_error: 2.9471\n",
            "Epoch 177/200\n",
            " - 0s - loss: 1.6140 - mean_absolute_error: 0.9340 - val_loss: 14.2745 - val_mean_absolute_error: 2.7416\n",
            "Epoch 178/200\n",
            " - 0s - loss: 1.5936 - mean_absolute_error: 0.9488 - val_loss: 12.1180 - val_mean_absolute_error: 2.6642\n",
            "Epoch 179/200\n",
            " - 0s - loss: 1.5726 - mean_absolute_error: 0.9300 - val_loss: 18.8239 - val_mean_absolute_error: 3.4366\n",
            "Epoch 180/200\n",
            " - 0s - loss: 1.7000 - mean_absolute_error: 0.9528 - val_loss: 20.8879 - val_mean_absolute_error: 3.1730\n",
            "Epoch 181/200\n",
            " - 0s - loss: 1.8596 - mean_absolute_error: 0.9411 - val_loss: 14.7710 - val_mean_absolute_error: 2.8541\n",
            "Epoch 182/200\n",
            " - 0s - loss: 1.6357 - mean_absolute_error: 0.9298 - val_loss: 13.4162 - val_mean_absolute_error: 2.7574\n",
            "Epoch 183/200\n",
            " - 0s - loss: 1.4804 - mean_absolute_error: 0.9176 - val_loss: 16.3458 - val_mean_absolute_error: 3.1183\n",
            "Epoch 184/200\n",
            " - 0s - loss: 1.6933 - mean_absolute_error: 0.9499 - val_loss: 12.4559 - val_mean_absolute_error: 2.7349\n",
            "Epoch 185/200\n",
            " - 0s - loss: 1.5581 - mean_absolute_error: 0.9019 - val_loss: 16.7677 - val_mean_absolute_error: 3.0405\n",
            "Epoch 186/200\n",
            " - 0s - loss: 1.5649 - mean_absolute_error: 0.9120 - val_loss: 13.6437 - val_mean_absolute_error: 2.7375\n",
            "Epoch 187/200\n",
            " - 0s - loss: 1.5075 - mean_absolute_error: 0.9028 - val_loss: 13.5681 - val_mean_absolute_error: 2.8755\n",
            "Epoch 188/200\n",
            " - 0s - loss: 1.5511 - mean_absolute_error: 0.8837 - val_loss: 16.5702 - val_mean_absolute_error: 3.0548\n",
            "Epoch 189/200\n",
            " - 0s - loss: 1.4985 - mean_absolute_error: 0.9044 - val_loss: 13.7336 - val_mean_absolute_error: 2.7963\n",
            "Epoch 190/200\n",
            " - 0s - loss: 1.5647 - mean_absolute_error: 0.9008 - val_loss: 12.1376 - val_mean_absolute_error: 2.6806\n",
            "Epoch 191/200\n",
            " - 0s - loss: 1.6553 - mean_absolute_error: 0.9060 - val_loss: 13.5239 - val_mean_absolute_error: 2.6992\n",
            "Epoch 192/200\n",
            " - 0s - loss: 1.5307 - mean_absolute_error: 0.9091 - val_loss: 14.6723 - val_mean_absolute_error: 2.8626\n",
            "Epoch 193/200\n",
            " - 0s - loss: 1.6931 - mean_absolute_error: 0.9136 - val_loss: 13.9626 - val_mean_absolute_error: 2.7872\n",
            "Epoch 194/200\n",
            " - 0s - loss: 1.4507 - mean_absolute_error: 0.8942 - val_loss: 12.3652 - val_mean_absolute_error: 2.6456\n",
            "Epoch 195/200\n",
            " - 0s - loss: 1.5161 - mean_absolute_error: 0.9313 - val_loss: 13.3241 - val_mean_absolute_error: 2.8049\n",
            "Epoch 196/200\n",
            " - 0s - loss: 1.5097 - mean_absolute_error: 0.9090 - val_loss: 16.4102 - val_mean_absolute_error: 2.9998\n",
            "Epoch 197/200\n",
            " - 0s - loss: 1.5710 - mean_absolute_error: 0.9107 - val_loss: 14.5797 - val_mean_absolute_error: 2.8141\n",
            "Epoch 198/200\n",
            " - 0s - loss: 1.4031 - mean_absolute_error: 0.8439 - val_loss: 13.0181 - val_mean_absolute_error: 2.7796\n",
            "Epoch 199/200\n",
            " - 0s - loss: 1.4493 - mean_absolute_error: 0.8932 - val_loss: 18.4945 - val_mean_absolute_error: 3.1755\n",
            "Epoch 200/200\n",
            " - 0s - loss: 1.4724 - mean_absolute_error: 0.8871 - val_loss: 13.7697 - val_mean_absolute_error: 2.7535\n",
            "processing fold # 2\n",
            "Train on 303 samples, validate on 101 samples\n",
            "Epoch 1/200\n",
            " - 1s - loss: 185.7308 - mean_absolute_error: 10.0219 - val_loss: 30.9424 - val_mean_absolute_error: 3.6063\n",
            "Epoch 2/200\n",
            " - 0s - loss: 27.0134 - mean_absolute_error: 3.4481 - val_loss: 21.5790 - val_mean_absolute_error: 2.8839\n",
            "Epoch 3/200\n",
            " - 0s - loss: 18.9306 - mean_absolute_error: 2.9344 - val_loss: 18.4471 - val_mean_absolute_error: 2.6085\n",
            "Epoch 4/200\n",
            " - 0s - loss: 15.7466 - mean_absolute_error: 2.6016 - val_loss: 16.7405 - val_mean_absolute_error: 2.5469\n",
            "Epoch 5/200\n",
            " - 0s - loss: 13.8203 - mean_absolute_error: 2.4967 - val_loss: 16.9772 - val_mean_absolute_error: 2.6360\n",
            "Epoch 6/200\n",
            " - 0s - loss: 11.7654 - mean_absolute_error: 2.3307 - val_loss: 19.2835 - val_mean_absolute_error: 2.6284\n",
            "Epoch 7/200\n",
            " - 0s - loss: 11.5269 - mean_absolute_error: 2.2632 - val_loss: 16.7589 - val_mean_absolute_error: 2.7194\n",
            "Epoch 8/200\n",
            " - 0s - loss: 10.3285 - mean_absolute_error: 2.2143 - val_loss: 16.3012 - val_mean_absolute_error: 2.7582\n",
            "Epoch 9/200\n",
            " - 0s - loss: 10.1168 - mean_absolute_error: 2.2717 - val_loss: 16.5968 - val_mean_absolute_error: 2.7646\n",
            "Epoch 10/200\n",
            " - 0s - loss: 9.2550 - mean_absolute_error: 2.1158 - val_loss: 16.1260 - val_mean_absolute_error: 2.7718\n",
            "Epoch 11/200\n",
            " - 0s - loss: 9.1546 - mean_absolute_error: 2.1226 - val_loss: 16.5813 - val_mean_absolute_error: 2.5577\n",
            "Epoch 12/200\n",
            " - 0s - loss: 8.5143 - mean_absolute_error: 2.0657 - val_loss: 15.6998 - val_mean_absolute_error: 2.7524\n",
            "Epoch 13/200\n",
            " - 0s - loss: 8.5039 - mean_absolute_error: 2.0872 - val_loss: 16.3676 - val_mean_absolute_error: 2.6626\n",
            "Epoch 14/200\n",
            " - 0s - loss: 8.4760 - mean_absolute_error: 2.0157 - val_loss: 15.6258 - val_mean_absolute_error: 2.5627\n",
            "Epoch 15/200\n",
            " - 0s - loss: 8.2975 - mean_absolute_error: 1.9790 - val_loss: 15.4910 - val_mean_absolute_error: 2.5796\n",
            "Epoch 16/200\n",
            " - 0s - loss: 7.6726 - mean_absolute_error: 1.9562 - val_loss: 17.3989 - val_mean_absolute_error: 2.6830\n",
            "Epoch 17/200\n",
            " - 0s - loss: 7.7481 - mean_absolute_error: 1.8983 - val_loss: 14.5501 - val_mean_absolute_error: 2.5272\n",
            "Epoch 18/200\n",
            " - 0s - loss: 7.6556 - mean_absolute_error: 1.9160 - val_loss: 15.2074 - val_mean_absolute_error: 2.7041\n",
            "Epoch 19/200\n",
            " - 0s - loss: 7.6475 - mean_absolute_error: 1.8987 - val_loss: 15.5780 - val_mean_absolute_error: 2.6141\n",
            "Epoch 20/200\n",
            " - 0s - loss: 7.2959 - mean_absolute_error: 1.9322 - val_loss: 15.2740 - val_mean_absolute_error: 2.5171\n",
            "Epoch 21/200\n",
            " - 0s - loss: 7.6466 - mean_absolute_error: 1.9169 - val_loss: 15.0326 - val_mean_absolute_error: 2.6341\n",
            "Epoch 22/200\n",
            " - 0s - loss: 7.2906 - mean_absolute_error: 1.8484 - val_loss: 14.0377 - val_mean_absolute_error: 2.5071\n",
            "Epoch 23/200\n",
            " - 0s - loss: 6.8665 - mean_absolute_error: 1.7904 - val_loss: 14.9898 - val_mean_absolute_error: 2.5759\n",
            "Epoch 24/200\n",
            " - 0s - loss: 6.5568 - mean_absolute_error: 1.7956 - val_loss: 17.2155 - val_mean_absolute_error: 2.9533\n",
            "Epoch 25/200\n",
            " - 0s - loss: 6.7260 - mean_absolute_error: 1.8482 - val_loss: 15.4525 - val_mean_absolute_error: 2.7862\n",
            "Epoch 26/200\n",
            " - 0s - loss: 6.6264 - mean_absolute_error: 1.7779 - val_loss: 15.9536 - val_mean_absolute_error: 2.6622\n",
            "Epoch 27/200\n",
            " - 0s - loss: 6.6362 - mean_absolute_error: 1.8154 - val_loss: 15.5685 - val_mean_absolute_error: 2.6353\n",
            "Epoch 28/200\n",
            " - 0s - loss: 6.6578 - mean_absolute_error: 1.7632 - val_loss: 16.3449 - val_mean_absolute_error: 2.8645\n",
            "Epoch 29/200\n",
            " - 0s - loss: 6.7174 - mean_absolute_error: 1.7803 - val_loss: 15.0839 - val_mean_absolute_error: 2.6348\n",
            "Epoch 30/200\n",
            " - 0s - loss: 6.3987 - mean_absolute_error: 1.7601 - val_loss: 14.4014 - val_mean_absolute_error: 2.4082\n",
            "Epoch 31/200\n",
            " - 0s - loss: 6.4770 - mean_absolute_error: 1.7946 - val_loss: 14.7488 - val_mean_absolute_error: 2.5674\n",
            "Epoch 32/200\n",
            " - 0s - loss: 6.0983 - mean_absolute_error: 1.7355 - val_loss: 15.8616 - val_mean_absolute_error: 2.4989\n",
            "Epoch 33/200\n",
            " - 0s - loss: 6.5098 - mean_absolute_error: 1.7364 - val_loss: 15.5769 - val_mean_absolute_error: 2.5554\n",
            "Epoch 34/200\n",
            " - 0s - loss: 6.2361 - mean_absolute_error: 1.6986 - val_loss: 14.9122 - val_mean_absolute_error: 2.4580\n",
            "Epoch 35/200\n",
            " - 0s - loss: 6.2916 - mean_absolute_error: 1.7829 - val_loss: 15.3137 - val_mean_absolute_error: 2.6495\n",
            "Epoch 36/200\n",
            " - 0s - loss: 6.1698 - mean_absolute_error: 1.7365 - val_loss: 15.0344 - val_mean_absolute_error: 2.5141\n",
            "Epoch 37/200\n",
            " - 0s - loss: 5.9995 - mean_absolute_error: 1.6688 - val_loss: 15.4538 - val_mean_absolute_error: 2.7282\n",
            "Epoch 38/200\n",
            " - 0s - loss: 6.1036 - mean_absolute_error: 1.7013 - val_loss: 13.9289 - val_mean_absolute_error: 2.4568\n",
            "Epoch 39/200\n",
            " - 0s - loss: 5.6556 - mean_absolute_error: 1.6283 - val_loss: 14.7556 - val_mean_absolute_error: 2.5322\n",
            "Epoch 40/200\n",
            " - 0s - loss: 5.6343 - mean_absolute_error: 1.6854 - val_loss: 16.3923 - val_mean_absolute_error: 2.8159\n",
            "Epoch 41/200\n",
            " - 0s - loss: 5.4884 - mean_absolute_error: 1.6292 - val_loss: 17.3031 - val_mean_absolute_error: 2.6498\n",
            "Epoch 42/200\n",
            " - 0s - loss: 5.5204 - mean_absolute_error: 1.6566 - val_loss: 16.2726 - val_mean_absolute_error: 2.6531\n",
            "Epoch 43/200\n",
            " - 0s - loss: 5.7342 - mean_absolute_error: 1.6551 - val_loss: 16.0339 - val_mean_absolute_error: 2.6199\n",
            "Epoch 44/200\n",
            " - 0s - loss: 5.5753 - mean_absolute_error: 1.6714 - val_loss: 15.7157 - val_mean_absolute_error: 2.6496\n",
            "Epoch 45/200\n",
            " - 0s - loss: 5.5631 - mean_absolute_error: 1.6114 - val_loss: 17.4260 - val_mean_absolute_error: 2.9258\n",
            "Epoch 46/200\n",
            " - 0s - loss: 5.1607 - mean_absolute_error: 1.6063 - val_loss: 14.7943 - val_mean_absolute_error: 2.5322\n",
            "Epoch 47/200\n",
            " - 0s - loss: 5.1718 - mean_absolute_error: 1.5692 - val_loss: 16.4226 - val_mean_absolute_error: 2.7965\n",
            "Epoch 48/200\n",
            " - 0s - loss: 5.1112 - mean_absolute_error: 1.6342 - val_loss: 15.5043 - val_mean_absolute_error: 2.5242\n",
            "Epoch 49/200\n",
            " - 0s - loss: 5.4125 - mean_absolute_error: 1.5780 - val_loss: 14.6548 - val_mean_absolute_error: 2.5839\n",
            "Epoch 50/200\n",
            " - 0s - loss: 5.1378 - mean_absolute_error: 1.5989 - val_loss: 14.8581 - val_mean_absolute_error: 2.6142\n",
            "Epoch 51/200\n",
            " - 0s - loss: 5.1528 - mean_absolute_error: 1.6221 - val_loss: 13.6536 - val_mean_absolute_error: 2.4843\n",
            "Epoch 52/200\n",
            " - 0s - loss: 5.1266 - mean_absolute_error: 1.6046 - val_loss: 17.1468 - val_mean_absolute_error: 2.9835\n",
            "Epoch 53/200\n",
            " - 0s - loss: 5.1541 - mean_absolute_error: 1.5628 - val_loss: 14.9541 - val_mean_absolute_error: 2.6233\n",
            "Epoch 54/200\n",
            " - 0s - loss: 4.8080 - mean_absolute_error: 1.5674 - val_loss: 15.7692 - val_mean_absolute_error: 2.8201\n",
            "Epoch 55/200\n",
            " - 0s - loss: 4.8311 - mean_absolute_error: 1.5766 - val_loss: 14.3003 - val_mean_absolute_error: 2.5307\n",
            "Epoch 56/200\n",
            " - 0s - loss: 4.8676 - mean_absolute_error: 1.5269 - val_loss: 14.6722 - val_mean_absolute_error: 2.5473\n",
            "Epoch 57/200\n",
            " - 0s - loss: 4.8973 - mean_absolute_error: 1.5735 - val_loss: 15.4315 - val_mean_absolute_error: 2.5629\n",
            "Epoch 58/200\n",
            " - 0s - loss: 4.5664 - mean_absolute_error: 1.5467 - val_loss: 17.2395 - val_mean_absolute_error: 2.7037\n",
            "Epoch 59/200\n",
            " - 0s - loss: 4.5047 - mean_absolute_error: 1.5227 - val_loss: 14.6805 - val_mean_absolute_error: 2.6215\n",
            "Epoch 60/200\n",
            " - 0s - loss: 4.7328 - mean_absolute_error: 1.5323 - val_loss: 14.7984 - val_mean_absolute_error: 2.5374\n",
            "Epoch 61/200\n",
            " - 0s - loss: 4.6159 - mean_absolute_error: 1.4656 - val_loss: 16.7090 - val_mean_absolute_error: 2.7086\n",
            "Epoch 62/200\n",
            " - 0s - loss: 4.3742 - mean_absolute_error: 1.4891 - val_loss: 14.8865 - val_mean_absolute_error: 2.5805\n",
            "Epoch 63/200\n",
            " - 0s - loss: 4.4704 - mean_absolute_error: 1.4892 - val_loss: 15.0970 - val_mean_absolute_error: 2.6281\n",
            "Epoch 64/200\n",
            " - 0s - loss: 4.4604 - mean_absolute_error: 1.4817 - val_loss: 15.2127 - val_mean_absolute_error: 2.6378\n",
            "Epoch 65/200\n",
            " - 0s - loss: 4.4156 - mean_absolute_error: 1.4886 - val_loss: 15.7513 - val_mean_absolute_error: 2.6417\n",
            "Epoch 66/200\n",
            " - 0s - loss: 4.4302 - mean_absolute_error: 1.4820 - val_loss: 15.3174 - val_mean_absolute_error: 2.6237\n",
            "Epoch 67/200\n",
            " - 0s - loss: 4.1185 - mean_absolute_error: 1.4219 - val_loss: 15.4486 - val_mean_absolute_error: 2.7466\n",
            "Epoch 68/200\n",
            " - 0s - loss: 4.2716 - mean_absolute_error: 1.4537 - val_loss: 14.6489 - val_mean_absolute_error: 2.5073\n",
            "Epoch 69/200\n",
            " - 0s - loss: 4.1537 - mean_absolute_error: 1.4741 - val_loss: 16.3876 - val_mean_absolute_error: 2.6027\n",
            "Epoch 70/200\n",
            " - 0s - loss: 4.1537 - mean_absolute_error: 1.4826 - val_loss: 16.5534 - val_mean_absolute_error: 2.7203\n",
            "Epoch 71/200\n",
            " - 0s - loss: 4.1751 - mean_absolute_error: 1.4443 - val_loss: 14.6096 - val_mean_absolute_error: 2.5216\n",
            "Epoch 72/200\n",
            " - 0s - loss: 3.8209 - mean_absolute_error: 1.4464 - val_loss: 16.5109 - val_mean_absolute_error: 2.7569\n",
            "Epoch 73/200\n",
            " - 0s - loss: 3.8861 - mean_absolute_error: 1.4090 - val_loss: 16.0036 - val_mean_absolute_error: 2.6154\n",
            "Epoch 74/200\n",
            " - 0s - loss: 4.0983 - mean_absolute_error: 1.4179 - val_loss: 16.5732 - val_mean_absolute_error: 2.7630\n",
            "Epoch 75/200\n",
            " - 0s - loss: 3.8719 - mean_absolute_error: 1.3961 - val_loss: 17.1562 - val_mean_absolute_error: 2.8386\n",
            "Epoch 76/200\n",
            " - 0s - loss: 3.9890 - mean_absolute_error: 1.3401 - val_loss: 16.3627 - val_mean_absolute_error: 2.5941\n",
            "Epoch 77/200\n",
            " - 0s - loss: 3.9489 - mean_absolute_error: 1.4296 - val_loss: 16.5175 - val_mean_absolute_error: 2.6960\n",
            "Epoch 78/200\n",
            " - 0s - loss: 4.0495 - mean_absolute_error: 1.4064 - val_loss: 15.4029 - val_mean_absolute_error: 2.6728\n",
            "Epoch 79/200\n",
            " - 0s - loss: 4.0106 - mean_absolute_error: 1.4021 - val_loss: 16.9246 - val_mean_absolute_error: 2.6422\n",
            "Epoch 80/200\n",
            " - 0s - loss: 3.9038 - mean_absolute_error: 1.3998 - val_loss: 14.5920 - val_mean_absolute_error: 2.6241\n",
            "Epoch 81/200\n",
            " - 0s - loss: 3.7474 - mean_absolute_error: 1.3726 - val_loss: 15.4511 - val_mean_absolute_error: 2.6394\n",
            "Epoch 82/200\n",
            " - 0s - loss: 3.9137 - mean_absolute_error: 1.4029 - val_loss: 16.0132 - val_mean_absolute_error: 2.8099\n",
            "Epoch 83/200\n",
            " - 0s - loss: 3.7483 - mean_absolute_error: 1.3679 - val_loss: 15.2190 - val_mean_absolute_error: 2.7161\n",
            "Epoch 84/200\n",
            " - 0s - loss: 3.4381 - mean_absolute_error: 1.3320 - val_loss: 17.1257 - val_mean_absolute_error: 2.8468\n",
            "Epoch 85/200\n",
            " - 0s - loss: 3.5495 - mean_absolute_error: 1.3343 - val_loss: 15.9943 - val_mean_absolute_error: 2.5874\n",
            "Epoch 86/200\n",
            " - 0s - loss: 3.2801 - mean_absolute_error: 1.3058 - val_loss: 18.3752 - val_mean_absolute_error: 3.0721\n",
            "Epoch 87/200\n",
            " - 0s - loss: 3.8892 - mean_absolute_error: 1.3910 - val_loss: 16.0611 - val_mean_absolute_error: 2.7030\n",
            "Epoch 88/200\n",
            " - 0s - loss: 3.5971 - mean_absolute_error: 1.3398 - val_loss: 16.8506 - val_mean_absolute_error: 2.8456\n",
            "Epoch 89/200\n",
            " - 0s - loss: 3.5964 - mean_absolute_error: 1.3480 - val_loss: 16.2276 - val_mean_absolute_error: 2.6418\n",
            "Epoch 90/200\n",
            " - 0s - loss: 3.3825 - mean_absolute_error: 1.3678 - val_loss: 15.1706 - val_mean_absolute_error: 2.6025\n",
            "Epoch 91/200\n",
            " - 0s - loss: 3.2912 - mean_absolute_error: 1.3342 - val_loss: 17.8069 - val_mean_absolute_error: 2.8073\n",
            "Epoch 92/200\n",
            " - 0s - loss: 3.3593 - mean_absolute_error: 1.3287 - val_loss: 14.8144 - val_mean_absolute_error: 2.5767\n",
            "Epoch 93/200\n",
            " - 0s - loss: 3.2882 - mean_absolute_error: 1.2991 - val_loss: 17.1659 - val_mean_absolute_error: 2.7199\n",
            "Epoch 94/200\n",
            " - 0s - loss: 3.2804 - mean_absolute_error: 1.3168 - val_loss: 14.6810 - val_mean_absolute_error: 2.6168\n",
            "Epoch 95/200\n",
            " - 0s - loss: 3.2066 - mean_absolute_error: 1.2717 - val_loss: 15.6270 - val_mean_absolute_error: 2.7121\n",
            "Epoch 96/200\n",
            " - 0s - loss: 3.4496 - mean_absolute_error: 1.3096 - val_loss: 16.2297 - val_mean_absolute_error: 2.6304\n",
            "Epoch 97/200\n",
            " - 0s - loss: 3.1309 - mean_absolute_error: 1.2441 - val_loss: 17.1657 - val_mean_absolute_error: 2.8262\n",
            "Epoch 98/200\n",
            " - 0s - loss: 3.2733 - mean_absolute_error: 1.2670 - val_loss: 15.8890 - val_mean_absolute_error: 2.6568\n",
            "Epoch 99/200\n",
            " - 0s - loss: 3.1376 - mean_absolute_error: 1.2919 - val_loss: 16.7282 - val_mean_absolute_error: 2.8308\n",
            "Epoch 100/200\n",
            " - 0s - loss: 3.3778 - mean_absolute_error: 1.3109 - val_loss: 15.7728 - val_mean_absolute_error: 2.7127\n",
            "Epoch 101/200\n",
            " - 0s - loss: 3.0830 - mean_absolute_error: 1.2654 - val_loss: 14.5302 - val_mean_absolute_error: 2.5397\n",
            "Epoch 102/200\n",
            " - 0s - loss: 3.1390 - mean_absolute_error: 1.2818 - val_loss: 16.3812 - val_mean_absolute_error: 2.6835\n",
            "Epoch 103/200\n",
            " - 0s - loss: 3.1017 - mean_absolute_error: 1.2731 - val_loss: 16.4367 - val_mean_absolute_error: 2.6574\n",
            "Epoch 104/200\n",
            " - 0s - loss: 2.8862 - mean_absolute_error: 1.2564 - val_loss: 16.1115 - val_mean_absolute_error: 2.7854\n",
            "Epoch 105/200\n",
            " - 0s - loss: 3.1814 - mean_absolute_error: 1.2467 - val_loss: 17.1244 - val_mean_absolute_error: 2.6852\n",
            "Epoch 106/200\n",
            " - 0s - loss: 3.3179 - mean_absolute_error: 1.2727 - val_loss: 16.0525 - val_mean_absolute_error: 2.6438\n",
            "Epoch 107/200\n",
            " - 0s - loss: 2.9960 - mean_absolute_error: 1.2300 - val_loss: 17.3817 - val_mean_absolute_error: 2.8153\n",
            "Epoch 108/200\n",
            " - 0s - loss: 3.0206 - mean_absolute_error: 1.2558 - val_loss: 17.0601 - val_mean_absolute_error: 2.8599\n",
            "Epoch 109/200\n",
            " - 0s - loss: 2.8159 - mean_absolute_error: 1.1784 - val_loss: 16.4736 - val_mean_absolute_error: 2.6619\n",
            "Epoch 110/200\n",
            " - 0s - loss: 2.9373 - mean_absolute_error: 1.2300 - val_loss: 15.5487 - val_mean_absolute_error: 2.6895\n",
            "Epoch 111/200\n",
            " - 0s - loss: 3.1726 - mean_absolute_error: 1.2660 - val_loss: 15.2455 - val_mean_absolute_error: 2.6416\n",
            "Epoch 112/200\n",
            " - 0s - loss: 2.9103 - mean_absolute_error: 1.3050 - val_loss: 14.9609 - val_mean_absolute_error: 2.6637\n",
            "Epoch 113/200\n",
            " - 0s - loss: 3.0366 - mean_absolute_error: 1.2466 - val_loss: 15.3534 - val_mean_absolute_error: 2.7134\n",
            "Epoch 114/200\n",
            " - 0s - loss: 2.8538 - mean_absolute_error: 1.2423 - val_loss: 16.8050 - val_mean_absolute_error: 2.8074\n",
            "Epoch 115/200\n",
            " - 0s - loss: 2.8564 - mean_absolute_error: 1.1901 - val_loss: 16.5316 - val_mean_absolute_error: 2.8032\n",
            "Epoch 116/200\n",
            " - 0s - loss: 2.7464 - mean_absolute_error: 1.2172 - val_loss: 15.1735 - val_mean_absolute_error: 2.6935\n",
            "Epoch 117/200\n",
            " - 0s - loss: 2.8673 - mean_absolute_error: 1.2218 - val_loss: 16.9703 - val_mean_absolute_error: 2.7771\n",
            "Epoch 118/200\n",
            " - 0s - loss: 2.6847 - mean_absolute_error: 1.2049 - val_loss: 17.5771 - val_mean_absolute_error: 3.0080\n",
            "Epoch 119/200\n",
            " - 0s - loss: 3.0104 - mean_absolute_error: 1.2568 - val_loss: 17.2812 - val_mean_absolute_error: 2.9302\n",
            "Epoch 120/200\n",
            " - 0s - loss: 2.5832 - mean_absolute_error: 1.1925 - val_loss: 15.0254 - val_mean_absolute_error: 2.6074\n",
            "Epoch 121/200\n",
            " - 0s - loss: 2.8525 - mean_absolute_error: 1.2262 - val_loss: 15.4982 - val_mean_absolute_error: 2.7123\n",
            "Epoch 122/200\n",
            " - 0s - loss: 2.7056 - mean_absolute_error: 1.1966 - val_loss: 16.3078 - val_mean_absolute_error: 2.8671\n",
            "Epoch 123/200\n",
            " - 0s - loss: 2.4859 - mean_absolute_error: 1.1582 - val_loss: 15.7043 - val_mean_absolute_error: 2.6218\n",
            "Epoch 124/200\n",
            " - 0s - loss: 2.6754 - mean_absolute_error: 1.1926 - val_loss: 15.4391 - val_mean_absolute_error: 2.5829\n",
            "Epoch 125/200\n",
            " - 0s - loss: 2.3701 - mean_absolute_error: 1.1374 - val_loss: 16.7619 - val_mean_absolute_error: 2.8611\n",
            "Epoch 126/200\n",
            " - 0s - loss: 2.8054 - mean_absolute_error: 1.1865 - val_loss: 17.1049 - val_mean_absolute_error: 2.8267\n",
            "Epoch 127/200\n",
            " - 0s - loss: 2.6013 - mean_absolute_error: 1.1597 - val_loss: 16.1169 - val_mean_absolute_error: 2.6887\n",
            "Epoch 128/200\n",
            " - 0s - loss: 2.3979 - mean_absolute_error: 1.1624 - val_loss: 15.8691 - val_mean_absolute_error: 2.7560\n",
            "Epoch 129/200\n",
            " - 0s - loss: 2.5293 - mean_absolute_error: 1.1511 - val_loss: 16.7778 - val_mean_absolute_error: 2.7887\n",
            "Epoch 130/200\n",
            " - 0s - loss: 2.4816 - mean_absolute_error: 1.1656 - val_loss: 15.3434 - val_mean_absolute_error: 2.6725\n",
            "Epoch 131/200\n",
            " - 0s - loss: 2.4476 - mean_absolute_error: 1.1693 - val_loss: 18.3413 - val_mean_absolute_error: 2.9864\n",
            "Epoch 132/200\n",
            " - 0s - loss: 2.4763 - mean_absolute_error: 1.1348 - val_loss: 15.3304 - val_mean_absolute_error: 2.7072\n",
            "Epoch 133/200\n",
            " - 0s - loss: 2.3793 - mean_absolute_error: 1.1335 - val_loss: 16.8631 - val_mean_absolute_error: 2.8655\n",
            "Epoch 134/200\n",
            " - 0s - loss: 2.5742 - mean_absolute_error: 1.1585 - val_loss: 16.2731 - val_mean_absolute_error: 2.7305\n",
            "Epoch 135/200\n",
            " - 0s - loss: 2.2713 - mean_absolute_error: 1.1181 - val_loss: 18.2541 - val_mean_absolute_error: 2.8404\n",
            "Epoch 136/200\n",
            " - 0s - loss: 2.5037 - mean_absolute_error: 1.1369 - val_loss: 15.0261 - val_mean_absolute_error: 2.6769\n",
            "Epoch 137/200\n",
            " - 0s - loss: 2.3635 - mean_absolute_error: 1.0769 - val_loss: 17.0869 - val_mean_absolute_error: 2.8394\n",
            "Epoch 138/200\n",
            " - 0s - loss: 2.3479 - mean_absolute_error: 1.1314 - val_loss: 15.9063 - val_mean_absolute_error: 2.7407\n",
            "Epoch 139/200\n",
            " - 0s - loss: 2.4599 - mean_absolute_error: 1.1553 - val_loss: 17.8485 - val_mean_absolute_error: 2.9823\n",
            "Epoch 140/200\n",
            " - 0s - loss: 2.2247 - mean_absolute_error: 1.0762 - val_loss: 16.5500 - val_mean_absolute_error: 2.7851\n",
            "Epoch 141/200\n",
            " - 0s - loss: 2.4691 - mean_absolute_error: 1.1313 - val_loss: 18.3370 - val_mean_absolute_error: 2.9120\n",
            "Epoch 142/200\n",
            " - 0s - loss: 2.3125 - mean_absolute_error: 1.1400 - val_loss: 15.3310 - val_mean_absolute_error: 2.6800\n",
            "Epoch 143/200\n",
            " - 0s - loss: 2.2913 - mean_absolute_error: 1.0949 - val_loss: 15.9790 - val_mean_absolute_error: 2.6820\n",
            "Epoch 144/200\n",
            " - 0s - loss: 2.2147 - mean_absolute_error: 1.1475 - val_loss: 16.2519 - val_mean_absolute_error: 2.7737\n",
            "Epoch 145/200\n",
            " - 0s - loss: 2.2366 - mean_absolute_error: 1.1394 - val_loss: 16.5016 - val_mean_absolute_error: 2.7717\n",
            "Epoch 146/200\n",
            " - 0s - loss: 2.1994 - mean_absolute_error: 1.0861 - val_loss: 16.7899 - val_mean_absolute_error: 2.9277\n",
            "Epoch 147/200\n",
            " - 0s - loss: 2.2298 - mean_absolute_error: 1.0986 - val_loss: 16.4005 - val_mean_absolute_error: 2.7665\n",
            "Epoch 148/200\n",
            " - 0s - loss: 2.0568 - mean_absolute_error: 1.0955 - val_loss: 18.0733 - val_mean_absolute_error: 2.8359\n",
            "Epoch 149/200\n",
            " - 0s - loss: 2.1176 - mean_absolute_error: 1.1021 - val_loss: 15.7828 - val_mean_absolute_error: 2.7420\n",
            "Epoch 150/200\n",
            " - 0s - loss: 2.2462 - mean_absolute_error: 1.0859 - val_loss: 16.4201 - val_mean_absolute_error: 2.8574\n",
            "Epoch 151/200\n",
            " - 0s - loss: 2.0937 - mean_absolute_error: 1.0744 - val_loss: 16.0869 - val_mean_absolute_error: 2.7114\n",
            "Epoch 152/200\n",
            " - 0s - loss: 2.2005 - mean_absolute_error: 1.1109 - val_loss: 15.7463 - val_mean_absolute_error: 2.7066\n",
            "Epoch 153/200\n",
            " - 0s - loss: 2.1163 - mean_absolute_error: 1.0801 - val_loss: 16.8040 - val_mean_absolute_error: 2.8510\n",
            "Epoch 154/200\n",
            " - 0s - loss: 2.3107 - mean_absolute_error: 1.0977 - val_loss: 15.8673 - val_mean_absolute_error: 2.7029\n",
            "Epoch 155/200\n",
            " - 0s - loss: 2.1945 - mean_absolute_error: 1.0867 - val_loss: 15.2250 - val_mean_absolute_error: 2.6170\n",
            "Epoch 156/200\n",
            " - 0s - loss: 2.0288 - mean_absolute_error: 1.0613 - val_loss: 16.7369 - val_mean_absolute_error: 2.6252\n",
            "Epoch 157/200\n",
            " - 0s - loss: 2.1145 - mean_absolute_error: 1.0328 - val_loss: 15.9848 - val_mean_absolute_error: 2.6693\n",
            "Epoch 158/200\n",
            " - 0s - loss: 2.2231 - mean_absolute_error: 1.0774 - val_loss: 16.5925 - val_mean_absolute_error: 2.7825\n",
            "Epoch 159/200\n",
            " - 0s - loss: 1.9872 - mean_absolute_error: 0.9862 - val_loss: 16.4371 - val_mean_absolute_error: 2.8434\n",
            "Epoch 160/200\n",
            " - 0s - loss: 1.8785 - mean_absolute_error: 1.0111 - val_loss: 17.3821 - val_mean_absolute_error: 2.8247\n",
            "Epoch 161/200\n",
            " - 0s - loss: 1.8620 - mean_absolute_error: 0.9974 - val_loss: 16.9300 - val_mean_absolute_error: 2.9040\n",
            "Epoch 162/200\n",
            " - 0s - loss: 1.9780 - mean_absolute_error: 0.9774 - val_loss: 17.7700 - val_mean_absolute_error: 2.9128\n",
            "Epoch 163/200\n",
            " - 0s - loss: 1.9807 - mean_absolute_error: 1.0165 - val_loss: 16.6704 - val_mean_absolute_error: 2.7017\n",
            "Epoch 164/200\n",
            " - 0s - loss: 1.8174 - mean_absolute_error: 1.0482 - val_loss: 16.7097 - val_mean_absolute_error: 2.7011\n",
            "Epoch 165/200\n",
            " - 0s - loss: 1.8814 - mean_absolute_error: 1.0034 - val_loss: 15.2424 - val_mean_absolute_error: 2.6544\n",
            "Epoch 166/200\n",
            " - 0s - loss: 1.9786 - mean_absolute_error: 1.0404 - val_loss: 16.9845 - val_mean_absolute_error: 2.8800\n",
            "Epoch 167/200\n",
            " - 0s - loss: 1.9392 - mean_absolute_error: 1.0035 - val_loss: 17.6561 - val_mean_absolute_error: 2.9750\n",
            "Epoch 168/200\n",
            " - 0s - loss: 2.0638 - mean_absolute_error: 1.0725 - val_loss: 15.9825 - val_mean_absolute_error: 2.8041\n",
            "Epoch 169/200\n",
            " - 0s - loss: 1.8732 - mean_absolute_error: 1.0140 - val_loss: 15.8314 - val_mean_absolute_error: 2.7503\n",
            "Epoch 170/200\n",
            " - 0s - loss: 1.8850 - mean_absolute_error: 0.9773 - val_loss: 15.7911 - val_mean_absolute_error: 2.7680\n",
            "Epoch 171/200\n",
            " - 0s - loss: 1.9373 - mean_absolute_error: 1.0115 - val_loss: 16.7363 - val_mean_absolute_error: 2.8172\n",
            "Epoch 172/200\n",
            " - 0s - loss: 1.8996 - mean_absolute_error: 0.9884 - val_loss: 17.6308 - val_mean_absolute_error: 2.8445\n",
            "Epoch 173/200\n",
            " - 0s - loss: 1.9366 - mean_absolute_error: 1.0249 - val_loss: 16.4624 - val_mean_absolute_error: 2.7682\n",
            "Epoch 174/200\n",
            " - 0s - loss: 2.0929 - mean_absolute_error: 1.0763 - val_loss: 15.9943 - val_mean_absolute_error: 2.7937\n",
            "Epoch 175/200\n",
            " - 0s - loss: 1.7610 - mean_absolute_error: 0.9713 - val_loss: 17.0718 - val_mean_absolute_error: 2.6697\n",
            "Epoch 176/200\n",
            " - 0s - loss: 1.7269 - mean_absolute_error: 0.9652 - val_loss: 16.7913 - val_mean_absolute_error: 2.8042\n",
            "Epoch 177/200\n",
            " - 0s - loss: 2.0024 - mean_absolute_error: 1.0305 - val_loss: 17.6861 - val_mean_absolute_error: 2.9071\n",
            "Epoch 178/200\n",
            " - 0s - loss: 1.8623 - mean_absolute_error: 0.9935 - val_loss: 16.5360 - val_mean_absolute_error: 2.7458\n",
            "Epoch 179/200\n",
            " - 0s - loss: 2.0292 - mean_absolute_error: 1.0450 - val_loss: 15.5022 - val_mean_absolute_error: 2.5902\n",
            "Epoch 180/200\n",
            " - 0s - loss: 1.8514 - mean_absolute_error: 0.9892 - val_loss: 15.9418 - val_mean_absolute_error: 2.6295\n",
            "Epoch 181/200\n",
            " - 0s - loss: 1.7413 - mean_absolute_error: 0.9636 - val_loss: 17.4336 - val_mean_absolute_error: 2.9543\n",
            "Epoch 182/200\n",
            " - 0s - loss: 1.7381 - mean_absolute_error: 0.9842 - val_loss: 17.1154 - val_mean_absolute_error: 2.7715\n",
            "Epoch 183/200\n",
            " - 0s - loss: 1.8639 - mean_absolute_error: 0.9797 - val_loss: 16.5494 - val_mean_absolute_error: 2.8061\n",
            "Epoch 184/200\n",
            " - 0s - loss: 1.7936 - mean_absolute_error: 0.9748 - val_loss: 18.5680 - val_mean_absolute_error: 3.0146\n",
            "Epoch 185/200\n",
            " - 0s - loss: 1.7207 - mean_absolute_error: 0.9453 - val_loss: 16.3229 - val_mean_absolute_error: 2.7624\n",
            "Epoch 186/200\n",
            " - 0s - loss: 1.9346 - mean_absolute_error: 1.0192 - val_loss: 14.7677 - val_mean_absolute_error: 2.6201\n",
            "Epoch 187/200\n",
            " - 0s - loss: 1.6964 - mean_absolute_error: 0.9567 - val_loss: 16.7951 - val_mean_absolute_error: 2.7874\n",
            "Epoch 188/200\n",
            " - 0s - loss: 1.8354 - mean_absolute_error: 0.9910 - val_loss: 14.6304 - val_mean_absolute_error: 2.6371\n",
            "Epoch 189/200\n",
            " - 0s - loss: 1.5869 - mean_absolute_error: 0.9156 - val_loss: 15.7119 - val_mean_absolute_error: 2.8157\n",
            "Epoch 190/200\n",
            " - 0s - loss: 1.8686 - mean_absolute_error: 0.9756 - val_loss: 15.5512 - val_mean_absolute_error: 2.7028\n",
            "Epoch 191/200\n",
            " - 0s - loss: 1.8169 - mean_absolute_error: 1.0123 - val_loss: 15.7681 - val_mean_absolute_error: 2.7492\n",
            "Epoch 192/200\n",
            " - 0s - loss: 1.7545 - mean_absolute_error: 0.9855 - val_loss: 15.9174 - val_mean_absolute_error: 2.6362\n",
            "Epoch 193/200\n",
            " - 0s - loss: 1.6886 - mean_absolute_error: 0.9738 - val_loss: 16.9891 - val_mean_absolute_error: 2.8193\n",
            "Epoch 194/200\n",
            " - 0s - loss: 1.8665 - mean_absolute_error: 0.9818 - val_loss: 17.2030 - val_mean_absolute_error: 2.9539\n",
            "Epoch 195/200\n",
            " - 0s - loss: 1.7633 - mean_absolute_error: 0.9583 - val_loss: 15.6253 - val_mean_absolute_error: 2.6933\n",
            "Epoch 196/200\n",
            " - 0s - loss: 1.7459 - mean_absolute_error: 0.9538 - val_loss: 16.9355 - val_mean_absolute_error: 2.9116\n",
            "Epoch 197/200\n",
            " - 0s - loss: 1.8523 - mean_absolute_error: 0.9819 - val_loss: 17.5356 - val_mean_absolute_error: 2.8652\n",
            "Epoch 198/200\n",
            " - 0s - loss: 1.7505 - mean_absolute_error: 0.9593 - val_loss: 17.3740 - val_mean_absolute_error: 2.9065\n",
            "Epoch 199/200\n",
            " - 0s - loss: 1.6154 - mean_absolute_error: 0.9361 - val_loss: 17.0484 - val_mean_absolute_error: 2.8140\n",
            "Epoch 200/200\n",
            " - 0s - loss: 1.9591 - mean_absolute_error: 0.9973 - val_loss: 15.5858 - val_mean_absolute_error: 2.6883\n",
            "processing fold # 3\n",
            "Train on 303 samples, validate on 101 samples\n",
            "Epoch 1/200\n",
            " - 1s - loss: 198.7698 - mean_absolute_error: 11.0860 - val_loss: 97.8152 - val_mean_absolute_error: 7.3126\n",
            "Epoch 2/200\n",
            " - 0s - loss: 31.4004 - mean_absolute_error: 3.9018 - val_loss: 35.9990 - val_mean_absolute_error: 4.0151\n",
            "Epoch 3/200\n",
            " - 0s - loss: 19.6713 - mean_absolute_error: 2.9284 - val_loss: 34.8551 - val_mean_absolute_error: 3.5278\n",
            "Epoch 4/200\n",
            " - 0s - loss: 16.1805 - mean_absolute_error: 2.6383 - val_loss: 23.6001 - val_mean_absolute_error: 3.1539\n",
            "Epoch 5/200\n",
            " - 0s - loss: 14.4528 - mean_absolute_error: 2.4543 - val_loss: 24.0224 - val_mean_absolute_error: 3.1374\n",
            "Epoch 6/200\n",
            " - 0s - loss: 13.0087 - mean_absolute_error: 2.4105 - val_loss: 20.7108 - val_mean_absolute_error: 2.9157\n",
            "Epoch 7/200\n",
            " - 0s - loss: 12.3294 - mean_absolute_error: 2.2246 - val_loss: 19.9242 - val_mean_absolute_error: 2.9854\n",
            "Epoch 8/200\n",
            " - 0s - loss: 11.6549 - mean_absolute_error: 2.2802 - val_loss: 19.3991 - val_mean_absolute_error: 2.8393\n",
            "Epoch 9/200\n",
            " - 0s - loss: 11.5292 - mean_absolute_error: 2.1885 - val_loss: 16.2856 - val_mean_absolute_error: 2.5244\n",
            "Epoch 10/200\n",
            " - 0s - loss: 10.9091 - mean_absolute_error: 2.0542 - val_loss: 17.8601 - val_mean_absolute_error: 2.7954\n",
            "Epoch 11/200\n",
            " - 0s - loss: 11.2446 - mean_absolute_error: 2.1776 - val_loss: 16.4873 - val_mean_absolute_error: 2.6407\n",
            "Epoch 12/200\n",
            " - 0s - loss: 10.2395 - mean_absolute_error: 2.1050 - val_loss: 16.5054 - val_mean_absolute_error: 2.8189\n",
            "Epoch 13/200\n",
            " - 0s - loss: 10.0636 - mean_absolute_error: 2.0228 - val_loss: 13.9224 - val_mean_absolute_error: 2.3878\n",
            "Epoch 14/200\n",
            " - 0s - loss: 9.9171 - mean_absolute_error: 1.9750 - val_loss: 14.5105 - val_mean_absolute_error: 2.4246\n",
            "Epoch 15/200\n",
            " - 0s - loss: 9.3321 - mean_absolute_error: 1.9656 - val_loss: 15.6389 - val_mean_absolute_error: 2.7978\n",
            "Epoch 16/200\n",
            " - 0s - loss: 9.3494 - mean_absolute_error: 2.0055 - val_loss: 14.5156 - val_mean_absolute_error: 2.5788\n",
            "Epoch 17/200\n",
            " - 0s - loss: 9.0118 - mean_absolute_error: 1.9743 - val_loss: 13.9300 - val_mean_absolute_error: 2.5629\n",
            "Epoch 18/200\n",
            " - 0s - loss: 8.8457 - mean_absolute_error: 1.8906 - val_loss: 14.2098 - val_mean_absolute_error: 2.5123\n",
            "Epoch 19/200\n",
            " - 0s - loss: 8.2241 - mean_absolute_error: 1.8959 - val_loss: 13.5682 - val_mean_absolute_error: 2.3823\n",
            "Epoch 20/200\n",
            " - 0s - loss: 8.6167 - mean_absolute_error: 1.8917 - val_loss: 14.3488 - val_mean_absolute_error: 2.5751\n",
            "Epoch 21/200\n",
            " - 0s - loss: 8.4293 - mean_absolute_error: 1.8701 - val_loss: 14.0196 - val_mean_absolute_error: 2.4542\n",
            "Epoch 22/200\n",
            " - 0s - loss: 7.9204 - mean_absolute_error: 1.7997 - val_loss: 13.7753 - val_mean_absolute_error: 2.5178\n",
            "Epoch 23/200\n",
            " - 0s - loss: 7.7071 - mean_absolute_error: 1.7687 - val_loss: 13.4050 - val_mean_absolute_error: 2.4588\n",
            "Epoch 24/200\n",
            " - 0s - loss: 7.5320 - mean_absolute_error: 1.7486 - val_loss: 16.4663 - val_mean_absolute_error: 2.9155\n",
            "Epoch 25/200\n",
            " - 0s - loss: 8.1003 - mean_absolute_error: 1.8736 - val_loss: 12.6563 - val_mean_absolute_error: 2.5026\n",
            "Epoch 26/200\n",
            " - 0s - loss: 7.6803 - mean_absolute_error: 1.7820 - val_loss: 13.0682 - val_mean_absolute_error: 2.4932\n",
            "Epoch 27/200\n",
            " - 0s - loss: 7.4724 - mean_absolute_error: 1.7653 - val_loss: 13.1983 - val_mean_absolute_error: 2.5231\n",
            "Epoch 28/200\n",
            " - 0s - loss: 7.3665 - mean_absolute_error: 1.6813 - val_loss: 12.8836 - val_mean_absolute_error: 2.4839\n",
            "Epoch 29/200\n",
            " - 0s - loss: 7.7011 - mean_absolute_error: 1.7381 - val_loss: 13.1319 - val_mean_absolute_error: 2.4276\n",
            "Epoch 30/200\n",
            " - 0s - loss: 7.4235 - mean_absolute_error: 1.7168 - val_loss: 11.8727 - val_mean_absolute_error: 2.3177\n",
            "Epoch 31/200\n",
            " - 0s - loss: 7.2492 - mean_absolute_error: 1.6804 - val_loss: 12.9330 - val_mean_absolute_error: 2.5296\n",
            "Epoch 32/200\n",
            " - 0s - loss: 7.2283 - mean_absolute_error: 1.6818 - val_loss: 12.1656 - val_mean_absolute_error: 2.4027\n",
            "Epoch 33/200\n",
            " - 0s - loss: 7.4762 - mean_absolute_error: 1.6959 - val_loss: 12.2244 - val_mean_absolute_error: 2.4185\n",
            "Epoch 34/200\n",
            " - 0s - loss: 6.9238 - mean_absolute_error: 1.6752 - val_loss: 12.4834 - val_mean_absolute_error: 2.5197\n",
            "Epoch 35/200\n",
            " - 0s - loss: 6.7488 - mean_absolute_error: 1.6391 - val_loss: 11.9818 - val_mean_absolute_error: 2.3380\n",
            "Epoch 36/200\n",
            " - 0s - loss: 6.9080 - mean_absolute_error: 1.6694 - val_loss: 11.6226 - val_mean_absolute_error: 2.3889\n",
            "Epoch 37/200\n",
            " - 0s - loss: 6.6851 - mean_absolute_error: 1.6297 - val_loss: 12.1996 - val_mean_absolute_error: 2.4080\n",
            "Epoch 38/200\n",
            " - 0s - loss: 6.7022 - mean_absolute_error: 1.5978 - val_loss: 13.1383 - val_mean_absolute_error: 2.4535\n",
            "Epoch 39/200\n",
            " - 0s - loss: 6.6191 - mean_absolute_error: 1.6289 - val_loss: 12.3171 - val_mean_absolute_error: 2.4764\n",
            "Epoch 40/200\n",
            " - 0s - loss: 6.4741 - mean_absolute_error: 1.6569 - val_loss: 12.7238 - val_mean_absolute_error: 2.4273\n",
            "Epoch 41/200\n",
            " - 0s - loss: 6.3538 - mean_absolute_error: 1.6641 - val_loss: 16.1388 - val_mean_absolute_error: 2.8523\n",
            "Epoch 42/200\n",
            " - 0s - loss: 6.4901 - mean_absolute_error: 1.6343 - val_loss: 13.2939 - val_mean_absolute_error: 2.5171\n",
            "Epoch 43/200\n",
            " - 0s - loss: 6.0468 - mean_absolute_error: 1.5844 - val_loss: 12.3476 - val_mean_absolute_error: 2.4752\n",
            "Epoch 44/200\n",
            " - 0s - loss: 6.2115 - mean_absolute_error: 1.5881 - val_loss: 12.7587 - val_mean_absolute_error: 2.5809\n",
            "Epoch 45/200\n",
            " - 0s - loss: 6.1767 - mean_absolute_error: 1.6202 - val_loss: 10.9567 - val_mean_absolute_error: 2.3570\n",
            "Epoch 46/200\n",
            " - 0s - loss: 6.2465 - mean_absolute_error: 1.5820 - val_loss: 12.1623 - val_mean_absolute_error: 2.3949\n",
            "Epoch 47/200\n",
            " - 0s - loss: 6.2402 - mean_absolute_error: 1.5955 - val_loss: 12.7247 - val_mean_absolute_error: 2.6340\n",
            "Epoch 48/200\n",
            " - 0s - loss: 5.5649 - mean_absolute_error: 1.5955 - val_loss: 12.6348 - val_mean_absolute_error: 2.4094\n",
            "Epoch 49/200\n",
            " - 0s - loss: 6.1966 - mean_absolute_error: 1.5775 - val_loss: 12.2540 - val_mean_absolute_error: 2.4090\n",
            "Epoch 50/200\n",
            " - 0s - loss: 6.0616 - mean_absolute_error: 1.5612 - val_loss: 11.2308 - val_mean_absolute_error: 2.3768\n",
            "Epoch 51/200\n",
            " - 0s - loss: 5.9622 - mean_absolute_error: 1.5713 - val_loss: 11.6909 - val_mean_absolute_error: 2.4021\n",
            "Epoch 52/200\n",
            " - 0s - loss: 5.7397 - mean_absolute_error: 1.5444 - val_loss: 12.7301 - val_mean_absolute_error: 2.5890\n",
            "Epoch 53/200\n",
            " - 0s - loss: 5.7004 - mean_absolute_error: 1.5090 - val_loss: 10.9594 - val_mean_absolute_error: 2.2765\n",
            "Epoch 54/200\n",
            " - 0s - loss: 5.6139 - mean_absolute_error: 1.5211 - val_loss: 12.3234 - val_mean_absolute_error: 2.4588\n",
            "Epoch 55/200\n",
            " - 0s - loss: 5.4985 - mean_absolute_error: 1.5566 - val_loss: 10.9477 - val_mean_absolute_error: 2.3543\n",
            "Epoch 56/200\n",
            " - 0s - loss: 5.1921 - mean_absolute_error: 1.4958 - val_loss: 11.7359 - val_mean_absolute_error: 2.3605\n",
            "Epoch 57/200\n",
            " - 0s - loss: 5.5362 - mean_absolute_error: 1.4916 - val_loss: 12.2070 - val_mean_absolute_error: 2.4582\n",
            "Epoch 58/200\n",
            " - 0s - loss: 5.3258 - mean_absolute_error: 1.5661 - val_loss: 10.8932 - val_mean_absolute_error: 2.2216\n",
            "Epoch 59/200\n",
            " - 0s - loss: 5.0944 - mean_absolute_error: 1.4802 - val_loss: 10.5297 - val_mean_absolute_error: 2.2592\n",
            "Epoch 60/200\n",
            " - 0s - loss: 5.4888 - mean_absolute_error: 1.5247 - val_loss: 10.6674 - val_mean_absolute_error: 2.2247\n",
            "Epoch 61/200\n",
            " - 0s - loss: 5.2496 - mean_absolute_error: 1.4811 - val_loss: 10.5737 - val_mean_absolute_error: 2.3094\n",
            "Epoch 62/200\n",
            " - 0s - loss: 5.0504 - mean_absolute_error: 1.4381 - val_loss: 11.8759 - val_mean_absolute_error: 2.3920\n",
            "Epoch 63/200\n",
            " - 0s - loss: 5.1729 - mean_absolute_error: 1.5474 - val_loss: 10.3905 - val_mean_absolute_error: 2.3166\n",
            "Epoch 64/200\n",
            " - 0s - loss: 5.1697 - mean_absolute_error: 1.4326 - val_loss: 11.2604 - val_mean_absolute_error: 2.4738\n",
            "Epoch 65/200\n",
            " - 0s - loss: 4.9247 - mean_absolute_error: 1.4569 - val_loss: 11.7748 - val_mean_absolute_error: 2.4988\n",
            "Epoch 66/200\n",
            " - 0s - loss: 5.0877 - mean_absolute_error: 1.4680 - val_loss: 10.0440 - val_mean_absolute_error: 2.2621\n",
            "Epoch 67/200\n",
            " - 0s - loss: 4.9160 - mean_absolute_error: 1.4450 - val_loss: 10.5393 - val_mean_absolute_error: 2.3260\n",
            "Epoch 68/200\n",
            " - 0s - loss: 4.9205 - mean_absolute_error: 1.4800 - val_loss: 10.9217 - val_mean_absolute_error: 2.3408\n",
            "Epoch 69/200\n",
            " - 0s - loss: 4.8088 - mean_absolute_error: 1.4505 - val_loss: 11.0146 - val_mean_absolute_error: 2.3044\n",
            "Epoch 70/200\n",
            " - 0s - loss: 4.9362 - mean_absolute_error: 1.4180 - val_loss: 10.2007 - val_mean_absolute_error: 2.2529\n",
            "Epoch 71/200\n",
            " - 0s - loss: 4.8990 - mean_absolute_error: 1.4073 - val_loss: 10.5287 - val_mean_absolute_error: 2.2934\n",
            "Epoch 72/200\n",
            " - 0s - loss: 4.6759 - mean_absolute_error: 1.4298 - val_loss: 10.5001 - val_mean_absolute_error: 2.2919\n",
            "Epoch 73/200\n",
            " - 0s - loss: 4.7639 - mean_absolute_error: 1.4065 - val_loss: 10.4649 - val_mean_absolute_error: 2.3478\n",
            "Epoch 74/200\n",
            " - 0s - loss: 4.6653 - mean_absolute_error: 1.4292 - val_loss: 10.4785 - val_mean_absolute_error: 2.3475\n",
            "Epoch 75/200\n",
            " - 0s - loss: 4.7964 - mean_absolute_error: 1.4036 - val_loss: 11.5299 - val_mean_absolute_error: 2.4870\n",
            "Epoch 76/200\n",
            " - 0s - loss: 4.3918 - mean_absolute_error: 1.3292 - val_loss: 13.8130 - val_mean_absolute_error: 2.8440\n",
            "Epoch 77/200\n",
            " - 0s - loss: 4.6562 - mean_absolute_error: 1.4033 - val_loss: 9.9790 - val_mean_absolute_error: 2.2827\n",
            "Epoch 78/200\n",
            " - 0s - loss: 4.4644 - mean_absolute_error: 1.4000 - val_loss: 10.0348 - val_mean_absolute_error: 2.2542\n",
            "Epoch 79/200\n",
            " - 0s - loss: 4.5231 - mean_absolute_error: 1.4022 - val_loss: 10.7563 - val_mean_absolute_error: 2.4050\n",
            "Epoch 80/200\n",
            " - 0s - loss: 4.5913 - mean_absolute_error: 1.3618 - val_loss: 9.4580 - val_mean_absolute_error: 2.1732\n",
            "Epoch 81/200\n",
            " - 0s - loss: 4.1687 - mean_absolute_error: 1.3496 - val_loss: 10.1548 - val_mean_absolute_error: 2.3307\n",
            "Epoch 82/200\n",
            " - 0s - loss: 4.4698 - mean_absolute_error: 1.3200 - val_loss: 9.8619 - val_mean_absolute_error: 2.2848\n",
            "Epoch 83/200\n",
            " - 0s - loss: 4.4712 - mean_absolute_error: 1.3767 - val_loss: 9.8826 - val_mean_absolute_error: 2.1984\n",
            "Epoch 84/200\n",
            " - 0s - loss: 4.2630 - mean_absolute_error: 1.3767 - val_loss: 10.0007 - val_mean_absolute_error: 2.2114\n",
            "Epoch 85/200\n",
            " - 0s - loss: 4.2066 - mean_absolute_error: 1.3821 - val_loss: 10.3228 - val_mean_absolute_error: 2.3474\n",
            "Epoch 86/200\n",
            " - 0s - loss: 4.4533 - mean_absolute_error: 1.3613 - val_loss: 9.7565 - val_mean_absolute_error: 2.2260\n",
            "Epoch 87/200\n",
            " - 0s - loss: 3.8194 - mean_absolute_error: 1.3058 - val_loss: 11.4480 - val_mean_absolute_error: 2.5602\n",
            "Epoch 88/200\n",
            " - 0s - loss: 4.2985 - mean_absolute_error: 1.2970 - val_loss: 9.6938 - val_mean_absolute_error: 2.2497\n",
            "Epoch 89/200\n",
            " - 0s - loss: 4.1371 - mean_absolute_error: 1.3457 - val_loss: 9.0693 - val_mean_absolute_error: 2.1559\n",
            "Epoch 90/200\n",
            " - 0s - loss: 3.8927 - mean_absolute_error: 1.3138 - val_loss: 9.3619 - val_mean_absolute_error: 2.2371\n",
            "Epoch 91/200\n",
            " - 0s - loss: 3.7725 - mean_absolute_error: 1.2897 - val_loss: 10.6201 - val_mean_absolute_error: 2.2668\n",
            "Epoch 92/200\n",
            " - 0s - loss: 3.7808 - mean_absolute_error: 1.3111 - val_loss: 9.9036 - val_mean_absolute_error: 2.3413\n",
            "Epoch 93/200\n",
            " - 0s - loss: 3.9652 - mean_absolute_error: 1.3055 - val_loss: 10.3677 - val_mean_absolute_error: 2.2854\n",
            "Epoch 94/200\n",
            " - 0s - loss: 3.9401 - mean_absolute_error: 1.2888 - val_loss: 13.2294 - val_mean_absolute_error: 2.8008\n",
            "Epoch 95/200\n",
            " - 0s - loss: 3.8632 - mean_absolute_error: 1.3236 - val_loss: 9.9962 - val_mean_absolute_error: 2.3479\n",
            "Epoch 96/200\n",
            " - 0s - loss: 3.6984 - mean_absolute_error: 1.2812 - val_loss: 10.4869 - val_mean_absolute_error: 2.3338\n",
            "Epoch 97/200\n",
            " - 0s - loss: 3.9949 - mean_absolute_error: 1.3283 - val_loss: 9.2896 - val_mean_absolute_error: 2.1325\n",
            "Epoch 98/200\n",
            " - 0s - loss: 3.6879 - mean_absolute_error: 1.3011 - val_loss: 10.2453 - val_mean_absolute_error: 2.3419\n",
            "Epoch 99/200\n",
            " - 0s - loss: 3.6512 - mean_absolute_error: 1.2807 - val_loss: 9.6623 - val_mean_absolute_error: 2.2780\n",
            "Epoch 100/200\n",
            " - 0s - loss: 3.7727 - mean_absolute_error: 1.3085 - val_loss: 9.7492 - val_mean_absolute_error: 2.1899\n",
            "Epoch 101/200\n",
            " - 0s - loss: 3.6966 - mean_absolute_error: 1.2929 - val_loss: 11.0487 - val_mean_absolute_error: 2.3830\n",
            "Epoch 102/200\n",
            " - 0s - loss: 3.5963 - mean_absolute_error: 1.2815 - val_loss: 10.6150 - val_mean_absolute_error: 2.3372\n",
            "Epoch 103/200\n",
            " - 0s - loss: 3.5207 - mean_absolute_error: 1.2698 - val_loss: 9.6482 - val_mean_absolute_error: 2.2599\n",
            "Epoch 104/200\n",
            " - 0s - loss: 3.5839 - mean_absolute_error: 1.2749 - val_loss: 9.1156 - val_mean_absolute_error: 2.2116\n",
            "Epoch 105/200\n",
            " - 0s - loss: 3.4991 - mean_absolute_error: 1.2029 - val_loss: 10.2033 - val_mean_absolute_error: 2.3617\n",
            "Epoch 106/200\n",
            " - 0s - loss: 3.6808 - mean_absolute_error: 1.3066 - val_loss: 8.6468 - val_mean_absolute_error: 2.2043\n",
            "Epoch 107/200\n",
            " - 0s - loss: 3.4382 - mean_absolute_error: 1.2575 - val_loss: 9.4972 - val_mean_absolute_error: 2.2010\n",
            "Epoch 108/200\n",
            " - 0s - loss: 3.4187 - mean_absolute_error: 1.2345 - val_loss: 9.0268 - val_mean_absolute_error: 2.1527\n",
            "Epoch 109/200\n",
            " - 0s - loss: 3.1827 - mean_absolute_error: 1.2149 - val_loss: 8.7788 - val_mean_absolute_error: 2.1162\n",
            "Epoch 110/200\n",
            " - 0s - loss: 3.3938 - mean_absolute_error: 1.2610 - val_loss: 9.5130 - val_mean_absolute_error: 2.2653\n",
            "Epoch 111/200\n",
            " - 0s - loss: 3.3819 - mean_absolute_error: 1.2099 - val_loss: 13.4977 - val_mean_absolute_error: 2.7749\n",
            "Epoch 112/200\n",
            " - 0s - loss: 3.2821 - mean_absolute_error: 1.2131 - val_loss: 9.0000 - val_mean_absolute_error: 2.1151\n",
            "Epoch 113/200\n",
            " - 0s - loss: 3.3411 - mean_absolute_error: 1.2336 - val_loss: 9.3362 - val_mean_absolute_error: 2.2366\n",
            "Epoch 114/200\n",
            " - 0s - loss: 3.3610 - mean_absolute_error: 1.2378 - val_loss: 10.3226 - val_mean_absolute_error: 2.3927\n",
            "Epoch 115/200\n",
            " - 0s - loss: 3.3110 - mean_absolute_error: 1.1819 - val_loss: 11.4792 - val_mean_absolute_error: 2.6791\n",
            "Epoch 116/200\n",
            " - 0s - loss: 3.2862 - mean_absolute_error: 1.2283 - val_loss: 10.7378 - val_mean_absolute_error: 2.4200\n",
            "Epoch 117/200\n",
            " - 0s - loss: 3.3365 - mean_absolute_error: 1.2088 - val_loss: 8.9443 - val_mean_absolute_error: 2.1813\n",
            "Epoch 118/200\n",
            " - 0s - loss: 3.2244 - mean_absolute_error: 1.1815 - val_loss: 9.0478 - val_mean_absolute_error: 2.2522\n",
            "Epoch 119/200\n",
            " - 0s - loss: 3.2006 - mean_absolute_error: 1.2089 - val_loss: 10.6488 - val_mean_absolute_error: 2.4544\n",
            "Epoch 120/200\n",
            " - 0s - loss: 3.2205 - mean_absolute_error: 1.1599 - val_loss: 8.8407 - val_mean_absolute_error: 2.1595\n",
            "Epoch 121/200\n",
            " - 0s - loss: 3.4759 - mean_absolute_error: 1.2296 - val_loss: 8.6664 - val_mean_absolute_error: 2.1375\n",
            "Epoch 122/200\n",
            " - 0s - loss: 2.9129 - mean_absolute_error: 1.1809 - val_loss: 9.8403 - val_mean_absolute_error: 2.2818\n",
            "Epoch 123/200\n",
            " - 0s - loss: 3.2235 - mean_absolute_error: 1.1949 - val_loss: 9.7400 - val_mean_absolute_error: 2.3819\n",
            "Epoch 124/200\n",
            " - 0s - loss: 3.0598 - mean_absolute_error: 1.1468 - val_loss: 9.8692 - val_mean_absolute_error: 2.3398\n",
            "Epoch 125/200\n",
            " - 0s - loss: 2.9674 - mean_absolute_error: 1.1098 - val_loss: 9.6926 - val_mean_absolute_error: 2.3147\n",
            "Epoch 126/200\n",
            " - 0s - loss: 3.3231 - mean_absolute_error: 1.2022 - val_loss: 9.4885 - val_mean_absolute_error: 2.1930\n",
            "Epoch 127/200\n",
            " - 0s - loss: 3.1519 - mean_absolute_error: 1.2005 - val_loss: 9.5848 - val_mean_absolute_error: 2.2239\n",
            "Epoch 128/200\n",
            " - 0s - loss: 3.1559 - mean_absolute_error: 1.2157 - val_loss: 8.8650 - val_mean_absolute_error: 2.2890\n",
            "Epoch 129/200\n",
            " - 0s - loss: 2.9738 - mean_absolute_error: 1.1995 - val_loss: 11.4956 - val_mean_absolute_error: 2.5314\n",
            "Epoch 130/200\n",
            " - 0s - loss: 2.8679 - mean_absolute_error: 1.1229 - val_loss: 9.6164 - val_mean_absolute_error: 2.2608\n",
            "Epoch 131/200\n",
            " - 0s - loss: 3.0490 - mean_absolute_error: 1.1764 - val_loss: 8.6025 - val_mean_absolute_error: 2.1694\n",
            "Epoch 132/200\n",
            " - 0s - loss: 3.0366 - mean_absolute_error: 1.1641 - val_loss: 12.5256 - val_mean_absolute_error: 2.7685\n",
            "Epoch 133/200\n",
            " - 0s - loss: 2.9653 - mean_absolute_error: 1.1720 - val_loss: 8.7693 - val_mean_absolute_error: 2.2210\n",
            "Epoch 134/200\n",
            " - 0s - loss: 2.8974 - mean_absolute_error: 1.1714 - val_loss: 9.5142 - val_mean_absolute_error: 2.2619\n",
            "Epoch 135/200\n",
            " - 0s - loss: 3.1874 - mean_absolute_error: 1.1576 - val_loss: 9.1217 - val_mean_absolute_error: 2.1802\n",
            "Epoch 136/200\n",
            " - 0s - loss: 2.9057 - mean_absolute_error: 1.1790 - val_loss: 11.2299 - val_mean_absolute_error: 2.4242\n",
            "Epoch 137/200\n",
            " - 0s - loss: 2.8747 - mean_absolute_error: 1.1207 - val_loss: 9.1380 - val_mean_absolute_error: 2.2242\n",
            "Epoch 138/200\n",
            " - 0s - loss: 3.0945 - mean_absolute_error: 1.1439 - val_loss: 8.3970 - val_mean_absolute_error: 2.1647\n",
            "Epoch 139/200\n",
            " - 0s - loss: 2.8927 - mean_absolute_error: 1.1441 - val_loss: 9.0962 - val_mean_absolute_error: 2.1539\n",
            "Epoch 140/200\n",
            " - 0s - loss: 2.8760 - mean_absolute_error: 1.1257 - val_loss: 8.6688 - val_mean_absolute_error: 2.1995\n",
            "Epoch 141/200\n",
            " - 0s - loss: 2.6755 - mean_absolute_error: 1.1014 - val_loss: 10.3902 - val_mean_absolute_error: 2.3100\n",
            "Epoch 142/200\n",
            " - 0s - loss: 2.6152 - mean_absolute_error: 1.1079 - val_loss: 10.0543 - val_mean_absolute_error: 2.4147\n",
            "Epoch 143/200\n",
            " - 0s - loss: 2.8599 - mean_absolute_error: 1.1321 - val_loss: 10.3782 - val_mean_absolute_error: 2.4318\n",
            "Epoch 144/200\n",
            " - 0s - loss: 2.9977 - mean_absolute_error: 1.1587 - val_loss: 10.1802 - val_mean_absolute_error: 2.3857\n",
            "Epoch 145/200\n",
            " - 0s - loss: 2.7692 - mean_absolute_error: 1.1130 - val_loss: 8.5814 - val_mean_absolute_error: 2.1571\n",
            "Epoch 146/200\n",
            " - 0s - loss: 2.8697 - mean_absolute_error: 1.1404 - val_loss: 8.8594 - val_mean_absolute_error: 2.2546\n",
            "Epoch 147/200\n",
            " - 0s - loss: 2.9994 - mean_absolute_error: 1.1248 - val_loss: 9.2791 - val_mean_absolute_error: 2.2092\n",
            "Epoch 148/200\n",
            " - 0s - loss: 2.7924 - mean_absolute_error: 1.1310 - val_loss: 10.1677 - val_mean_absolute_error: 2.3357\n",
            "Epoch 149/200\n",
            " - 0s - loss: 2.7963 - mean_absolute_error: 1.1203 - val_loss: 10.2170 - val_mean_absolute_error: 2.3841\n",
            "Epoch 150/200\n",
            " - 0s - loss: 2.8150 - mean_absolute_error: 1.0645 - val_loss: 9.8224 - val_mean_absolute_error: 2.3372\n",
            "Epoch 151/200\n",
            " - 0s - loss: 2.4421 - mean_absolute_error: 1.0971 - val_loss: 9.1434 - val_mean_absolute_error: 2.2272\n",
            "Epoch 152/200\n",
            " - 0s - loss: 2.5171 - mean_absolute_error: 1.0484 - val_loss: 11.4980 - val_mean_absolute_error: 2.4981\n",
            "Epoch 153/200\n",
            " - 0s - loss: 2.8677 - mean_absolute_error: 1.1020 - val_loss: 9.7236 - val_mean_absolute_error: 2.2618\n",
            "Epoch 154/200\n",
            " - 0s - loss: 2.7723 - mean_absolute_error: 1.1371 - val_loss: 10.1220 - val_mean_absolute_error: 2.3304\n",
            "Epoch 155/200\n",
            " - 0s - loss: 2.5964 - mean_absolute_error: 1.1046 - val_loss: 10.8669 - val_mean_absolute_error: 2.4452\n",
            "Epoch 156/200\n",
            " - 0s - loss: 2.8216 - mean_absolute_error: 1.1124 - val_loss: 9.4527 - val_mean_absolute_error: 2.2822\n",
            "Epoch 157/200\n",
            " - 0s - loss: 2.7288 - mean_absolute_error: 1.0853 - val_loss: 8.1836 - val_mean_absolute_error: 2.1272\n",
            "Epoch 158/200\n",
            " - 0s - loss: 2.8333 - mean_absolute_error: 1.1090 - val_loss: 9.8246 - val_mean_absolute_error: 2.2983\n",
            "Epoch 159/200\n",
            " - 0s - loss: 2.5580 - mean_absolute_error: 1.0948 - val_loss: 8.8765 - val_mean_absolute_error: 2.1914\n",
            "Epoch 160/200\n",
            " - 0s - loss: 2.4105 - mean_absolute_error: 1.0725 - val_loss: 11.1054 - val_mean_absolute_error: 2.4816\n",
            "Epoch 161/200\n",
            " - 0s - loss: 2.4029 - mean_absolute_error: 1.0404 - val_loss: 12.1326 - val_mean_absolute_error: 2.6560\n",
            "Epoch 162/200\n",
            " - 0s - loss: 2.4470 - mean_absolute_error: 1.0775 - val_loss: 9.5911 - val_mean_absolute_error: 2.2914\n",
            "Epoch 163/200\n",
            " - 0s - loss: 2.5409 - mean_absolute_error: 1.0881 - val_loss: 10.1419 - val_mean_absolute_error: 2.4107\n",
            "Epoch 164/200\n",
            " - 0s - loss: 2.4300 - mean_absolute_error: 1.0586 - val_loss: 10.2356 - val_mean_absolute_error: 2.3676\n",
            "Epoch 165/200\n",
            " - 0s - loss: 2.5678 - mean_absolute_error: 1.1204 - val_loss: 10.1321 - val_mean_absolute_error: 2.3873\n",
            "Epoch 166/200\n",
            " - 0s - loss: 2.6556 - mean_absolute_error: 1.0830 - val_loss: 10.8813 - val_mean_absolute_error: 2.5039\n",
            "Epoch 167/200\n",
            " - 0s - loss: 2.3847 - mean_absolute_error: 1.0534 - val_loss: 10.3641 - val_mean_absolute_error: 2.3217\n",
            "Epoch 168/200\n",
            " - 0s - loss: 2.4898 - mean_absolute_error: 1.0564 - val_loss: 9.0275 - val_mean_absolute_error: 2.2608\n",
            "Epoch 169/200\n",
            " - 0s - loss: 2.6426 - mean_absolute_error: 1.0974 - val_loss: 9.7919 - val_mean_absolute_error: 2.3383\n",
            "Epoch 170/200\n",
            " - 0s - loss: 2.4955 - mean_absolute_error: 1.0600 - val_loss: 8.6685 - val_mean_absolute_error: 2.1300\n",
            "Epoch 171/200\n",
            " - 0s - loss: 2.2924 - mean_absolute_error: 1.0097 - val_loss: 9.9317 - val_mean_absolute_error: 2.3248\n",
            "Epoch 172/200\n",
            " - 0s - loss: 2.3244 - mean_absolute_error: 1.0146 - val_loss: 9.8839 - val_mean_absolute_error: 2.2880\n",
            "Epoch 173/200\n",
            " - 0s - loss: 2.4543 - mean_absolute_error: 1.0640 - val_loss: 9.3143 - val_mean_absolute_error: 2.2580\n",
            "Epoch 174/200\n",
            " - 0s - loss: 2.2904 - mean_absolute_error: 1.0422 - val_loss: 10.7791 - val_mean_absolute_error: 2.4668\n",
            "Epoch 175/200\n",
            " - 0s - loss: 2.2312 - mean_absolute_error: 1.0273 - val_loss: 9.8399 - val_mean_absolute_error: 2.3303\n",
            "Epoch 176/200\n",
            " - 0s - loss: 2.3166 - mean_absolute_error: 1.0544 - val_loss: 10.5294 - val_mean_absolute_error: 2.3608\n",
            "Epoch 177/200\n",
            " - 0s - loss: 2.4369 - mean_absolute_error: 1.0411 - val_loss: 11.0165 - val_mean_absolute_error: 2.3002\n",
            "Epoch 178/200\n",
            " - 0s - loss: 2.3246 - mean_absolute_error: 1.0614 - val_loss: 10.8332 - val_mean_absolute_error: 2.3673\n",
            "Epoch 179/200\n",
            " - 0s - loss: 2.4278 - mean_absolute_error: 1.0513 - val_loss: 10.2476 - val_mean_absolute_error: 2.3005\n",
            "Epoch 180/200\n",
            " - 0s - loss: 2.2822 - mean_absolute_error: 1.0247 - val_loss: 11.0644 - val_mean_absolute_error: 2.3934\n",
            "Epoch 181/200\n",
            " - 0s - loss: 2.4670 - mean_absolute_error: 1.0506 - val_loss: 11.0823 - val_mean_absolute_error: 2.5503\n",
            "Epoch 182/200\n",
            " - 0s - loss: 2.2572 - mean_absolute_error: 1.0201 - val_loss: 10.1139 - val_mean_absolute_error: 2.3913\n",
            "Epoch 183/200\n",
            " - 0s - loss: 2.1891 - mean_absolute_error: 0.9683 - val_loss: 11.2355 - val_mean_absolute_error: 2.5778\n",
            "Epoch 184/200\n",
            " - 0s - loss: 2.4224 - mean_absolute_error: 1.0762 - val_loss: 11.0724 - val_mean_absolute_error: 2.5196\n",
            "Epoch 185/200\n",
            " - 0s - loss: 2.2523 - mean_absolute_error: 1.0135 - val_loss: 10.4495 - val_mean_absolute_error: 2.3519\n",
            "Epoch 186/200\n",
            " - 0s - loss: 2.4343 - mean_absolute_error: 1.0323 - val_loss: 10.3507 - val_mean_absolute_error: 2.2716\n",
            "Epoch 187/200\n",
            " - 0s - loss: 2.2673 - mean_absolute_error: 0.9906 - val_loss: 9.5929 - val_mean_absolute_error: 2.2613\n",
            "Epoch 188/200\n",
            " - 0s - loss: 2.2434 - mean_absolute_error: 1.0476 - val_loss: 11.1457 - val_mean_absolute_error: 2.3838\n",
            "Epoch 189/200\n",
            " - 0s - loss: 2.1959 - mean_absolute_error: 1.0452 - val_loss: 10.4315 - val_mean_absolute_error: 2.3785\n",
            "Epoch 190/200\n",
            " - 0s - loss: 2.2150 - mean_absolute_error: 1.0218 - val_loss: 10.3702 - val_mean_absolute_error: 2.3810\n",
            "Epoch 191/200\n",
            " - 0s - loss: 2.1731 - mean_absolute_error: 1.0268 - val_loss: 11.1684 - val_mean_absolute_error: 2.5260\n",
            "Epoch 192/200\n",
            " - 0s - loss: 2.3966 - mean_absolute_error: 1.0073 - val_loss: 9.4358 - val_mean_absolute_error: 2.2211\n",
            "Epoch 193/200\n",
            " - 0s - loss: 2.2158 - mean_absolute_error: 1.0120 - val_loss: 12.7461 - val_mean_absolute_error: 2.6834\n",
            "Epoch 194/200\n",
            " - 0s - loss: 2.1176 - mean_absolute_error: 0.9660 - val_loss: 9.5076 - val_mean_absolute_error: 2.3661\n",
            "Epoch 195/200\n",
            " - 0s - loss: 1.9882 - mean_absolute_error: 0.9887 - val_loss: 10.6168 - val_mean_absolute_error: 2.4444\n",
            "Epoch 196/200\n",
            " - 0s - loss: 2.0873 - mean_absolute_error: 0.9565 - val_loss: 10.3655 - val_mean_absolute_error: 2.2725\n",
            "Epoch 197/200\n",
            " - 0s - loss: 2.3437 - mean_absolute_error: 1.0947 - val_loss: 9.7170 - val_mean_absolute_error: 2.3327\n",
            "Epoch 198/200\n",
            " - 0s - loss: 2.1944 - mean_absolute_error: 0.9906 - val_loss: 9.5856 - val_mean_absolute_error: 2.3030\n",
            "Epoch 199/200\n",
            " - 0s - loss: 2.0099 - mean_absolute_error: 0.9598 - val_loss: 10.8698 - val_mean_absolute_error: 2.5998\n",
            "Epoch 200/200\n",
            " - 0s - loss: 2.1961 - mean_absolute_error: 1.0184 - val_loss: 9.6167 - val_mean_absolute_error: 2.3167\n"
          ],
          "name": "stdout"
        }
      ]
    },
    {
      "cell_type": "code",
      "metadata": {
        "colab_type": "code",
        "id": "g1EJEG6a9Ew-",
        "colab": {
          "base_uri": "https://localhost:8080/",
          "height": 501
        },
        "outputId": "56c2cc3d-df77-4386-abf1-9360289204b1"
      },
      "source": [
        "plt.plot(all_mae_histories[0])\n",
        "plt.plot(all_mae_histories[1])\n",
        "plt.plot(all_mae_histories[2])\n",
        "plt.plot(all_mae_histories[3])\n",
        "plt.title('Validation loss for all the folds')\n",
        "plt.ylabel('Loss')\n",
        "plt.xlabel('Epoch')\n",
        "plt.legend(['1st Fold', '2nd Fold', '3rd Fold', '4th Fold'], loc = 'center')\n",
        "plt.show()"
      ],
      "execution_count": 85,
      "outputs": [
        {
          "output_type": "display_data",
          "data": {
            "image/png": "[encoded data removed]",
            "text/plain": [
              "<Figure size 750x500 with 1 Axes>"
            ]
          },
          "metadata": {
            "tags": []
          }
        }
      ]
    },
    {
      "cell_type": "markdown",
      "metadata": {
        "id": "7FCQ2D_3meoM",
        "colab_type": "text"
      },
      "source": [
        "We can see that for all the four folds, there is a significant drop in the loss at the start. Once the epoch starts increasing at around 5-10 epoch, the loss stabilizes to an extent and goes up and down slightly.\n",
        "\n",
        "It is clear that 1st fold has a lower loss from the start and maintains it until the epoch reaches 200. Notably, 4th fold had slightly higher loss than 1st fold throughout, but at higher epoch both 1st and 4th folds ended up at almost same loss at higher epoch at 200.\n",
        "\n",
        "Comparitely, 2nd and 3rd folds has higher loss. 3rd fold had higher loss from the start and maintains the same at higher epoch as well. 2 nd fold is the most unstable fold, with loss slightly going up and down with increase in epoch and ended up at higher loss at 200 epoch, but slighly less than 3rd fold.\n",
        "\n"
      ]
    },
    {
      "cell_type": "markdown",
      "metadata": {
        "colab_type": "text",
        "id": "ARqVvyMX9ExF"
      },
      "source": [
        "#### Takeaways\n",
        "* Regression is usually done using MSE loss and MAE for evaluation\n",
        "* Input data should always be scaled (independent from the test set)\n",
        "* Small datasets:\n",
        "    - Use cross-validation\n",
        "    - Use simple (non-deep) networks\n",
        "    - Smaller batches, more epochs"
      ]
    }
  ]
}