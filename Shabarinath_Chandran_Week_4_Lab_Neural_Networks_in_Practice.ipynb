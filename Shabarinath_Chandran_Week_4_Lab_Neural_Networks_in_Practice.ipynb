{
  "nbformat": 4,
  "nbformat_minor": 0,
  "metadata": {
    "anaconda-cloud": {},
    "colab": {
      "name": "Shabarinath_Chandran_Week_4_Lab_Neural_Networks_in_Practice.ipynb",
      "provenance": [],
      "collapsed_sections": [],
      "include_colab_link": true
    },
    "kernelspec": {
      "display_name": "Python 3",
      "language": "python",
      "name": "python3"
    },
    "language_info": {
      "codemirror_mode": {
        "name": "ipython",
        "version": 3
      },
      "file_extension": ".py",
      "mimetype": "text/x-python",
      "name": "python",
      "nbconvert_exporter": "python",
      "pygments_lexer": "ipython3",
      "version": "3.7.4"
    }
  },
  "cells": [
    {
      "cell_type": "markdown",
      "metadata": {
        "id": "view-in-github",
        "colab_type": "text"
      },
      "source": [
        "<a href=\"https://colab.research.google.com/github/Shabarinath8899/Shabarinath_Repository/blob/master/Shabarinath_Chandran_Week_4_Lab_Neural_Networks_in_Practice.ipynb\" target=\"_parent\"><img src=\"https://colab.research.google.com/assets/colab-badge.svg\" alt=\"Open In Colab\"/></a>"
      ]
    },
    {
      "cell_type": "markdown",
      "metadata": {
        "colab_type": "text",
        "id": "jE7Q3E9i9Evd"
      },
      "source": [
        "# Shabarinath_Chandran_Week 4 Lab: Neural Networks in practice"
      ]
    },
    {
      "cell_type": "code",
      "metadata": {
        "colab_type": "code",
        "hide_input": false,
        "id": "gWDjQyV59Evg",
        "colab": {
          "base_uri": "https://localhost:8080/",
          "height": 97
        },
        "outputId": "9bceff13-b032-4b3c-9345-d89de638eb34"
      },
      "source": [
        "from IPython.display import set_matplotlib_formats, display\n",
        "import pandas as pd\n",
        "import numpy as np\n",
        "import matplotlib.pyplot as plt\n",
        "from cycler import cycler\n",
        "import keras\n",
        "print(\"Using Keras\",keras.__version__)\n",
        "%matplotlib inline\n",
        "plt.rcParams['figure.dpi'] = 125\n"
      ],
      "execution_count": 1,
      "outputs": [
        {
          "output_type": "stream",
          "text": [
            "Using TensorFlow backend.\n"
          ],
          "name": "stderr"
        },
        {
          "output_type": "display_data",
          "data": {
            "text/html": [
              "<p style=\"color: red;\">\n",
              "The default version of TensorFlow in Colab will soon switch to TensorFlow 2.x.<br>\n",
              "We recommend you <a href=\"https://www.tensorflow.org/guide/migrate\" target=\"_blank\">upgrade</a> now \n",
              "or ensure your notebook will continue to use TensorFlow 1.x via the <code>%tensorflow_version 1.x</code> magic:\n",
              "<a href=\"https://colab.research.google.com/notebooks/tensorflow_version.ipynb\" target=\"_blank\">more info</a>.</p>\n"
            ],
            "text/plain": [
              "<IPython.core.display.HTML object>"
            ]
          },
          "metadata": {
            "tags": []
          }
        },
        {
          "output_type": "stream",
          "text": [
            "Using Keras 2.2.5\n"
          ],
          "name": "stdout"
        }
      ]
    },
    {
      "cell_type": "markdown",
      "metadata": {
        "cell_style": "center",
        "colab_type": "text",
        "id": "QJdIHypq9Evk"
      },
      "source": [
        "### Overview\n",
        "* Solving basic classification and regression problems\n",
        "* Handling textual data\n",
        "* Model selection (and overfitting)"
      ]
    },
    {
      "cell_type": "markdown",
      "metadata": {
        "colab_type": "text",
        "id": "njT6MasM9Evl"
      },
      "source": [
        "## Solving basic problems\n",
        "* Binary classification (of movie reviews)\n",
        "* Multiclass classification (of news topics)\n",
        "* Regression (of house prices)\n",
        "\n",
        "Examples from _Deep Learning with Python_, by _François Chollet_"
      ]
    },
    {
      "cell_type": "markdown",
      "metadata": {
        "colab_type": "text",
        "id": "xsUfzIi59Evn"
      },
      "source": [
        "### Binary classification\n",
        "* Dataset: 50,000 IMDB reviews, labeled positive (1) or negative (0)\n",
        "    - Included in Keras, with a 50/50 train-test split\n",
        "* Each row is one review, with only the 10,000 most frequent words retained\n",
        "* Each word is replaced by a _word index_ (word ID)"
      ]
    },
    {
      "cell_type": "code",
      "metadata": {
        "colab_type": "code",
        "hide_input": true,
        "id": "Mk42XDWZ9Evn",
        "colab": {
          "base_uri": "https://localhost:8080/",
          "height": 51
        },
        "outputId": "4e8b6269-b457-404c-8cf5-968af1a94d74"
      },
      "source": [
        "from keras.datasets import imdb\n",
        "# Download IMDB data with 10000 most frequent words\n",
        "(train_data, train_labels), (test_data, test_labels) = imdb.load_data(num_words=10000)\n",
        "print(\"Encoded review: \", train_data[0][0:10])\n",
        "\n",
        "word_index = imdb.get_word_index()\n",
        "reverse_word_index = dict([(value, key) for (key, value) in word_index.items()])\n",
        "print(\"Original review: \", ' '.join([reverse_word_index.get(i - 3, '?') for i in train_data[0]][0:10]))"
      ],
      "execution_count": 2,
      "outputs": [
        {
          "output_type": "stream",
          "text": [
            "Encoded review:  [1, 14, 22, 16, 43, 530, 973, 1622, 1385, 65]\n",
            "Original review:  ? this film was just brilliant casting location scenery story\n"
          ],
          "name": "stdout"
        }
      ]
    },
    {
      "cell_type": "markdown",
      "metadata": {
        "colab_type": "text",
        "id": "gbHSVzma9Evq"
      },
      "source": [
        "#### Preprocessing\n",
        "* We can't input lists of categorical value to a neural net, we need to create tensors\n",
        "* One-hot-encoding:\n",
        "    -  10000 features, '1.0' if the word occurs\n",
        "* Word embeddings (word2vec):\n",
        "    - Map each word to a dense vector that represents it (it's _embedding_)\n",
        "    - _Embedding_ layer: pre-trained layer that looks up the embedding in a dictionary \n",
        "    - Converts 2D tensor of word indices (zero-padded) to 3D tensor of embeddings\n",
        "* Let's do One-Hot-Encoding for now. We'll come back to _Embedding_ layers.\n",
        "* Also vectorize the labels: from 0/1 to float\n",
        "    - Binary classification works with one output node"
      ]
    },
    {
      "cell_type": "code",
      "metadata": {
        "colab_type": "code",
        "hide_input": true,
        "id": "nSzfO-XG9Evs",
        "colab": {}
      },
      "source": [
        "# Custom implementation of one-hot-encoding\n",
        "def vectorize_sequences(sequences, dimension=10000):\n",
        "    results = np.zeros((len(sequences), dimension))\n",
        "    for i, sequence in enumerate(sequences):\n",
        "        results[i, sequence] = 1.  # set specific indices of results[i] to 1s\n",
        "    return results\n",
        "x_train = vectorize_sequences(train_data)\n",
        "x_test = vectorize_sequences(test_data)\n",
        "y_train = np.asarray(train_labels).astype('float32')\n",
        "y_test = np.asarray(test_labels).astype('float32')"
      ],
      "execution_count": 0,
      "outputs": []
    },
    {
      "cell_type": "markdown",
      "metadata": {
        "colab_type": "text",
        "id": "4_JHofjQRme1"
      },
      "source": [
        "#### Understanding the format of IMDB dataset\n",
        "1. Train_data and test_data are an array of lists. What does the length of this array correspond to? What does the length of each list correspond to?\n",
        "2. What are the sizes of the vectorized x_train and x_test? What do the dimensions correspond to?\n",
        "3. What is the most common word in the first review in the training data? Hint: use the word index (see above)? \n",
        "4. Print the first review to verify. "
      ]
    },
    {
      "cell_type": "markdown",
      "metadata": {
        "id": "27Esx6Wm54KW",
        "colab_type": "text"
      },
      "source": [
        "# 1st Ans"
      ]
    },
    {
      "cell_type": "code",
      "metadata": {
        "id": "6T6Vxua6V8Xh",
        "colab_type": "code",
        "colab": {
          "base_uri": "https://localhost:8080/",
          "height": 34
        },
        "outputId": "377b531e-2008-4924-f878-2cb4cf80a1c3"
      },
      "source": [
        "len(train_data)\n"
      ],
      "execution_count": 4,
      "outputs": [
        {
          "output_type": "execute_result",
          "data": {
            "text/plain": [
              "25000"
            ]
          },
          "metadata": {
            "tags": []
          },
          "execution_count": 4
        }
      ]
    },
    {
      "cell_type": "code",
      "metadata": {
        "id": "Fh9vM4GRnNGz",
        "colab_type": "code",
        "colab": {
          "base_uri": "https://localhost:8080/",
          "height": 34
        },
        "outputId": "236679c9-cbce-43a3-8c49-518e3cbf8b3e"
      },
      "source": [
        "len(test_data)"
      ],
      "execution_count": 5,
      "outputs": [
        {
          "output_type": "execute_result",
          "data": {
            "text/plain": [
              "25000"
            ]
          },
          "metadata": {
            "tags": []
          },
          "execution_count": 5
        }
      ]
    },
    {
      "cell_type": "markdown",
      "metadata": {
        "id": "mkMd1bzx5zNR",
        "colab_type": "text"
      },
      "source": [
        "\n",
        "The length of this array corresponds to 25000 reviews in each of the train and test dataset.\n",
        "\n",
        "The length of each list corresponds to number of words present in every review."
      ]
    },
    {
      "cell_type": "markdown",
      "metadata": {
        "id": "IVEk1sXJWvca",
        "colab_type": "text"
      },
      "source": [
        "#2nd Ans"
      ]
    },
    {
      "cell_type": "code",
      "metadata": {
        "id": "NigwHvvvWu2L",
        "colab_type": "code",
        "colab": {
          "base_uri": "https://localhost:8080/",
          "height": 85
        },
        "outputId": "d8bee1ee-df4d-4ee7-ff20-a6f4c72325bb"
      },
      "source": [
        "print(x_train.size)\n",
        "print(x_train.shape)\n",
        "print(x_test.size)\n",
        "print(x_test.shape)"
      ],
      "execution_count": 6,
      "outputs": [
        {
          "output_type": "stream",
          "text": [
            "250000000\n",
            "(25000, 10000)\n",
            "250000000\n",
            "(25000, 10000)\n"
          ],
          "name": "stdout"
        }
      ]
    },
    {
      "cell_type": "markdown",
      "metadata": {
        "id": "s0c-RqMUW56I",
        "colab_type": "text"
      },
      "source": [
        "The size of vectorized X_train and X_test is 250000000. \n",
        "The dimensions correspond to shape (25000, 10000), ie 25000 reviews and 10000 most frequently retained words for each review."
      ]
    },
    {
      "cell_type": "markdown",
      "metadata": {
        "id": "yC1-SjpLY7k4",
        "colab_type": "text"
      },
      "source": [
        "#3rd Ans"
      ]
    },
    {
      "cell_type": "code",
      "metadata": {
        "id": "dY6KSSvOY_va",
        "colab_type": "code",
        "colab": {
          "base_uri": "https://localhost:8080/",
          "height": 34
        },
        "outputId": "95c101a1-8dab-4725-ac97-2ac5ade6122e"
      },
      "source": [
        "counts = {}\n",
        "for i in train_data[0]:\n",
        "  if(i in counts):\n",
        "    counts[i]+=1\n",
        "  else:\n",
        "    counts[i] = 1\n",
        "    import operator\n",
        "max(counts.items(), key=operator.itemgetter(1))\n"
      ],
      "execution_count": 7,
      "outputs": [
        {
          "output_type": "execute_result",
          "data": {
            "text/plain": [
              "(4, 15)"
            ]
          },
          "metadata": {
            "tags": []
          },
          "execution_count": 7
        }
      ]
    },
    {
      "cell_type": "code",
      "metadata": {
        "id": "koYMBxwWZaEg",
        "colab_type": "code",
        "colab": {
          "base_uri": "https://localhost:8080/",
          "height": 34
        },
        "outputId": "62e4405a-992e-44ac-e254-93193b2ff2e4"
      },
      "source": [
        "reverse_word_index[4 - 3]"
      ],
      "execution_count": 8,
      "outputs": [
        {
          "output_type": "execute_result",
          "data": {
            "text/plain": [
              "'the'"
            ]
          },
          "metadata": {
            "tags": []
          },
          "execution_count": 8
        }
      ]
    },
    {
      "cell_type": "markdown",
      "metadata": {
        "id": "InuHp0kxZcGs",
        "colab_type": "text"
      },
      "source": [
        "The most common word in the first review in the training data is \"of\"."
      ]
    },
    {
      "cell_type": "markdown",
      "metadata": {
        "id": "J3nDpYMSZp6m",
        "colab_type": "text"
      },
      "source": [
        "#4th Ans"
      ]
    },
    {
      "cell_type": "code",
      "metadata": {
        "id": "Nf_d9b97Zxkr",
        "colab_type": "code",
        "colab": {
          "base_uri": "https://localhost:8080/",
          "height": 71
        },
        "outputId": "6a434859-dd83-48a9-e42a-14c0f915b2d5"
      },
      "source": [
        "print(\"First review is: \\n\", ' '.join([reverse_word_index.get(i - 3, '?') for i in train_data[0]][0:100]))"
      ],
      "execution_count": 9,
      "outputs": [
        {
          "output_type": "stream",
          "text": [
            "First review is: \n",
            " ? this film was just brilliant casting location scenery story direction everyone's really suited the part they played and you could just imagine being there robert ? is an amazing actor and now the same being director ? father came from the same scottish island as myself so i loved the fact there was a real connection with this film the witty remarks throughout the film were great it was just brilliant so much that i bought the film as soon as it was released for ? and would recommend it to everyone to watch and the fly fishing was\n"
          ],
          "name": "stdout"
        }
      ]
    },
    {
      "cell_type": "markdown",
      "metadata": {
        "colab_type": "text",
        "id": "GVar7SNn9Evu"
      },
      "source": [
        "#### Building the network\n",
        "* We can solve this problem using a network of _Dense_ layers and the _ReLU_ activation function.\n",
        "* How many layers? How many hidden units for layer?\n",
        "    - Start with 2 layers of 16 hidden units each\n",
        "    - We'll optimize this soon\n",
        "* Output layer: single unit with _sigmoid_ activation function\n",
        "    - Close to 1: positive review, close to 0: negative review\n",
        "* Use binary_crossentropy loss"
      ]
    },
    {
      "cell_type": "code",
      "metadata": {
        "colab_type": "code",
        "id": "wglvzu9E9Evx",
        "colab": {
          "base_uri": "https://localhost:8080/",
          "height": 258
        },
        "outputId": "049ba4d1-e6ee-48fe-e8fa-3e52c3037b67"
      },
      "source": [
        "from keras import models\n",
        "from keras import layers \n",
        "\n",
        "model = models.Sequential()\n",
        "model.add(layers.Dense(16, activation='relu', input_shape=(10000,)))\n",
        "model.add(layers.Dense(16, activation='relu'))\n",
        "model.add(layers.Dense(1, activation='sigmoid'))\n",
        "\n",
        "model.compile(optimizer='rmsprop',\n",
        "              loss='binary_crossentropy',\n",
        "              metrics=['accuracy'])"
      ],
      "execution_count": 10,
      "outputs": [
        {
          "output_type": "stream",
          "text": [
            "WARNING:tensorflow:From /usr/local/lib/python3.6/dist-packages/keras/backend/tensorflow_backend.py:66: The name tf.get_default_graph is deprecated. Please use tf.compat.v1.get_default_graph instead.\n",
            "\n",
            "WARNING:tensorflow:From /usr/local/lib/python3.6/dist-packages/keras/backend/tensorflow_backend.py:541: The name tf.placeholder is deprecated. Please use tf.compat.v1.placeholder instead.\n",
            "\n",
            "WARNING:tensorflow:From /usr/local/lib/python3.6/dist-packages/keras/backend/tensorflow_backend.py:4432: The name tf.random_uniform is deprecated. Please use tf.random.uniform instead.\n",
            "\n",
            "WARNING:tensorflow:From /usr/local/lib/python3.6/dist-packages/keras/optimizers.py:793: The name tf.train.Optimizer is deprecated. Please use tf.compat.v1.train.Optimizer instead.\n",
            "\n",
            "WARNING:tensorflow:From /usr/local/lib/python3.6/dist-packages/keras/backend/tensorflow_backend.py:3657: The name tf.log is deprecated. Please use tf.math.log instead.\n",
            "\n",
            "WARNING:tensorflow:From /usr/local/lib/python3.6/dist-packages/tensorflow_core/python/ops/nn_impl.py:183: where (from tensorflow.python.ops.array_ops) is deprecated and will be removed in a future version.\n",
            "Instructions for updating:\n",
            "Use tf.where in 2.0, which has the same broadcast rule as np.where\n"
          ],
          "name": "stdout"
        }
      ]
    },
    {
      "cell_type": "markdown",
      "metadata": {
        "colab_type": "text",
        "id": "0S_Fnh169Ev0"
      },
      "source": [
        "#### Model selection\n",
        "* How many epochs do we need for training?\n",
        "* Take a validation set of 10,000 samples from the training set\n",
        "* Train the neural net and track the loss after every iteration on the validation set\n",
        "    - This is returned as a `History` object by the `fit()` function \n",
        "* We start with 20 epochs in minibatches of 512 samples\n"
      ]
    },
    {
      "cell_type": "code",
      "metadata": {
        "colab_type": "code",
        "id": "b3aTf8rL9Ev0",
        "colab": {
          "base_uri": "https://localhost:8080/",
          "height": 1000
        },
        "outputId": "1284d720-6b0c-4057-fa51-ce9540634565"
      },
      "source": [
        "x_val, partial_x_train = x_train[:10000], x_train[10000:]\n",
        "y_val, partial_y_train = y_train[:10000], y_train[10000:] \n",
        "history = model.fit(partial_x_train, partial_y_train,\n",
        "                    epochs=20, batch_size=512, verbose=2,\n",
        "                    validation_data=(x_val, y_val))"
      ],
      "execution_count": 11,
      "outputs": [
        {
          "output_type": "stream",
          "text": [
            "WARNING:tensorflow:From /usr/local/lib/python3.6/dist-packages/keras/backend/tensorflow_backend.py:1033: The name tf.assign_add is deprecated. Please use tf.compat.v1.assign_add instead.\n",
            "\n",
            "WARNING:tensorflow:From /usr/local/lib/python3.6/dist-packages/keras/backend/tensorflow_backend.py:1020: The name tf.assign is deprecated. Please use tf.compat.v1.assign instead.\n",
            "\n",
            "WARNING:tensorflow:From /usr/local/lib/python3.6/dist-packages/keras/backend/tensorflow_backend.py:3005: The name tf.Session is deprecated. Please use tf.compat.v1.Session instead.\n",
            "\n",
            "Train on 15000 samples, validate on 10000 samples\n",
            "Epoch 1/20\n",
            "WARNING:tensorflow:From /usr/local/lib/python3.6/dist-packages/keras/backend/tensorflow_backend.py:190: The name tf.get_default_session is deprecated. Please use tf.compat.v1.get_default_session instead.\n",
            "\n",
            "WARNING:tensorflow:From /usr/local/lib/python3.6/dist-packages/keras/backend/tensorflow_backend.py:197: The name tf.ConfigProto is deprecated. Please use tf.compat.v1.ConfigProto instead.\n",
            "\n",
            "WARNING:tensorflow:From /usr/local/lib/python3.6/dist-packages/keras/backend/tensorflow_backend.py:207: The name tf.global_variables is deprecated. Please use tf.compat.v1.global_variables instead.\n",
            "\n",
            "WARNING:tensorflow:From /usr/local/lib/python3.6/dist-packages/keras/backend/tensorflow_backend.py:216: The name tf.is_variable_initialized is deprecated. Please use tf.compat.v1.is_variable_initialized instead.\n",
            "\n",
            "WARNING:tensorflow:From /usr/local/lib/python3.6/dist-packages/keras/backend/tensorflow_backend.py:223: The name tf.variables_initializer is deprecated. Please use tf.compat.v1.variables_initializer instead.\n",
            "\n",
            " - 2s - loss: 0.5017 - acc: 0.7760 - val_loss: 0.3651 - val_acc: 0.8720\n",
            "Epoch 2/20\n",
            " - 1s - loss: 0.2924 - acc: 0.9043 - val_loss: 0.3235 - val_acc: 0.8712\n",
            "Epoch 3/20\n",
            " - 1s - loss: 0.2165 - acc: 0.9281 - val_loss: 0.2822 - val_acc: 0.8878\n",
            "Epoch 4/20\n",
            " - 1s - loss: 0.1708 - acc: 0.9433 - val_loss: 0.3102 - val_acc: 0.8769\n",
            "Epoch 5/20\n",
            " - 1s - loss: 0.1363 - acc: 0.9583 - val_loss: 0.2849 - val_acc: 0.8860\n",
            "Epoch 6/20\n",
            " - 1s - loss: 0.1094 - acc: 0.9673 - val_loss: 0.3180 - val_acc: 0.8795\n",
            "Epoch 7/20\n",
            " - 1s - loss: 0.0930 - acc: 0.9712 - val_loss: 0.3250 - val_acc: 0.8795\n",
            "Epoch 8/20\n",
            " - 1s - loss: 0.0766 - acc: 0.9783 - val_loss: 0.3422 - val_acc: 0.8789\n",
            "Epoch 9/20\n",
            " - 1s - loss: 0.0630 - acc: 0.9820 - val_loss: 0.3794 - val_acc: 0.8766\n",
            "Epoch 10/20\n",
            " - 1s - loss: 0.0500 - acc: 0.9879 - val_loss: 0.3979 - val_acc: 0.8759\n",
            "Epoch 11/20\n",
            " - 1s - loss: 0.0429 - acc: 0.9876 - val_loss: 0.4266 - val_acc: 0.8736\n",
            "Epoch 12/20\n",
            " - 1s - loss: 0.0334 - acc: 0.9932 - val_loss: 0.5298 - val_acc: 0.8582\n",
            "Epoch 13/20\n",
            " - 1s - loss: 0.0256 - acc: 0.9953 - val_loss: 0.4880 - val_acc: 0.8706\n",
            "Epoch 14/20\n",
            " - 1s - loss: 0.0237 - acc: 0.9950 - val_loss: 0.5176 - val_acc: 0.8709\n",
            "Epoch 15/20\n",
            " - 1s - loss: 0.0153 - acc: 0.9984 - val_loss: 0.6566 - val_acc: 0.8522\n",
            "Epoch 16/20\n",
            " - 1s - loss: 0.0178 - acc: 0.9968 - val_loss: 0.5794 - val_acc: 0.8692\n",
            "Epoch 17/20\n",
            " - 1s - loss: 0.0121 - acc: 0.9986 - val_loss: 0.6082 - val_acc: 0.8684\n",
            "Epoch 18/20\n",
            " - 1s - loss: 0.0064 - acc: 0.9997 - val_loss: 0.6414 - val_acc: 0.8669\n",
            "Epoch 19/20\n",
            " - 1s - loss: 0.0083 - acc: 0.9987 - val_loss: 0.6832 - val_acc: 0.8639\n",
            "Epoch 20/20\n",
            " - 1s - loss: 0.0048 - acc: 0.9995 - val_loss: 0.7850 - val_acc: 0.8529\n"
          ],
          "name": "stdout"
        }
      ]
    },
    {
      "cell_type": "markdown",
      "metadata": {
        "colab_type": "text",
        "id": "PrxYLkMX9Ev3"
      },
      "source": [
        "#### Evaluate model performance during training\n",
        "1. Plot the training and validation loss as a function of training epoch. Describe what happens during the training in terms of under or overfitting.\n",
        "2. Plot the training and validation accuracy as a function of the training epoch.\n",
        "\n",
        "Hint: these quantities are contained in the dict history.history."
      ]
    },
    {
      "cell_type": "markdown",
      "metadata": {
        "id": "SodX9cEiabgn",
        "colab_type": "text"
      },
      "source": [
        "#Ans1"
      ]
    },
    {
      "cell_type": "code",
      "metadata": {
        "colab_type": "code",
        "hide_input": true,
        "id": "4YH3yVZy9Ev4",
        "colab": {
          "base_uri": "https://localhost:8080/",
          "height": 501
        },
        "outputId": "55256a97-ba5a-426c-ca5f-46bdcef280c7"
      },
      "source": [
        "plt.plot(history.history['loss'])\n",
        "plt.plot(history.history['val_loss'])\n",
        "plt.title('Training and validation loss')\n",
        "plt.ylabel('Loss')\n",
        "plt.xlabel('Epoch')\n",
        "plt.legend(['train', 'test'], loc='best')\n",
        "plt.show()"
      ],
      "execution_count": 12,
      "outputs": [
        {
          "output_type": "display_data",
          "data": {
            "image/png": "[encoded data removed]",
            "text/plain": [
              "<Figure size 750x500 with 1 Axes>"
            ]
          },
          "metadata": {
            "tags": []
          }
        }
      ]
    },
    {
      "cell_type": "markdown",
      "metadata": {
        "id": "4uPQXIGIcC40",
        "colab_type": "text"
      },
      "source": [
        "We can see that the model is overfitting. \n",
        "\n",
        "The training model is underfit initially, but as the number of epochs increase the model reaches a good fit but as again as the epochs increase higher the model starts to overfitting."
      ]
    },
    {
      "cell_type": "markdown",
      "metadata": {
        "id": "qJKcgCSac4oR",
        "colab_type": "text"
      },
      "source": [
        "#Ans2"
      ]
    },
    {
      "cell_type": "code",
      "metadata": {
        "colab_type": "code",
        "hide_input": true,
        "id": "wrJhYEe09Ev-",
        "colab": {
          "base_uri": "https://localhost:8080/",
          "height": 501
        },
        "outputId": "05e2568e-134d-4990-ecc5-972e6aa69717"
      },
      "source": [
        "plt.plot(history.history['val_acc'])\n",
        "plt.plot(history.history['acc'])\n",
        "plt.title('Training and validation accuracy')\n",
        "plt.ylabel('Accuracy')\n",
        "plt.xlabel('Epoch')\n",
        "plt.legend(['train', 'test'], loc='best')\n",
        "plt.show()"
      ],
      "execution_count": 13,
      "outputs": [
        {
          "output_type": "display_data",
          "data": {
            "image/png": "[encoded data removed]",
            "text/plain": [
              "<Figure size 750x500 with 1 Axes>"
            ]
          },
          "metadata": {
            "tags": []
          }
        }
      ]
    },
    {
      "cell_type": "markdown",
      "metadata": {
        "colab_type": "text",
        "id": "FWDq34yW9EwA"
      },
      "source": [
        "#### Early stopping\n",
        "One simple technique to avoid overfitting is to use the validation set to 'tune' the optimal number of epochs\n",
        "* In this case, we could stop after 4 epochs\n"
      ]
    },
    {
      "cell_type": "code",
      "metadata": {
        "cellView": "both",
        "colab_type": "code",
        "id": "Csk3_Yn09EwB",
        "colab": {
          "base_uri": "https://localhost:8080/",
          "height": 187
        },
        "outputId": "bd8aa5e9-e049-4f23-9e06-3e55d274b0b1"
      },
      "source": [
        "#@title\n",
        "model.fit(x_train, y_train, epochs=4, batch_size=512, verbose=2)\n",
        "result = model.evaluate(x_test, y_test)\n",
        "print(\"Loss: {:.4f}, Accuracy:  {:.4f}\".format(*result))"
      ],
      "execution_count": 14,
      "outputs": [
        {
          "output_type": "stream",
          "text": [
            "Epoch 1/4\n",
            " - 2s - loss: 0.2246 - acc: 0.9452\n",
            "Epoch 2/4\n",
            " - 2s - loss: 0.1394 - acc: 0.9593\n",
            "Epoch 3/4\n",
            " - 2s - loss: 0.1098 - acc: 0.9670\n",
            "Epoch 4/4\n",
            " - 2s - loss: 0.0886 - acc: 0.9722\n",
            "25000/25000 [==============================] - 2s 69us/step\n",
            "Loss: 0.5068, Accuracy:  0.8558\n"
          ],
          "name": "stdout"
        }
      ]
    },
    {
      "cell_type": "markdown",
      "metadata": {
        "colab_type": "text",
        "id": "5Mo4BX1N9EwD"
      },
      "source": [
        "#### Predictions\n",
        "1. Print the first review that were correctly classified along with the predicted value.\n",
        "2. Print the first review that were misclassified along with the predicted value. Can you explain why the model likely failed? How confident was the model?"
      ]
    },
    {
      "cell_type": "code",
      "metadata": {
        "colab_type": "code",
        "id": "fZB5xKAh9EwE",
        "colab": {}
      },
      "source": [
        "predicted_classes = model.predict_classes(x_test).reshape(25000)\n",
        "prediction_probabilities = model.predict(x_test)"
      ],
      "execution_count": 0,
      "outputs": []
    },
    {
      "cell_type": "code",
      "metadata": {
        "id": "03bI98sEf_iR",
        "colab_type": "code",
        "colab": {
          "base_uri": "https://localhost:8080/",
          "height": 122
        },
        "outputId": "f25fb0cd-725f-41aa-90f3-af385f64e73c"
      },
      "source": [
        "correctly_classified = test_labels == predicted_classes\n",
        "mis_classified = test_labels != predicted_classes\n",
        "\n",
        "correctly_classified_predictions = test_data[correctly_classified]\n",
        "misclassified_predictions = test_data[mis_classified]\n",
        "print(misclassified_predictions[0][0])\n",
        "\n",
        "print(\" \".join([reverse_word_index.get(i - 3, \"?\") for i in correctly_classified_predictions[0]]))\n",
        "print('\\n')\n",
        "print(\" \".join([reverse_word_index.get(i - 3, \"?\") for i in misclassified_predictions[0]]))"
      ],
      "execution_count": 16,
      "outputs": [
        {
          "output_type": "stream",
          "text": [
            "1\n",
            "? please give this one a miss br br ? ? and the rest of the cast rendered terrible performances the show is flat flat flat br br i don't know how michael madison could have allowed this one on his plate he almost seemed to know this wasn't going to work out and his performance was quite ? so all you madison fans give this a miss\n",
            "\n",
            "\n",
            "? i generally love this type of movie however this time i found myself wanting to kick the screen since i can't do that i will just complain about it this was absolutely idiotic the things that happen with the dead kids are very cool but the alive people are absolute idiots i am a grown man pretty big and i can defend myself well however i would not do half the stuff the little girl does in this movie also the mother in this movie is reckless with her children to the point of neglect i wish i wasn't so angry about her and her actions because i would have otherwise enjoyed the flick what a number she was take my advise and fast forward through everything you see her do until the end also is anyone else getting sick of watching movies that are filmed so dark anymore one can hardly see what is being filmed as an audience we are ? involved with the actions on the screen so then why the hell can't we have night vision\n"
          ],
          "name": "stdout"
        }
      ]
    },
    {
      "cell_type": "markdown",
      "metadata": {
        "id": "h0AUCnX_iR_Z",
        "colab_type": "text"
      },
      "source": [
        "The Model fails as the review is too harsh or offensive. It is not a formal opinion. Though the core observations are correct and could be helpful but the way it is presented is not right."
      ]
    },
    {
      "cell_type": "markdown",
      "metadata": {
        "colab_type": "text",
        "id": "W9_hvA-lanwt"
      },
      "source": [
        "#### Takeaways\n",
        "* Neural nets require a lot of preprocessing to create tensors\n",
        "* Dense layers with ReLU activation can solve a wide range of problems\n",
        "* Binary classification can be done with a Dense layer with a single unit, sigmoid activation, and binary cross-entropy loss\n",
        "* Neural nets overfit easily\n",
        "* Many design choices have an effect on accuracy and overfitting. One can try:\n",
        "    - 1 or 3 hidden layers\n",
        "    - more or fewer hidden units (e.g. 64)\n",
        "    - MSE loss instead of binary cross-entropy\n",
        "    - `tanh` activation instead of `ReLU`"
      ]
    },
    {
      "cell_type": "markdown",
      "metadata": {
        "colab_type": "text",
        "id": "WchP4Tgu9ExF"
      },
      "source": [
        "### Regularization: build smaller networks\n",
        "* The easiest way to avoid overfitting is to use a simpler model\n",
        "* The number of learnable parameters is called the model _capacity_\n",
        "* A model with more parameters has a higher _memorization capacity_\n",
        "    - The entire training set can be `stored` in the weights\n",
        "    - Learns the mapping from training examples to outputs\n",
        "* Forcing the model to be small forces it to learn a compressed representation that generalizes better\n",
        "    - Always a trade-off between too much and too little capacity\n",
        "* Start with few layers and parameters, incease until you see diminisching returns"
      ]
    },
    {
      "cell_type": "markdown",
      "metadata": {
        "colab_type": "text",
        "id": "wo8UGPGQ9ExG"
      },
      "source": [
        "Let's try this on our movie review data, with 4 units per layer\n"
      ]
    },
    {
      "cell_type": "code",
      "metadata": {
        "colab_type": "code",
        "id": "rFjmZtyl9ExG",
        "colab": {}
      },
      "source": [
        "from keras.datasets import imdb\n",
        "import numpy as np\n",
        "\n",
        "(train_data, train_labels), (test_data, test_labels) = imdb.load_data(num_words=10000)\n",
        "\n",
        "def vectorize_sequences(sequences, dimension=10000):\n",
        "    # Create an all-zero matrix of shape (len(sequences), dimension)\n",
        "    results = np.zeros((len(sequences), dimension))\n",
        "    for i, sequence in enumerate(sequences):\n",
        "        results[i, sequence] = 1.  # set specific indices of results[i] to 1s\n",
        "    return results\n",
        "\n",
        "# Our vectorized training data\n",
        "x_train = vectorize_sequences(train_data)\n",
        "# Our vectorized test data\n",
        "x_test = vectorize_sequences(test_data)\n",
        "# Our vectorized labels\n",
        "y_train = np.asarray(train_labels).astype('float32')\n",
        "y_test = np.asarray(test_labels).astype('float32')"
      ],
      "execution_count": 0,
      "outputs": []
    },
    {
      "cell_type": "code",
      "metadata": {
        "colab_type": "code",
        "id": "0RYsX-RF9ExJ",
        "colab": {
          "base_uri": "https://localhost:8080/",
          "height": 1000
        },
        "outputId": "0f5f0330-4fd2-492a-cefd-cfdf423e164d"
      },
      "source": [
        "from keras import models\n",
        "from keras import layers \n",
        "import matplotlib.pyplot as plt\n",
        "\n",
        "original_model = models.Sequential()\n",
        "original_model.add(layers.Dense(16, activation='relu', input_shape=(10000,)))\n",
        "original_model.add(layers.Dense(16, activation='relu'))\n",
        "original_model.add(layers.Dense(1, activation='sigmoid'))\n",
        "\n",
        "original_model.compile(optimizer='rmsprop',\n",
        "                       loss='binary_crossentropy',\n",
        "                       metrics=['acc'])\n",
        "\n",
        "smaller_model = models.Sequential()\n",
        "smaller_model.add(layers.Dense(4, activation='relu', input_shape=(10000,)))\n",
        "smaller_model.add(layers.Dense(4, activation='relu'))\n",
        "smaller_model.add(layers.Dense(1, activation='sigmoid'))\n",
        "\n",
        "smaller_model.compile(optimizer='rmsprop',\n",
        "                      loss='binary_crossentropy',\n",
        "                      metrics=['acc'])\n",
        "original_hist = original_model.fit(x_train, y_train,\n",
        "                                   epochs=20,\n",
        "                                   batch_size=512, verbose=2,\n",
        "                                   validation_data=(x_test, y_test))\n",
        "smaller_model_hist = smaller_model.fit(x_train, y_train,\n",
        "                                       epochs=20,\n",
        "                                       batch_size=512, verbose=2,\n",
        "                                       validation_data=(x_test, y_test))"
      ],
      "execution_count": 18,
      "outputs": [
        {
          "output_type": "stream",
          "text": [
            "Train on 25000 samples, validate on 25000 samples\n",
            "Epoch 1/20\n",
            " - 4s - loss: 0.4413 - acc: 0.8252 - val_loss: 0.3226 - val_acc: 0.8832\n",
            "Epoch 2/20\n",
            " - 4s - loss: 0.2490 - acc: 0.9103 - val_loss: 0.2903 - val_acc: 0.8842\n",
            "Epoch 3/20\n",
            " - 4s - loss: 0.1933 - acc: 0.9296 - val_loss: 0.3077 - val_acc: 0.8761\n",
            "Epoch 4/20\n",
            " - 4s - loss: 0.1600 - acc: 0.9434 - val_loss: 0.3014 - val_acc: 0.8822\n",
            "Epoch 5/20\n",
            " - 4s - loss: 0.1401 - acc: 0.9510 - val_loss: 0.3210 - val_acc: 0.8778\n",
            "Epoch 6/20\n",
            " - 4s - loss: 0.1198 - acc: 0.9588 - val_loss: 0.3448 - val_acc: 0.8734\n",
            "Epoch 7/20\n",
            " - 4s - loss: 0.1052 - acc: 0.9632 - val_loss: 0.3800 - val_acc: 0.8673\n",
            "Epoch 8/20\n",
            " - 4s - loss: 0.0894 - acc: 0.9708 - val_loss: 0.4324 - val_acc: 0.8613\n",
            "Epoch 9/20\n",
            " - 4s - loss: 0.0786 - acc: 0.9739 - val_loss: 0.4272 - val_acc: 0.8637\n",
            "Epoch 10/20\n",
            " - 4s - loss: 0.0648 - acc: 0.9804 - val_loss: 0.4574 - val_acc: 0.8629\n",
            "Epoch 11/20\n",
            " - 4s - loss: 0.0552 - acc: 0.9824 - val_loss: 0.5005 - val_acc: 0.8575\n",
            "Epoch 12/20\n",
            " - 4s - loss: 0.0462 - acc: 0.9872 - val_loss: 0.5209 - val_acc: 0.8601\n",
            "Epoch 13/20\n",
            " - 4s - loss: 0.0365 - acc: 0.9902 - val_loss: 0.5589 - val_acc: 0.8580\n",
            "Epoch 14/20\n",
            " - 4s - loss: 0.0305 - acc: 0.9920 - val_loss: 0.6155 - val_acc: 0.8537\n",
            "Epoch 15/20\n",
            " - 4s - loss: 0.0266 - acc: 0.9922 - val_loss: 0.6331 - val_acc: 0.8550\n",
            "Epoch 16/20\n",
            " - 4s - loss: 0.0234 - acc: 0.9944 - val_loss: 0.6622 - val_acc: 0.8544\n",
            "Epoch 17/20\n",
            " - 4s - loss: 0.0141 - acc: 0.9968 - val_loss: 0.7036 - val_acc: 0.8532\n",
            "Epoch 18/20\n",
            " - 4s - loss: 0.0144 - acc: 0.9960 - val_loss: 0.7455 - val_acc: 0.8515\n",
            "Epoch 19/20\n",
            " - 4s - loss: 0.0082 - acc: 0.9989 - val_loss: 0.8122 - val_acc: 0.8468\n",
            "Epoch 20/20\n",
            " - 4s - loss: 0.0074 - acc: 0.9985 - val_loss: 0.8186 - val_acc: 0.8518\n",
            "Train on 25000 samples, validate on 25000 samples\n",
            "Epoch 1/20\n",
            " - 4s - loss: 0.5446 - acc: 0.8076 - val_loss: 0.4552 - val_acc: 0.8501\n",
            "Epoch 2/20\n",
            " - 4s - loss: 0.3725 - acc: 0.8836 - val_loss: 0.3579 - val_acc: 0.8729\n",
            "Epoch 3/20\n",
            " - 4s - loss: 0.2875 - acc: 0.9047 - val_loss: 0.3086 - val_acc: 0.8852\n",
            "Epoch 4/20\n",
            " - 4s - loss: 0.2380 - acc: 0.9198 - val_loss: 0.2872 - val_acc: 0.8894\n",
            "Epoch 5/20\n",
            " - 4s - loss: 0.2057 - acc: 0.9302 - val_loss: 0.2784 - val_acc: 0.8912\n",
            "Epoch 6/20\n",
            " - 4s - loss: 0.1832 - acc: 0.9372 - val_loss: 0.2786 - val_acc: 0.8886\n",
            "Epoch 7/20\n",
            " - 4s - loss: 0.1651 - acc: 0.9432 - val_loss: 0.2833 - val_acc: 0.8876\n",
            "Epoch 8/20\n",
            " - 4s - loss: 0.1512 - acc: 0.9489 - val_loss: 0.2884 - val_acc: 0.8876\n",
            "Epoch 9/20\n",
            " - 4s - loss: 0.1387 - acc: 0.9539 - val_loss: 0.2997 - val_acc: 0.8836\n",
            "Epoch 10/20\n",
            " - 4s - loss: 0.1280 - acc: 0.9577 - val_loss: 0.3084 - val_acc: 0.8827\n",
            "Epoch 11/20\n",
            " - 4s - loss: 0.1186 - acc: 0.9604 - val_loss: 0.3242 - val_acc: 0.8784\n",
            "Epoch 12/20\n",
            " - 4s - loss: 0.1104 - acc: 0.9639 - val_loss: 0.3429 - val_acc: 0.8745\n",
            "Epoch 13/20\n",
            " - 4s - loss: 0.1025 - acc: 0.9666 - val_loss: 0.3482 - val_acc: 0.8756\n",
            "Epoch 14/20\n",
            " - 4s - loss: 0.0954 - acc: 0.9700 - val_loss: 0.3646 - val_acc: 0.8734\n",
            "Epoch 15/20\n",
            " - 4s - loss: 0.0886 - acc: 0.9722 - val_loss: 0.3937 - val_acc: 0.8682\n",
            "Epoch 16/20\n",
            " - 4s - loss: 0.0830 - acc: 0.9738 - val_loss: 0.4006 - val_acc: 0.8681\n",
            "Epoch 17/20\n",
            " - 4s - loss: 0.0773 - acc: 0.9767 - val_loss: 0.4261 - val_acc: 0.8649\n",
            "Epoch 18/20\n",
            " - 4s - loss: 0.0720 - acc: 0.9780 - val_loss: 0.4474 - val_acc: 0.8624\n",
            "Epoch 19/20\n",
            " - 4s - loss: 0.0668 - acc: 0.9813 - val_loss: 0.4545 - val_acc: 0.8646\n",
            "Epoch 20/20\n",
            " - 4s - loss: 0.0617 - acc: 0.9823 - val_loss: 0.4754 - val_acc: 0.8628\n"
          ],
          "name": "stdout"
        }
      ]
    },
    {
      "cell_type": "markdown",
      "metadata": {
        "colab_type": "text",
        "id": "rCV6TJ899ExL"
      },
      "source": [
        "1. Plot the validation loss for the original and smaller models. How does the smaller model behave compared to the original?"
      ]
    },
    {
      "cell_type": "code",
      "metadata": {
        "colab_type": "code",
        "id": "m7kNvhh-9ExN",
        "colab": {
          "base_uri": "https://localhost:8080/",
          "height": 501
        },
        "outputId": "010016c4-e64c-4de7-f910-632052ad58d2"
      },
      "source": [
        "plt.plot(original_hist.history['val_loss'])\n",
        "plt.plot(smaller_model_hist.history['val_loss'])\n",
        "plt.title('Validation Loss')\n",
        "plt.ylabel('Loss')\n",
        "plt.xlabel('Epoch')\n",
        "plt.legend(['Orignal Model', 'smaller Model'], loc='best')\n",
        "plt.show()"
      ],
      "execution_count": 19,
      "outputs": [
        {
          "output_type": "display_data",
          "data": {
            "image/png": "[encoded data removed]",
            "text/plain": [
              "<Figure size 750x500 with 1 Axes>"
            ]
          },
          "metadata": {
            "tags": []
          }
        }
      ]
    },
    {
      "cell_type": "markdown",
      "metadata": {
        "id": "76E8Tv8LjXf3",
        "colab_type": "text"
      },
      "source": [
        "The smaller model is comparitively less overfitting than the original model as the loss in the smaller model was higher than the original model initially. But with the increase in epoch, the loss in the smaller model was less comparitively. "
      ]
    },
    {
      "cell_type": "markdown",
      "metadata": {
        "colab_type": "text",
        "id": "_u-YXpCZ9ExP"
      },
      "source": [
        "### Regularization: Weight regularization\n",
        "* As we did many times before, we can also add weight regularization to our loss function\n",
        "- L1 regularization: leads to _sparse networks_ with many weights that are 0\n",
        "- L2 regularization: leads to many very small weights\n",
        "    - Also called _weight decay_ in neural net literature\n",
        "* In Keras, add `kernel_regularizer` to every layer"
      ]
    },
    {
      "cell_type": "code",
      "metadata": {
        "colab_type": "code",
        "id": "kXOqh2uU9ExR",
        "colab": {}
      },
      "source": [
        "from keras import regularizers\n",
        "from keras import models\n",
        "from keras import layers \n",
        "import matplotlib.pyplot as plt\n",
        "\n",
        "l2_model = models.Sequential()\n",
        "l2_model.add(layers.Dense(16, kernel_regularizer=regularizers.l2(0.001),\n",
        "                          activation='relu', input_shape=(10000,)))\n",
        "l2_model.add(layers.Dense(16, kernel_regularizer=regularizers.l2(0.001),\n",
        "                          activation='relu'))\n",
        "l2_model.add(layers.Dense(1, activation='sigmoid'))"
      ],
      "execution_count": 0,
      "outputs": []
    },
    {
      "cell_type": "code",
      "metadata": {
        "colab_type": "code",
        "id": "mzNX3bHo9ExT",
        "colab": {}
      },
      "source": [
        "l2_model.compile(optimizer='rmsprop',\n",
        "                 loss='binary_crossentropy',\n",
        "                 metrics=['acc'])"
      ],
      "execution_count": 0,
      "outputs": []
    },
    {
      "cell_type": "code",
      "metadata": {
        "colab_type": "code",
        "id": "2Gg8hLY69ExU",
        "colab": {
          "base_uri": "https://localhost:8080/",
          "height": 714
        },
        "outputId": "ea0e1f2b-565f-42a7-befb-46e930c0ae41"
      },
      "source": [
        "l2_model_hist = l2_model.fit(x_train, y_train,\n",
        "                             epochs=20,\n",
        "                             batch_size=512, verbose=2,\n",
        "                             validation_data=(x_test, y_test))"
      ],
      "execution_count": 22,
      "outputs": [
        {
          "output_type": "stream",
          "text": [
            "Train on 25000 samples, validate on 25000 samples\n",
            "Epoch 1/20\n",
            " - 4s - loss: 0.4848 - acc: 0.8158 - val_loss: 0.3983 - val_acc: 0.8575\n",
            "Epoch 2/20\n",
            " - 4s - loss: 0.3106 - acc: 0.9067 - val_loss: 0.3315 - val_acc: 0.8909\n",
            "Epoch 3/20\n",
            " - 4s - loss: 0.2694 - acc: 0.9231 - val_loss: 0.3312 - val_acc: 0.8893\n",
            "Epoch 4/20\n",
            " - 4s - loss: 0.2483 - acc: 0.9307 - val_loss: 0.3650 - val_acc: 0.8746\n",
            "Epoch 5/20\n",
            " - 4s - loss: 0.2415 - acc: 0.9317 - val_loss: 0.3658 - val_acc: 0.8751\n",
            "Epoch 6/20\n",
            " - 4s - loss: 0.2323 - acc: 0.9371 - val_loss: 0.3532 - val_acc: 0.8822\n",
            "Epoch 7/20\n",
            " - 4s - loss: 0.2245 - acc: 0.9406 - val_loss: 0.4209 - val_acc: 0.8590\n",
            "Epoch 8/20\n",
            " - 4s - loss: 0.2254 - acc: 0.9391 - val_loss: 0.3707 - val_acc: 0.8777\n",
            "Epoch 9/20\n",
            " - 4s - loss: 0.2165 - acc: 0.9431 - val_loss: 0.3837 - val_acc: 0.8752\n",
            "Epoch 10/20\n",
            " - 4s - loss: 0.2171 - acc: 0.9410 - val_loss: 0.3997 - val_acc: 0.8713\n",
            "Epoch 11/20\n",
            " - 4s - loss: 0.2136 - acc: 0.9444 - val_loss: 0.3902 - val_acc: 0.8739\n",
            "Epoch 12/20\n",
            " - 4s - loss: 0.2117 - acc: 0.9448 - val_loss: 0.4361 - val_acc: 0.8590\n",
            "Epoch 13/20\n",
            " - 4s - loss: 0.2113 - acc: 0.9430 - val_loss: 0.4193 - val_acc: 0.8654\n",
            "Epoch 14/20\n",
            " - 4s - loss: 0.2058 - acc: 0.9465 - val_loss: 0.4006 - val_acc: 0.8718\n",
            "Epoch 15/20\n",
            " - 4s - loss: 0.2081 - acc: 0.9443 - val_loss: 0.4041 - val_acc: 0.8726\n",
            "Epoch 16/20\n",
            " - 4s - loss: 0.2009 - acc: 0.9488 - val_loss: 0.4224 - val_acc: 0.8653\n",
            "Epoch 17/20\n",
            " - 4s - loss: 0.2054 - acc: 0.9457 - val_loss: 0.4116 - val_acc: 0.8705\n",
            "Epoch 18/20\n",
            " - 4s - loss: 0.2013 - acc: 0.9479 - val_loss: 0.4142 - val_acc: 0.8692\n",
            "Epoch 19/20\n",
            " - 4s - loss: 0.2016 - acc: 0.9474 - val_loss: 0.4727 - val_acc: 0.8576\n",
            "Epoch 20/20\n",
            " - 4s - loss: 0.1951 - acc: 0.9505 - val_loss: 0.4563 - val_acc: 0.8592\n"
          ],
          "name": "stdout"
        }
      ]
    },
    {
      "cell_type": "markdown",
      "metadata": {
        "colab_type": "text",
        "id": "vKOw1jNlibXK"
      },
      "source": [
        "1. Plot the validation loss for the original and l2 regularized models. How does the regularized model behave compared to the original?"
      ]
    },
    {
      "cell_type": "code",
      "metadata": {
        "colab_type": "code",
        "id": "9qYQvkIe9ExW",
        "colab": {
          "base_uri": "https://localhost:8080/",
          "height": 501
        },
        "outputId": "a5c4b0bb-cdf8-43c6-f3fc-ad90671029e1"
      },
      "source": [
        "plt.plot(original_hist.history['val_loss'])\n",
        "plt.plot(l2_model_hist.history['val_loss'])\n",
        "plt.title('Validation Loss')\n",
        "plt.ylabel('Loss')\n",
        "plt.xlabel('Epoch')\n",
        "plt.legend(['Original Model', 'L2 regularization Model'], loc='best')\n",
        "plt.show()"
      ],
      "execution_count": 23,
      "outputs": [
        {
          "output_type": "display_data",
          "data": {
            "image/png": "[encoded data removed]",
            "text/plain": [
              "<Figure size 750x500 with 1 Axes>"
            ]
          },
          "metadata": {
            "tags": []
          }
        }
      ]
    },
    {
      "cell_type": "markdown",
      "metadata": {
        "id": "gdFdu55ZkjCV",
        "colab_type": "text"
      },
      "source": [
        "The loss of the original model is increasing with increase in epcohs. But the loss in the regularization model does not vary too much. It is stable. The l2 model is performing better than the original model."
      ]
    },
    {
      "cell_type": "markdown",
      "metadata": {
        "colab_type": "text",
        "id": "OFbL6yJF9ExZ"
      },
      "source": [
        "### Regularization: dropout\n",
        "* One of the most effective and commonly used regularization techniques\n",
        "* Randomly set a number of outputs of the layer to 0\n",
        "* Idea: break up accidental non-significant learned patterns \n",
        "* _Dropout rate_: fraction of the outputs that are zeroed-out\n",
        "    - Usually between 0.2 and 0.5\n",
        "* At test time, nothing is dropped out, but the output values are scaled down by the dropout rate\n",
        "    - Balances out that more units are active than during training\n",
        "* In Keras: add `Dropout` layers between the normal layers"
      ]
    },
    {
      "cell_type": "code",
      "metadata": {
        "colab_type": "code",
        "id": "SUHgbTz49Exa",
        "colab": {
          "base_uri": "https://localhost:8080/",
          "height": 122
        },
        "outputId": "c5eb8c85-70f4-4654-cb3e-2b5150182856"
      },
      "source": [
        "from keras import models\n",
        "from keras import layers \n",
        "import matplotlib.pyplot as plt\n",
        "\n",
        "dpt_model = models.Sequential()\n",
        "dpt_model.add(layers.Dense(16, activation='relu', input_shape=(10000,)))\n",
        "dpt_model.add(layers.Dropout(0.5))\n",
        "dpt_model.add(layers.Dense(16, activation='relu'))\n",
        "dpt_model.add(layers.Dropout(0.5))\n",
        "dpt_model.add(layers.Dense(1, activation='sigmoid'))\n",
        "\n",
        "dpt_model.compile(optimizer='rmsprop',\n",
        "                  loss='binary_crossentropy',\n",
        "                  metrics=['acc'])"
      ],
      "execution_count": 24,
      "outputs": [
        {
          "output_type": "stream",
          "text": [
            "WARNING:tensorflow:From /usr/local/lib/python3.6/dist-packages/keras/backend/tensorflow_backend.py:148: The name tf.placeholder_with_default is deprecated. Please use tf.compat.v1.placeholder_with_default instead.\n",
            "\n",
            "WARNING:tensorflow:From /usr/local/lib/python3.6/dist-packages/keras/backend/tensorflow_backend.py:3733: calling dropout (from tensorflow.python.ops.nn_ops) with keep_prob is deprecated and will be removed in a future version.\n",
            "Instructions for updating:\n",
            "Please use `rate` instead of `keep_prob`. Rate should be set to `rate = 1 - keep_prob`.\n"
          ],
          "name": "stdout"
        }
      ]
    },
    {
      "cell_type": "code",
      "metadata": {
        "colab_type": "code",
        "id": "2QSG_vWa9Exb",
        "colab": {
          "base_uri": "https://localhost:8080/",
          "height": 714
        },
        "outputId": "b7777423-d0b8-45ae-fd2f-3db3844b1f38"
      },
      "source": [
        "dpt_model_hist = dpt_model.fit(x_train, y_train,\n",
        "                               epochs=20,\n",
        "                               \n",
        "                               batch_size=512, verbose=2,\n",
        "                               validation_data=(x_test, y_test))"
      ],
      "execution_count": 25,
      "outputs": [
        {
          "output_type": "stream",
          "text": [
            "Train on 25000 samples, validate on 25000 samples\n",
            "Epoch 1/20\n",
            " - 5s - loss: 0.5952 - acc: 0.6804 - val_loss: 0.4517 - val_acc: 0.8693\n",
            "Epoch 2/20\n",
            " - 4s - loss: 0.4566 - acc: 0.8026 - val_loss: 0.3450 - val_acc: 0.8825\n",
            "Epoch 3/20\n",
            " - 4s - loss: 0.3766 - acc: 0.8487 - val_loss: 0.2957 - val_acc: 0.8882\n",
            "Epoch 4/20\n",
            " - 4s - loss: 0.3227 - acc: 0.8766 - val_loss: 0.2781 - val_acc: 0.8898\n",
            "Epoch 5/20\n",
            " - 4s - loss: 0.2845 - acc: 0.8981 - val_loss: 0.2759 - val_acc: 0.8906\n",
            "Epoch 6/20\n",
            " - 4s - loss: 0.2533 - acc: 0.9095 - val_loss: 0.2848 - val_acc: 0.8893\n",
            "Epoch 7/20\n",
            " - 4s - loss: 0.2306 - acc: 0.9190 - val_loss: 0.2939 - val_acc: 0.8866\n",
            "Epoch 8/20\n",
            " - 4s - loss: 0.2114 - acc: 0.9250 - val_loss: 0.3119 - val_acc: 0.8880\n",
            "Epoch 9/20\n",
            " - 4s - loss: 0.1970 - acc: 0.9325 - val_loss: 0.3303 - val_acc: 0.8863\n",
            "Epoch 10/20\n",
            " - 4s - loss: 0.1814 - acc: 0.9351 - val_loss: 0.3381 - val_acc: 0.8838\n",
            "Epoch 11/20\n",
            " - 4s - loss: 0.1715 - acc: 0.9384 - val_loss: 0.3575 - val_acc: 0.8818\n",
            "Epoch 12/20\n",
            " - 4s - loss: 0.1670 - acc: 0.9424 - val_loss: 0.3811 - val_acc: 0.8822\n",
            "Epoch 13/20\n",
            " - 4s - loss: 0.1548 - acc: 0.9437 - val_loss: 0.4015 - val_acc: 0.8814\n",
            "Epoch 14/20\n",
            " - 4s - loss: 0.1527 - acc: 0.9456 - val_loss: 0.4168 - val_acc: 0.8796\n",
            "Epoch 15/20\n",
            " - 4s - loss: 0.1417 - acc: 0.9476 - val_loss: 0.4364 - val_acc: 0.8787\n",
            "Epoch 16/20\n",
            " - 4s - loss: 0.1481 - acc: 0.9470 - val_loss: 0.4643 - val_acc: 0.8773\n",
            "Epoch 17/20\n",
            " - 4s - loss: 0.1349 - acc: 0.9514 - val_loss: 0.4611 - val_acc: 0.8752\n",
            "Epoch 18/20\n",
            " - 4s - loss: 0.1361 - acc: 0.9498 - val_loss: 0.4761 - val_acc: 0.8722\n",
            "Epoch 19/20\n",
            " - 6s - loss: 0.1316 - acc: 0.9524 - val_loss: 0.5166 - val_acc: 0.8766\n",
            "Epoch 20/20\n",
            " - 4s - loss: 0.1321 - acc: 0.9515 - val_loss: 0.5158 - val_acc: 0.8737\n"
          ],
          "name": "stdout"
        }
      ]
    },
    {
      "cell_type": "markdown",
      "metadata": {
        "colab_type": "text",
        "id": "VZx6VNXn9Exd"
      },
      "source": [
        "1. Plot the validation loss for the original and dropout models. How does the dropout model behave compared to the original?"
      ]
    },
    {
      "cell_type": "code",
      "metadata": {
        "colab_type": "code",
        "id": "-ZS_z7xM9Exe",
        "colab": {
          "base_uri": "https://localhost:8080/",
          "height": 501
        },
        "outputId": "227f0d3d-3f71-4bed-c814-a08cc58a01af"
      },
      "source": [
        "plt.plot(original_hist.history['val_loss'])\n",
        "plt.plot(dpt_model_hist.history['val_loss'])\n",
        "plt.title('Validation Loss')\n",
        "plt.ylabel('Loss')\n",
        "plt.xlabel('Epoch')\n",
        "plt.legend(['Orignal Model', 'dropout Model'], loc='best')\n",
        "plt.show()"
      ],
      "execution_count": 26,
      "outputs": [
        {
          "output_type": "display_data",
          "data": {
            "image/png": "[encoded data removed]",
            "text/plain": [
              "<Figure size 750x500 with 1 Axes>"
            ]
          },
          "metadata": {
            "tags": []
          }
        }
      ]
    },
    {
      "cell_type": "markdown",
      "metadata": {
        "id": "_BQ3pBgwlWjh",
        "colab_type": "text"
      },
      "source": [
        "The dropout model is not overfitting and also the validation loss is less compared to original model. The loss of both the original and dropout models increased with increase in epochs. "
      ]
    },
    {
      "cell_type": "markdown",
      "metadata": {
        "colab_type": "text",
        "id": "ORAwOqdV9Exf"
      },
      "source": [
        "### Regularization recap\n",
        "* Get more training data\n",
        "* Reduce the capacity of the network\n",
        "* Add weight regularization\n",
        "* Add dropout\n",
        "* Either start with a simple model and add capacity\n",
        "* Or, start with a complex model and then regularize by adding weight regularization and dropout"
      ]
    },
    {
      "cell_type": "markdown",
      "metadata": {
        "colab_type": "text",
        "id": "1xwfZv_E9Ewq"
      },
      "source": [
        "### Regression\n",
        "* Dataset: 506 examples of houses and sale prices (Boston)\n",
        "    - Included in Keras, with a 1/5 train-test split\n",
        "* Each row is one house price, described by numeric properties of the house and neighborhood\n",
        "* Small dataset, non-normalized features"
      ]
    },
    {
      "cell_type": "code",
      "metadata": {
        "colab_type": "code",
        "id": "ZlUGyLJS9Ewr",
        "colab": {}
      },
      "source": [
        "from keras.datasets import boston_housing\n",
        "\n",
        "(train_data, train_targets), (test_data, test_targets) =  boston_housing.load_data()"
      ],
      "execution_count": 0,
      "outputs": []
    },
    {
      "cell_type": "markdown",
      "metadata": {
        "colab_type": "text",
        "id": "gX4hkxBb9Ewt"
      },
      "source": [
        "#### Preprocessing\n",
        "* Neural nets work a lot better if we normalize the features first. \n",
        "* Keras has no built-in support so we have to do this manually (or with scikit-learn)\n",
        "    - Again, be careful not to look at the test data during normalization\n",
        "    \n"
      ]
    },
    {
      "cell_type": "code",
      "metadata": {
        "colab_type": "code",
        "id": "d-W92M6I9Ewt",
        "colab": {}
      },
      "source": [
        "mean, std = train_data.mean(axis=0), train_data.std(axis=0)\n",
        "train_data -= mean\n",
        "train_data /= std\n",
        "\n",
        "test_data -= mean\n",
        "test_data /= std"
      ],
      "execution_count": 0,
      "outputs": []
    },
    {
      "cell_type": "markdown",
      "metadata": {
        "colab_type": "text",
        "id": "OwM0wfKE9Ewx"
      },
      "source": [
        "\n",
        "\n",
        "#### Building the network\n",
        "* This is a small dataset, so easy to overfit\n",
        "    * We use 2 hidden layers of 64 units each\n",
        "* Use smaller batches, more epochs\n",
        "* Since we want scalar output, the output layer is one unit without activation\n",
        "* Loss function is Mean Squared Error (bigger penalty)\n",
        "* Evaluation metric is Mean Absolute Error (more interpretable)\n",
        "* We will also use cross-validation, so we wrap the model building in a function, so that we can call it multiple times\n",
        "\n",
        "1. Create a function build_model that returns the neural network model described above"
      ]
    },
    {
      "cell_type": "code",
      "metadata": {
        "colab_type": "code",
        "id": "vL_p-NcX9Ewz",
        "colab": {}
      },
      "source": [
        "def build_model():\n",
        "    model = models.Sequential()\n",
        "    model.add(layers.Dense(64, activation='relu',\n",
        "                           input_shape=(train_data.shape[1],)))\n",
        "    model.add(layers.Dense(64, activation='relu'))\n",
        "    model.add(layers.Dense(1))\n",
        "    model.compile(optimizer='rmsprop', loss='mse', metrics=['mae'])\n",
        "    return model"
      ],
      "execution_count": 0,
      "outputs": []
    },
    {
      "cell_type": "markdown",
      "metadata": {
        "colab_type": "text",
        "id": "t2seh8XW9Ew1"
      },
      "source": [
        "#### Cross-validation\n",
        "* Keras does not have support for cross-validation\n",
        "* We can implement cross-validation ourselves (seeprovided code below)\n",
        "* Alternatively, we can wrap a Keras model as a scikit-learn estimator\n",
        "* Generally speaking, cross-validation is tricky with neural nets\n",
        "    * Some fold may not converge, or fluctuate on random initialization\n",
        "    "
      ]
    },
    {
      "cell_type": "code",
      "metadata": {
        "colab_type": "code",
        "id": "VupbDC1U9Ew3",
        "colab": {
          "base_uri": "https://localhost:8080/",
          "height": 85
        },
        "outputId": "ed6895ce-17c3-4871-fa32-f330e045d6e3"
      },
      "source": [
        "# implementation of cross-validation\n",
        "import numpy as np\n",
        "\n",
        "k = 4\n",
        "num_val_samples = len(train_data) // k\n",
        "num_epochs = 20\n",
        "all_scores = []\n",
        "for i in range(k):\n",
        "    print('processing fold #', i)\n",
        "    # Prepare the validation data: data from partition # k\n",
        "    val_data = train_data[i * num_val_samples: (i + 1) * num_val_samples]\n",
        "    val_targets = train_targets[i * num_val_samples: (i + 1) * num_val_samples]\n",
        "\n",
        "    # Prepare the training data: data from all other partitions\n",
        "    partial_train_data = np.concatenate(\n",
        "        [train_data[:i * num_val_samples],\n",
        "         train_data[(i + 1) * num_val_samples:]],\n",
        "        axis=0)\n",
        "    partial_train_targets = np.concatenate(\n",
        "        [train_targets[:i * num_val_samples],\n",
        "         train_targets[(i + 1) * num_val_samples:]],\n",
        "        axis=0)\n",
        "\n",
        "    # Build the Keras model (already compiled)\n",
        "    model = build_model()\n",
        "    # Train the model (in silent mode, verbose=0)\n",
        "    model.fit(partial_train_data, partial_train_targets,\n",
        "              epochs=num_epochs, batch_size=1, verbose=0)\n",
        "    # Evaluate the model on the validation data\n",
        "    val_mse, val_mae = model.evaluate(val_data, val_targets, verbose=2)\n",
        "    all_scores.append(val_mae)"
      ],
      "execution_count": 30,
      "outputs": [
        {
          "output_type": "stream",
          "text": [
            "processing fold # 0\n",
            "processing fold # 1\n",
            "processing fold # 2\n",
            "processing fold # 3\n"
          ],
          "name": "stdout"
        }
      ]
    },
    {
      "cell_type": "markdown",
      "metadata": {
        "colab_type": "text",
        "id": "OcEyK-E59Ew8"
      },
      "source": [
        "1. Train for longer (200 epochs) and keep track of loss after every epoch. Plot and describe the loss as a function of epoch number."
      ]
    },
    {
      "cell_type": "code",
      "metadata": {
        "colab_type": "code",
        "id": "tXsVlXqw9Ew8",
        "colab": {
          "base_uri": "https://localhost:8080/",
          "height": 1000
        },
        "outputId": "adfe5941-0e53-423d-9fa4-67da606934a2"
      },
      "source": [
        "from keras import backend as K\n",
        "K.clear_session() # Memory clean-up\n",
        "\n",
        "num_epochs = 200\n",
        "all_mae_histories = []\n",
        "for i in range(k):\n",
        "    print('processing fold #', i)\n",
        "    # Prepare the validation data: data from partition # k\n",
        "    val_data = train_data[i * num_val_samples: (i + 1) * num_val_samples]\n",
        "    val_targets = train_targets[i * num_val_samples: (i + 1) * num_val_samples]\n",
        "\n",
        "    # Prepare the training data: data from all other partitions\n",
        "    partial_train_data = np.concatenate(\n",
        "        [train_data[:i * num_val_samples],\n",
        "         train_data[(i + 1) * num_val_samples:]],\n",
        "        axis=0)\n",
        "    partial_train_targets = np.concatenate(\n",
        "        [train_targets[:i * num_val_samples],\n",
        "         train_targets[(i + 1) * num_val_samples:]],\n",
        "        axis=0)\n",
        "\n",
        "    # Build the Keras model (already compiled)\n",
        "    model = build_model()\n",
        "    # Train the model (in silent mode, verbose=0)\n",
        "    history = model.fit(partial_train_data, partial_train_targets,\n",
        "                        validation_data=(val_data, val_targets),\n",
        "                        epochs=num_epochs, batch_size=1, verbose=2)\n",
        "    mae_history = history.history['val_loss']\n",
        "    all_mae_histories.append(mae_history)"
      ],
      "execution_count": 31,
      "outputs": [
        {
          "output_type": "stream",
          "text": [
            "WARNING:tensorflow:From /usr/local/lib/python3.6/dist-packages/keras/backend/tensorflow_backend.py:107: The name tf.reset_default_graph is deprecated. Please use tf.compat.v1.reset_default_graph instead.\n",
            "\n",
            "processing fold # 0\n",
            "Train on 303 samples, validate on 101 samples\n",
            "Epoch 1/200\n",
            " - 1s - loss: 204.0753 - mean_absolute_error: 10.9655 - val_loss: 36.0745 - val_mean_absolute_error: 4.1312\n",
            "Epoch 2/200\n",
            " - 0s - loss: 30.1464 - mean_absolute_error: 3.7442 - val_loss: 22.4747 - val_mean_absolute_error: 3.0466\n",
            "Epoch 3/200\n",
            " - 0s - loss: 22.0593 - mean_absolute_error: 3.1511 - val_loss: 17.6855 - val_mean_absolute_error: 2.5793\n",
            "Epoch 4/200\n",
            " - 0s - loss: 18.6641 - mean_absolute_error: 2.9353 - val_loss: 14.1671 - val_mean_absolute_error: 2.4666\n",
            "Epoch 5/200\n",
            " - 0s - loss: 16.5068 - mean_absolute_error: 2.7540 - val_loss: 14.2675 - val_mean_absolute_error: 2.4555\n",
            "Epoch 6/200\n",
            " - 0s - loss: 15.5183 - mean_absolute_error: 2.6559 - val_loss: 13.6931 - val_mean_absolute_error: 2.2890\n",
            "Epoch 7/200\n",
            " - 0s - loss: 14.1405 - mean_absolute_error: 2.4994 - val_loss: 11.5533 - val_mean_absolute_error: 2.0725\n",
            "Epoch 8/200\n",
            " - 0s - loss: 13.8002 - mean_absolute_error: 2.4620 - val_loss: 12.2602 - val_mean_absolute_error: 2.2018\n",
            "Epoch 9/200\n",
            " - 0s - loss: 12.8126 - mean_absolute_error: 2.4434 - val_loss: 10.7393 - val_mean_absolute_error: 2.1367\n",
            "Epoch 10/200\n",
            " - 0s - loss: 12.7242 - mean_absolute_error: 2.3439 - val_loss: 10.3437 - val_mean_absolute_error: 2.1532\n",
            "Epoch 11/200\n",
            " - 0s - loss: 12.0571 - mean_absolute_error: 2.3662 - val_loss: 9.4620 - val_mean_absolute_error: 2.0192\n",
            "Epoch 12/200\n",
            " - 0s - loss: 11.5722 - mean_absolute_error: 2.2762 - val_loss: 9.7449 - val_mean_absolute_error: 2.2274\n",
            "Epoch 13/200\n",
            " - 0s - loss: 11.3578 - mean_absolute_error: 2.2115 - val_loss: 12.8213 - val_mean_absolute_error: 2.5783\n",
            "Epoch 14/200\n",
            " - 0s - loss: 10.7332 - mean_absolute_error: 2.2639 - val_loss: 8.9312 - val_mean_absolute_error: 1.9770\n",
            "Epoch 15/200\n",
            " - 0s - loss: 10.7975 - mean_absolute_error: 2.1913 - val_loss: 9.7507 - val_mean_absolute_error: 2.0409\n",
            "Epoch 16/200\n",
            " - 0s - loss: 10.0492 - mean_absolute_error: 2.1793 - val_loss: 9.7232 - val_mean_absolute_error: 2.1554\n",
            "Epoch 17/200\n",
            " - 0s - loss: 10.2879 - mean_absolute_error: 2.1351 - val_loss: 9.8167 - val_mean_absolute_error: 2.3269\n",
            "Epoch 18/200\n",
            " - 0s - loss: 9.8200 - mean_absolute_error: 2.0814 - val_loss: 9.2274 - val_mean_absolute_error: 2.1309\n",
            "Epoch 19/200\n",
            " - 0s - loss: 9.5104 - mean_absolute_error: 2.0658 - val_loss: 9.4960 - val_mean_absolute_error: 1.9224\n",
            "Epoch 20/200\n",
            " - 0s - loss: 9.6503 - mean_absolute_error: 2.0610 - val_loss: 8.2435 - val_mean_absolute_error: 2.0273\n",
            "Epoch 21/200\n",
            " - 0s - loss: 9.6846 - mean_absolute_error: 2.0719 - val_loss: 9.0596 - val_mean_absolute_error: 2.0120\n",
            "Epoch 22/200\n",
            " - 0s - loss: 8.2343 - mean_absolute_error: 1.9878 - val_loss: 8.7757 - val_mean_absolute_error: 2.0073\n",
            "Epoch 23/200\n",
            " - 0s - loss: 9.1354 - mean_absolute_error: 2.0154 - val_loss: 9.1083 - val_mean_absolute_error: 2.0103\n",
            "Epoch 24/200\n",
            " - 0s - loss: 8.8558 - mean_absolute_error: 2.0425 - val_loss: 8.4646 - val_mean_absolute_error: 1.9052\n",
            "Epoch 25/200\n",
            " - 0s - loss: 8.7709 - mean_absolute_error: 2.0038 - val_loss: 10.4548 - val_mean_absolute_error: 2.0964\n",
            "Epoch 26/200\n",
            " - 0s - loss: 8.7510 - mean_absolute_error: 1.9584 - val_loss: 8.7110 - val_mean_absolute_error: 1.8877\n",
            "Epoch 27/200\n",
            " - 0s - loss: 8.8543 - mean_absolute_error: 1.9308 - val_loss: 8.6610 - val_mean_absolute_error: 1.8942\n",
            "Epoch 28/200\n",
            " - 0s - loss: 8.5525 - mean_absolute_error: 1.8812 - val_loss: 8.4367 - val_mean_absolute_error: 1.8943\n",
            "Epoch 29/200\n",
            " - 0s - loss: 8.1479 - mean_absolute_error: 1.8685 - val_loss: 9.4693 - val_mean_absolute_error: 2.1951\n",
            "Epoch 30/200\n",
            " - 0s - loss: 8.1848 - mean_absolute_error: 1.9359 - val_loss: 8.7251 - val_mean_absolute_error: 1.9466\n",
            "Epoch 31/200\n",
            " - 0s - loss: 8.3213 - mean_absolute_error: 1.8979 - val_loss: 8.1392 - val_mean_absolute_error: 2.0050\n",
            "Epoch 32/200\n",
            " - 0s - loss: 7.6495 - mean_absolute_error: 1.8479 - val_loss: 8.8337 - val_mean_absolute_error: 1.9868\n",
            "Epoch 33/200\n",
            " - 0s - loss: 8.0254 - mean_absolute_error: 1.9106 - val_loss: 7.8562 - val_mean_absolute_error: 2.0143\n",
            "Epoch 34/200\n",
            " - 0s - loss: 8.0580 - mean_absolute_error: 1.8646 - val_loss: 7.9405 - val_mean_absolute_error: 1.9180\n",
            "Epoch 35/200\n",
            " - 0s - loss: 7.5045 - mean_absolute_error: 1.8628 - val_loss: 8.1512 - val_mean_absolute_error: 1.9770\n",
            "Epoch 36/200\n",
            " - 0s - loss: 7.9172 - mean_absolute_error: 1.7729 - val_loss: 8.3373 - val_mean_absolute_error: 2.0435\n",
            "Epoch 37/200\n",
            " - 0s - loss: 8.3287 - mean_absolute_error: 1.8490 - val_loss: 8.0716 - val_mean_absolute_error: 1.9202\n",
            "Epoch 38/200\n",
            " - 0s - loss: 7.8349 - mean_absolute_error: 1.8532 - val_loss: 7.2881 - val_mean_absolute_error: 1.8787\n",
            "Epoch 39/200\n",
            " - 0s - loss: 7.2524 - mean_absolute_error: 1.8113 - val_loss: 7.7315 - val_mean_absolute_error: 2.0297\n",
            "Epoch 40/200\n",
            " - 0s - loss: 7.6095 - mean_absolute_error: 1.8601 - val_loss: 7.5369 - val_mean_absolute_error: 1.9193\n",
            "Epoch 41/200\n",
            " - 0s - loss: 7.0221 - mean_absolute_error: 1.7560 - val_loss: 8.6183 - val_mean_absolute_error: 2.0570\n",
            "Epoch 42/200\n",
            " - 0s - loss: 7.2545 - mean_absolute_error: 1.7853 - val_loss: 7.7983 - val_mean_absolute_error: 1.9162\n",
            "Epoch 43/200\n",
            " - 0s - loss: 6.9608 - mean_absolute_error: 1.7976 - val_loss: 7.4608 - val_mean_absolute_error: 1.8982\n",
            "Epoch 44/200\n",
            " - 0s - loss: 6.8697 - mean_absolute_error: 1.7746 - val_loss: 6.6904 - val_mean_absolute_error: 1.8401\n",
            "Epoch 45/200\n",
            " - 0s - loss: 6.7235 - mean_absolute_error: 1.7419 - val_loss: 7.4513 - val_mean_absolute_error: 2.0118\n",
            "Epoch 46/200\n",
            " - 0s - loss: 6.7719 - mean_absolute_error: 1.6851 - val_loss: 7.1595 - val_mean_absolute_error: 1.8891\n",
            "Epoch 47/200\n",
            " - 0s - loss: 6.5569 - mean_absolute_error: 1.6909 - val_loss: 7.3294 - val_mean_absolute_error: 1.8365\n",
            "Epoch 48/200\n",
            " - 0s - loss: 6.7850 - mean_absolute_error: 1.7058 - val_loss: 8.4025 - val_mean_absolute_error: 2.2361\n",
            "Epoch 49/200\n",
            " - 0s - loss: 6.4870 - mean_absolute_error: 1.6894 - val_loss: 7.7557 - val_mean_absolute_error: 1.8701\n",
            "Epoch 50/200\n",
            " - 0s - loss: 6.6906 - mean_absolute_error: 1.6972 - val_loss: 8.5253 - val_mean_absolute_error: 2.1241\n",
            "Epoch 51/200\n",
            " - 0s - loss: 6.9846 - mean_absolute_error: 1.6856 - val_loss: 7.4512 - val_mean_absolute_error: 1.8925\n",
            "Epoch 52/200\n",
            " - 0s - loss: 6.3232 - mean_absolute_error: 1.6173 - val_loss: 7.7100 - val_mean_absolute_error: 1.9428\n",
            "Epoch 53/200\n",
            " - 0s - loss: 5.8779 - mean_absolute_error: 1.6615 - val_loss: 12.0189 - val_mean_absolute_error: 2.7157\n",
            "Epoch 54/200\n",
            " - 0s - loss: 6.3046 - mean_absolute_error: 1.6569 - val_loss: 7.3236 - val_mean_absolute_error: 2.0928\n",
            "Epoch 55/200\n",
            " - 0s - loss: 6.3048 - mean_absolute_error: 1.7040 - val_loss: 7.3182 - val_mean_absolute_error: 1.9505\n",
            "Epoch 56/200\n",
            " - 0s - loss: 6.1663 - mean_absolute_error: 1.7027 - val_loss: 8.4858 - val_mean_absolute_error: 2.0796\n",
            "Epoch 57/200\n",
            " - 0s - loss: 6.2294 - mean_absolute_error: 1.6660 - val_loss: 9.6609 - val_mean_absolute_error: 2.4099\n",
            "Epoch 58/200\n",
            " - 0s - loss: 6.0283 - mean_absolute_error: 1.6200 - val_loss: 8.5244 - val_mean_absolute_error: 2.2842\n",
            "Epoch 59/200\n",
            " - 0s - loss: 6.3983 - mean_absolute_error: 1.6962 - val_loss: 7.1832 - val_mean_absolute_error: 2.0758\n",
            "Epoch 60/200\n",
            " - 0s - loss: 6.2411 - mean_absolute_error: 1.6693 - val_loss: 6.7992 - val_mean_absolute_error: 1.9474\n",
            "Epoch 61/200\n",
            " - 0s - loss: 6.0335 - mean_absolute_error: 1.6244 - val_loss: 8.5061 - val_mean_absolute_error: 2.3252\n",
            "Epoch 62/200\n",
            " - 0s - loss: 5.9519 - mean_absolute_error: 1.6096 - val_loss: 7.4815 - val_mean_absolute_error: 1.8981\n",
            "Epoch 63/200\n",
            " - 0s - loss: 5.3872 - mean_absolute_error: 1.5847 - val_loss: 8.5303 - val_mean_absolute_error: 2.1752\n",
            "Epoch 64/200\n",
            " - 0s - loss: 6.0500 - mean_absolute_error: 1.6456 - val_loss: 9.1864 - val_mean_absolute_error: 2.4561\n",
            "Epoch 65/200\n",
            " - 0s - loss: 5.7293 - mean_absolute_error: 1.5558 - val_loss: 8.3814 - val_mean_absolute_error: 2.2153\n",
            "Epoch 66/200\n",
            " - 0s - loss: 5.9183 - mean_absolute_error: 1.5854 - val_loss: 6.8156 - val_mean_absolute_error: 1.8785\n",
            "Epoch 67/200\n",
            " - 0s - loss: 5.2614 - mean_absolute_error: 1.5568 - val_loss: 7.0849 - val_mean_absolute_error: 1.8759\n",
            "Epoch 68/200\n",
            " - 0s - loss: 5.5158 - mean_absolute_error: 1.5868 - val_loss: 9.2348 - val_mean_absolute_error: 2.2222\n",
            "Epoch 69/200\n",
            " - 0s - loss: 5.4472 - mean_absolute_error: 1.5513 - val_loss: 9.3530 - val_mean_absolute_error: 2.3824\n",
            "Epoch 70/200\n",
            " - 0s - loss: 5.5221 - mean_absolute_error: 1.6629 - val_loss: 9.2124 - val_mean_absolute_error: 2.3228\n",
            "Epoch 71/200\n",
            " - 0s - loss: 5.4961 - mean_absolute_error: 1.5362 - val_loss: 6.6188 - val_mean_absolute_error: 1.8363\n",
            "Epoch 72/200\n",
            " - 0s - loss: 5.6149 - mean_absolute_error: 1.5857 - val_loss: 7.3514 - val_mean_absolute_error: 2.0701\n",
            "Epoch 73/200\n",
            " - 0s - loss: 5.2883 - mean_absolute_error: 1.5698 - val_loss: 7.3023 - val_mean_absolute_error: 2.0992\n",
            "Epoch 74/200\n",
            " - 0s - loss: 5.3797 - mean_absolute_error: 1.5539 - val_loss: 7.3046 - val_mean_absolute_error: 1.8672\n",
            "Epoch 75/200\n",
            " - 0s - loss: 5.4058 - mean_absolute_error: 1.5374 - val_loss: 6.7947 - val_mean_absolute_error: 2.0000\n",
            "Epoch 76/200\n",
            " - 0s - loss: 5.1698 - mean_absolute_error: 1.5079 - val_loss: 6.8016 - val_mean_absolute_error: 1.9652\n",
            "Epoch 77/200\n",
            " - 0s - loss: 5.2102 - mean_absolute_error: 1.5095 - val_loss: 7.2305 - val_mean_absolute_error: 2.0234\n",
            "Epoch 78/200\n",
            " - 0s - loss: 5.0475 - mean_absolute_error: 1.4483 - val_loss: 9.0856 - val_mean_absolute_error: 2.3236\n",
            "Epoch 79/200\n",
            " - 0s - loss: 5.1114 - mean_absolute_error: 1.4953 - val_loss: 7.2916 - val_mean_absolute_error: 1.9784\n",
            "Epoch 80/200\n",
            " - 0s - loss: 5.0611 - mean_absolute_error: 1.5472 - val_loss: 8.9293 - val_mean_absolute_error: 2.2790\n",
            "Epoch 81/200\n",
            " - 0s - loss: 4.9672 - mean_absolute_error: 1.5100 - val_loss: 8.8378 - val_mean_absolute_error: 2.2997\n",
            "Epoch 82/200\n",
            " - 0s - loss: 5.0508 - mean_absolute_error: 1.4873 - val_loss: 7.4439 - val_mean_absolute_error: 2.0068\n",
            "Epoch 83/200\n",
            " - 0s - loss: 4.7475 - mean_absolute_error: 1.5164 - val_loss: 6.9290 - val_mean_absolute_error: 1.9450\n",
            "Epoch 84/200\n",
            " - 0s - loss: 5.0330 - mean_absolute_error: 1.4980 - val_loss: 7.2327 - val_mean_absolute_error: 1.8989\n",
            "Epoch 85/200\n",
            " - 0s - loss: 4.8664 - mean_absolute_error: 1.4982 - val_loss: 6.7069 - val_mean_absolute_error: 2.0061\n",
            "Epoch 86/200\n",
            " - 0s - loss: 4.8165 - mean_absolute_error: 1.4862 - val_loss: 6.6082 - val_mean_absolute_error: 1.9194\n",
            "Epoch 87/200\n",
            " - 0s - loss: 4.6387 - mean_absolute_error: 1.4502 - val_loss: 8.1072 - val_mean_absolute_error: 1.9529\n",
            "Epoch 88/200\n",
            " - 0s - loss: 4.5085 - mean_absolute_error: 1.4114 - val_loss: 7.9253 - val_mean_absolute_error: 2.0565\n",
            "Epoch 89/200\n",
            " - 0s - loss: 4.7014 - mean_absolute_error: 1.4833 - val_loss: 8.0397 - val_mean_absolute_error: 2.2175\n",
            "Epoch 90/200\n",
            " - 0s - loss: 4.7335 - mean_absolute_error: 1.4151 - val_loss: 7.8224 - val_mean_absolute_error: 2.1278\n",
            "Epoch 91/200\n",
            " - 0s - loss: 4.5591 - mean_absolute_error: 1.4450 - val_loss: 7.9053 - val_mean_absolute_error: 2.0806\n",
            "Epoch 92/200\n",
            " - 0s - loss: 4.4222 - mean_absolute_error: 1.4779 - val_loss: 8.1765 - val_mean_absolute_error: 2.1821\n",
            "Epoch 93/200\n",
            " - 0s - loss: 4.3946 - mean_absolute_error: 1.4664 - val_loss: 8.1263 - val_mean_absolute_error: 2.1316\n",
            "Epoch 94/200\n",
            " - 0s - loss: 4.5248 - mean_absolute_error: 1.4571 - val_loss: 6.9591 - val_mean_absolute_error: 1.8794\n",
            "Epoch 95/200\n",
            " - 0s - loss: 3.9797 - mean_absolute_error: 1.4278 - val_loss: 9.0931 - val_mean_absolute_error: 2.1962\n",
            "Epoch 96/200\n",
            " - 0s - loss: 4.4911 - mean_absolute_error: 1.4193 - val_loss: 7.8185 - val_mean_absolute_error: 2.1111\n",
            "Epoch 97/200\n",
            " - 0s - loss: 4.1796 - mean_absolute_error: 1.3792 - val_loss: 9.1243 - val_mean_absolute_error: 2.3097\n",
            "Epoch 98/200\n",
            " - 0s - loss: 4.3507 - mean_absolute_error: 1.4204 - val_loss: 7.9072 - val_mean_absolute_error: 2.1481\n",
            "Epoch 99/200\n",
            " - 0s - loss: 4.0817 - mean_absolute_error: 1.3917 - val_loss: 9.2740 - val_mean_absolute_error: 2.3976\n",
            "Epoch 100/200\n",
            " - 0s - loss: 4.4473 - mean_absolute_error: 1.4367 - val_loss: 8.1688 - val_mean_absolute_error: 2.1477\n",
            "Epoch 101/200\n",
            " - 0s - loss: 4.4526 - mean_absolute_error: 1.4260 - val_loss: 7.6790 - val_mean_absolute_error: 2.0943\n",
            "Epoch 102/200\n",
            " - 0s - loss: 4.2410 - mean_absolute_error: 1.3698 - val_loss: 8.2342 - val_mean_absolute_error: 2.2318\n",
            "Epoch 103/200\n",
            " - 0s - loss: 4.0116 - mean_absolute_error: 1.4017 - val_loss: 6.6267 - val_mean_absolute_error: 1.9625\n",
            "Epoch 104/200\n",
            " - 0s - loss: 3.8758 - mean_absolute_error: 1.3708 - val_loss: 7.3434 - val_mean_absolute_error: 2.0777\n",
            "Epoch 105/200\n",
            " - 0s - loss: 4.2269 - mean_absolute_error: 1.3714 - val_loss: 7.0507 - val_mean_absolute_error: 2.0453\n",
            "Epoch 106/200\n",
            " - 0s - loss: 3.9570 - mean_absolute_error: 1.3417 - val_loss: 7.6421 - val_mean_absolute_error: 2.0052\n",
            "Epoch 107/200\n",
            " - 0s - loss: 3.9311 - mean_absolute_error: 1.3514 - val_loss: 7.4974 - val_mean_absolute_error: 2.0927\n",
            "Epoch 108/200\n",
            " - 0s - loss: 3.9858 - mean_absolute_error: 1.3914 - val_loss: 9.3453 - val_mean_absolute_error: 2.2968\n",
            "Epoch 109/200\n",
            " - 0s - loss: 4.0503 - mean_absolute_error: 1.3394 - val_loss: 7.7121 - val_mean_absolute_error: 2.0866\n",
            "Epoch 110/200\n",
            " - 0s - loss: 3.7474 - mean_absolute_error: 1.3859 - val_loss: 8.0194 - val_mean_absolute_error: 2.1748\n",
            "Epoch 111/200\n",
            " - 0s - loss: 3.6583 - mean_absolute_error: 1.3219 - val_loss: 10.0974 - val_mean_absolute_error: 2.4274\n",
            "Epoch 112/200\n",
            " - 0s - loss: 3.7613 - mean_absolute_error: 1.3378 - val_loss: 7.2342 - val_mean_absolute_error: 1.9729\n",
            "Epoch 113/200\n",
            " - 0s - loss: 3.7396 - mean_absolute_error: 1.3577 - val_loss: 6.8052 - val_mean_absolute_error: 1.9400\n",
            "Epoch 114/200\n",
            " - 0s - loss: 3.6969 - mean_absolute_error: 1.3457 - val_loss: 10.8136 - val_mean_absolute_error: 2.5443\n",
            "Epoch 115/200\n",
            " - 0s - loss: 3.6753 - mean_absolute_error: 1.3145 - val_loss: 9.8614 - val_mean_absolute_error: 2.4437\n",
            "Epoch 116/200\n",
            " - 0s - loss: 3.6262 - mean_absolute_error: 1.3900 - val_loss: 8.5900 - val_mean_absolute_error: 2.0888\n",
            "Epoch 117/200\n",
            " - 0s - loss: 3.7780 - mean_absolute_error: 1.3682 - val_loss: 7.3990 - val_mean_absolute_error: 2.1294\n",
            "Epoch 118/200\n",
            " - 0s - loss: 3.3538 - mean_absolute_error: 1.3242 - val_loss: 8.5062 - val_mean_absolute_error: 2.1929\n",
            "Epoch 119/200\n",
            " - 0s - loss: 3.4291 - mean_absolute_error: 1.2866 - val_loss: 7.3188 - val_mean_absolute_error: 1.9992\n",
            "Epoch 120/200\n",
            " - 0s - loss: 3.7071 - mean_absolute_error: 1.3052 - val_loss: 7.4205 - val_mean_absolute_error: 2.0146\n",
            "Epoch 121/200\n",
            " - 0s - loss: 3.4388 - mean_absolute_error: 1.3435 - val_loss: 7.9497 - val_mean_absolute_error: 2.0571\n",
            "Epoch 122/200\n",
            " - 0s - loss: 3.3308 - mean_absolute_error: 1.2565 - val_loss: 7.4517 - val_mean_absolute_error: 2.0509\n",
            "Epoch 123/200\n",
            " - 0s - loss: 3.3476 - mean_absolute_error: 1.2723 - val_loss: 7.0927 - val_mean_absolute_error: 1.8851\n",
            "Epoch 124/200\n",
            " - 0s - loss: 3.6093 - mean_absolute_error: 1.2724 - val_loss: 8.2366 - val_mean_absolute_error: 2.1929\n",
            "Epoch 125/200\n",
            " - 0s - loss: 3.4545 - mean_absolute_error: 1.3048 - val_loss: 7.7292 - val_mean_absolute_error: 2.0830\n",
            "Epoch 126/200\n",
            " - 0s - loss: 3.3128 - mean_absolute_error: 1.2976 - val_loss: 8.1949 - val_mean_absolute_error: 2.1435\n",
            "Epoch 127/200\n",
            " - 0s - loss: 3.0719 - mean_absolute_error: 1.2896 - val_loss: 7.9522 - val_mean_absolute_error: 2.1299\n",
            "Epoch 128/200\n",
            " - 0s - loss: 3.1070 - mean_absolute_error: 1.2623 - val_loss: 7.5367 - val_mean_absolute_error: 1.9468\n",
            "Epoch 129/200\n",
            " - 0s - loss: 2.9066 - mean_absolute_error: 1.1692 - val_loss: 7.8586 - val_mean_absolute_error: 2.0683\n",
            "Epoch 130/200\n",
            " - 0s - loss: 3.1221 - mean_absolute_error: 1.2451 - val_loss: 7.8375 - val_mean_absolute_error: 2.0696\n",
            "Epoch 131/200\n",
            " - 0s - loss: 3.2131 - mean_absolute_error: 1.2637 - val_loss: 7.2110 - val_mean_absolute_error: 1.9909\n",
            "Epoch 132/200\n",
            " - 0s - loss: 3.1728 - mean_absolute_error: 1.2915 - val_loss: 7.9855 - val_mean_absolute_error: 2.0456\n",
            "Epoch 133/200\n",
            " - 0s - loss: 2.9624 - mean_absolute_error: 1.2079 - val_loss: 7.4426 - val_mean_absolute_error: 1.9173\n",
            "Epoch 134/200\n",
            " - 0s - loss: 2.9767 - mean_absolute_error: 1.2574 - val_loss: 8.4197 - val_mean_absolute_error: 2.0374\n",
            "Epoch 135/200\n",
            " - 0s - loss: 3.1409 - mean_absolute_error: 1.2814 - val_loss: 9.8067 - val_mean_absolute_error: 2.3356\n",
            "Epoch 136/200\n",
            " - 0s - loss: 2.9892 - mean_absolute_error: 1.2228 - val_loss: 8.8538 - val_mean_absolute_error: 2.1971\n",
            "Epoch 137/200\n",
            " - 0s - loss: 3.1424 - mean_absolute_error: 1.2162 - val_loss: 8.3207 - val_mean_absolute_error: 2.1240\n",
            "Epoch 138/200\n",
            " - 0s - loss: 2.9438 - mean_absolute_error: 1.2093 - val_loss: 9.3281 - val_mean_absolute_error: 2.2644\n",
            "Epoch 139/200\n",
            " - 0s - loss: 3.0074 - mean_absolute_error: 1.2866 - val_loss: 7.5233 - val_mean_absolute_error: 2.0083\n",
            "Epoch 140/200\n",
            " - 0s - loss: 2.9705 - mean_absolute_error: 1.2501 - val_loss: 7.3499 - val_mean_absolute_error: 1.9442\n",
            "Epoch 141/200\n",
            " - 0s - loss: 2.9404 - mean_absolute_error: 1.2593 - val_loss: 8.1795 - val_mean_absolute_error: 2.1197\n",
            "Epoch 142/200\n",
            " - 0s - loss: 2.8517 - mean_absolute_error: 1.2207 - val_loss: 8.0853 - val_mean_absolute_error: 2.0531\n",
            "Epoch 143/200\n",
            " - 0s - loss: 3.0945 - mean_absolute_error: 1.2372 - val_loss: 8.8456 - val_mean_absolute_error: 2.2306\n",
            "Epoch 144/200\n",
            " - 0s - loss: 2.9629 - mean_absolute_error: 1.1709 - val_loss: 7.7016 - val_mean_absolute_error: 2.0190\n",
            "Epoch 145/200\n",
            " - 0s - loss: 2.9644 - mean_absolute_error: 1.2369 - val_loss: 9.3780 - val_mean_absolute_error: 2.2887\n",
            "Epoch 146/200\n",
            " - 0s - loss: 2.7372 - mean_absolute_error: 1.1984 - val_loss: 9.2313 - val_mean_absolute_error: 2.2786\n",
            "Epoch 147/200\n",
            " - 0s - loss: 2.9769 - mean_absolute_error: 1.2168 - val_loss: 8.2622 - val_mean_absolute_error: 2.0419\n",
            "Epoch 148/200\n",
            " - 0s - loss: 2.7308 - mean_absolute_error: 1.1624 - val_loss: 8.1122 - val_mean_absolute_error: 2.0095\n",
            "Epoch 149/200\n",
            " - 0s - loss: 2.7335 - mean_absolute_error: 1.1654 - val_loss: 9.1226 - val_mean_absolute_error: 2.1501\n",
            "Epoch 150/200\n",
            " - 0s - loss: 2.7103 - mean_absolute_error: 1.2051 - val_loss: 10.2104 - val_mean_absolute_error: 2.3969\n",
            "Epoch 151/200\n",
            " - 0s - loss: 2.9500 - mean_absolute_error: 1.1790 - val_loss: 7.4696 - val_mean_absolute_error: 1.9993\n",
            "Epoch 152/200\n",
            " - 0s - loss: 2.8240 - mean_absolute_error: 1.2173 - val_loss: 9.4440 - val_mean_absolute_error: 2.3101\n",
            "Epoch 153/200\n",
            " - 0s - loss: 2.7009 - mean_absolute_error: 1.1862 - val_loss: 7.6765 - val_mean_absolute_error: 2.0036\n",
            "Epoch 154/200\n",
            " - 0s - loss: 2.3916 - mean_absolute_error: 1.1213 - val_loss: 10.2245 - val_mean_absolute_error: 2.3747\n",
            "Epoch 155/200\n",
            " - 0s - loss: 2.8899 - mean_absolute_error: 1.2059 - val_loss: 9.0803 - val_mean_absolute_error: 2.2204\n",
            "Epoch 156/200\n",
            " - 0s - loss: 2.6585 - mean_absolute_error: 1.1318 - val_loss: 9.0126 - val_mean_absolute_error: 2.1822\n",
            "Epoch 157/200\n",
            " - 0s - loss: 2.6942 - mean_absolute_error: 1.1491 - val_loss: 8.7095 - val_mean_absolute_error: 2.1616\n",
            "Epoch 158/200\n",
            " - 0s - loss: 2.5581 - mean_absolute_error: 1.1598 - val_loss: 9.4581 - val_mean_absolute_error: 2.2370\n",
            "Epoch 159/200\n",
            " - 0s - loss: 2.5999 - mean_absolute_error: 1.1347 - val_loss: 8.9382 - val_mean_absolute_error: 2.1316\n",
            "Epoch 160/200\n",
            " - 0s - loss: 2.7574 - mean_absolute_error: 1.1615 - val_loss: 9.1337 - val_mean_absolute_error: 2.1884\n",
            "Epoch 161/200\n",
            " - 0s - loss: 2.4444 - mean_absolute_error: 1.1216 - val_loss: 7.6070 - val_mean_absolute_error: 2.0551\n",
            "Epoch 162/200\n",
            " - 0s - loss: 2.6318 - mean_absolute_error: 1.1862 - val_loss: 9.1887 - val_mean_absolute_error: 2.1628\n",
            "Epoch 163/200\n",
            " - 0s - loss: 2.2983 - mean_absolute_error: 1.0848 - val_loss: 8.3599 - val_mean_absolute_error: 2.1521\n",
            "Epoch 164/200\n",
            " - 0s - loss: 2.5409 - mean_absolute_error: 1.1208 - val_loss: 8.5428 - val_mean_absolute_error: 2.1446\n",
            "Epoch 165/200\n",
            " - 0s - loss: 2.8324 - mean_absolute_error: 1.1732 - val_loss: 8.4452 - val_mean_absolute_error: 2.1321\n",
            "Epoch 166/200\n",
            " - 0s - loss: 2.4527 - mean_absolute_error: 1.1000 - val_loss: 10.6370 - val_mean_absolute_error: 2.4018\n",
            "Epoch 167/200\n",
            " - 0s - loss: 2.5694 - mean_absolute_error: 1.1567 - val_loss: 7.9089 - val_mean_absolute_error: 2.0081\n",
            "Epoch 168/200\n",
            " - 0s - loss: 2.4711 - mean_absolute_error: 1.0921 - val_loss: 8.4479 - val_mean_absolute_error: 2.0383\n",
            "Epoch 169/200\n",
            " - 0s - loss: 2.2930 - mean_absolute_error: 1.1191 - val_loss: 9.4054 - val_mean_absolute_error: 2.2480\n",
            "Epoch 170/200\n",
            " - 0s - loss: 2.4861 - mean_absolute_error: 1.1369 - val_loss: 7.6627 - val_mean_absolute_error: 2.0244\n",
            "Epoch 171/200\n",
            " - 0s - loss: 2.3661 - mean_absolute_error: 1.1224 - val_loss: 8.0359 - val_mean_absolute_error: 2.0303\n",
            "Epoch 172/200\n",
            " - 0s - loss: 2.3107 - mean_absolute_error: 1.1309 - val_loss: 8.8117 - val_mean_absolute_error: 2.2071\n",
            "Epoch 173/200\n",
            " - 0s - loss: 2.4601 - mean_absolute_error: 1.1330 - val_loss: 8.3257 - val_mean_absolute_error: 2.0485\n",
            "Epoch 174/200\n",
            " - 0s - loss: 2.4866 - mean_absolute_error: 1.1622 - val_loss: 9.4149 - val_mean_absolute_error: 2.1589\n",
            "Epoch 175/200\n",
            " - 0s - loss: 2.2811 - mean_absolute_error: 1.0872 - val_loss: 9.9587 - val_mean_absolute_error: 2.3473\n",
            "Epoch 176/200\n",
            " - 0s - loss: 2.3318 - mean_absolute_error: 1.1267 - val_loss: 10.2952 - val_mean_absolute_error: 2.3511\n",
            "Epoch 177/200\n",
            " - 0s - loss: 2.2966 - mean_absolute_error: 1.0692 - val_loss: 8.5065 - val_mean_absolute_error: 2.0803\n",
            "Epoch 178/200\n",
            " - 0s - loss: 2.1420 - mean_absolute_error: 1.0762 - val_loss: 9.5542 - val_mean_absolute_error: 2.2829\n",
            "Epoch 179/200\n",
            " - 0s - loss: 2.1096 - mean_absolute_error: 1.0436 - val_loss: 12.8413 - val_mean_absolute_error: 2.7070\n",
            "Epoch 180/200\n",
            " - 0s - loss: 2.2906 - mean_absolute_error: 1.0879 - val_loss: 10.8987 - val_mean_absolute_error: 2.4623\n",
            "Epoch 181/200\n",
            " - 0s - loss: 2.3224 - mean_absolute_error: 1.0944 - val_loss: 9.8850 - val_mean_absolute_error: 2.3141\n",
            "Epoch 182/200\n",
            " - 0s - loss: 2.1925 - mean_absolute_error: 1.0881 - val_loss: 8.3064 - val_mean_absolute_error: 2.0960\n",
            "Epoch 183/200\n",
            " - 0s - loss: 2.3968 - mean_absolute_error: 1.0912 - val_loss: 8.5300 - val_mean_absolute_error: 2.1147\n",
            "Epoch 184/200\n",
            " - 0s - loss: 2.0911 - mean_absolute_error: 1.0607 - val_loss: 8.9034 - val_mean_absolute_error: 2.1699\n",
            "Epoch 185/200\n",
            " - 0s - loss: 2.1821 - mean_absolute_error: 1.0810 - val_loss: 10.7077 - val_mean_absolute_error: 2.3361\n",
            "Epoch 186/200\n",
            " - 0s - loss: 1.9989 - mean_absolute_error: 1.0306 - val_loss: 9.3536 - val_mean_absolute_error: 2.1837\n",
            "Epoch 187/200\n",
            " - 0s - loss: 2.1936 - mean_absolute_error: 1.0762 - val_loss: 9.3657 - val_mean_absolute_error: 2.2551\n",
            "Epoch 188/200\n",
            " - 0s - loss: 2.2172 - mean_absolute_error: 1.0684 - val_loss: 8.1785 - val_mean_absolute_error: 2.0957\n",
            "Epoch 189/200\n",
            " - 0s - loss: 2.1946 - mean_absolute_error: 1.0531 - val_loss: 8.6531 - val_mean_absolute_error: 2.1655\n",
            "Epoch 190/200\n",
            " - 0s - loss: 2.1245 - mean_absolute_error: 1.0205 - val_loss: 9.4294 - val_mean_absolute_error: 2.2165\n",
            "Epoch 191/200\n",
            " - 0s - loss: 2.1352 - mean_absolute_error: 1.0687 - val_loss: 9.8055 - val_mean_absolute_error: 2.2249\n",
            "Epoch 192/200\n",
            " - 0s - loss: 2.1955 - mean_absolute_error: 1.0682 - val_loss: 9.5666 - val_mean_absolute_error: 2.2341\n",
            "Epoch 193/200\n",
            " - 0s - loss: 2.1134 - mean_absolute_error: 1.0550 - val_loss: 8.7909 - val_mean_absolute_error: 2.1447\n",
            "Epoch 194/200\n",
            " - 0s - loss: 1.9732 - mean_absolute_error: 1.0695 - val_loss: 11.0322 - val_mean_absolute_error: 2.3217\n",
            "Epoch 195/200\n",
            " - 0s - loss: 2.1287 - mean_absolute_error: 1.0789 - val_loss: 10.1272 - val_mean_absolute_error: 2.3316\n",
            "Epoch 196/200\n",
            " - 0s - loss: 2.0848 - mean_absolute_error: 1.0756 - val_loss: 9.8434 - val_mean_absolute_error: 2.3012\n",
            "Epoch 197/200\n",
            " - 0s - loss: 2.0817 - mean_absolute_error: 1.1012 - val_loss: 10.6269 - val_mean_absolute_error: 2.3653\n",
            "Epoch 198/200\n",
            " - 0s - loss: 2.0965 - mean_absolute_error: 1.0707 - val_loss: 8.2279 - val_mean_absolute_error: 2.0580\n",
            "Epoch 199/200\n",
            " - 0s - loss: 2.0754 - mean_absolute_error: 1.0245 - val_loss: 10.0140 - val_mean_absolute_error: 2.2119\n",
            "Epoch 200/200\n",
            " - 0s - loss: 2.1077 - mean_absolute_error: 1.0425 - val_loss: 8.8629 - val_mean_absolute_error: 2.1659\n",
            "processing fold # 1\n",
            "Train on 303 samples, validate on 101 samples\n",
            "Epoch 1/200\n",
            " - 1s - loss: 207.0232 - mean_absolute_error: 10.6032 - val_loss: 38.1756 - val_mean_absolute_error: 4.4649\n",
            "Epoch 2/200\n",
            " - 0s - loss: 38.7678 - mean_absolute_error: 4.0141 - val_loss: 17.8704 - val_mean_absolute_error: 3.2233\n",
            "Epoch 3/200\n",
            " - 0s - loss: 24.0589 - mean_absolute_error: 3.1589 - val_loss: 15.6275 - val_mean_absolute_error: 2.8418\n",
            "Epoch 4/200\n",
            " - 0s - loss: 19.3955 - mean_absolute_error: 2.9066 - val_loss: 13.8713 - val_mean_absolute_error: 2.8081\n",
            "Epoch 5/200\n",
            " - 0s - loss: 16.7170 - mean_absolute_error: 2.7104 - val_loss: 13.8771 - val_mean_absolute_error: 2.7063\n",
            "Epoch 6/200\n",
            " - 0s - loss: 14.2278 - mean_absolute_error: 2.5895 - val_loss: 12.6721 - val_mean_absolute_error: 2.7186\n",
            "Epoch 7/200\n",
            " - 0s - loss: 13.1148 - mean_absolute_error: 2.3605 - val_loss: 11.5237 - val_mean_absolute_error: 2.5831\n",
            "Epoch 8/200\n",
            " - 0s - loss: 11.9131 - mean_absolute_error: 2.3423 - val_loss: 13.2754 - val_mean_absolute_error: 2.8773\n",
            "Epoch 9/200\n",
            " - 0s - loss: 11.5287 - mean_absolute_error: 2.2996 - val_loss: 13.7278 - val_mean_absolute_error: 2.9366\n",
            "Epoch 10/200\n",
            " - 0s - loss: 11.4287 - mean_absolute_error: 2.3193 - val_loss: 10.6028 - val_mean_absolute_error: 2.5059\n",
            "Epoch 11/200\n",
            " - 0s - loss: 9.9762 - mean_absolute_error: 2.1864 - val_loss: 10.8066 - val_mean_absolute_error: 2.5127\n",
            "Epoch 12/200\n",
            " - 0s - loss: 10.0608 - mean_absolute_error: 2.2467 - val_loss: 10.4431 - val_mean_absolute_error: 2.4903\n",
            "Epoch 13/200\n",
            " - 0s - loss: 10.0954 - mean_absolute_error: 2.1730 - val_loss: 11.9276 - val_mean_absolute_error: 2.6645\n",
            "Epoch 14/200\n",
            " - 0s - loss: 9.5326 - mean_absolute_error: 2.1236 - val_loss: 9.8133 - val_mean_absolute_error: 2.3559\n",
            "Epoch 15/200\n",
            " - 0s - loss: 9.7717 - mean_absolute_error: 2.0680 - val_loss: 11.8969 - val_mean_absolute_error: 2.7039\n",
            "Epoch 16/200\n",
            " - 0s - loss: 9.5818 - mean_absolute_error: 2.1090 - val_loss: 9.9981 - val_mean_absolute_error: 2.3920\n",
            "Epoch 17/200\n",
            " - 0s - loss: 9.4880 - mean_absolute_error: 2.1095 - val_loss: 9.8679 - val_mean_absolute_error: 2.4101\n",
            "Epoch 18/200\n",
            " - 0s - loss: 9.2838 - mean_absolute_error: 2.0836 - val_loss: 10.2351 - val_mean_absolute_error: 2.4669\n",
            "Epoch 19/200\n",
            " - 0s - loss: 9.0264 - mean_absolute_error: 2.0510 - val_loss: 9.8406 - val_mean_absolute_error: 2.4205\n",
            "Epoch 20/200\n",
            " - 0s - loss: 9.2304 - mean_absolute_error: 2.0086 - val_loss: 9.5805 - val_mean_absolute_error: 2.3456\n",
            "Epoch 21/200\n",
            " - 0s - loss: 8.7791 - mean_absolute_error: 2.0217 - val_loss: 10.9116 - val_mean_absolute_error: 2.5003\n",
            "Epoch 22/200\n",
            " - 0s - loss: 8.6876 - mean_absolute_error: 2.0145 - val_loss: 9.9322 - val_mean_absolute_error: 2.4390\n",
            "Epoch 23/200\n",
            " - 0s - loss: 8.2754 - mean_absolute_error: 1.9190 - val_loss: 12.0262 - val_mean_absolute_error: 2.7946\n",
            "Epoch 24/200\n",
            " - 0s - loss: 8.7566 - mean_absolute_error: 1.9614 - val_loss: 9.8487 - val_mean_absolute_error: 2.4522\n",
            "Epoch 25/200\n",
            " - 0s - loss: 8.5761 - mean_absolute_error: 1.9379 - val_loss: 9.9966 - val_mean_absolute_error: 2.4414\n",
            "Epoch 26/200\n",
            " - 0s - loss: 8.1957 - mean_absolute_error: 1.8872 - val_loss: 12.2260 - val_mean_absolute_error: 2.7342\n",
            "Epoch 27/200\n",
            " - 0s - loss: 7.5370 - mean_absolute_error: 1.8841 - val_loss: 9.7954 - val_mean_absolute_error: 2.4041\n",
            "Epoch 28/200\n",
            " - 0s - loss: 8.1968 - mean_absolute_error: 1.8589 - val_loss: 8.9761 - val_mean_absolute_error: 2.2924\n",
            "Epoch 29/200\n",
            " - 0s - loss: 8.0873 - mean_absolute_error: 1.8709 - val_loss: 9.0864 - val_mean_absolute_error: 2.3198\n",
            "Epoch 30/200\n",
            " - 0s - loss: 7.8065 - mean_absolute_error: 1.8566 - val_loss: 10.3357 - val_mean_absolute_error: 2.4467\n",
            "Epoch 31/200\n",
            " - 0s - loss: 7.6025 - mean_absolute_error: 1.8844 - val_loss: 9.3485 - val_mean_absolute_error: 2.3497\n",
            "Epoch 32/200\n",
            " - 0s - loss: 7.6045 - mean_absolute_error: 1.8160 - val_loss: 10.5218 - val_mean_absolute_error: 2.5416\n",
            "Epoch 33/200\n",
            " - 0s - loss: 7.4630 - mean_absolute_error: 1.8405 - val_loss: 10.1410 - val_mean_absolute_error: 2.4855\n",
            "Epoch 34/200\n",
            " - 0s - loss: 7.3306 - mean_absolute_error: 1.7913 - val_loss: 10.7640 - val_mean_absolute_error: 2.4890\n",
            "Epoch 35/200\n",
            " - 0s - loss: 7.2994 - mean_absolute_error: 1.8159 - val_loss: 8.7334 - val_mean_absolute_error: 2.2585\n",
            "Epoch 36/200\n",
            " - 0s - loss: 7.0081 - mean_absolute_error: 1.8195 - val_loss: 10.0668 - val_mean_absolute_error: 2.4238\n",
            "Epoch 37/200\n",
            " - 0s - loss: 7.0390 - mean_absolute_error: 1.7478 - val_loss: 9.9720 - val_mean_absolute_error: 2.4823\n",
            "Epoch 38/200\n",
            " - 0s - loss: 6.8702 - mean_absolute_error: 1.7291 - val_loss: 9.9062 - val_mean_absolute_error: 2.3853\n",
            "Epoch 39/200\n",
            " - 0s - loss: 7.0300 - mean_absolute_error: 1.7631 - val_loss: 8.7766 - val_mean_absolute_error: 2.2914\n",
            "Epoch 40/200\n",
            " - 0s - loss: 6.7459 - mean_absolute_error: 1.7602 - val_loss: 9.4645 - val_mean_absolute_error: 2.3356\n",
            "Epoch 41/200\n",
            " - 0s - loss: 6.7427 - mean_absolute_error: 1.7388 - val_loss: 9.7363 - val_mean_absolute_error: 2.4133\n",
            "Epoch 42/200\n",
            " - 0s - loss: 6.6008 - mean_absolute_error: 1.7680 - val_loss: 10.2893 - val_mean_absolute_error: 2.5073\n",
            "Epoch 43/200\n",
            " - 0s - loss: 6.6677 - mean_absolute_error: 1.6940 - val_loss: 8.9384 - val_mean_absolute_error: 2.2686\n",
            "Epoch 44/200\n",
            " - 0s - loss: 6.1237 - mean_absolute_error: 1.6889 - val_loss: 8.9802 - val_mean_absolute_error: 2.2935\n",
            "Epoch 45/200\n",
            " - 0s - loss: 6.3559 - mean_absolute_error: 1.6760 - val_loss: 8.5370 - val_mean_absolute_error: 2.2799\n",
            "Epoch 46/200\n",
            " - 0s - loss: 6.4436 - mean_absolute_error: 1.7222 - val_loss: 11.0158 - val_mean_absolute_error: 2.5490\n",
            "Epoch 47/200\n",
            " - 0s - loss: 5.9956 - mean_absolute_error: 1.6401 - val_loss: 10.0142 - val_mean_absolute_error: 2.4656\n",
            "Epoch 48/200\n",
            " - 0s - loss: 6.0836 - mean_absolute_error: 1.7115 - val_loss: 9.4340 - val_mean_absolute_error: 2.3468\n",
            "Epoch 49/200\n",
            " - 0s - loss: 5.8618 - mean_absolute_error: 1.6326 - val_loss: 10.4768 - val_mean_absolute_error: 2.5214\n",
            "Epoch 50/200\n",
            " - 0s - loss: 5.7589 - mean_absolute_error: 1.6433 - val_loss: 9.7029 - val_mean_absolute_error: 2.4153\n",
            "Epoch 51/200\n",
            " - 0s - loss: 5.7666 - mean_absolute_error: 1.6152 - val_loss: 10.0560 - val_mean_absolute_error: 2.4175\n",
            "Epoch 52/200\n",
            " - 0s - loss: 6.4149 - mean_absolute_error: 1.6968 - val_loss: 10.1919 - val_mean_absolute_error: 2.4641\n",
            "Epoch 53/200\n",
            " - 0s - loss: 5.8644 - mean_absolute_error: 1.6160 - val_loss: 10.1279 - val_mean_absolute_error: 2.3782\n",
            "Epoch 54/200\n",
            " - 0s - loss: 6.0838 - mean_absolute_error: 1.6464 - val_loss: 13.2494 - val_mean_absolute_error: 2.8926\n",
            "Epoch 55/200\n",
            " - 0s - loss: 6.0618 - mean_absolute_error: 1.6485 - val_loss: 10.6767 - val_mean_absolute_error: 2.5510\n",
            "Epoch 56/200\n",
            " - 0s - loss: 5.5913 - mean_absolute_error: 1.5635 - val_loss: 10.9459 - val_mean_absolute_error: 2.5236\n",
            "Epoch 57/200\n",
            " - 0s - loss: 5.9567 - mean_absolute_error: 1.6345 - val_loss: 8.7847 - val_mean_absolute_error: 2.2116\n",
            "Epoch 58/200\n",
            " - 0s - loss: 5.5628 - mean_absolute_error: 1.5718 - val_loss: 8.6826 - val_mean_absolute_error: 2.2049\n",
            "Epoch 59/200\n",
            " - 0s - loss: 5.7108 - mean_absolute_error: 1.5646 - val_loss: 10.0552 - val_mean_absolute_error: 2.3336\n",
            "Epoch 60/200\n",
            " - 0s - loss: 5.4921 - mean_absolute_error: 1.5877 - val_loss: 10.1018 - val_mean_absolute_error: 2.4486\n",
            "Epoch 61/200\n",
            " - 0s - loss: 5.5997 - mean_absolute_error: 1.5234 - val_loss: 11.2764 - val_mean_absolute_error: 2.6380\n",
            "Epoch 62/200\n",
            " - 0s - loss: 5.5745 - mean_absolute_error: 1.5434 - val_loss: 7.9423 - val_mean_absolute_error: 2.1501\n",
            "Epoch 63/200\n",
            " - 0s - loss: 4.8535 - mean_absolute_error: 1.5701 - val_loss: 10.9801 - val_mean_absolute_error: 2.5580\n",
            "Epoch 64/200\n",
            " - 0s - loss: 5.3817 - mean_absolute_error: 1.5519 - val_loss: 10.5603 - val_mean_absolute_error: 2.5223\n",
            "Epoch 65/200\n",
            " - 0s - loss: 5.3336 - mean_absolute_error: 1.5108 - val_loss: 8.7406 - val_mean_absolute_error: 2.2594\n",
            "Epoch 66/200\n",
            " - 0s - loss: 5.2104 - mean_absolute_error: 1.5128 - val_loss: 9.9388 - val_mean_absolute_error: 2.3687\n",
            "Epoch 67/200\n",
            " - 0s - loss: 5.4242 - mean_absolute_error: 1.5533 - val_loss: 10.4548 - val_mean_absolute_error: 2.5062\n",
            "Epoch 68/200\n",
            " - 0s - loss: 5.1216 - mean_absolute_error: 1.4707 - val_loss: 8.4051 - val_mean_absolute_error: 2.1550\n",
            "Epoch 69/200\n",
            " - 0s - loss: 5.2805 - mean_absolute_error: 1.4877 - val_loss: 8.4347 - val_mean_absolute_error: 2.1869\n",
            "Epoch 70/200\n",
            " - 0s - loss: 4.9009 - mean_absolute_error: 1.4403 - val_loss: 11.9247 - val_mean_absolute_error: 2.7042\n",
            "Epoch 71/200\n",
            " - 0s - loss: 5.0391 - mean_absolute_error: 1.4898 - val_loss: 10.6959 - val_mean_absolute_error: 2.5180\n",
            "Epoch 72/200\n",
            " - 0s - loss: 4.8996 - mean_absolute_error: 1.4863 - val_loss: 9.8284 - val_mean_absolute_error: 2.3717\n",
            "Epoch 73/200\n",
            " - 0s - loss: 4.5841 - mean_absolute_error: 1.4540 - val_loss: 14.0785 - val_mean_absolute_error: 2.7742\n",
            "Epoch 74/200\n",
            " - 0s - loss: 5.0171 - mean_absolute_error: 1.5088 - val_loss: 10.9924 - val_mean_absolute_error: 2.5529\n",
            "Epoch 75/200\n",
            " - 0s - loss: 4.8701 - mean_absolute_error: 1.4615 - val_loss: 15.1041 - val_mean_absolute_error: 2.9523\n",
            "Epoch 76/200\n",
            " - 0s - loss: 4.4361 - mean_absolute_error: 1.4760 - val_loss: 11.6198 - val_mean_absolute_error: 2.6441\n",
            "Epoch 77/200\n",
            " - 0s - loss: 5.1348 - mean_absolute_error: 1.4676 - val_loss: 10.4301 - val_mean_absolute_error: 2.4411\n",
            "Epoch 78/200\n",
            " - 0s - loss: 4.8427 - mean_absolute_error: 1.4297 - val_loss: 10.1362 - val_mean_absolute_error: 2.4687\n",
            "Epoch 79/200\n",
            " - 0s - loss: 4.7447 - mean_absolute_error: 1.4490 - val_loss: 11.2271 - val_mean_absolute_error: 2.5835\n",
            "Epoch 80/200\n",
            " - 0s - loss: 4.1016 - mean_absolute_error: 1.4201 - val_loss: 10.1688 - val_mean_absolute_error: 2.4913\n",
            "Epoch 81/200\n",
            " - 0s - loss: 4.5797 - mean_absolute_error: 1.4282 - val_loss: 14.0258 - val_mean_absolute_error: 2.7863\n",
            "Epoch 82/200\n",
            " - 0s - loss: 4.5426 - mean_absolute_error: 1.4175 - val_loss: 10.7709 - val_mean_absolute_error: 2.4784\n",
            "Epoch 83/200\n",
            " - 0s - loss: 4.3056 - mean_absolute_error: 1.3795 - val_loss: 10.6419 - val_mean_absolute_error: 2.4723\n",
            "Epoch 84/200\n",
            " - 0s - loss: 4.7676 - mean_absolute_error: 1.4409 - val_loss: 10.4185 - val_mean_absolute_error: 2.3957\n",
            "Epoch 85/200\n",
            " - 0s - loss: 4.5346 - mean_absolute_error: 1.4168 - val_loss: 11.6560 - val_mean_absolute_error: 2.5119\n",
            "Epoch 86/200\n",
            " - 0s - loss: 4.2505 - mean_absolute_error: 1.4424 - val_loss: 11.3391 - val_mean_absolute_error: 2.5301\n",
            "Epoch 87/200\n",
            " - 0s - loss: 4.7276 - mean_absolute_error: 1.4345 - val_loss: 11.7423 - val_mean_absolute_error: 2.5463\n",
            "Epoch 88/200\n",
            " - 0s - loss: 4.2167 - mean_absolute_error: 1.4029 - val_loss: 12.4383 - val_mean_absolute_error: 2.6055\n",
            "Epoch 89/200\n",
            " - 0s - loss: 4.1485 - mean_absolute_error: 1.3356 - val_loss: 14.4666 - val_mean_absolute_error: 2.7612\n",
            "Epoch 90/200\n",
            " - 0s - loss: 4.0115 - mean_absolute_error: 1.4036 - val_loss: 12.5324 - val_mean_absolute_error: 2.5878\n",
            "Epoch 91/200\n",
            " - 0s - loss: 4.2212 - mean_absolute_error: 1.3988 - val_loss: 11.3522 - val_mean_absolute_error: 2.4628\n",
            "Epoch 92/200\n",
            " - 0s - loss: 3.9758 - mean_absolute_error: 1.3789 - val_loss: 12.3404 - val_mean_absolute_error: 2.5827\n",
            "Epoch 93/200\n",
            " - 0s - loss: 3.8545 - mean_absolute_error: 1.2964 - val_loss: 10.4402 - val_mean_absolute_error: 2.4512\n",
            "Epoch 94/200\n",
            " - 0s - loss: 4.2979 - mean_absolute_error: 1.3629 - val_loss: 10.2838 - val_mean_absolute_error: 2.3956\n",
            "Epoch 95/200\n",
            " - 0s - loss: 4.0505 - mean_absolute_error: 1.3114 - val_loss: 13.0087 - val_mean_absolute_error: 2.6995\n",
            "Epoch 96/200\n",
            " - 0s - loss: 4.1162 - mean_absolute_error: 1.3802 - val_loss: 17.7407 - val_mean_absolute_error: 2.8893\n",
            "Epoch 97/200\n",
            " - 0s - loss: 3.8410 - mean_absolute_error: 1.3338 - val_loss: 10.1070 - val_mean_absolute_error: 2.3283\n",
            "Epoch 98/200\n",
            " - 0s - loss: 3.9897 - mean_absolute_error: 1.3641 - val_loss: 18.3602 - val_mean_absolute_error: 3.1760\n",
            "Epoch 99/200\n",
            " - 0s - loss: 3.7375 - mean_absolute_error: 1.2594 - val_loss: 14.2549 - val_mean_absolute_error: 2.6635\n",
            "Epoch 100/200\n",
            " - 0s - loss: 3.6368 - mean_absolute_error: 1.2574 - val_loss: 10.5334 - val_mean_absolute_error: 2.4663\n",
            "Epoch 101/200\n",
            " - 0s - loss: 3.9604 - mean_absolute_error: 1.2812 - val_loss: 12.1020 - val_mean_absolute_error: 2.5617\n",
            "Epoch 102/200\n",
            " - 0s - loss: 3.7808 - mean_absolute_error: 1.3156 - val_loss: 17.2058 - val_mean_absolute_error: 2.8639\n",
            "Epoch 103/200\n",
            " - 0s - loss: 3.5503 - mean_absolute_error: 1.3152 - val_loss: 10.9053 - val_mean_absolute_error: 2.5143\n",
            "Epoch 104/200\n",
            " - 0s - loss: 3.5985 - mean_absolute_error: 1.2695 - val_loss: 11.4224 - val_mean_absolute_error: 2.4439\n",
            "Epoch 105/200\n",
            " - 0s - loss: 3.8058 - mean_absolute_error: 1.3354 - val_loss: 11.5636 - val_mean_absolute_error: 2.4685\n",
            "Epoch 106/200\n",
            " - 0s - loss: 3.7752 - mean_absolute_error: 1.3124 - val_loss: 13.0830 - val_mean_absolute_error: 2.6115\n",
            "Epoch 107/200\n",
            " - 0s - loss: 3.7841 - mean_absolute_error: 1.3188 - val_loss: 14.2496 - val_mean_absolute_error: 2.6776\n",
            "Epoch 108/200\n",
            " - 0s - loss: 3.3530 - mean_absolute_error: 1.2124 - val_loss: 11.9444 - val_mean_absolute_error: 2.5251\n",
            "Epoch 109/200\n",
            " - 0s - loss: 3.8376 - mean_absolute_error: 1.2777 - val_loss: 15.0234 - val_mean_absolute_error: 2.7298\n",
            "Epoch 110/200\n",
            " - 0s - loss: 3.3297 - mean_absolute_error: 1.2737 - val_loss: 12.6788 - val_mean_absolute_error: 2.4919\n",
            "Epoch 111/200\n",
            " - 0s - loss: 3.3517 - mean_absolute_error: 1.2494 - val_loss: 15.5280 - val_mean_absolute_error: 2.6380\n",
            "Epoch 112/200\n",
            " - 0s - loss: 3.5155 - mean_absolute_error: 1.2584 - val_loss: 11.6654 - val_mean_absolute_error: 2.4630\n",
            "Epoch 113/200\n",
            " - 0s - loss: 3.3975 - mean_absolute_error: 1.2500 - val_loss: 11.4138 - val_mean_absolute_error: 2.4812\n",
            "Epoch 114/200\n",
            " - 0s - loss: 3.2074 - mean_absolute_error: 1.2173 - val_loss: 13.3088 - val_mean_absolute_error: 2.5698\n",
            "Epoch 115/200\n",
            " - 0s - loss: 3.2387 - mean_absolute_error: 1.2307 - val_loss: 15.6516 - val_mean_absolute_error: 2.9478\n",
            "Epoch 116/200\n",
            " - 0s - loss: 3.3868 - mean_absolute_error: 1.2487 - val_loss: 15.2346 - val_mean_absolute_error: 2.7241\n",
            "Epoch 117/200\n",
            " - 0s - loss: 3.3162 - mean_absolute_error: 1.2152 - val_loss: 14.4810 - val_mean_absolute_error: 2.6569\n",
            "Epoch 118/200\n",
            " - 0s - loss: 3.2859 - mean_absolute_error: 1.2554 - val_loss: 15.2893 - val_mean_absolute_error: 2.7043\n",
            "Epoch 119/200\n",
            " - 0s - loss: 3.1340 - mean_absolute_error: 1.2306 - val_loss: 15.2888 - val_mean_absolute_error: 2.8679\n",
            "Epoch 120/200\n",
            " - 0s - loss: 3.4161 - mean_absolute_error: 1.2238 - val_loss: 12.9878 - val_mean_absolute_error: 2.5241\n",
            "Epoch 121/200\n",
            " - 0s - loss: 3.1778 - mean_absolute_error: 1.2274 - val_loss: 13.4102 - val_mean_absolute_error: 2.5275\n",
            "Epoch 122/200\n",
            " - 0s - loss: 3.3630 - mean_absolute_error: 1.2437 - val_loss: 15.8578 - val_mean_absolute_error: 2.7944\n",
            "Epoch 123/200\n",
            " - 0s - loss: 2.8338 - mean_absolute_error: 1.1480 - val_loss: 13.8335 - val_mean_absolute_error: 2.5540\n",
            "Epoch 124/200\n",
            " - 0s - loss: 2.9984 - mean_absolute_error: 1.2133 - val_loss: 18.2961 - val_mean_absolute_error: 3.0933\n",
            "Epoch 125/200\n",
            " - 0s - loss: 3.0695 - mean_absolute_error: 1.1835 - val_loss: 12.2669 - val_mean_absolute_error: 2.4948\n",
            "Epoch 126/200\n",
            " - 0s - loss: 3.0557 - mean_absolute_error: 1.1781 - val_loss: 17.2224 - val_mean_absolute_error: 2.8442\n",
            "Epoch 127/200\n",
            " - 0s - loss: 2.8377 - mean_absolute_error: 1.1653 - val_loss: 17.9689 - val_mean_absolute_error: 2.8742\n",
            "Epoch 128/200\n",
            " - 0s - loss: 3.0165 - mean_absolute_error: 1.2189 - val_loss: 15.1281 - val_mean_absolute_error: 2.7260\n",
            "Epoch 129/200\n",
            " - 0s - loss: 2.8971 - mean_absolute_error: 1.1970 - val_loss: 13.2705 - val_mean_absolute_error: 2.6170\n",
            "Epoch 130/200\n",
            " - 0s - loss: 2.6590 - mean_absolute_error: 1.1522 - val_loss: 12.4813 - val_mean_absolute_error: 2.5393\n",
            "Epoch 131/200\n",
            " - 0s - loss: 3.0431 - mean_absolute_error: 1.2300 - val_loss: 15.4784 - val_mean_absolute_error: 2.7192\n",
            "Epoch 132/200\n",
            " - 0s - loss: 2.7861 - mean_absolute_error: 1.1519 - val_loss: 13.0873 - val_mean_absolute_error: 2.5969\n",
            "Epoch 133/200\n",
            " - 0s - loss: 2.8347 - mean_absolute_error: 1.2056 - val_loss: 18.7787 - val_mean_absolute_error: 2.9545\n",
            "Epoch 134/200\n",
            " - 0s - loss: 2.7774 - mean_absolute_error: 1.1178 - val_loss: 11.3220 - val_mean_absolute_error: 2.4754\n",
            "Epoch 135/200\n",
            " - 0s - loss: 2.6697 - mean_absolute_error: 1.1337 - val_loss: 21.4854 - val_mean_absolute_error: 3.0374\n",
            "Epoch 136/200\n",
            " - 0s - loss: 2.9773 - mean_absolute_error: 1.1556 - val_loss: 17.0648 - val_mean_absolute_error: 2.9024\n",
            "Epoch 137/200\n",
            " - 0s - loss: 2.7704 - mean_absolute_error: 1.1415 - val_loss: 20.1000 - val_mean_absolute_error: 2.9544\n",
            "Epoch 138/200\n",
            " - 0s - loss: 2.7592 - mean_absolute_error: 1.1202 - val_loss: 14.3995 - val_mean_absolute_error: 2.7120\n",
            "Epoch 139/200\n",
            " - 0s - loss: 2.5961 - mean_absolute_error: 1.1594 - val_loss: 17.1814 - val_mean_absolute_error: 2.8186\n",
            "Epoch 140/200\n",
            " - 0s - loss: 2.6377 - mean_absolute_error: 1.1636 - val_loss: 15.9866 - val_mean_absolute_error: 2.8033\n",
            "Epoch 141/200\n",
            " - 0s - loss: 2.3960 - mean_absolute_error: 1.1035 - val_loss: 18.1784 - val_mean_absolute_error: 2.9154\n",
            "Epoch 142/200\n",
            " - 0s - loss: 2.5381 - mean_absolute_error: 1.0833 - val_loss: 16.5361 - val_mean_absolute_error: 2.7516\n",
            "Epoch 143/200\n",
            " - 0s - loss: 2.5617 - mean_absolute_error: 1.1093 - val_loss: 14.6897 - val_mean_absolute_error: 2.6919\n",
            "Epoch 144/200\n",
            " - 0s - loss: 2.8476 - mean_absolute_error: 1.1775 - val_loss: 18.5518 - val_mean_absolute_error: 2.8447\n",
            "Epoch 145/200\n",
            " - 0s - loss: 2.5276 - mean_absolute_error: 1.1123 - val_loss: 13.2008 - val_mean_absolute_error: 2.6104\n",
            "Epoch 146/200\n",
            " - 0s - loss: 2.4569 - mean_absolute_error: 1.0658 - val_loss: 19.5165 - val_mean_absolute_error: 2.9237\n",
            "Epoch 147/200\n",
            " - 0s - loss: 2.5803 - mean_absolute_error: 1.1307 - val_loss: 18.7350 - val_mean_absolute_error: 2.9017\n",
            "Epoch 148/200\n",
            " - 0s - loss: 2.4190 - mean_absolute_error: 1.1567 - val_loss: 15.2598 - val_mean_absolute_error: 2.7568\n",
            "Epoch 149/200\n",
            " - 0s - loss: 2.3961 - mean_absolute_error: 1.0504 - val_loss: 13.5707 - val_mean_absolute_error: 2.6074\n",
            "Epoch 150/200\n",
            " - 0s - loss: 2.5645 - mean_absolute_error: 1.1132 - val_loss: 16.1528 - val_mean_absolute_error: 2.7649\n",
            "Epoch 151/200\n",
            " - 0s - loss: 2.4232 - mean_absolute_error: 1.0757 - val_loss: 16.1183 - val_mean_absolute_error: 2.8664\n",
            "Epoch 152/200\n",
            " - 0s - loss: 2.4186 - mean_absolute_error: 1.1063 - val_loss: 16.3262 - val_mean_absolute_error: 2.7156\n",
            "Epoch 153/200\n",
            " - 0s - loss: 2.3959 - mean_absolute_error: 1.0717 - val_loss: 15.2239 - val_mean_absolute_error: 2.6527\n",
            "Epoch 154/200\n",
            " - 0s - loss: 2.3858 - mean_absolute_error: 1.0923 - val_loss: 21.1814 - val_mean_absolute_error: 2.9135\n",
            "Epoch 155/200\n",
            " - 0s - loss: 2.3964 - mean_absolute_error: 1.1043 - val_loss: 17.4208 - val_mean_absolute_error: 2.7124\n",
            "Epoch 156/200\n",
            " - 0s - loss: 2.2487 - mean_absolute_error: 1.0810 - val_loss: 14.3445 - val_mean_absolute_error: 2.6848\n",
            "Epoch 157/200\n",
            " - 0s - loss: 2.2848 - mean_absolute_error: 1.0518 - val_loss: 13.5056 - val_mean_absolute_error: 2.5726\n",
            "Epoch 158/200\n",
            " - 0s - loss: 2.1283 - mean_absolute_error: 1.0599 - val_loss: 16.4791 - val_mean_absolute_error: 2.7400\n",
            "Epoch 159/200\n",
            " - 0s - loss: 2.2746 - mean_absolute_error: 1.0909 - val_loss: 14.3372 - val_mean_absolute_error: 2.6848\n",
            "Epoch 160/200\n",
            " - 0s - loss: 2.2184 - mean_absolute_error: 1.0898 - val_loss: 18.7174 - val_mean_absolute_error: 2.7554\n",
            "Epoch 161/200\n",
            " - 0s - loss: 2.1802 - mean_absolute_error: 1.0845 - val_loss: 15.9411 - val_mean_absolute_error: 2.6270\n",
            "Epoch 162/200\n",
            " - 0s - loss: 2.1898 - mean_absolute_error: 1.0118 - val_loss: 14.6051 - val_mean_absolute_error: 2.6285\n",
            "Epoch 163/200\n",
            " - 0s - loss: 2.0403 - mean_absolute_error: 1.0227 - val_loss: 18.3235 - val_mean_absolute_error: 2.9981\n",
            "Epoch 164/200\n",
            " - 0s - loss: 2.1210 - mean_absolute_error: 1.0154 - val_loss: 28.1753 - val_mean_absolute_error: 3.4368\n",
            "Epoch 165/200\n",
            " - 0s - loss: 2.1139 - mean_absolute_error: 1.0559 - val_loss: 17.1663 - val_mean_absolute_error: 2.8138\n",
            "Epoch 166/200\n",
            " - 0s - loss: 2.2230 - mean_absolute_error: 1.0851 - val_loss: 19.6816 - val_mean_absolute_error: 3.0631\n",
            "Epoch 167/200\n",
            " - 0s - loss: 2.0227 - mean_absolute_error: 1.0134 - val_loss: 16.4078 - val_mean_absolute_error: 2.7738\n",
            "Epoch 168/200\n",
            " - 0s - loss: 2.0975 - mean_absolute_error: 1.0470 - val_loss: 15.7138 - val_mean_absolute_error: 2.6279\n",
            "Epoch 169/200\n",
            " - 0s - loss: 2.0022 - mean_absolute_error: 1.0078 - val_loss: 15.1912 - val_mean_absolute_error: 2.7364\n",
            "Epoch 170/200\n",
            " - 0s - loss: 2.0956 - mean_absolute_error: 1.0505 - val_loss: 16.6366 - val_mean_absolute_error: 2.7650\n",
            "Epoch 171/200\n",
            " - 0s - loss: 2.0512 - mean_absolute_error: 1.0359 - val_loss: 21.2977 - val_mean_absolute_error: 3.0332\n",
            "Epoch 172/200\n",
            " - 0s - loss: 2.1802 - mean_absolute_error: 1.1147 - val_loss: 17.7601 - val_mean_absolute_error: 2.7019\n",
            "Epoch 173/200\n",
            " - 0s - loss: 2.0797 - mean_absolute_error: 1.0559 - val_loss: 18.5432 - val_mean_absolute_error: 2.9280\n",
            "Epoch 174/200\n",
            " - 0s - loss: 1.9112 - mean_absolute_error: 1.0030 - val_loss: 22.7612 - val_mean_absolute_error: 2.9392\n",
            "Epoch 175/200\n",
            " - 0s - loss: 1.9480 - mean_absolute_error: 0.9984 - val_loss: 21.3411 - val_mean_absolute_error: 2.9221\n",
            "Epoch 176/200\n",
            " - 0s - loss: 1.9316 - mean_absolute_error: 0.9908 - val_loss: 18.4752 - val_mean_absolute_error: 2.7467\n",
            "Epoch 177/200\n",
            " - 0s - loss: 1.7780 - mean_absolute_error: 0.9530 - val_loss: 18.0663 - val_mean_absolute_error: 2.7435\n",
            "Epoch 178/200\n",
            " - 0s - loss: 2.1590 - mean_absolute_error: 1.0519 - val_loss: 21.1242 - val_mean_absolute_error: 2.9082\n",
            "Epoch 179/200\n",
            " - 0s - loss: 1.8415 - mean_absolute_error: 0.9645 - val_loss: 18.9674 - val_mean_absolute_error: 2.9496\n",
            "Epoch 180/200\n",
            " - 0s - loss: 1.9162 - mean_absolute_error: 1.0031 - val_loss: 20.6475 - val_mean_absolute_error: 2.8936\n",
            "Epoch 181/200\n",
            " - 0s - loss: 2.0736 - mean_absolute_error: 1.0217 - val_loss: 23.7786 - val_mean_absolute_error: 3.0246\n",
            "Epoch 182/200\n",
            " - 0s - loss: 1.9042 - mean_absolute_error: 0.9841 - val_loss: 16.9689 - val_mean_absolute_error: 2.8419\n",
            "Epoch 183/200\n",
            " - 0s - loss: 1.7920 - mean_absolute_error: 0.9571 - val_loss: 18.4719 - val_mean_absolute_error: 2.8380\n",
            "Epoch 184/200\n",
            " - 0s - loss: 1.8753 - mean_absolute_error: 0.9951 - val_loss: 17.1802 - val_mean_absolute_error: 2.7675\n",
            "Epoch 185/200\n",
            " - 0s - loss: 1.9158 - mean_absolute_error: 1.0184 - val_loss: 25.3064 - val_mean_absolute_error: 3.2713\n",
            "Epoch 186/200\n",
            " - 0s - loss: 1.9261 - mean_absolute_error: 0.9848 - val_loss: 18.6630 - val_mean_absolute_error: 2.9227\n",
            "Epoch 187/200\n",
            " - 0s - loss: 1.6952 - mean_absolute_error: 0.9382 - val_loss: 21.2732 - val_mean_absolute_error: 3.0230\n",
            "Epoch 188/200\n",
            " - 0s - loss: 1.7879 - mean_absolute_error: 0.9598 - val_loss: 22.8434 - val_mean_absolute_error: 2.9806\n",
            "Epoch 189/200\n",
            " - 0s - loss: 1.7500 - mean_absolute_error: 0.9799 - val_loss: 21.4027 - val_mean_absolute_error: 2.7925\n",
            "Epoch 190/200\n",
            " - 0s - loss: 1.7060 - mean_absolute_error: 0.9291 - val_loss: 17.8643 - val_mean_absolute_error: 2.8753\n",
            "Epoch 191/200\n",
            " - 0s - loss: 1.7265 - mean_absolute_error: 1.0080 - val_loss: 17.7755 - val_mean_absolute_error: 2.8026\n",
            "Epoch 192/200\n",
            " - 0s - loss: 1.6770 - mean_absolute_error: 0.9120 - val_loss: 19.4630 - val_mean_absolute_error: 2.8506\n",
            "Epoch 193/200\n",
            " - 0s - loss: 1.8122 - mean_absolute_error: 0.9626 - val_loss: 17.8235 - val_mean_absolute_error: 2.8145\n",
            "Epoch 194/200\n",
            " - 0s - loss: 1.6466 - mean_absolute_error: 0.9408 - val_loss: 21.6659 - val_mean_absolute_error: 2.9732\n",
            "Epoch 195/200\n",
            " - 0s - loss: 1.6944 - mean_absolute_error: 0.9561 - val_loss: 15.7298 - val_mean_absolute_error: 2.7058\n",
            "Epoch 196/200\n",
            " - 0s - loss: 1.6445 - mean_absolute_error: 0.9320 - val_loss: 20.3987 - val_mean_absolute_error: 2.7551\n",
            "Epoch 197/200\n",
            " - 0s - loss: 1.6420 - mean_absolute_error: 0.9301 - val_loss: 24.1565 - val_mean_absolute_error: 3.1791\n",
            "Epoch 198/200\n",
            " - 0s - loss: 1.7843 - mean_absolute_error: 0.9468 - val_loss: 22.7439 - val_mean_absolute_error: 3.0786\n",
            "Epoch 199/200\n",
            " - 0s - loss: 1.5449 - mean_absolute_error: 0.9142 - val_loss: 16.2122 - val_mean_absolute_error: 2.7292\n",
            "Epoch 200/200\n",
            " - 0s - loss: 1.7669 - mean_absolute_error: 0.9736 - val_loss: 22.3303 - val_mean_absolute_error: 3.2101\n",
            "processing fold # 2\n",
            "Train on 303 samples, validate on 101 samples\n",
            "Epoch 1/200\n",
            " - 1s - loss: 186.6077 - mean_absolute_error: 9.8348 - val_loss: 30.2225 - val_mean_absolute_error: 3.6348\n",
            "Epoch 2/200\n",
            " - 0s - loss: 27.1919 - mean_absolute_error: 3.5502 - val_loss: 20.9403 - val_mean_absolute_error: 2.9621\n",
            "Epoch 3/200\n",
            " - 0s - loss: 18.9293 - mean_absolute_error: 3.0630 - val_loss: 20.5167 - val_mean_absolute_error: 3.2196\n",
            "Epoch 4/200\n",
            " - 0s - loss: 15.4420 - mean_absolute_error: 2.7870 - val_loss: 19.9038 - val_mean_absolute_error: 2.9811\n",
            "Epoch 5/200\n",
            " - 0s - loss: 14.2904 - mean_absolute_error: 2.5314 - val_loss: 16.8441 - val_mean_absolute_error: 2.6663\n",
            "Epoch 6/200\n",
            " - 0s - loss: 12.7090 - mean_absolute_error: 2.5162 - val_loss: 17.0688 - val_mean_absolute_error: 2.7273\n",
            "Epoch 7/200\n",
            " - 0s - loss: 11.6847 - mean_absolute_error: 2.4098 - val_loss: 17.6746 - val_mean_absolute_error: 2.7615\n",
            "Epoch 8/200\n",
            " - 0s - loss: 11.5135 - mean_absolute_error: 2.3604 - val_loss: 17.1595 - val_mean_absolute_error: 2.7749\n",
            "Epoch 9/200\n",
            " - 0s - loss: 9.9157 - mean_absolute_error: 2.2313 - val_loss: 16.9812 - val_mean_absolute_error: 2.7853\n",
            "Epoch 10/200\n",
            " - 0s - loss: 9.9126 - mean_absolute_error: 2.2426 - val_loss: 16.5747 - val_mean_absolute_error: 2.6054\n",
            "Epoch 11/200\n",
            " - 0s - loss: 9.4310 - mean_absolute_error: 2.1697 - val_loss: 15.5518 - val_mean_absolute_error: 2.7369\n",
            "Epoch 12/200\n",
            " - 0s - loss: 9.0829 - mean_absolute_error: 2.1862 - val_loss: 15.2516 - val_mean_absolute_error: 2.5769\n",
            "Epoch 13/200\n",
            " - 0s - loss: 8.8484 - mean_absolute_error: 2.0342 - val_loss: 16.4114 - val_mean_absolute_error: 2.6833\n",
            "Epoch 14/200\n",
            " - 0s - loss: 8.2558 - mean_absolute_error: 2.0394 - val_loss: 15.4166 - val_mean_absolute_error: 2.5691\n",
            "Epoch 15/200\n",
            " - 0s - loss: 8.4294 - mean_absolute_error: 2.0568 - val_loss: 14.5346 - val_mean_absolute_error: 2.5541\n",
            "Epoch 16/200\n",
            " - 0s - loss: 8.5462 - mean_absolute_error: 2.0320 - val_loss: 16.0999 - val_mean_absolute_error: 2.8377\n",
            "Epoch 17/200\n",
            " - 0s - loss: 8.1543 - mean_absolute_error: 1.9840 - val_loss: 15.4378 - val_mean_absolute_error: 2.6364\n",
            "Epoch 18/200\n",
            " - 0s - loss: 7.7076 - mean_absolute_error: 1.9775 - val_loss: 16.3933 - val_mean_absolute_error: 2.8023\n",
            "Epoch 19/200\n",
            " - 0s - loss: 7.6589 - mean_absolute_error: 1.9472 - val_loss: 15.6211 - val_mean_absolute_error: 2.6203\n",
            "Epoch 20/200\n",
            " - 0s - loss: 7.6578 - mean_absolute_error: 1.9191 - val_loss: 13.8726 - val_mean_absolute_error: 2.4055\n",
            "Epoch 21/200\n",
            " - 0s - loss: 7.7802 - mean_absolute_error: 1.9648 - val_loss: 16.5095 - val_mean_absolute_error: 2.7940\n",
            "Epoch 22/200\n",
            " - 0s - loss: 7.5236 - mean_absolute_error: 1.8925 - val_loss: 20.2129 - val_mean_absolute_error: 3.2213\n",
            "Epoch 23/200\n",
            " - 0s - loss: 7.3890 - mean_absolute_error: 1.9140 - val_loss: 14.5990 - val_mean_absolute_error: 2.5709\n",
            "Epoch 24/200\n",
            " - 0s - loss: 7.1100 - mean_absolute_error: 1.8262 - val_loss: 16.4400 - val_mean_absolute_error: 2.8255\n",
            "Epoch 25/200\n",
            " - 0s - loss: 6.7317 - mean_absolute_error: 1.7855 - val_loss: 17.3707 - val_mean_absolute_error: 2.7745\n",
            "Epoch 26/200\n",
            " - 0s - loss: 7.4147 - mean_absolute_error: 1.8947 - val_loss: 14.9855 - val_mean_absolute_error: 2.6290\n",
            "Epoch 27/200\n",
            " - 0s - loss: 6.6250 - mean_absolute_error: 1.7909 - val_loss: 15.0803 - val_mean_absolute_error: 2.5521\n",
            "Epoch 28/200\n",
            " - 0s - loss: 6.6942 - mean_absolute_error: 1.7612 - val_loss: 15.0087 - val_mean_absolute_error: 2.4808\n",
            "Epoch 29/200\n",
            " - 0s - loss: 6.8921 - mean_absolute_error: 1.8014 - val_loss: 15.3772 - val_mean_absolute_error: 2.5878\n",
            "Epoch 30/200\n",
            " - 0s - loss: 6.4554 - mean_absolute_error: 1.7607 - val_loss: 14.0311 - val_mean_absolute_error: 2.5212\n",
            "Epoch 31/200\n",
            " - 0s - loss: 6.7032 - mean_absolute_error: 1.7955 - val_loss: 15.3428 - val_mean_absolute_error: 2.6608\n",
            "Epoch 32/200\n",
            " - 0s - loss: 6.6778 - mean_absolute_error: 1.7731 - val_loss: 13.9551 - val_mean_absolute_error: 2.4237\n",
            "Epoch 33/200\n",
            " - 0s - loss: 6.0882 - mean_absolute_error: 1.7602 - val_loss: 17.1662 - val_mean_absolute_error: 2.6714\n",
            "Epoch 34/200\n",
            " - 0s - loss: 6.3067 - mean_absolute_error: 1.7355 - val_loss: 15.3324 - val_mean_absolute_error: 2.6554\n",
            "Epoch 35/200\n",
            " - 0s - loss: 6.0387 - mean_absolute_error: 1.7031 - val_loss: 14.8481 - val_mean_absolute_error: 2.7238\n",
            "Epoch 36/200\n",
            " - 0s - loss: 5.8830 - mean_absolute_error: 1.6717 - val_loss: 14.7720 - val_mean_absolute_error: 2.5510\n",
            "Epoch 37/200\n",
            " - 0s - loss: 6.3713 - mean_absolute_error: 1.7179 - val_loss: 14.5954 - val_mean_absolute_error: 2.5392\n",
            "Epoch 38/200\n",
            " - 0s - loss: 6.0655 - mean_absolute_error: 1.6980 - val_loss: 13.7666 - val_mean_absolute_error: 2.4666\n",
            "Epoch 39/200\n",
            " - 0s - loss: 5.5684 - mean_absolute_error: 1.6772 - val_loss: 14.1871 - val_mean_absolute_error: 2.4924\n",
            "Epoch 40/200\n",
            " - 0s - loss: 5.6612 - mean_absolute_error: 1.6777 - val_loss: 14.5432 - val_mean_absolute_error: 2.6032\n",
            "Epoch 41/200\n",
            " - 0s - loss: 5.4534 - mean_absolute_error: 1.6557 - val_loss: 15.0313 - val_mean_absolute_error: 2.5982\n",
            "Epoch 42/200\n",
            " - 0s - loss: 5.9862 - mean_absolute_error: 1.7175 - val_loss: 13.5610 - val_mean_absolute_error: 2.4782\n",
            "Epoch 43/200\n",
            " - 0s - loss: 5.7631 - mean_absolute_error: 1.6608 - val_loss: 15.4108 - val_mean_absolute_error: 2.6904\n",
            "Epoch 44/200\n",
            " - 0s - loss: 5.6386 - mean_absolute_error: 1.5955 - val_loss: 13.5994 - val_mean_absolute_error: 2.4749\n",
            "Epoch 45/200\n",
            " - 0s - loss: 5.8740 - mean_absolute_error: 1.6289 - val_loss: 15.7331 - val_mean_absolute_error: 2.7114\n",
            "Epoch 46/200\n",
            " - 0s - loss: 5.5850 - mean_absolute_error: 1.6500 - val_loss: 15.0392 - val_mean_absolute_error: 2.6490\n",
            "Epoch 47/200\n",
            " - 0s - loss: 5.4047 - mean_absolute_error: 1.6044 - val_loss: 14.1923 - val_mean_absolute_error: 2.5113\n",
            "Epoch 48/200\n",
            " - 0s - loss: 5.4691 - mean_absolute_error: 1.5601 - val_loss: 15.8679 - val_mean_absolute_error: 2.7440\n",
            "Epoch 49/200\n",
            " - 0s - loss: 5.3692 - mean_absolute_error: 1.6047 - val_loss: 14.1790 - val_mean_absolute_error: 2.5747\n",
            "Epoch 50/200\n",
            " - 0s - loss: 4.9770 - mean_absolute_error: 1.5747 - val_loss: 14.8677 - val_mean_absolute_error: 2.6280\n",
            "Epoch 51/200\n",
            " - 0s - loss: 4.9178 - mean_absolute_error: 1.5538 - val_loss: 14.9230 - val_mean_absolute_error: 2.5393\n",
            "Epoch 52/200\n",
            " - 0s - loss: 5.1203 - mean_absolute_error: 1.5777 - val_loss: 15.8284 - val_mean_absolute_error: 2.6231\n",
            "Epoch 53/200\n",
            " - 0s - loss: 5.2216 - mean_absolute_error: 1.5902 - val_loss: 14.5207 - val_mean_absolute_error: 2.5139\n",
            "Epoch 54/200\n",
            " - 0s - loss: 5.1699 - mean_absolute_error: 1.5423 - val_loss: 16.2672 - val_mean_absolute_error: 2.7728\n",
            "Epoch 55/200\n",
            " - 0s - loss: 5.2175 - mean_absolute_error: 1.5595 - val_loss: 17.2771 - val_mean_absolute_error: 2.8812\n",
            "Epoch 56/200\n",
            " - 0s - loss: 5.0499 - mean_absolute_error: 1.5805 - val_loss: 15.1302 - val_mean_absolute_error: 2.6001\n",
            "Epoch 57/200\n",
            " - 0s - loss: 4.6081 - mean_absolute_error: 1.5041 - val_loss: 16.2105 - val_mean_absolute_error: 2.7604\n",
            "Epoch 58/200\n",
            " - 0s - loss: 4.8401 - mean_absolute_error: 1.5899 - val_loss: 14.9779 - val_mean_absolute_error: 2.5645\n",
            "Epoch 59/200\n",
            " - 0s - loss: 4.6458 - mean_absolute_error: 1.5632 - val_loss: 15.1290 - val_mean_absolute_error: 2.5786\n",
            "Epoch 60/200\n",
            " - 0s - loss: 4.5142 - mean_absolute_error: 1.5199 - val_loss: 15.4801 - val_mean_absolute_error: 2.6860\n",
            "Epoch 61/200\n",
            " - 0s - loss: 4.2696 - mean_absolute_error: 1.5161 - val_loss: 15.4855 - val_mean_absolute_error: 2.6609\n",
            "Epoch 62/200\n",
            " - 0s - loss: 4.8296 - mean_absolute_error: 1.4710 - val_loss: 17.3243 - val_mean_absolute_error: 2.8899\n",
            "Epoch 63/200\n",
            " - 0s - loss: 4.5553 - mean_absolute_error: 1.5281 - val_loss: 15.7632 - val_mean_absolute_error: 2.7194\n",
            "Epoch 64/200\n",
            " - 0s - loss: 4.5695 - mean_absolute_error: 1.5351 - val_loss: 16.1649 - val_mean_absolute_error: 2.7156\n",
            "Epoch 65/200\n",
            " - 0s - loss: 4.4588 - mean_absolute_error: 1.4973 - val_loss: 16.0905 - val_mean_absolute_error: 2.8105\n",
            "Epoch 66/200\n",
            " - 0s - loss: 4.6408 - mean_absolute_error: 1.4823 - val_loss: 17.3291 - val_mean_absolute_error: 2.8650\n",
            "Epoch 67/200\n",
            " - 0s - loss: 4.3689 - mean_absolute_error: 1.4729 - val_loss: 17.3144 - val_mean_absolute_error: 2.8820\n",
            "Epoch 68/200\n",
            " - 0s - loss: 4.4591 - mean_absolute_error: 1.4990 - val_loss: 15.5045 - val_mean_absolute_error: 2.6736\n",
            "Epoch 69/200\n",
            " - 0s - loss: 4.2199 - mean_absolute_error: 1.4014 - val_loss: 16.5015 - val_mean_absolute_error: 2.8357\n",
            "Epoch 70/200\n",
            " - 0s - loss: 4.3578 - mean_absolute_error: 1.4526 - val_loss: 16.4496 - val_mean_absolute_error: 2.7875\n",
            "Epoch 71/200\n",
            " - 0s - loss: 4.1802 - mean_absolute_error: 1.4232 - val_loss: 16.8297 - val_mean_absolute_error: 2.8620\n",
            "Epoch 72/200\n",
            " - 0s - loss: 3.6637 - mean_absolute_error: 1.3840 - val_loss: 15.7694 - val_mean_absolute_error: 2.7452\n",
            "Epoch 73/200\n",
            " - 0s - loss: 4.0769 - mean_absolute_error: 1.4290 - val_loss: 16.4160 - val_mean_absolute_error: 2.7710\n",
            "Epoch 74/200\n",
            " - 0s - loss: 4.2368 - mean_absolute_error: 1.3883 - val_loss: 16.4166 - val_mean_absolute_error: 2.8274\n",
            "Epoch 75/200\n",
            " - 0s - loss: 4.1141 - mean_absolute_error: 1.4461 - val_loss: 15.8781 - val_mean_absolute_error: 2.7827\n",
            "Epoch 76/200\n",
            " - 0s - loss: 3.6821 - mean_absolute_error: 1.3463 - val_loss: 16.1251 - val_mean_absolute_error: 2.6958\n",
            "Epoch 77/200\n",
            " - 0s - loss: 4.0302 - mean_absolute_error: 1.4452 - val_loss: 15.7037 - val_mean_absolute_error: 2.6630\n",
            "Epoch 78/200\n",
            " - 0s - loss: 3.8311 - mean_absolute_error: 1.4135 - val_loss: 18.6722 - val_mean_absolute_error: 3.0728\n",
            "Epoch 79/200\n",
            " - 0s - loss: 4.0113 - mean_absolute_error: 1.4134 - val_loss: 15.6249 - val_mean_absolute_error: 2.6943\n",
            "Epoch 80/200\n",
            " - 0s - loss: 3.6305 - mean_absolute_error: 1.3241 - val_loss: 19.0267 - val_mean_absolute_error: 2.9454\n",
            "Epoch 81/200\n",
            " - 0s - loss: 3.9445 - mean_absolute_error: 1.4241 - val_loss: 17.2229 - val_mean_absolute_error: 2.8568\n",
            "Epoch 82/200\n",
            " - 0s - loss: 3.7422 - mean_absolute_error: 1.4049 - val_loss: 15.9123 - val_mean_absolute_error: 2.7306\n",
            "Epoch 83/200\n",
            " - 0s - loss: 3.6439 - mean_absolute_error: 1.3176 - val_loss: 18.0549 - val_mean_absolute_error: 2.9015\n",
            "Epoch 84/200\n",
            " - 0s - loss: 3.6375 - mean_absolute_error: 1.3598 - val_loss: 17.6974 - val_mean_absolute_error: 2.8978\n",
            "Epoch 85/200\n",
            " - 0s - loss: 3.5177 - mean_absolute_error: 1.3660 - val_loss: 15.8962 - val_mean_absolute_error: 2.6719\n",
            "Epoch 86/200\n",
            " - 0s - loss: 3.6396 - mean_absolute_error: 1.3479 - val_loss: 17.1924 - val_mean_absolute_error: 2.8633\n",
            "Epoch 87/200\n",
            " - 0s - loss: 3.5154 - mean_absolute_error: 1.3507 - val_loss: 16.4891 - val_mean_absolute_error: 2.7953\n",
            "Epoch 88/200\n",
            " - 0s - loss: 3.2808 - mean_absolute_error: 1.3408 - val_loss: 15.9937 - val_mean_absolute_error: 2.6913\n",
            "Epoch 89/200\n",
            " - 0s - loss: 3.2589 - mean_absolute_error: 1.3374 - val_loss: 15.3505 - val_mean_absolute_error: 2.6149\n",
            "Epoch 90/200\n",
            " - 0s - loss: 3.3785 - mean_absolute_error: 1.3529 - val_loss: 16.0133 - val_mean_absolute_error: 2.7698\n",
            "Epoch 91/200\n",
            " - 0s - loss: 3.2786 - mean_absolute_error: 1.2840 - val_loss: 16.6512 - val_mean_absolute_error: 2.7202\n",
            "Epoch 92/200\n",
            " - 0s - loss: 3.1609 - mean_absolute_error: 1.2903 - val_loss: 18.0270 - val_mean_absolute_error: 2.8891\n",
            "Epoch 93/200\n",
            " - 0s - loss: 3.2628 - mean_absolute_error: 1.3073 - val_loss: 17.6951 - val_mean_absolute_error: 2.9507\n",
            "Epoch 94/200\n",
            " - 0s - loss: 3.1777 - mean_absolute_error: 1.3207 - val_loss: 16.2368 - val_mean_absolute_error: 2.7112\n",
            "Epoch 95/200\n",
            " - 0s - loss: 3.2643 - mean_absolute_error: 1.2498 - val_loss: 16.0324 - val_mean_absolute_error: 2.7645\n",
            "Epoch 96/200\n",
            " - 0s - loss: 3.2175 - mean_absolute_error: 1.3006 - val_loss: 15.2340 - val_mean_absolute_error: 2.7356\n",
            "Epoch 97/200\n",
            " - 0s - loss: 2.9558 - mean_absolute_error: 1.2911 - val_loss: 18.6556 - val_mean_absolute_error: 2.9731\n",
            "Epoch 98/200\n",
            " - 0s - loss: 3.2618 - mean_absolute_error: 1.2163 - val_loss: 17.8858 - val_mean_absolute_error: 3.0479\n",
            "Epoch 99/200\n",
            " - 0s - loss: 3.0771 - mean_absolute_error: 1.2823 - val_loss: 19.4167 - val_mean_absolute_error: 2.9806\n",
            "Epoch 100/200\n",
            " - 0s - loss: 3.0260 - mean_absolute_error: 1.2824 - val_loss: 18.9709 - val_mean_absolute_error: 2.9585\n",
            "Epoch 101/200\n",
            " - 0s - loss: 3.2841 - mean_absolute_error: 1.2922 - val_loss: 17.9296 - val_mean_absolute_error: 2.9327\n",
            "Epoch 102/200\n",
            " - 0s - loss: 3.1061 - mean_absolute_error: 1.2553 - val_loss: 17.3701 - val_mean_absolute_error: 2.8872\n",
            "Epoch 103/200\n",
            " - 0s - loss: 2.8605 - mean_absolute_error: 1.2184 - val_loss: 16.2630 - val_mean_absolute_error: 2.8694\n",
            "Epoch 104/200\n",
            " - 0s - loss: 2.9531 - mean_absolute_error: 1.2669 - val_loss: 16.3262 - val_mean_absolute_error: 2.8386\n",
            "Epoch 105/200\n",
            " - 0s - loss: 2.7369 - mean_absolute_error: 1.2733 - val_loss: 17.9073 - val_mean_absolute_error: 2.9691\n",
            "Epoch 106/200\n",
            " - 0s - loss: 2.7042 - mean_absolute_error: 1.2594 - val_loss: 16.6421 - val_mean_absolute_error: 2.7207\n",
            "Epoch 107/200\n",
            " - 0s - loss: 2.6905 - mean_absolute_error: 1.1954 - val_loss: 18.7274 - val_mean_absolute_error: 3.0253\n",
            "Epoch 108/200\n",
            " - 0s - loss: 2.8540 - mean_absolute_error: 1.2230 - val_loss: 15.7122 - val_mean_absolute_error: 2.6802\n",
            "Epoch 109/200\n",
            " - 0s - loss: 2.8091 - mean_absolute_error: 1.2304 - val_loss: 17.4108 - val_mean_absolute_error: 2.9630\n",
            "Epoch 110/200\n",
            " - 0s - loss: 2.7606 - mean_absolute_error: 1.2080 - val_loss: 15.8294 - val_mean_absolute_error: 2.6827\n",
            "Epoch 111/200\n",
            " - 0s - loss: 2.5893 - mean_absolute_error: 1.2256 - val_loss: 16.9546 - val_mean_absolute_error: 2.7428\n",
            "Epoch 112/200\n",
            " - 0s - loss: 2.6208 - mean_absolute_error: 1.1903 - val_loss: 17.5697 - val_mean_absolute_error: 2.8592\n",
            "Epoch 113/200\n",
            " - 0s - loss: 2.7604 - mean_absolute_error: 1.2611 - val_loss: 16.3187 - val_mean_absolute_error: 2.8507\n",
            "Epoch 114/200\n",
            " - 0s - loss: 2.6367 - mean_absolute_error: 1.1317 - val_loss: 17.8815 - val_mean_absolute_error: 2.9249\n",
            "Epoch 115/200\n",
            " - 0s - loss: 2.5335 - mean_absolute_error: 1.1673 - val_loss: 16.4133 - val_mean_absolute_error: 2.6709\n",
            "Epoch 116/200\n",
            " - 0s - loss: 2.6442 - mean_absolute_error: 1.1758 - val_loss: 17.1874 - val_mean_absolute_error: 2.8448\n",
            "Epoch 117/200\n",
            " - 0s - loss: 2.4194 - mean_absolute_error: 1.1481 - val_loss: 15.1166 - val_mean_absolute_error: 2.6681\n",
            "Epoch 118/200\n",
            " - 0s - loss: 2.5049 - mean_absolute_error: 1.1768 - val_loss: 17.5331 - val_mean_absolute_error: 2.8852\n",
            "Epoch 119/200\n",
            " - 0s - loss: 2.7854 - mean_absolute_error: 1.2057 - val_loss: 18.0265 - val_mean_absolute_error: 2.8905\n",
            "Epoch 120/200\n",
            " - 0s - loss: 2.4671 - mean_absolute_error: 1.1165 - val_loss: 17.1695 - val_mean_absolute_error: 2.7569\n",
            "Epoch 121/200\n",
            " - 0s - loss: 2.4685 - mean_absolute_error: 1.1161 - val_loss: 18.1543 - val_mean_absolute_error: 2.9561\n",
            "Epoch 122/200\n",
            " - 0s - loss: 2.6247 - mean_absolute_error: 1.1528 - val_loss: 19.5256 - val_mean_absolute_error: 3.0590\n",
            "Epoch 123/200\n",
            " - 0s - loss: 2.5106 - mean_absolute_error: 1.1438 - val_loss: 17.0308 - val_mean_absolute_error: 2.8521\n",
            "Epoch 124/200\n",
            " - 0s - loss: 2.4503 - mean_absolute_error: 1.1735 - val_loss: 17.8136 - val_mean_absolute_error: 3.0238\n",
            "Epoch 125/200\n",
            " - 0s - loss: 2.2847 - mean_absolute_error: 1.1365 - val_loss: 16.1377 - val_mean_absolute_error: 2.7600\n",
            "Epoch 126/200\n",
            " - 0s - loss: 2.2241 - mean_absolute_error: 1.1071 - val_loss: 16.9824 - val_mean_absolute_error: 2.7474\n",
            "Epoch 127/200\n",
            " - 0s - loss: 2.3177 - mean_absolute_error: 1.1107 - val_loss: 17.5884 - val_mean_absolute_error: 2.8151\n",
            "Epoch 128/200\n",
            " - 0s - loss: 2.5054 - mean_absolute_error: 1.1589 - val_loss: 17.5119 - val_mean_absolute_error: 2.9014\n",
            "Epoch 129/200\n",
            " - 0s - loss: 2.1852 - mean_absolute_error: 1.1053 - val_loss: 17.2074 - val_mean_absolute_error: 2.8748\n",
            "Epoch 130/200\n",
            " - 0s - loss: 2.2801 - mean_absolute_error: 1.0814 - val_loss: 16.4029 - val_mean_absolute_error: 2.7230\n",
            "Epoch 131/200\n",
            " - 0s - loss: 2.2013 - mean_absolute_error: 1.0957 - val_loss: 16.9551 - val_mean_absolute_error: 2.8230\n",
            "Epoch 132/200\n",
            " - 0s - loss: 2.0009 - mean_absolute_error: 1.0889 - val_loss: 18.0360 - val_mean_absolute_error: 3.0443\n",
            "Epoch 133/200\n",
            " - 0s - loss: 2.3007 - mean_absolute_error: 1.0772 - val_loss: 17.5067 - val_mean_absolute_error: 2.8547\n",
            "Epoch 134/200\n",
            " - 0s - loss: 2.0718 - mean_absolute_error: 1.0896 - val_loss: 17.4937 - val_mean_absolute_error: 2.8385\n",
            "Epoch 135/200\n",
            " - 0s - loss: 2.0307 - mean_absolute_error: 1.0403 - val_loss: 15.9974 - val_mean_absolute_error: 2.6612\n",
            "Epoch 136/200\n",
            " - 0s - loss: 2.0225 - mean_absolute_error: 1.0562 - val_loss: 18.2545 - val_mean_absolute_error: 2.8985\n",
            "Epoch 137/200\n",
            " - 0s - loss: 2.3386 - mean_absolute_error: 1.1016 - val_loss: 19.9511 - val_mean_absolute_error: 3.1394\n",
            "Epoch 138/200\n",
            " - 0s - loss: 2.2066 - mean_absolute_error: 1.0948 - val_loss: 18.4396 - val_mean_absolute_error: 2.8891\n",
            "Epoch 139/200\n",
            " - 0s - loss: 1.7573 - mean_absolute_error: 0.9721 - val_loss: 16.8299 - val_mean_absolute_error: 2.8601\n",
            "Epoch 140/200\n",
            " - 0s - loss: 2.0743 - mean_absolute_error: 1.0932 - val_loss: 18.2424 - val_mean_absolute_error: 2.8940\n",
            "Epoch 141/200\n",
            " - 0s - loss: 1.9829 - mean_absolute_error: 1.0863 - val_loss: 17.7320 - val_mean_absolute_error: 2.8354\n",
            "Epoch 142/200\n",
            " - 0s - loss: 1.9469 - mean_absolute_error: 0.9969 - val_loss: 18.7529 - val_mean_absolute_error: 2.9404\n",
            "Epoch 143/200\n",
            " - 0s - loss: 2.1744 - mean_absolute_error: 1.0683 - val_loss: 18.7271 - val_mean_absolute_error: 2.9778\n",
            "Epoch 144/200\n",
            " - 0s - loss: 2.0314 - mean_absolute_error: 1.0682 - val_loss: 17.3246 - val_mean_absolute_error: 2.8286\n",
            "Epoch 145/200\n",
            " - 0s - loss: 1.9487 - mean_absolute_error: 1.0344 - val_loss: 17.5559 - val_mean_absolute_error: 2.8172\n",
            "Epoch 146/200\n",
            " - 0s - loss: 2.0922 - mean_absolute_error: 1.0850 - val_loss: 17.2845 - val_mean_absolute_error: 2.8487\n",
            "Epoch 147/200\n",
            " - 0s - loss: 1.8390 - mean_absolute_error: 1.0290 - val_loss: 17.1141 - val_mean_absolute_error: 2.8828\n",
            "Epoch 148/200\n",
            " - 0s - loss: 1.9706 - mean_absolute_error: 1.0757 - val_loss: 15.2552 - val_mean_absolute_error: 2.6839\n",
            "Epoch 149/200\n",
            " - 0s - loss: 1.9390 - mean_absolute_error: 1.0424 - val_loss: 17.0947 - val_mean_absolute_error: 2.8908\n",
            "Epoch 150/200\n",
            " - 0s - loss: 1.9839 - mean_absolute_error: 1.0355 - val_loss: 16.3869 - val_mean_absolute_error: 2.7959\n",
            "Epoch 151/200\n",
            " - 0s - loss: 1.9341 - mean_absolute_error: 1.0163 - val_loss: 16.5990 - val_mean_absolute_error: 2.7686\n",
            "Epoch 152/200\n",
            " - 0s - loss: 1.8888 - mean_absolute_error: 1.0085 - val_loss: 19.2183 - val_mean_absolute_error: 3.0610\n",
            "Epoch 153/200\n",
            " - 0s - loss: 1.9700 - mean_absolute_error: 1.0612 - val_loss: 16.0454 - val_mean_absolute_error: 2.8277\n",
            "Epoch 154/200\n",
            " - 0s - loss: 1.7611 - mean_absolute_error: 1.0087 - val_loss: 17.8383 - val_mean_absolute_error: 2.8692\n",
            "Epoch 155/200\n",
            " - 0s - loss: 1.8041 - mean_absolute_error: 1.0095 - val_loss: 18.5918 - val_mean_absolute_error: 2.8535\n",
            "Epoch 156/200\n",
            " - 0s - loss: 1.9849 - mean_absolute_error: 1.0301 - val_loss: 17.8799 - val_mean_absolute_error: 2.9251\n",
            "Epoch 157/200\n",
            " - 0s - loss: 1.7512 - mean_absolute_error: 0.9750 - val_loss: 18.1795 - val_mean_absolute_error: 2.8526\n",
            "Epoch 158/200\n",
            " - 0s - loss: 2.0020 - mean_absolute_error: 1.0793 - val_loss: 15.8978 - val_mean_absolute_error: 2.5812\n",
            "Epoch 159/200\n",
            " - 0s - loss: 1.5762 - mean_absolute_error: 0.9245 - val_loss: 19.0301 - val_mean_absolute_error: 2.9723\n",
            "Epoch 160/200\n",
            " - 0s - loss: 1.7130 - mean_absolute_error: 1.0111 - val_loss: 20.4394 - val_mean_absolute_error: 3.1812\n",
            "Epoch 161/200\n",
            " - 0s - loss: 2.0563 - mean_absolute_error: 1.0499 - val_loss: 16.3569 - val_mean_absolute_error: 2.9439\n",
            "Epoch 162/200\n",
            " - 0s - loss: 1.8421 - mean_absolute_error: 1.0052 - val_loss: 16.7302 - val_mean_absolute_error: 2.8589\n",
            "Epoch 163/200\n",
            " - 0s - loss: 1.8747 - mean_absolute_error: 1.0251 - val_loss: 18.2230 - val_mean_absolute_error: 2.9584\n",
            "Epoch 164/200\n",
            " - 0s - loss: 1.6803 - mean_absolute_error: 0.9853 - val_loss: 17.4775 - val_mean_absolute_error: 2.8226\n",
            "Epoch 165/200\n",
            " - 0s - loss: 1.7272 - mean_absolute_error: 1.0021 - val_loss: 17.6517 - val_mean_absolute_error: 2.9245\n",
            "Epoch 166/200\n",
            " - 0s - loss: 1.7180 - mean_absolute_error: 0.9738 - val_loss: 19.7358 - val_mean_absolute_error: 3.0924\n",
            "Epoch 167/200\n",
            " - 0s - loss: 1.6324 - mean_absolute_error: 0.9900 - val_loss: 17.4512 - val_mean_absolute_error: 2.8305\n",
            "Epoch 168/200\n",
            " - 0s - loss: 1.6293 - mean_absolute_error: 0.9738 - val_loss: 18.1932 - val_mean_absolute_error: 2.9086\n",
            "Epoch 169/200\n",
            " - 0s - loss: 1.5834 - mean_absolute_error: 0.9478 - val_loss: 17.9694 - val_mean_absolute_error: 2.9028\n",
            "Epoch 170/200\n",
            " - 0s - loss: 1.8111 - mean_absolute_error: 1.0092 - val_loss: 17.8740 - val_mean_absolute_error: 2.8943\n",
            "Epoch 171/200\n",
            " - 0s - loss: 1.5872 - mean_absolute_error: 0.9761 - val_loss: 17.7634 - val_mean_absolute_error: 2.9335\n",
            "Epoch 172/200\n",
            " - 0s - loss: 1.5660 - mean_absolute_error: 0.9238 - val_loss: 18.0653 - val_mean_absolute_error: 2.8955\n",
            "Epoch 173/200\n",
            " - 0s - loss: 1.6993 - mean_absolute_error: 0.9752 - val_loss: 16.6342 - val_mean_absolute_error: 2.8140\n",
            "Epoch 174/200\n",
            " - 0s - loss: 1.5316 - mean_absolute_error: 0.9528 - val_loss: 16.5623 - val_mean_absolute_error: 2.8448\n",
            "Epoch 175/200\n",
            " - 0s - loss: 1.7168 - mean_absolute_error: 1.0024 - val_loss: 17.6358 - val_mean_absolute_error: 2.8524\n",
            "Epoch 176/200\n",
            " - 0s - loss: 1.6155 - mean_absolute_error: 0.9326 - val_loss: 18.1035 - val_mean_absolute_error: 2.8691\n",
            "Epoch 177/200\n",
            " - 0s - loss: 1.6751 - mean_absolute_error: 0.9633 - val_loss: 17.1668 - val_mean_absolute_error: 2.9477\n",
            "Epoch 178/200\n",
            " - 0s - loss: 1.7054 - mean_absolute_error: 0.9698 - val_loss: 17.0161 - val_mean_absolute_error: 2.9123\n",
            "Epoch 179/200\n",
            " - 0s - loss: 1.5437 - mean_absolute_error: 0.9057 - val_loss: 16.8122 - val_mean_absolute_error: 2.8464\n",
            "Epoch 180/200\n",
            " - 0s - loss: 1.5399 - mean_absolute_error: 0.9035 - val_loss: 16.3531 - val_mean_absolute_error: 2.7355\n",
            "Epoch 181/200\n",
            " - 0s - loss: 1.6131 - mean_absolute_error: 0.9204 - val_loss: 17.2128 - val_mean_absolute_error: 3.0136\n",
            "Epoch 182/200\n",
            " - 0s - loss: 1.4153 - mean_absolute_error: 0.9129 - val_loss: 17.7710 - val_mean_absolute_error: 2.8745\n",
            "Epoch 183/200\n",
            " - 0s - loss: 1.6900 - mean_absolute_error: 0.9781 - val_loss: 16.5289 - val_mean_absolute_error: 2.7627\n",
            "Epoch 184/200\n",
            " - 0s - loss: 1.4678 - mean_absolute_error: 0.8962 - val_loss: 16.6909 - val_mean_absolute_error: 2.7207\n",
            "Epoch 185/200\n",
            " - 0s - loss: 1.4925 - mean_absolute_error: 0.9035 - val_loss: 17.1930 - val_mean_absolute_error: 2.8229\n",
            "Epoch 186/200\n",
            " - 0s - loss: 1.5860 - mean_absolute_error: 0.9444 - val_loss: 16.3835 - val_mean_absolute_error: 2.8011\n",
            "Epoch 187/200\n",
            " - 0s - loss: 1.5516 - mean_absolute_error: 0.9378 - val_loss: 17.4082 - val_mean_absolute_error: 2.8953\n",
            "Epoch 188/200\n",
            " - 0s - loss: 1.5604 - mean_absolute_error: 0.9425 - val_loss: 17.0520 - val_mean_absolute_error: 2.8349\n",
            "Epoch 189/200\n",
            " - 0s - loss: 1.3700 - mean_absolute_error: 0.8644 - val_loss: 15.9300 - val_mean_absolute_error: 2.7607\n",
            "Epoch 190/200\n",
            " - 0s - loss: 1.5659 - mean_absolute_error: 0.9101 - val_loss: 15.7762 - val_mean_absolute_error: 2.7060\n",
            "Epoch 191/200\n",
            " - 0s - loss: 1.5698 - mean_absolute_error: 0.9626 - val_loss: 16.6736 - val_mean_absolute_error: 2.7925\n",
            "Epoch 192/200\n",
            " - 0s - loss: 1.3192 - mean_absolute_error: 0.8866 - val_loss: 18.4566 - val_mean_absolute_error: 2.9494\n",
            "Epoch 193/200\n",
            " - 0s - loss: 1.5447 - mean_absolute_error: 0.8871 - val_loss: 17.5343 - val_mean_absolute_error: 2.8953\n",
            "Epoch 194/200\n",
            " - 0s - loss: 1.3943 - mean_absolute_error: 0.8860 - val_loss: 17.9285 - val_mean_absolute_error: 2.9832\n",
            "Epoch 195/200\n",
            " - 0s - loss: 1.6239 - mean_absolute_error: 0.9380 - val_loss: 16.7250 - val_mean_absolute_error: 2.7640\n",
            "Epoch 196/200\n",
            " - 0s - loss: 1.4475 - mean_absolute_error: 0.8965 - val_loss: 16.3432 - val_mean_absolute_error: 2.7572\n",
            "Epoch 197/200\n",
            " - 0s - loss: 1.4927 - mean_absolute_error: 0.8842 - val_loss: 18.0640 - val_mean_absolute_error: 2.8747\n",
            "Epoch 198/200\n",
            " - 0s - loss: 1.5108 - mean_absolute_error: 0.9152 - val_loss: 16.8370 - val_mean_absolute_error: 2.8536\n",
            "Epoch 199/200\n",
            " - 0s - loss: 1.5826 - mean_absolute_error: 0.9341 - val_loss: 16.2743 - val_mean_absolute_error: 2.6997\n",
            "Epoch 200/200\n",
            " - 0s - loss: 1.4240 - mean_absolute_error: 0.8664 - val_loss: 15.9851 - val_mean_absolute_error: 2.6751\n",
            "processing fold # 3\n",
            "Train on 303 samples, validate on 101 samples\n",
            "Epoch 1/200\n",
            " - 1s - loss: 208.4179 - mean_absolute_error: 10.7311 - val_loss: 62.8551 - val_mean_absolute_error: 5.5963\n",
            "Epoch 2/200\n",
            " - 0s - loss: 26.8530 - mean_absolute_error: 3.5157 - val_loss: 32.4093 - val_mean_absolute_error: 3.7856\n",
            "Epoch 3/200\n",
            " - 0s - loss: 19.0171 - mean_absolute_error: 2.9394 - val_loss: 29.1067 - val_mean_absolute_error: 3.3537\n",
            "Epoch 4/200\n",
            " - 0s - loss: 16.1305 - mean_absolute_error: 2.6407 - val_loss: 23.9319 - val_mean_absolute_error: 2.9413\n",
            "Epoch 5/200\n",
            " - 0s - loss: 13.9371 - mean_absolute_error: 2.4325 - val_loss: 23.5892 - val_mean_absolute_error: 2.9606\n",
            "Epoch 6/200\n",
            " - 0s - loss: 12.4633 - mean_absolute_error: 2.3547 - val_loss: 21.8542 - val_mean_absolute_error: 2.8523\n",
            "Epoch 7/200\n",
            " - 0s - loss: 12.1768 - mean_absolute_error: 2.2730 - val_loss: 19.9293 - val_mean_absolute_error: 2.7045\n",
            "Epoch 8/200\n",
            " - 0s - loss: 11.4753 - mean_absolute_error: 2.2401 - val_loss: 23.0447 - val_mean_absolute_error: 2.8981\n",
            "Epoch 9/200\n",
            " - 0s - loss: 11.3329 - mean_absolute_error: 2.2069 - val_loss: 17.7568 - val_mean_absolute_error: 2.5885\n",
            "Epoch 10/200\n",
            " - 0s - loss: 10.4503 - mean_absolute_error: 2.1876 - val_loss: 21.8575 - val_mean_absolute_error: 2.8578\n",
            "Epoch 11/200\n",
            " - 0s - loss: 10.2673 - mean_absolute_error: 2.1447 - val_loss: 19.3667 - val_mean_absolute_error: 2.6579\n",
            "Epoch 12/200\n",
            " - 0s - loss: 9.8003 - mean_absolute_error: 2.0934 - val_loss: 19.2619 - val_mean_absolute_error: 2.7604\n",
            "Epoch 13/200\n",
            " - 0s - loss: 10.0537 - mean_absolute_error: 2.0707 - val_loss: 15.6117 - val_mean_absolute_error: 2.4583\n",
            "Epoch 14/200\n",
            " - 0s - loss: 9.5219 - mean_absolute_error: 1.9869 - val_loss: 21.7998 - val_mean_absolute_error: 2.9741\n",
            "Epoch 15/200\n",
            " - 0s - loss: 9.2635 - mean_absolute_error: 1.9672 - val_loss: 16.1935 - val_mean_absolute_error: 2.5138\n",
            "Epoch 16/200\n",
            " - 0s - loss: 9.3162 - mean_absolute_error: 2.0148 - val_loss: 16.9435 - val_mean_absolute_error: 2.4930\n",
            "Epoch 17/200\n",
            " - 0s - loss: 8.9298 - mean_absolute_error: 2.0333 - val_loss: 17.7450 - val_mean_absolute_error: 2.6199\n",
            "Epoch 18/200\n",
            " - 0s - loss: 9.0210 - mean_absolute_error: 2.0278 - val_loss: 19.2466 - val_mean_absolute_error: 2.6959\n",
            "Epoch 19/200\n",
            " - 0s - loss: 8.7780 - mean_absolute_error: 1.9430 - val_loss: 18.3111 - val_mean_absolute_error: 2.5758\n",
            "Epoch 20/200\n",
            " - 0s - loss: 8.8175 - mean_absolute_error: 1.8835 - val_loss: 18.2337 - val_mean_absolute_error: 2.8253\n",
            "Epoch 21/200\n",
            " - 0s - loss: 8.7139 - mean_absolute_error: 1.9787 - val_loss: 16.3743 - val_mean_absolute_error: 2.5893\n",
            "Epoch 22/200\n",
            " - 0s - loss: 7.9041 - mean_absolute_error: 1.9360 - val_loss: 16.7271 - val_mean_absolute_error: 2.6115\n",
            "Epoch 23/200\n",
            " - 0s - loss: 8.4420 - mean_absolute_error: 1.8377 - val_loss: 14.5551 - val_mean_absolute_error: 2.3448\n",
            "Epoch 24/200\n",
            " - 0s - loss: 8.1964 - mean_absolute_error: 1.8935 - val_loss: 15.9511 - val_mean_absolute_error: 2.5091\n",
            "Epoch 25/200\n",
            " - 0s - loss: 7.5939 - mean_absolute_error: 1.8119 - val_loss: 13.8654 - val_mean_absolute_error: 2.5722\n",
            "Epoch 26/200\n",
            " - 0s - loss: 7.7694 - mean_absolute_error: 1.9160 - val_loss: 15.5108 - val_mean_absolute_error: 2.4840\n",
            "Epoch 27/200\n",
            " - 0s - loss: 8.2873 - mean_absolute_error: 1.8600 - val_loss: 14.0991 - val_mean_absolute_error: 2.4052\n",
            "Epoch 28/200\n",
            " - 0s - loss: 7.3590 - mean_absolute_error: 1.8105 - val_loss: 14.8176 - val_mean_absolute_error: 2.4518\n",
            "Epoch 29/200\n",
            " - 0s - loss: 7.7082 - mean_absolute_error: 1.7992 - val_loss: 14.4064 - val_mean_absolute_error: 2.4865\n",
            "Epoch 30/200\n",
            " - 0s - loss: 7.6702 - mean_absolute_error: 1.8024 - val_loss: 13.3650 - val_mean_absolute_error: 2.3668\n",
            "Epoch 31/200\n",
            " - 0s - loss: 7.6445 - mean_absolute_error: 1.7981 - val_loss: 13.4071 - val_mean_absolute_error: 2.4369\n",
            "Epoch 32/200\n",
            " - 0s - loss: 7.4918 - mean_absolute_error: 1.8240 - val_loss: 14.1195 - val_mean_absolute_error: 2.4624\n",
            "Epoch 33/200\n",
            " - 0s - loss: 7.0801 - mean_absolute_error: 1.7657 - val_loss: 13.7496 - val_mean_absolute_error: 2.3966\n",
            "Epoch 34/200\n",
            " - 0s - loss: 7.4023 - mean_absolute_error: 1.8419 - val_loss: 12.2672 - val_mean_absolute_error: 2.3153\n",
            "Epoch 35/200\n",
            " - 0s - loss: 7.0630 - mean_absolute_error: 1.7860 - val_loss: 13.1925 - val_mean_absolute_error: 2.4590\n",
            "Epoch 36/200\n",
            " - 0s - loss: 7.1200 - mean_absolute_error: 1.7818 - val_loss: 12.0332 - val_mean_absolute_error: 2.3056\n",
            "Epoch 37/200\n",
            " - 0s - loss: 7.0579 - mean_absolute_error: 1.7467 - val_loss: 13.2272 - val_mean_absolute_error: 2.6205\n",
            "Epoch 38/200\n",
            " - 0s - loss: 6.8401 - mean_absolute_error: 1.7841 - val_loss: 13.7912 - val_mean_absolute_error: 2.5033\n",
            "Epoch 39/200\n",
            " - 0s - loss: 7.0748 - mean_absolute_error: 1.7583 - val_loss: 12.5430 - val_mean_absolute_error: 2.3907\n",
            "Epoch 40/200\n",
            " - 0s - loss: 6.5988 - mean_absolute_error: 1.7008 - val_loss: 13.5775 - val_mean_absolute_error: 2.6817\n",
            "Epoch 41/200\n",
            " - 0s - loss: 6.5472 - mean_absolute_error: 1.6898 - val_loss: 13.4002 - val_mean_absolute_error: 2.4303\n",
            "Epoch 42/200\n",
            " - 0s - loss: 6.6453 - mean_absolute_error: 1.6840 - val_loss: 13.9209 - val_mean_absolute_error: 2.4920\n",
            "Epoch 43/200\n",
            " - 0s - loss: 6.6056 - mean_absolute_error: 1.6773 - val_loss: 11.7909 - val_mean_absolute_error: 2.2778\n",
            "Epoch 44/200\n",
            " - 0s - loss: 6.7987 - mean_absolute_error: 1.6976 - val_loss: 11.9996 - val_mean_absolute_error: 2.3518\n",
            "Epoch 45/200\n",
            " - 0s - loss: 6.8161 - mean_absolute_error: 1.6817 - val_loss: 13.1695 - val_mean_absolute_error: 2.5413\n",
            "Epoch 46/200\n",
            " - 0s - loss: 6.5260 - mean_absolute_error: 1.6877 - val_loss: 13.9520 - val_mean_absolute_error: 2.5204\n",
            "Epoch 47/200\n",
            " - 0s - loss: 6.1038 - mean_absolute_error: 1.6447 - val_loss: 12.4084 - val_mean_absolute_error: 2.4265\n",
            "Epoch 48/200\n",
            " - 0s - loss: 6.1014 - mean_absolute_error: 1.6188 - val_loss: 13.2193 - val_mean_absolute_error: 2.5339\n",
            "Epoch 49/200\n",
            " - 0s - loss: 6.4494 - mean_absolute_error: 1.7220 - val_loss: 12.2121 - val_mean_absolute_error: 2.3813\n",
            "Epoch 50/200\n",
            " - 0s - loss: 6.1788 - mean_absolute_error: 1.6215 - val_loss: 12.0947 - val_mean_absolute_error: 2.3583\n",
            "Epoch 51/200\n",
            " - 0s - loss: 5.7734 - mean_absolute_error: 1.6319 - val_loss: 12.7972 - val_mean_absolute_error: 2.5319\n",
            "Epoch 52/200\n",
            " - 0s - loss: 6.1537 - mean_absolute_error: 1.6334 - val_loss: 11.7759 - val_mean_absolute_error: 2.3407\n",
            "Epoch 53/200\n",
            " - 0s - loss: 6.0356 - mean_absolute_error: 1.5943 - val_loss: 11.5000 - val_mean_absolute_error: 2.3376\n",
            "Epoch 54/200\n",
            " - 0s - loss: 5.8660 - mean_absolute_error: 1.5849 - val_loss: 11.8038 - val_mean_absolute_error: 2.4199\n",
            "Epoch 55/200\n",
            " - 0s - loss: 5.9123 - mean_absolute_error: 1.5732 - val_loss: 15.2720 - val_mean_absolute_error: 2.8556\n",
            "Epoch 56/200\n",
            " - 0s - loss: 5.8595 - mean_absolute_error: 1.5740 - val_loss: 11.2608 - val_mean_absolute_error: 2.3237\n",
            "Epoch 57/200\n",
            " - 0s - loss: 5.6804 - mean_absolute_error: 1.5964 - val_loss: 11.8036 - val_mean_absolute_error: 2.3212\n",
            "Epoch 58/200\n",
            " - 0s - loss: 5.6880 - mean_absolute_error: 1.6032 - val_loss: 12.3533 - val_mean_absolute_error: 2.3688\n",
            "Epoch 59/200\n",
            " - 0s - loss: 5.7041 - mean_absolute_error: 1.5258 - val_loss: 13.0914 - val_mean_absolute_error: 2.6316\n",
            "Epoch 60/200\n",
            " - 0s - loss: 5.6531 - mean_absolute_error: 1.5412 - val_loss: 11.3207 - val_mean_absolute_error: 2.2997\n",
            "Epoch 61/200\n",
            " - 0s - loss: 5.5151 - mean_absolute_error: 1.5217 - val_loss: 12.0334 - val_mean_absolute_error: 2.3665\n",
            "Epoch 62/200\n",
            " - 0s - loss: 5.8485 - mean_absolute_error: 1.5274 - val_loss: 11.8963 - val_mean_absolute_error: 2.3662\n",
            "Epoch 63/200\n",
            " - 0s - loss: 5.7207 - mean_absolute_error: 1.5102 - val_loss: 11.7227 - val_mean_absolute_error: 2.3503\n",
            "Epoch 64/200\n",
            " - 0s - loss: 5.5754 - mean_absolute_error: 1.5130 - val_loss: 11.6539 - val_mean_absolute_error: 2.3324\n",
            "Epoch 65/200\n",
            " - 0s - loss: 5.3252 - mean_absolute_error: 1.5243 - val_loss: 11.9909 - val_mean_absolute_error: 2.4692\n",
            "Epoch 66/200\n",
            " - 0s - loss: 5.8343 - mean_absolute_error: 1.5158 - val_loss: 12.1126 - val_mean_absolute_error: 2.4549\n",
            "Epoch 67/200\n",
            " - 0s - loss: 5.6722 - mean_absolute_error: 1.4942 - val_loss: 14.9339 - val_mean_absolute_error: 2.6761\n",
            "Epoch 68/200\n",
            " - 0s - loss: 5.5478 - mean_absolute_error: 1.5505 - val_loss: 12.1987 - val_mean_absolute_error: 2.3967\n",
            "Epoch 69/200\n",
            " - 0s - loss: 5.2323 - mean_absolute_error: 1.5248 - val_loss: 11.3123 - val_mean_absolute_error: 2.3162\n",
            "Epoch 70/200\n",
            " - 0s - loss: 5.2834 - mean_absolute_error: 1.5183 - val_loss: 12.2811 - val_mean_absolute_error: 2.4626\n",
            "Epoch 71/200\n",
            " - 0s - loss: 5.2207 - mean_absolute_error: 1.4364 - val_loss: 11.3897 - val_mean_absolute_error: 2.3738\n",
            "Epoch 72/200\n",
            " - 0s - loss: 5.5447 - mean_absolute_error: 1.5146 - val_loss: 13.3740 - val_mean_absolute_error: 2.4888\n",
            "Epoch 73/200\n",
            " - 0s - loss: 5.2174 - mean_absolute_error: 1.4234 - val_loss: 11.1605 - val_mean_absolute_error: 2.2783\n",
            "Epoch 74/200\n",
            " - 0s - loss: 5.2249 - mean_absolute_error: 1.5046 - val_loss: 12.1365 - val_mean_absolute_error: 2.4059\n",
            "Epoch 75/200\n",
            " - 0s - loss: 5.1799 - mean_absolute_error: 1.4608 - val_loss: 12.9211 - val_mean_absolute_error: 2.5232\n",
            "Epoch 76/200\n",
            " - 0s - loss: 5.1723 - mean_absolute_error: 1.4837 - val_loss: 14.7577 - val_mean_absolute_error: 2.8448\n",
            "Epoch 77/200\n",
            " - 0s - loss: 5.1631 - mean_absolute_error: 1.4873 - val_loss: 11.0413 - val_mean_absolute_error: 2.2415\n",
            "Epoch 78/200\n",
            " - 0s - loss: 5.1623 - mean_absolute_error: 1.4713 - val_loss: 11.5512 - val_mean_absolute_error: 2.3721\n",
            "Epoch 79/200\n",
            " - 0s - loss: 5.0111 - mean_absolute_error: 1.4333 - val_loss: 10.8883 - val_mean_absolute_error: 2.2900\n",
            "Epoch 80/200\n",
            " - 0s - loss: 4.9666 - mean_absolute_error: 1.4409 - val_loss: 13.3561 - val_mean_absolute_error: 2.5759\n",
            "Epoch 81/200\n",
            " - 0s - loss: 4.8146 - mean_absolute_error: 1.4452 - val_loss: 11.7975 - val_mean_absolute_error: 2.3491\n",
            "Epoch 82/200\n",
            " - 0s - loss: 5.0194 - mean_absolute_error: 1.3949 - val_loss: 11.3175 - val_mean_absolute_error: 2.3065\n",
            "Epoch 83/200\n",
            " - 0s - loss: 4.8084 - mean_absolute_error: 1.4300 - val_loss: 11.7220 - val_mean_absolute_error: 2.5032\n",
            "Epoch 84/200\n",
            " - 0s - loss: 4.7730 - mean_absolute_error: 1.4088 - val_loss: 12.8818 - val_mean_absolute_error: 2.5913\n",
            "Epoch 85/200\n",
            " - 0s - loss: 4.8879 - mean_absolute_error: 1.4114 - val_loss: 11.7594 - val_mean_absolute_error: 2.3277\n",
            "Epoch 86/200\n",
            " - 0s - loss: 4.8752 - mean_absolute_error: 1.4023 - val_loss: 11.6700 - val_mean_absolute_error: 2.3823\n",
            "Epoch 87/200\n",
            " - 0s - loss: 4.5994 - mean_absolute_error: 1.3765 - val_loss: 12.6828 - val_mean_absolute_error: 2.4787\n",
            "Epoch 88/200\n",
            " - 0s - loss: 4.5915 - mean_absolute_error: 1.3714 - val_loss: 12.2209 - val_mean_absolute_error: 2.4220\n",
            "Epoch 89/200\n",
            " - 0s - loss: 4.7805 - mean_absolute_error: 1.4102 - val_loss: 10.7696 - val_mean_absolute_error: 2.2678\n",
            "Epoch 90/200\n",
            " - 0s - loss: 4.5195 - mean_absolute_error: 1.3684 - val_loss: 14.0423 - val_mean_absolute_error: 2.6606\n",
            "Epoch 91/200\n",
            " - 0s - loss: 4.6701 - mean_absolute_error: 1.3638 - val_loss: 10.9568 - val_mean_absolute_error: 2.3304\n",
            "Epoch 92/200\n",
            " - 0s - loss: 4.4682 - mean_absolute_error: 1.3418 - val_loss: 13.8281 - val_mean_absolute_error: 2.6463\n",
            "Epoch 93/200\n",
            " - 0s - loss: 4.6033 - mean_absolute_error: 1.3978 - val_loss: 14.2417 - val_mean_absolute_error: 2.6311\n",
            "Epoch 94/200\n",
            " - 0s - loss: 4.3706 - mean_absolute_error: 1.3956 - val_loss: 12.3624 - val_mean_absolute_error: 2.3797\n",
            "Epoch 95/200\n",
            " - 0s - loss: 4.3849 - mean_absolute_error: 1.3764 - val_loss: 12.7931 - val_mean_absolute_error: 2.4508\n",
            "Epoch 96/200\n",
            " - 0s - loss: 4.1735 - mean_absolute_error: 1.3431 - val_loss: 11.6689 - val_mean_absolute_error: 2.3386\n",
            "Epoch 97/200\n",
            " - 0s - loss: 4.4221 - mean_absolute_error: 1.3784 - val_loss: 11.7566 - val_mean_absolute_error: 2.4223\n",
            "Epoch 98/200\n",
            " - 0s - loss: 4.5622 - mean_absolute_error: 1.3717 - val_loss: 13.4515 - val_mean_absolute_error: 2.6887\n",
            "Epoch 99/200\n",
            " - 0s - loss: 4.2857 - mean_absolute_error: 1.3558 - val_loss: 11.8567 - val_mean_absolute_error: 2.3724\n",
            "Epoch 100/200\n",
            " - 0s - loss: 4.3458 - mean_absolute_error: 1.3660 - val_loss: 12.7419 - val_mean_absolute_error: 2.5730\n",
            "Epoch 101/200\n",
            " - 0s - loss: 4.4038 - mean_absolute_error: 1.3780 - val_loss: 12.8551 - val_mean_absolute_error: 2.4578\n",
            "Epoch 102/200\n",
            " - 0s - loss: 4.4249 - mean_absolute_error: 1.3635 - val_loss: 14.3212 - val_mean_absolute_error: 2.6494\n",
            "Epoch 103/200\n",
            " - 0s - loss: 4.1879 - mean_absolute_error: 1.3493 - val_loss: 12.3161 - val_mean_absolute_error: 2.4427\n",
            "Epoch 104/200\n",
            " - 0s - loss: 4.1247 - mean_absolute_error: 1.2937 - val_loss: 11.8905 - val_mean_absolute_error: 2.4484\n",
            "Epoch 105/200\n",
            " - 0s - loss: 4.5101 - mean_absolute_error: 1.3520 - val_loss: 12.2088 - val_mean_absolute_error: 2.3876\n",
            "Epoch 106/200\n",
            " - 0s - loss: 4.0377 - mean_absolute_error: 1.3078 - val_loss: 12.9383 - val_mean_absolute_error: 2.5064\n",
            "Epoch 107/200\n",
            " - 0s - loss: 4.1271 - mean_absolute_error: 1.3523 - val_loss: 11.5703 - val_mean_absolute_error: 2.3774\n",
            "Epoch 108/200\n",
            " - 0s - loss: 4.4687 - mean_absolute_error: 1.3002 - val_loss: 11.5973 - val_mean_absolute_error: 2.3064\n",
            "Epoch 109/200\n",
            " - 0s - loss: 3.8791 - mean_absolute_error: 1.3078 - val_loss: 11.9701 - val_mean_absolute_error: 2.4269\n",
            "Epoch 110/200\n",
            " - 0s - loss: 4.0093 - mean_absolute_error: 1.3377 - val_loss: 11.6779 - val_mean_absolute_error: 2.3583\n",
            "Epoch 111/200\n",
            " - 0s - loss: 3.9032 - mean_absolute_error: 1.2947 - val_loss: 12.7429 - val_mean_absolute_error: 2.5225\n",
            "Epoch 112/200\n",
            " - 0s - loss: 4.1530 - mean_absolute_error: 1.2894 - val_loss: 14.2238 - val_mean_absolute_error: 2.7598\n",
            "Epoch 113/200\n",
            " - 0s - loss: 3.9599 - mean_absolute_error: 1.3228 - val_loss: 12.3382 - val_mean_absolute_error: 2.5381\n",
            "Epoch 114/200\n",
            " - 0s - loss: 3.9754 - mean_absolute_error: 1.2987 - val_loss: 11.4912 - val_mean_absolute_error: 2.3687\n",
            "Epoch 115/200\n",
            " - 0s - loss: 3.8822 - mean_absolute_error: 1.2911 - val_loss: 12.7912 - val_mean_absolute_error: 2.5147\n",
            "Epoch 116/200\n",
            " - 0s - loss: 3.9553 - mean_absolute_error: 1.2782 - val_loss: 13.0713 - val_mean_absolute_error: 2.6339\n",
            "Epoch 117/200\n",
            " - 0s - loss: 3.9533 - mean_absolute_error: 1.2984 - val_loss: 12.1337 - val_mean_absolute_error: 2.4262\n",
            "Epoch 118/200\n",
            " - 0s - loss: 3.8856 - mean_absolute_error: 1.2641 - val_loss: 11.9532 - val_mean_absolute_error: 2.3491\n",
            "Epoch 119/200\n",
            " - 0s - loss: 3.5569 - mean_absolute_error: 1.2780 - val_loss: 13.0524 - val_mean_absolute_error: 2.5615\n",
            "Epoch 120/200\n",
            " - 0s - loss: 4.1300 - mean_absolute_error: 1.2828 - val_loss: 12.5233 - val_mean_absolute_error: 2.4267\n",
            "Epoch 121/200\n",
            " - 0s - loss: 3.9923 - mean_absolute_error: 1.2973 - val_loss: 12.6915 - val_mean_absolute_error: 2.5150\n",
            "Epoch 122/200\n",
            " - 0s - loss: 3.8285 - mean_absolute_error: 1.2549 - val_loss: 14.3273 - val_mean_absolute_error: 2.6371\n",
            "Epoch 123/200\n",
            " - 0s - loss: 3.7727 - mean_absolute_error: 1.2788 - val_loss: 13.5208 - val_mean_absolute_error: 2.6479\n",
            "Epoch 124/200\n",
            " - 0s - loss: 4.0290 - mean_absolute_error: 1.2679 - val_loss: 13.4992 - val_mean_absolute_error: 2.6285\n",
            "Epoch 125/200\n",
            " - 0s - loss: 3.6254 - mean_absolute_error: 1.1976 - val_loss: 12.1218 - val_mean_absolute_error: 2.3871\n",
            "Epoch 126/200\n",
            " - 0s - loss: 3.6466 - mean_absolute_error: 1.1666 - val_loss: 12.9712 - val_mean_absolute_error: 2.5272\n",
            "Epoch 127/200\n",
            " - 0s - loss: 3.6762 - mean_absolute_error: 1.2454 - val_loss: 13.1005 - val_mean_absolute_error: 2.5084\n",
            "Epoch 128/200\n",
            " - 0s - loss: 3.4593 - mean_absolute_error: 1.2554 - val_loss: 19.2275 - val_mean_absolute_error: 3.2927\n",
            "Epoch 129/200\n",
            " - 0s - loss: 3.7318 - mean_absolute_error: 1.2297 - val_loss: 12.7332 - val_mean_absolute_error: 2.4714\n",
            "Epoch 130/200\n",
            " - 0s - loss: 3.3882 - mean_absolute_error: 1.2236 - val_loss: 14.6856 - val_mean_absolute_error: 2.7698\n",
            "Epoch 131/200\n",
            " - 0s - loss: 3.6336 - mean_absolute_error: 1.1911 - val_loss: 13.1879 - val_mean_absolute_error: 2.5338\n",
            "Epoch 132/200\n",
            " - 0s - loss: 3.7556 - mean_absolute_error: 1.2591 - val_loss: 13.0838 - val_mean_absolute_error: 2.5226\n",
            "Epoch 133/200\n",
            " - 0s - loss: 3.4224 - mean_absolute_error: 1.2010 - val_loss: 12.9138 - val_mean_absolute_error: 2.5212\n",
            "Epoch 134/200\n",
            " - 0s - loss: 3.6539 - mean_absolute_error: 1.2248 - val_loss: 13.2644 - val_mean_absolute_error: 2.5817\n",
            "Epoch 135/200\n",
            " - 0s - loss: 3.5154 - mean_absolute_error: 1.2284 - val_loss: 12.4217 - val_mean_absolute_error: 2.3517\n",
            "Epoch 136/200\n",
            " - 0s - loss: 3.6440 - mean_absolute_error: 1.2362 - val_loss: 12.8070 - val_mean_absolute_error: 2.5205\n",
            "Epoch 137/200\n",
            " - 0s - loss: 3.6313 - mean_absolute_error: 1.2180 - val_loss: 12.0293 - val_mean_absolute_error: 2.4189\n",
            "Epoch 138/200\n",
            " - 0s - loss: 3.2072 - mean_absolute_error: 1.1832 - val_loss: 13.0726 - val_mean_absolute_error: 2.5595\n",
            "Epoch 139/200\n",
            " - 0s - loss: 3.5289 - mean_absolute_error: 1.2003 - val_loss: 12.5551 - val_mean_absolute_error: 2.5208\n",
            "Epoch 140/200\n",
            " - 0s - loss: 3.5835 - mean_absolute_error: 1.1727 - val_loss: 14.5993 - val_mean_absolute_error: 2.6301\n",
            "Epoch 141/200\n",
            " - 0s - loss: 3.7332 - mean_absolute_error: 1.1839 - val_loss: 14.2743 - val_mean_absolute_error: 2.7568\n",
            "Epoch 142/200\n",
            " - 0s - loss: 3.4061 - mean_absolute_error: 1.1930 - val_loss: 12.3067 - val_mean_absolute_error: 2.4193\n",
            "Epoch 143/200\n",
            " - 0s - loss: 3.5493 - mean_absolute_error: 1.1988 - val_loss: 12.4912 - val_mean_absolute_error: 2.4921\n",
            "Epoch 144/200\n",
            " - 0s - loss: 3.3447 - mean_absolute_error: 1.1738 - val_loss: 12.3115 - val_mean_absolute_error: 2.3794\n",
            "Epoch 145/200\n",
            " - 0s - loss: 3.3664 - mean_absolute_error: 1.1943 - val_loss: 13.6471 - val_mean_absolute_error: 2.6119\n",
            "Epoch 146/200\n",
            " - 0s - loss: 3.2813 - mean_absolute_error: 1.1854 - val_loss: 14.5167 - val_mean_absolute_error: 2.7533\n",
            "Epoch 147/200\n",
            " - 0s - loss: 3.4654 - mean_absolute_error: 1.2139 - val_loss: 13.2195 - val_mean_absolute_error: 2.5492\n",
            "Epoch 148/200\n",
            " - 0s - loss: 3.2673 - mean_absolute_error: 1.1663 - val_loss: 11.6931 - val_mean_absolute_error: 2.3388\n",
            "Epoch 149/200\n",
            " - 0s - loss: 3.3175 - mean_absolute_error: 1.1497 - val_loss: 12.3118 - val_mean_absolute_error: 2.4496\n",
            "Epoch 150/200\n",
            " - 0s - loss: 3.1440 - mean_absolute_error: 1.1782 - val_loss: 12.7471 - val_mean_absolute_error: 2.5135\n",
            "Epoch 151/200\n",
            " - 0s - loss: 3.4392 - mean_absolute_error: 1.1505 - val_loss: 12.5947 - val_mean_absolute_error: 2.4518\n",
            "Epoch 152/200\n",
            " - 0s - loss: 2.9840 - mean_absolute_error: 1.1543 - val_loss: 12.7598 - val_mean_absolute_error: 2.4958\n",
            "Epoch 153/200\n",
            " - 0s - loss: 3.2335 - mean_absolute_error: 1.1818 - val_loss: 12.8943 - val_mean_absolute_error: 2.4914\n",
            "Epoch 154/200\n",
            " - 0s - loss: 3.2631 - mean_absolute_error: 1.1623 - val_loss: 13.0881 - val_mean_absolute_error: 2.5180\n",
            "Epoch 155/200\n",
            " - 0s - loss: 3.0363 - mean_absolute_error: 1.1112 - val_loss: 14.9215 - val_mean_absolute_error: 2.7492\n",
            "Epoch 156/200\n",
            " - 0s - loss: 3.2422 - mean_absolute_error: 1.1622 - val_loss: 12.9067 - val_mean_absolute_error: 2.5373\n",
            "Epoch 157/200\n",
            " - 0s - loss: 3.2145 - mean_absolute_error: 1.1406 - val_loss: 13.2489 - val_mean_absolute_error: 2.6036\n",
            "Epoch 158/200\n",
            " - 0s - loss: 2.9174 - mean_absolute_error: 1.1527 - val_loss: 11.8074 - val_mean_absolute_error: 2.3822\n",
            "Epoch 159/200\n",
            " - 0s - loss: 2.8946 - mean_absolute_error: 1.1340 - val_loss: 12.5819 - val_mean_absolute_error: 2.4618\n",
            "Epoch 160/200\n",
            " - 0s - loss: 3.0140 - mean_absolute_error: 1.0942 - val_loss: 13.1388 - val_mean_absolute_error: 2.4866\n",
            "Epoch 161/200\n",
            " - 0s - loss: 3.0326 - mean_absolute_error: 1.1339 - val_loss: 12.7321 - val_mean_absolute_error: 2.4601\n",
            "Epoch 162/200\n",
            " - 0s - loss: 3.0252 - mean_absolute_error: 1.1559 - val_loss: 12.0621 - val_mean_absolute_error: 2.3543\n",
            "Epoch 163/200\n",
            " - 0s - loss: 3.2364 - mean_absolute_error: 1.1530 - val_loss: 13.8910 - val_mean_absolute_error: 2.6592\n",
            "Epoch 164/200\n",
            " - 0s - loss: 2.9560 - mean_absolute_error: 1.0910 - val_loss: 12.9807 - val_mean_absolute_error: 2.4955\n",
            "Epoch 165/200\n",
            " - 0s - loss: 2.9585 - mean_absolute_error: 1.0967 - val_loss: 13.0782 - val_mean_absolute_error: 2.5071\n",
            "Epoch 166/200\n",
            " - 0s - loss: 2.8285 - mean_absolute_error: 1.0726 - val_loss: 14.3588 - val_mean_absolute_error: 2.7177\n",
            "Epoch 167/200\n",
            " - 0s - loss: 3.0787 - mean_absolute_error: 1.1174 - val_loss: 12.0792 - val_mean_absolute_error: 2.3578\n",
            "Epoch 168/200\n",
            " - 0s - loss: 2.7937 - mean_absolute_error: 1.1125 - val_loss: 13.5306 - val_mean_absolute_error: 2.5306\n",
            "Epoch 169/200\n",
            " - 0s - loss: 2.8556 - mean_absolute_error: 1.0998 - val_loss: 13.1477 - val_mean_absolute_error: 2.4939\n",
            "Epoch 170/200\n",
            " - 0s - loss: 3.0293 - mean_absolute_error: 1.1569 - val_loss: 13.3954 - val_mean_absolute_error: 2.4980\n",
            "Epoch 171/200\n",
            " - 0s - loss: 2.9779 - mean_absolute_error: 1.0990 - val_loss: 13.4255 - val_mean_absolute_error: 2.6001\n",
            "Epoch 172/200\n",
            " - 0s - loss: 2.7109 - mean_absolute_error: 1.1063 - val_loss: 13.2020 - val_mean_absolute_error: 2.5656\n",
            "Epoch 173/200\n",
            " - 0s - loss: 2.7466 - mean_absolute_error: 1.1288 - val_loss: 12.5426 - val_mean_absolute_error: 2.4887\n",
            "Epoch 174/200\n",
            " - 0s - loss: 2.8370 - mean_absolute_error: 1.1163 - val_loss: 12.6047 - val_mean_absolute_error: 2.4118\n",
            "Epoch 175/200\n",
            " - 0s - loss: 2.8456 - mean_absolute_error: 1.1048 - val_loss: 12.6870 - val_mean_absolute_error: 2.4059\n",
            "Epoch 176/200\n",
            " - 0s - loss: 2.8650 - mean_absolute_error: 1.1735 - val_loss: 13.6866 - val_mean_absolute_error: 2.6466\n",
            "Epoch 177/200\n",
            " - 0s - loss: 2.9517 - mean_absolute_error: 1.1245 - val_loss: 14.6591 - val_mean_absolute_error: 2.6371\n",
            "Epoch 178/200\n",
            " - 0s - loss: 2.9237 - mean_absolute_error: 1.1356 - val_loss: 14.3233 - val_mean_absolute_error: 2.5711\n",
            "Epoch 179/200\n",
            " - 0s - loss: 2.8888 - mean_absolute_error: 1.1269 - val_loss: 13.2096 - val_mean_absolute_error: 2.4672\n",
            "Epoch 180/200\n",
            " - 0s - loss: 2.9444 - mean_absolute_error: 1.1028 - val_loss: 12.6575 - val_mean_absolute_error: 2.4148\n",
            "Epoch 181/200\n",
            " - 0s - loss: 2.8069 - mean_absolute_error: 1.1030 - val_loss: 12.5788 - val_mean_absolute_error: 2.4182\n",
            "Epoch 182/200\n",
            " - 0s - loss: 2.5049 - mean_absolute_error: 1.0801 - val_loss: 11.8998 - val_mean_absolute_error: 2.3259\n",
            "Epoch 183/200\n",
            " - 0s - loss: 2.7563 - mean_absolute_error: 1.0718 - val_loss: 17.3239 - val_mean_absolute_error: 3.0244\n",
            "Epoch 184/200\n",
            " - 0s - loss: 2.8813 - mean_absolute_error: 1.1114 - val_loss: 13.7169 - val_mean_absolute_error: 2.4864\n",
            "Epoch 185/200\n",
            " - 0s - loss: 3.0185 - mean_absolute_error: 1.0988 - val_loss: 12.0199 - val_mean_absolute_error: 2.3211\n",
            "Epoch 186/200\n",
            " - 0s - loss: 2.7245 - mean_absolute_error: 1.1038 - val_loss: 13.4851 - val_mean_absolute_error: 2.5348\n",
            "Epoch 187/200\n",
            " - 0s - loss: 2.8044 - mean_absolute_error: 1.1552 - val_loss: 13.5381 - val_mean_absolute_error: 2.5577\n",
            "Epoch 188/200\n",
            " - 0s - loss: 3.0235 - mean_absolute_error: 1.1498 - val_loss: 14.1699 - val_mean_absolute_error: 2.5805\n",
            "Epoch 189/200\n",
            " - 0s - loss: 2.6894 - mean_absolute_error: 1.0889 - val_loss: 12.8673 - val_mean_absolute_error: 2.4210\n",
            "Epoch 190/200\n",
            " - 0s - loss: 2.7977 - mean_absolute_error: 1.1350 - val_loss: 13.9321 - val_mean_absolute_error: 2.5717\n",
            "Epoch 191/200\n",
            " - 0s - loss: 2.7353 - mean_absolute_error: 1.1066 - val_loss: 13.1696 - val_mean_absolute_error: 2.4026\n",
            "Epoch 192/200\n",
            " - 0s - loss: 2.8440 - mean_absolute_error: 1.0768 - val_loss: 14.1927 - val_mean_absolute_error: 2.5433\n",
            "Epoch 193/200\n",
            " - 0s - loss: 2.7132 - mean_absolute_error: 1.0925 - val_loss: 15.3746 - val_mean_absolute_error: 2.7671\n",
            "Epoch 194/200\n",
            " - 0s - loss: 2.5453 - mean_absolute_error: 1.0769 - val_loss: 12.5360 - val_mean_absolute_error: 2.4041\n",
            "Epoch 195/200\n",
            " - 0s - loss: 2.4909 - mean_absolute_error: 1.0701 - val_loss: 13.2714 - val_mean_absolute_error: 2.5359\n",
            "Epoch 196/200\n",
            " - 0s - loss: 2.6424 - mean_absolute_error: 1.0797 - val_loss: 13.0406 - val_mean_absolute_error: 2.5931\n",
            "Epoch 197/200\n",
            " - 0s - loss: 2.4757 - mean_absolute_error: 1.0443 - val_loss: 13.1473 - val_mean_absolute_error: 2.5128\n",
            "Epoch 198/200\n",
            " - 0s - loss: 2.6639 - mean_absolute_error: 1.0890 - val_loss: 13.0191 - val_mean_absolute_error: 2.4852\n",
            "Epoch 199/200\n",
            " - 0s - loss: 2.7152 - mean_absolute_error: 1.0691 - val_loss: 12.4690 - val_mean_absolute_error: 2.3780\n",
            "Epoch 200/200\n",
            " - 0s - loss: 2.4750 - mean_absolute_error: 1.0538 - val_loss: 13.7283 - val_mean_absolute_error: 2.4899\n"
          ],
          "name": "stdout"
        }
      ]
    },
    {
      "cell_type": "code",
      "metadata": {
        "colab_type": "code",
        "id": "g1EJEG6a9Ew-",
        "colab": {
          "base_uri": "https://localhost:8080/",
          "height": 501
        },
        "outputId": "a093efd8-f2c9-43e6-b2f1-7c867e54c68b"
      },
      "source": [
        "plt.plot(all_mae_histories[0])\n",
        "plt.plot(all_mae_histories[1])\n",
        "plt.plot(all_mae_histories[2])\n",
        "plt.plot(all_mae_histories[3])\n",
        "plt.title('Validation loss for all the folds')\n",
        "plt.ylabel('Loss')\n",
        "plt.xlabel('Epoch')\n",
        "plt.legend(['1st Fold', '2nd Fold', '3rd Fold', '4th Fold'], loc = 'center')\n",
        "plt.show()"
      ],
      "execution_count": 32,
      "outputs": [
        {
          "output_type": "display_data",
          "data": {
            "image/png": "[encoded data removed]",
            "text/plain": [
              "<Figure size 750x500 with 1 Axes>"
            ]
          },
          "metadata": {
            "tags": []
          }
        }
      ]
    },
    {
      "cell_type": "markdown",
      "metadata": {
        "id": "7FCQ2D_3meoM",
        "colab_type": "text"
      },
      "source": [
        "We can see that for all the four folds, there is a significant drop in the loss at the start. Once the epoch starts increasing at around 5-10 epoch, the loss stabilizes to an extent and goes up and down slightly.\n",
        "\n",
        "It is clear that 1st fold has a lower loss from the start and maintains it until the epoch reaches 200. Notably, 4th fold had slightly higher loss than 1st fold throughout, but at higher epoch both 1st and 4th folds ended up at almost same loss at higher epoch at 200.\n",
        "\n",
        "Comparitely, 2nd and 3rd folds has higher loss. 3rd fold had higher loss from the start and maintains the same at higher epoch as well. 2 nd fold is the most unstable fold, with loss slightly going up and down with increase in epoch and ended up at higher loss at 200 epoch, but slighly less than 3rd fold.\n",
        "\n"
      ]
    },
    {
      "cell_type": "markdown",
      "metadata": {
        "colab_type": "text",
        "id": "ARqVvyMX9ExF"
      },
      "source": [
        "#### Takeaways\n",
        "* Regression is usually done using MSE loss and MAE for evaluation\n",
        "* Input data should always be scaled (independent from the test set)\n",
        "* Small datasets:\n",
        "    - Use cross-validation\n",
        "    - Use simple (non-deep) networks\n",
        "    - Smaller batches, more epochs"
      ]
    }
  ]
}